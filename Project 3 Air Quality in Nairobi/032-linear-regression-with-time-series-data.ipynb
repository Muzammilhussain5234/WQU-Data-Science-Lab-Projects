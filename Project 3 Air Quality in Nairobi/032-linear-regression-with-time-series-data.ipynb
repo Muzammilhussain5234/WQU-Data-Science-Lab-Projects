{
 "cells": [
  {
   "cell_type": "markdown",
   "id": "99510545-58fb-433f-872d-1b3edfc32f8e",
   "metadata": {},
   "source": [
    "<font size=\"+3\"><strong>3.2. Linear Regression with Time Series Data</strong></font>"
   ]
  },
  {
   "cell_type": "code",
   "execution_count": 36,
   "id": "fbf57de0-87e5-440e-8591-8af7a89a08ad",
   "metadata": {},
   "outputs": [],
   "source": [
    "import matplotlib.pyplot as plt\n",
    "import pandas as pd\n",
    "from pprint import PrettyPrinter\n",
    "import plotly.express as px\n",
    "import pytz\n",
    "from IPython.display import VimeoVideo\n",
    "from pymongo import MongoClient\n",
    "from sklearn.linear_model import LinearRegression\n",
    "from sklearn.metrics import mean_absolute_error"
   ]
  },
  {
   "cell_type": "code",
   "execution_count": 37,
   "id": "25b5be6d-86bb-457f-915e-2288f620f2a5",
   "metadata": {},
   "outputs": [
    {
     "data": {
      "text/html": [
       "\n",
       "        <iframe\n",
       "            width=\"600\"\n",
       "            height=\"300\"\n",
       "            src=\"https://player.vimeo.com/video/665412117?h=c39a50bd58\"\n",
       "            frameborder=\"0\"\n",
       "            allowfullscreen\n",
       "            \n",
       "        ></iframe>\n",
       "        "
      ],
      "text/plain": [
       "<IPython.lib.display.VimeoVideo at 0x7f2a6d741a10>"
      ]
     },
     "execution_count": 37,
     "metadata": {},
     "output_type": "execute_result"
    }
   ],
   "source": [
    "VimeoVideo(\"665412117\", h=\"c39a50bd58\", width=600)"
   ]
  },
  {
   "cell_type": "markdown",
   "id": "569202e8-5e30-4ac5-b3ff-1af128aa9f17",
   "metadata": {},
   "source": [
    "<div style=\"padding: 1em; border: 1px solid #f0ad4e; border-left: 6px solid #f0ad4e; background-color: #fcf8e3; color: #8a6d3b; border-radius: 4px;\">\n",
    "\n",
    "<strong>🛠️ Instruction:</strong> Locate the IP address of the machine running MongoDB and assign it to the variable <code>host</code>. Make sure to use a <strong>string</strong> (i.e., wrap the IP in quotes).<br><br>\n",
    "\n",
    "<strong>⚠️ Note:</strong> The IP address is <strong>dynamic</strong> — it may change every time you start the lab. Always check the current IP before proceeding.\n",
    "\n",
    "</div>\n",
    "\n",
    "<img src=\"../images/mongo_ip.png\" alt=\"MongoDB\" width=\"600\"/>\n"
   ]
  },
  {
   "cell_type": "code",
   "execution_count": 38,
   "id": "cde4f281-0491-438b-b348-f610cbf1b9be",
   "metadata": {},
   "outputs": [],
   "source": [
    "host = \"192.130.166.2\""
   ]
  },
  {
   "cell_type": "markdown",
   "id": "1a07c911-8a4d-4032-96ab-ded4b68c0a9c",
   "metadata": {},
   "source": [
    "# Prepare Data"
   ]
  },
  {
   "cell_type": "markdown",
   "id": "b2f051e3-670a-49e2-91a4-ad16b47e9b33",
   "metadata": {},
   "source": [
    "## Import"
   ]
  },
  {
   "cell_type": "code",
   "execution_count": 39,
   "id": "4193c2cc-f234-4377-b9fa-d11fae8f3829",
   "metadata": {},
   "outputs": [
    {
     "data": {
      "text/html": [
       "\n",
       "        <iframe\n",
       "            width=\"600\"\n",
       "            height=\"300\"\n",
       "            src=\"https://player.vimeo.com/video/665412469?h=135f32c7da\"\n",
       "            frameborder=\"0\"\n",
       "            allowfullscreen\n",
       "            \n",
       "        ></iframe>\n",
       "        "
      ],
      "text/plain": [
       "<IPython.lib.display.VimeoVideo at 0x7f2a6cab8890>"
      ]
     },
     "execution_count": 39,
     "metadata": {},
     "output_type": "execute_result"
    }
   ],
   "source": [
    "VimeoVideo(\"665412469\", h=\"135f32c7da\", width=600)"
   ]
  },
  {
   "cell_type": "markdown",
   "id": "41fbefa8-de68-4f4d-8eef-8898c9e90326",
   "metadata": {},
   "source": [
    "**Task 3.2.1:** Complete to the create a client to connect to the MongoDB server running at `host` on port `27017`, assign the `\"air-quality\"` database to `db`, and assign the `\"nairobi\"` connection to `nairobi`.\n",
    "\n",
    "- [<span id='technique'>Create a client object for a <span id='tool'>MongoDB</span> instance.](../%40textbook/11-databases-mongodb.ipynb#Servers-and-Clients) \n",
    "- [<span id='technique'>Access a database using <span id='tool'>PyMongo.](../%40textbook/11-databases-mongodb.ipynb#Servers-and-Clients)\n",
    "- [<span id='technique'>Access a collection in a database using <span id='tool'>PyMongo.](../%40textbook/11-databases-mongodb.ipynb#Collections)"
   ]
  },
  {
   "cell_type": "code",
   "execution_count": 40,
   "id": "9dbad1e8-2524-4034-8593-2dd306cd2b06",
   "metadata": {},
   "outputs": [],
   "source": [
    "pp =PrettyPrinter(indent=2)\n"
   ]
  },
  {
   "cell_type": "code",
   "execution_count": 41,
   "id": "3b1fb6ff-e457-4e73-8139-145d9ec4f88f",
   "metadata": {},
   "outputs": [
    {
     "data": {
      "text/plain": [
       "Collection(Database(MongoClient(host=['192.193.194.2:27017'], document_class=dict, tz_aware=False, connect=True), 'air-quality'), 'nairobi')"
      ]
     },
     "execution_count": 41,
     "metadata": {},
     "output_type": "execute_result"
    }
   ],
   "source": [
    "from pprint import pprint\n",
    "client = MongoClient(host=\"192.193.194.2\", port=27017)\n",
    "db=client[\"air-quality\"]\n",
    "nairobi=db[\"nairobi\"]\n",
    "nairobi"
   ]
  },
  {
   "cell_type": "code",
   "execution_count": 42,
   "id": "ce9699de-e708-4620-8526-8e373126d845",
   "metadata": {},
   "outputs": [
    {
     "data": {
      "text/html": [
       "\n",
       "        <iframe\n",
       "            width=\"600\"\n",
       "            height=\"300\"\n",
       "            src=\"https://player.vimeo.com/video/665412480?h=c20ed3e570\"\n",
       "            frameborder=\"0\"\n",
       "            allowfullscreen\n",
       "            \n",
       "        ></iframe>\n",
       "        "
      ],
      "text/plain": [
       "<IPython.lib.display.VimeoVideo at 0x7f2a6d7b1a10>"
      ]
     },
     "execution_count": 42,
     "metadata": {},
     "output_type": "execute_result"
    }
   ],
   "source": [
    "VimeoVideo(\"665412480\", h=\"c20ed3e570\", width=600)"
   ]
  },
  {
   "cell_type": "markdown",
   "id": "9ee6bc60-f8be-4585-bd55-b5e24d95c517",
   "metadata": {},
   "source": [
    "**Task 3.2.2:** Complete the `wrangle` function below so that the `results` from the database query are read into the DataFrame `df`. Be sure that the index of `df` is the `\"timestamp\"` from the results. \n",
    "\n",
    "- [<span id='technique'>Create a DataFrame from a dictionary using <span id='tool'>pandas.](../%40textbook/03-pandas-getting-started.ipynb#Working-with-DataFrames)"
   ]
  },
  {
   "cell_type": "code",
   "execution_count": 43,
   "id": "15ebc855-0132-4736-9637-23c5910ea248",
   "metadata": {},
   "outputs": [],
   "source": [
    "def wrangle(collection):\n",
    "    results = collection.find(\n",
    "        {\"metadata.site\": 29, \"metadata.measurement\": \"P2\"},\n",
    "      \n",
    "        projection={\"P2\": 1,\"timestamp\": 1,\"_id\": 0},\n",
    "    )\n",
    "\n",
    "    df =pd.DataFrame(results).set_index(\"timestamp\")\n",
    "    df.index=df.index.tz_localize(\"UTC\").tz_convert(\"Africa/Nairobi\")\n",
    "    df = df[df[\"P2\"] < 500]\n",
    "\n",
    "    df=df[\"P2\"].resample(\"1H\").mean().fillna(method=\"ffill\").to_frame()\n",
    "    #create a column by lag\n",
    "    df[\"P2.L1\"]=df[\"P2\"].shift(1)\n",
    "    df.dropna(inplace=True)\n",
    "    return df"
   ]
  },
  {
   "cell_type": "code",
   "execution_count": null,
   "id": "651bf25a-128b-4296-845c-de238f73fe5f",
   "metadata": {},
   "outputs": [],
   "source": []
  },
  {
   "cell_type": "code",
   "execution_count": 44,
   "id": "481086e0-deeb-4c33-8d0a-87702ccbddb0",
   "metadata": {},
   "outputs": [
    {
     "data": {
      "text/html": [
       "\n",
       "        <iframe\n",
       "            width=\"600\"\n",
       "            height=\"300\"\n",
       "            src=\"https://player.vimeo.com/video/665412496?h=d757475f7c\"\n",
       "            frameborder=\"0\"\n",
       "            allowfullscreen\n",
       "            \n",
       "        ></iframe>\n",
       "        "
      ],
      "text/plain": [
       "<IPython.lib.display.VimeoVideo at 0x7f2a6d7ae610>"
      ]
     },
     "execution_count": 44,
     "metadata": {},
     "output_type": "execute_result"
    }
   ],
   "source": [
    "VimeoVideo(\"665412496\", h=\"d757475f7c\", width=600)"
   ]
  },
  {
   "cell_type": "markdown",
   "id": "5523ced5-1119-4927-aae0-ee4622bc8155",
   "metadata": {},
   "source": [
    "**Task 3.2.3:** Use your wrangle function to read the data from the `nairobi` collection into the DataFrame `df`."
   ]
  },
  {
   "cell_type": "code",
   "execution_count": 45,
   "id": "a732c00c-7ff4-4a10-ab37-9bf83c243fbe",
   "metadata": {},
   "outputs": [
    {
     "data": {
      "text/plain": [
       "(2927, 2)"
      ]
     },
     "execution_count": 45,
     "metadata": {},
     "output_type": "execute_result"
    }
   ],
   "source": [
    "df = wrangle(nairobi)\n",
    "\n",
    "df.head()\n",
    "df.shape"
   ]
  },
  {
   "cell_type": "code",
   "execution_count": 46,
   "id": "bc3505a2-6ccc-419a-ac4b-38baca149e22",
   "metadata": {},
   "outputs": [],
   "source": [
    "# Check your work\n",
    "assert any([isinstance(df, pd.DataFrame), isinstance(df, pd.Series)])\n",
    "assert len(df) <= 32907\n",
    "assert isinstance(df.index, pd.DatetimeIndex)"
   ]
  },
  {
   "cell_type": "code",
   "execution_count": 47,
   "id": "6b8c6402-780a-4a20-817c-c8a849f6437e",
   "metadata": {},
   "outputs": [
    {
     "data": {
      "text/html": [
       "\n",
       "        <iframe\n",
       "            width=\"600\"\n",
       "            height=\"300\"\n",
       "            src=\"https://player.vimeo.com/video/665412520?h=e03eefff07\"\n",
       "            frameborder=\"0\"\n",
       "            allowfullscreen\n",
       "            \n",
       "        ></iframe>\n",
       "        "
      ],
      "text/plain": [
       "<IPython.lib.display.VimeoVideo at 0x7f2a6d605110>"
      ]
     },
     "execution_count": 47,
     "metadata": {},
     "output_type": "execute_result"
    }
   ],
   "source": [
    "VimeoVideo(\"665412520\", h=\"e03eefff07\", width=600)"
   ]
  },
  {
   "cell_type": "markdown",
   "id": "267a1b92-355b-4967-ad57-5cb6d3a367ac",
   "metadata": {},
   "source": [
    "**Task 3.2.4:** Add to your `wrangle` function so that the `DatetimeIndex` for `df` is localized to the correct timezone, `\"Africa/Nairobi\"`. Don't forget to re-run all the cells above after you change the function. \n",
    "\n",
    "- [<span id='technique'>Localize a timestamp to another timezone using <span id='tool'>pandas.](../%40textbook/18-ts-models.ipynb#Localizing-the-Timezone)"
   ]
  },
  {
   "cell_type": "code",
   "execution_count": null,
   "id": "7c2c70f8-0467-4575-903d-9587587ff9d6",
   "metadata": {},
   "outputs": [],
   "source": []
  },
  {
   "cell_type": "code",
   "execution_count": 48,
   "id": "3b967cc2-62bb-48ed-bc9c-0af25e35f44d",
   "metadata": {},
   "outputs": [],
   "source": [
    "# Check your work\n",
    "assert df.index.tzinfo == pytz.timezone(\"Africa/Nairobi\")"
   ]
  },
  {
   "cell_type": "markdown",
   "id": "095bfbee-fdfc-4f2c-bf97-b98616e3f149",
   "metadata": {},
   "source": [
    "## Explore"
   ]
  },
  {
   "cell_type": "code",
   "execution_count": 49,
   "id": "5953cc81-95fb-4634-a8db-a4d8cedf3738",
   "metadata": {},
   "outputs": [
    {
     "data": {
      "text/html": [
       "\n",
       "        <iframe\n",
       "            width=\"600\"\n",
       "            height=\"300\"\n",
       "            src=\"https://player.vimeo.com/video/665412546?h=97792cb982\"\n",
       "            frameborder=\"0\"\n",
       "            allowfullscreen\n",
       "            \n",
       "        ></iframe>\n",
       "        "
      ],
      "text/plain": [
       "<IPython.lib.display.VimeoVideo at 0x7f2a6d606bd0>"
      ]
     },
     "execution_count": 49,
     "metadata": {},
     "output_type": "execute_result"
    }
   ],
   "source": [
    "VimeoVideo(\"665412546\", h=\"97792cb982\", width=600)"
   ]
  },
  {
   "cell_type": "markdown",
   "id": "26bb6e4f-e263-497a-9f58-49363dd0895d",
   "metadata": {},
   "source": [
    "**Task 3.2.5:** Create a boxplot of the `\"P2\"` readings in `df`. \n",
    "\n",
    "- [<span id='technique'>Create a boxplot using <span id='tool'>pandas.](../%40textbook/06-visualization-matplotlib.ipynb#Boxplots)"
   ]
  },
  {
   "cell_type": "code",
   "execution_count": 50,
   "id": "8ab893d7-4f59-439d-8fd0-e6121771bbdf",
   "metadata": {},
   "outputs": [
    {
     "data": {
      "image/png": "[encoded data removed]",
      "text/plain": [
       "<Figure size 1500x600 with 1 Axes>"
      ]
     },
     "metadata": {},
     "output_type": "display_data"
    }
   ],
   "source": [
    "fig, ax = plt.subplots(figsize=(15, 6))\n",
    "df[\"P2\"].plot(kind=\"box\",vert=False,title=\"Distribution of PM2.5 reading\",ax=ax);\n",
    "\n"
   ]
  },
  {
   "cell_type": "code",
   "execution_count": 51,
   "id": "0d88f007-c822-4136-b60c-d520e60f69c4",
   "metadata": {},
   "outputs": [
    {
     "data": {
      "text/html": [
       "\n",
       "        <iframe\n",
       "            width=\"600\"\n",
       "            height=\"300\"\n",
       "            src=\"https://player.vimeo.com/video/665412573?h=b46049021b\"\n",
       "            frameborder=\"0\"\n",
       "            allowfullscreen\n",
       "            \n",
       "        ></iframe>\n",
       "        "
      ],
      "text/plain": [
       "<IPython.lib.display.VimeoVideo at 0x7f2a6d7c1d90>"
      ]
     },
     "execution_count": 51,
     "metadata": {},
     "output_type": "execute_result"
    }
   ],
   "source": [
    "VimeoVideo(\"665412573\", h=\"b46049021b\", width=600)"
   ]
  },
  {
   "cell_type": "markdown",
   "id": "1a0a1b4f-b9fc-45db-bbdb-1e9839f54e97",
   "metadata": {},
   "source": [
    "**Task 3.2.6:** Add to your `wrangle` function so that all `\"P2\"` readings above 500 are dropped from the dataset. Don't forget to re-run all the cells above after you change the function. \n",
    "\n",
    "- [<span id='technique'>Subset a DataFrame with a mask using <span id='tool'>pandas.](../%40textbook/04-pandas-advanced.ipynb#Subsetting-with-Masks)"
   ]
  },
  {
   "cell_type": "code",
   "execution_count": 52,
   "id": "581a074a-d19a-4e18-97b7-f6b1b07a610d",
   "metadata": {},
   "outputs": [
    {
     "data": {
      "text/html": [
       "<div>\n",
       "<style scoped>\n",
       "    .dataframe tbody tr th:only-of-type {\n",
       "        vertical-align: middle;\n",
       "    }\n",
       "\n",
       "    .dataframe tbody tr th {\n",
       "        vertical-align: top;\n",
       "    }\n",
       "\n",
       "    .dataframe thead th {\n",
       "        text-align: right;\n",
       "    }\n",
       "</style>\n",
       "<table border=\"1\" class=\"dataframe\">\n",
       "  <thead>\n",
       "    <tr style=\"text-align: right;\">\n",
       "      <th></th>\n",
       "      <th>P2</th>\n",
       "      <th>P2.L1</th>\n",
       "    </tr>\n",
       "    <tr>\n",
       "      <th>timestamp</th>\n",
       "      <th></th>\n",
       "      <th></th>\n",
       "    </tr>\n",
       "  </thead>\n",
       "  <tbody>\n",
       "    <tr>\n",
       "      <th>2018-09-01 04:00:00+03:00</th>\n",
       "      <td>15.800000</td>\n",
       "      <td>17.541667</td>\n",
       "    </tr>\n",
       "    <tr>\n",
       "      <th>2018-09-01 05:00:00+03:00</th>\n",
       "      <td>11.420000</td>\n",
       "      <td>15.800000</td>\n",
       "    </tr>\n",
       "    <tr>\n",
       "      <th>2018-09-01 06:00:00+03:00</th>\n",
       "      <td>11.614167</td>\n",
       "      <td>11.420000</td>\n",
       "    </tr>\n",
       "    <tr>\n",
       "      <th>2018-09-01 07:00:00+03:00</th>\n",
       "      <td>17.665000</td>\n",
       "      <td>11.614167</td>\n",
       "    </tr>\n",
       "    <tr>\n",
       "      <th>2018-09-01 08:00:00+03:00</th>\n",
       "      <td>21.016667</td>\n",
       "      <td>17.665000</td>\n",
       "    </tr>\n",
       "    <tr>\n",
       "      <th>...</th>\n",
       "      <td>...</td>\n",
       "      <td>...</td>\n",
       "    </tr>\n",
       "    <tr>\n",
       "      <th>2018-12-31 22:00:00+03:00</th>\n",
       "      <td>7.060833</td>\n",
       "      <td>9.150833</td>\n",
       "    </tr>\n",
       "    <tr>\n",
       "      <th>2018-12-31 23:00:00+03:00</th>\n",
       "      <td>7.854167</td>\n",
       "      <td>7.060833</td>\n",
       "    </tr>\n",
       "    <tr>\n",
       "      <th>2019-01-01 00:00:00+03:00</th>\n",
       "      <td>9.755833</td>\n",
       "      <td>7.854167</td>\n",
       "    </tr>\n",
       "    <tr>\n",
       "      <th>2019-01-01 01:00:00+03:00</th>\n",
       "      <td>12.665000</td>\n",
       "      <td>9.755833</td>\n",
       "    </tr>\n",
       "    <tr>\n",
       "      <th>2019-01-01 02:00:00+03:00</th>\n",
       "      <td>18.803333</td>\n",
       "      <td>12.665000</td>\n",
       "    </tr>\n",
       "  </tbody>\n",
       "</table>\n",
       "<p>2927 rows × 2 columns</p>\n",
       "</div>"
      ],
      "text/plain": [
       "                                  P2      P2.L1\n",
       "timestamp                                      \n",
       "2018-09-01 04:00:00+03:00  15.800000  17.541667\n",
       "2018-09-01 05:00:00+03:00  11.420000  15.800000\n",
       "2018-09-01 06:00:00+03:00  11.614167  11.420000\n",
       "2018-09-01 07:00:00+03:00  17.665000  11.614167\n",
       "2018-09-01 08:00:00+03:00  21.016667  17.665000\n",
       "...                              ...        ...\n",
       "2018-12-31 22:00:00+03:00   7.060833   9.150833\n",
       "2018-12-31 23:00:00+03:00   7.854167   7.060833\n",
       "2019-01-01 00:00:00+03:00   9.755833   7.854167\n",
       "2019-01-01 01:00:00+03:00  12.665000   9.755833\n",
       "2019-01-01 02:00:00+03:00  18.803333  12.665000\n",
       "\n",
       "[2927 rows x 2 columns]"
      ]
     },
     "execution_count": 52,
     "metadata": {},
     "output_type": "execute_result"
    }
   ],
   "source": [
    "\n",
    "df[df[\"P2\"]<500]\n"
   ]
  },
  {
   "cell_type": "code",
   "execution_count": 53,
   "id": "13bcbe53-c819-4ef7-a7c6-dc420e1dc5a5",
   "metadata": {},
   "outputs": [],
   "source": [
    "# Check your work\n",
    "assert len(df) <= 32906"
   ]
  },
  {
   "cell_type": "code",
   "execution_count": 54,
   "id": "14c1090b-e9a4-46ae-b442-8414cb94477b",
   "metadata": {},
   "outputs": [
    {
     "data": {
      "text/html": [
       "\n",
       "        <iframe\n",
       "            width=\"600\"\n",
       "            height=\"300\"\n",
       "            src=\"https://player.vimeo.com/video/665412594?h=e56c2f6839\"\n",
       "            frameborder=\"0\"\n",
       "            allowfullscreen\n",
       "            \n",
       "        ></iframe>\n",
       "        "
      ],
      "text/plain": [
       "<IPython.lib.display.VimeoVideo at 0x7f2a581207d0>"
      ]
     },
     "execution_count": 54,
     "metadata": {},
     "output_type": "execute_result"
    }
   ],
   "source": [
    "VimeoVideo(\"665412594\", h=\"e56c2f6839\", width=600)"
   ]
  },
  {
   "cell_type": "markdown",
   "id": "76d10d89-f7a6-4260-a8b9-b998a62caae9",
   "metadata": {},
   "source": [
    "**Task 3.2.7:** Create a time series plot of the `\"P2\"` readings in `df`.\n",
    "\n",
    "- [<span id='technique'>Create a line plot using <span id='tool'>pandas.](../%40textbook/07-visualization-pandas.ipynb#Line-Plots)"
   ]
  },
  {
   "cell_type": "code",
   "execution_count": 55,
   "id": "678fca79-4c09-4993-87e5-8d6233959112",
   "metadata": {},
   "outputs": [
    {
     "data": {
      "image/png": "[encoded data removed]",
      "text/plain": [
       "<Figure size 1500x600 with 1 Axes>"
      ]
     },
     "metadata": {},
     "output_type": "display_data"
    }
   ],
   "source": [
    "import matplotlib.pyplot as plt  \n",
    "\n",
    "fig, ax = plt.subplots(figsize=(15, 6))\n",
    "df[\"P2\"].plot(xlabel=\"Time\", ylabel=\"PM2.5\", title=\"PM2.5 Time Series\", ax=ax)\n",
    "plt.show()  \n",
    "\n"
   ]
  },
  {
   "cell_type": "code",
   "execution_count": 56,
   "id": "cf3ff88f-b7dc-45c3-b796-9cf64de759df",
   "metadata": {},
   "outputs": [
    {
     "data": {
      "text/html": [
       "\n",
       "        <iframe\n",
       "            width=\"600\"\n",
       "            height=\"300\"\n",
       "            src=\"https://player.vimeo.com/video/665412601?h=a16c5a73fc\"\n",
       "            frameborder=\"0\"\n",
       "            allowfullscreen\n",
       "            \n",
       "        ></iframe>\n",
       "        "
      ],
      "text/plain": [
       "<IPython.lib.display.VimeoVideo at 0x7f2a5814a690>"
      ]
     },
     "execution_count": 56,
     "metadata": {},
     "output_type": "execute_result"
    }
   ],
   "source": [
    "VimeoVideo(\"665412601\", h=\"a16c5a73fc\", width=600)"
   ]
  },
  {
   "cell_type": "markdown",
   "id": "e0709102-8eec-4dcc-bff0-1b4a9bd104df",
   "metadata": {},
   "source": [
    "**Task 3.2.8:** Add to your `wrangle` function to resample `df` to provide the mean `\"P2\"` reading for each hour. Use a forward fill to impute any missing values. Don't forget to re-run all the cells above after you change the function. \n",
    "\n",
    "- [<span id='technique'>Resample time series data in <span id='tool'>pandas.](../%40textbook/18-ts-models.ipynb#Resampling-Data)\n",
    "- [<span id='technique'>Impute missing time series values using <span id='tool'>pandas.](../%40textbook/13-ml-data-pre-processing-and-production.ipynb#Imputation)"
   ]
  },
  {
   "cell_type": "code",
   "execution_count": 57,
   "id": "df9c59ee-d346-4184-b47d-dd3f050096ce",
   "metadata": {},
   "outputs": [
    {
     "data": {
      "text/plain": [
       "(2927, 2)"
      ]
     },
     "execution_count": 57,
     "metadata": {},
     "output_type": "execute_result"
    }
   ],
   "source": [
    "\n",
    "df[\"P2\"].resample(\"1H\").mean().fillna(method=\"ffill\").to_frame().head()\n",
    "df.shape"
   ]
  },
  {
   "cell_type": "code",
   "execution_count": 58,
   "id": "35f84f80-b442-4db9-905e-485624ffdb5c",
   "metadata": {},
   "outputs": [],
   "source": [
    "# Check your work\n",
    "assert len(df) <= 2928"
   ]
  },
  {
   "cell_type": "code",
   "execution_count": 59,
   "id": "640157aa-e000-4994-b190-6451d5eac69b",
   "metadata": {},
   "outputs": [
    {
     "data": {
      "text/html": [
       "\n",
       "        <iframe\n",
       "            width=\"600\"\n",
       "            height=\"300\"\n",
       "            src=\"https://player.vimeo.com/video/665412649?h=d2e99d2e75\"\n",
       "            frameborder=\"0\"\n",
       "            allowfullscreen\n",
       "            \n",
       "        ></iframe>\n",
       "        "
      ],
      "text/plain": [
       "<IPython.lib.display.VimeoVideo at 0x7f2a581bb850>"
      ]
     },
     "execution_count": 59,
     "metadata": {},
     "output_type": "execute_result"
    }
   ],
   "source": [
    "VimeoVideo(\"665412649\", h=\"d2e99d2e75\", width=600)"
   ]
  },
  {
   "cell_type": "markdown",
   "id": "3c0d2f53-ac21-4503-96bf-0f0177f385e3",
   "metadata": {},
   "source": [
    "**Task 3.2.9:** Plot the rolling average of the `\"P2\"` readings in `df`. Use a window size of `168` (the number of hours in a week).\n",
    "\n",
    "- [What's a rolling window?](../%40textbook/17-ts-core.ipynb#Rolling-Averages)\n",
    "- [Do a rolling window calculation in pandas.](../%40textbook/18-ts-models.ipynb#Making-a-Line-Plot-with-Rolling-Averages)\n",
    "- [Make a line plot with time series data in pandas.](../%40textbook/18-ts-models.ipynb#Making-a-Line-Plot-with-Rolling-Averages)"
   ]
  },
  {
   "cell_type": "code",
   "execution_count": 60,
   "id": "77aae76d-8400-4507-991e-e6c2a1dbaada",
   "metadata": {},
   "outputs": [
    {
     "data": {
      "text/plain": [
       "timestamp\n",
       "2018-09-01 04:00:00+03:00         NaN\n",
       "2018-09-01 05:00:00+03:00         NaN\n",
       "2018-09-01 06:00:00+03:00         NaN\n",
       "2018-09-01 07:00:00+03:00         NaN\n",
       "2018-09-01 08:00:00+03:00         NaN\n",
       "                               ...   \n",
       "2018-12-31 22:00:00+03:00    6.932995\n",
       "2018-12-31 23:00:00+03:00    6.935927\n",
       "2019-01-01 00:00:00+03:00    6.938348\n",
       "2019-01-01 01:00:00+03:00    6.973928\n",
       "2019-01-01 02:00:00+03:00    7.043333\n",
       "Freq: H, Name: P2, Length: 2927, dtype: float64"
      ]
     },
     "execution_count": 60,
     "metadata": {},
     "output_type": "execute_result"
    }
   ],
   "source": [
    "df[\"P2\"].rolling(168).mean()"
   ]
  },
  {
   "cell_type": "code",
   "execution_count": 61,
   "id": "193f55bf-90a1-4fe9-9c99-5df21bebe8a5",
   "metadata": {},
   "outputs": [
    {
     "data": {
      "text/plain": [
       "<Axes: title={'center': 'Weekly rolling average'}, xlabel='timestamp', ylabel='PM2.5'>"
      ]
     },
     "execution_count": 61,
     "metadata": {},
     "output_type": "execute_result"
    },
    {
     "data": {
      "image/png": "[encoded data removed]",
      "text/plain": [
       "<Figure size 1500x600 with 1 Axes>"
      ]
     },
     "metadata": {},
     "output_type": "display_data"
    }
   ],
   "source": [
    "fig, ax = plt.subplots(figsize=(15, 6))\n",
    "df[\"P2\"].rolling(168).mean().plot(ax=ax,\n",
    "                                 ylabel=\"PM2.5\",title=\"Weekly rolling average\")\n"
   ]
  },
  {
   "cell_type": "code",
   "execution_count": 62,
   "id": "44bb65cb-a337-4204-bd4e-233d213e15fb",
   "metadata": {},
   "outputs": [
    {
     "data": {
      "text/html": [
       "\n",
       "        <iframe\n",
       "            width=\"600\"\n",
       "            height=\"300\"\n",
       "            src=\"https://player.vimeo.com/video/665412693?h=c3bca16aff\"\n",
       "            frameborder=\"0\"\n",
       "            allowfullscreen\n",
       "            \n",
       "        ></iframe>\n",
       "        "
      ],
      "text/plain": [
       "<IPython.lib.display.VimeoVideo at 0x7f2a581d99d0>"
      ]
     },
     "execution_count": 62,
     "metadata": {},
     "output_type": "execute_result"
    }
   ],
   "source": [
    "VimeoVideo(\"665412693\", h=\"c3bca16aff\", width=600)"
   ]
  },
  {
   "cell_type": "markdown",
   "id": "c669a21c-f0b3-4040-a039-2ea7fcbe4d14",
   "metadata": {},
   "source": [
    "**Task 3.2.10:** Add to your `wrangle` function to create a column called `\"P2.L1\"` that contains the mean`\"P2\"` reading from the previous hour. Since this new feature will create `NaN` values in your DataFrame, be sure to also drop null rows from `df`.\n",
    "\n",
    "- [<span id='technique'>Shift the index of a Series in <span id='tool'>pandas.](../%40textbook/03-pandas-getting-started.ipynb#Adding-Columns)\n",
    "- [<span id='technique'>Drop rows with missing values from a DataFrame using <span id='tool'>pandas.](../%40textbook/03-pandas-getting-started.ipynb#Dropping-Columns)"
   ]
  },
  {
   "cell_type": "code",
   "execution_count": 63,
   "id": "8f1f6531-a32f-47bc-90ef-5c9c51a39e35",
   "metadata": {},
   "outputs": [
    {
     "data": {
      "text/html": [
       "<div>\n",
       "<style scoped>\n",
       "    .dataframe tbody tr th:only-of-type {\n",
       "        vertical-align: middle;\n",
       "    }\n",
       "\n",
       "    .dataframe tbody tr th {\n",
       "        vertical-align: top;\n",
       "    }\n",
       "\n",
       "    .dataframe thead th {\n",
       "        text-align: right;\n",
       "    }\n",
       "</style>\n",
       "<table border=\"1\" class=\"dataframe\">\n",
       "  <thead>\n",
       "    <tr style=\"text-align: right;\">\n",
       "      <th></th>\n",
       "      <th>P2</th>\n",
       "      <th>P2.L1</th>\n",
       "    </tr>\n",
       "    <tr>\n",
       "      <th>timestamp</th>\n",
       "      <th></th>\n",
       "      <th></th>\n",
       "    </tr>\n",
       "  </thead>\n",
       "  <tbody>\n",
       "    <tr>\n",
       "      <th>2018-09-01 04:00:00+03:00</th>\n",
       "      <td>15.800000</td>\n",
       "      <td>17.541667</td>\n",
       "    </tr>\n",
       "    <tr>\n",
       "      <th>2018-09-01 05:00:00+03:00</th>\n",
       "      <td>11.420000</td>\n",
       "      <td>15.800000</td>\n",
       "    </tr>\n",
       "    <tr>\n",
       "      <th>2018-09-01 06:00:00+03:00</th>\n",
       "      <td>11.614167</td>\n",
       "      <td>11.420000</td>\n",
       "    </tr>\n",
       "    <tr>\n",
       "      <th>2018-09-01 07:00:00+03:00</th>\n",
       "      <td>17.665000</td>\n",
       "      <td>11.614167</td>\n",
       "    </tr>\n",
       "    <tr>\n",
       "      <th>2018-09-01 08:00:00+03:00</th>\n",
       "      <td>21.016667</td>\n",
       "      <td>17.665000</td>\n",
       "    </tr>\n",
       "  </tbody>\n",
       "</table>\n",
       "</div>"
      ],
      "text/plain": [
       "                                  P2      P2.L1\n",
       "timestamp                                      \n",
       "2018-09-01 04:00:00+03:00  15.800000  17.541667\n",
       "2018-09-01 05:00:00+03:00  11.420000  15.800000\n",
       "2018-09-01 06:00:00+03:00  11.614167  11.420000\n",
       "2018-09-01 07:00:00+03:00  17.665000  11.614167\n",
       "2018-09-01 08:00:00+03:00  21.016667  17.665000"
      ]
     },
     "execution_count": 63,
     "metadata": {},
     "output_type": "execute_result"
    }
   ],
   "source": [
    "\n",
    "df.head()"
   ]
  },
  {
   "cell_type": "code",
   "execution_count": 69,
   "id": "5fcebe05-7021-47bb-8a65-194c21da9d4b",
   "metadata": {},
   "outputs": [],
   "source": [
    "# Check your work\n",
    "assert len(df) <= 11686\n",
    "assert df.shape[1] == 2"
   ]
  },
  {
   "cell_type": "code",
   "execution_count": 65,
   "id": "cdef37a0-e738-412d-b116-f5ba83fbdf93",
   "metadata": {},
   "outputs": [
    {
     "data": {
      "text/html": [
       "\n",
       "        <iframe\n",
       "            width=\"600\"\n",
       "            height=\"300\"\n",
       "            src=\"https://player.vimeo.com/video/665412732?h=059e4088c5\"\n",
       "            frameborder=\"0\"\n",
       "            allowfullscreen\n",
       "            \n",
       "        ></iframe>\n",
       "        "
      ],
      "text/plain": [
       "<IPython.lib.display.VimeoVideo at 0x7f2a581b9510>"
      ]
     },
     "execution_count": 65,
     "metadata": {},
     "output_type": "execute_result"
    }
   ],
   "source": [
    "VimeoVideo(\"665412732\", h=\"059e4088c5\", width=600)"
   ]
  },
  {
   "cell_type": "markdown",
   "id": "95c21959-7c4f-4171-8606-82bc0adf4c90",
   "metadata": {},
   "source": [
    "**Task 3.2.11:** Create a correlation matrix for `df`.\n",
    "\n",
    "- [<span id='technique'>Create a correlation matrix in <span id='tool'>pandas.](../%40textbook/07-visualization-pandas.ipynb#Correlation-Matrices)"
   ]
  },
  {
   "cell_type": "code",
   "execution_count": 70,
   "id": "9eb7dbd8-c2ee-4586-a0b7-7860be96ebd2",
   "metadata": {},
   "outputs": [
    {
     "data": {
      "text/html": [
       "<div>\n",
       "<style scoped>\n",
       "    .dataframe tbody tr th:only-of-type {\n",
       "        vertical-align: middle;\n",
       "    }\n",
       "\n",
       "    .dataframe tbody tr th {\n",
       "        vertical-align: top;\n",
       "    }\n",
       "\n",
       "    .dataframe thead th {\n",
       "        text-align: right;\n",
       "    }\n",
       "</style>\n",
       "<table border=\"1\" class=\"dataframe\">\n",
       "  <thead>\n",
       "    <tr style=\"text-align: right;\">\n",
       "      <th></th>\n",
       "      <th>P2</th>\n",
       "      <th>P2.L1</th>\n",
       "    </tr>\n",
       "  </thead>\n",
       "  <tbody>\n",
       "    <tr>\n",
       "      <th>P2</th>\n",
       "      <td>1.000000</td>\n",
       "      <td>0.650679</td>\n",
       "    </tr>\n",
       "    <tr>\n",
       "      <th>P2.L1</th>\n",
       "      <td>0.650679</td>\n",
       "      <td>1.000000</td>\n",
       "    </tr>\n",
       "  </tbody>\n",
       "</table>\n",
       "</div>"
      ],
      "text/plain": [
       "             P2     P2.L1\n",
       "P2     1.000000  0.650679\n",
       "P2.L1  0.650679  1.000000"
      ]
     },
     "execution_count": 70,
     "metadata": {},
     "output_type": "execute_result"
    }
   ],
   "source": [
    "df.corr()"
   ]
  },
  {
   "cell_type": "code",
   "execution_count": 67,
   "id": "0e1483b5-8b47-49d1-b2ac-9984912998ee",
   "metadata": {},
   "outputs": [
    {
     "data": {
      "text/html": [
       "\n",
       "        <iframe\n",
       "            width=\"600\"\n",
       "            height=\"300\"\n",
       "            src=\"https://player.vimeo.com/video/665412741?h=7439cb107c\"\n",
       "            frameborder=\"0\"\n",
       "            allowfullscreen\n",
       "            \n",
       "        ></iframe>\n",
       "        "
      ],
      "text/plain": [
       "<IPython.lib.display.VimeoVideo at 0x7f2a6d71d510>"
      ]
     },
     "execution_count": 67,
     "metadata": {},
     "output_type": "execute_result"
    }
   ],
   "source": [
    "VimeoVideo(\"665412741\", h=\"7439cb107c\", width=600)"
   ]
  },
  {
   "cell_type": "markdown",
   "id": "e41d5aef-c84b-4240-b2a7-730a2644c73d",
   "metadata": {},
   "source": [
    "**Task 3.2.12:** Create a scatter plot that shows PM 2.5 mean reading for each our as a function of the mean reading from the previous hour. In other words, `\"P2.L1\"` should be on the x-axis, and `\"P2\"` should be on the y-axis. Don't forget to label your axes!\n",
    "\n",
    "- [<span id='technique'>Create a scatter plot using <span id='tool'>Matplotlib.](../%40textbook/06-visualization-matplotlib.ipynb#Scatter-Plots)"
   ]
  },
  {
   "cell_type": "code",
   "execution_count": 72,
   "id": "c15eb937-393e-4962-89de-25e7b451183b",
   "metadata": {},
   "outputs": [
    {
     "data": {
      "text/plain": [
       "Text(0.5, 1.0, 'PM2.5 correlation')"
      ]
     },
     "execution_count": 72,
     "metadata": {},
     "output_type": "execute_result"
    },
    {
     "data": {
      "image/png": "[encoded data removed]",
      "text/plain": [
       "<Figure size 600x600 with 1 Axes>"
      ]
     },
     "metadata": {},
     "output_type": "display_data"
    }
   ],
   "source": [
    "fig, ax = plt.subplots(figsize=(6, 6))\n",
    "ax.scatter(x=df[\"P2.L1\"],y=df[\"P2\"],linestyle=\"--\",color=\"orange\")\n",
    "ax.plot([0,120],[0,120])\n",
    "plt.xlabel(\"P2_lag\")\n",
    "plt.ylabel(\"P2\")\n",
    "plt.title(\"PM2.5 correlation\")\n",
    "\n"
   ]
  },
  {
   "cell_type": "markdown",
   "id": "cac31838-06f0-432a-a73c-4a95a362190a",
   "metadata": {},
   "source": [
    "## Split"
   ]
  },
  {
   "cell_type": "code",
   "execution_count": 74,
   "id": "17a1226a-fdfb-4246-bd80-28d220b5b22a",
   "metadata": {},
   "outputs": [
    {
     "data": {
      "text/html": [
       "\n",
       "        <iframe\n",
       "            width=\"600\"\n",
       "            height=\"300\"\n",
       "            src=\"https://player.vimeo.com/video/665412762?h=a5eba496f7\"\n",
       "            frameborder=\"0\"\n",
       "            allowfullscreen\n",
       "            \n",
       "        ></iframe>\n",
       "        "
      ],
      "text/plain": [
       "<IPython.lib.display.VimeoVideo at 0x7f2a6d71ac50>"
      ]
     },
     "execution_count": 74,
     "metadata": {},
     "output_type": "execute_result"
    }
   ],
   "source": [
    "VimeoVideo(\"665412762\", h=\"a5eba496f7\", width=600)"
   ]
  },
  {
   "cell_type": "markdown",
   "id": "4cb00c38-9ece-423f-82ed-dfec64767209",
   "metadata": {},
   "source": [
    "**Task 3.2.13:** Split the DataFrame `df` into the feature matrix `X` and the target vector `y`. Your target is `\"P2\"`.\n",
    "\n",
    "- [<span id='technique'>Subset a DataFrame by selecting one or more columns in <span id='tool'>pandas.](../%40textbook/04-pandas-advanced.ipynb#Subset-a-DataFrame-by-Selecting-One-or-More-Columns) \n",
    "- [<span id='technique'>Select a Series from a DataFrame in <span id='tool'>pandas.](../%40textbook/03-pandas-getting-started.ipynb#Adding-Columns) "
   ]
  },
  {
   "cell_type": "code",
   "execution_count": 73,
   "id": "d9bd01da-d4a8-4974-9312-9dc748f3475a",
   "metadata": {
    "tags": []
   },
   "outputs": [
    {
     "data": {
      "text/html": [
       "<div>\n",
       "<style scoped>\n",
       "    .dataframe tbody tr th:only-of-type {\n",
       "        vertical-align: middle;\n",
       "    }\n",
       "\n",
       "    .dataframe tbody tr th {\n",
       "        vertical-align: top;\n",
       "    }\n",
       "\n",
       "    .dataframe thead th {\n",
       "        text-align: right;\n",
       "    }\n",
       "</style>\n",
       "<table border=\"1\" class=\"dataframe\">\n",
       "  <thead>\n",
       "    <tr style=\"text-align: right;\">\n",
       "      <th></th>\n",
       "      <th>P2.L1</th>\n",
       "    </tr>\n",
       "    <tr>\n",
       "      <th>timestamp</th>\n",
       "      <th></th>\n",
       "    </tr>\n",
       "  </thead>\n",
       "  <tbody>\n",
       "    <tr>\n",
       "      <th>2018-09-01 04:00:00+03:00</th>\n",
       "      <td>17.541667</td>\n",
       "    </tr>\n",
       "    <tr>\n",
       "      <th>2018-09-01 05:00:00+03:00</th>\n",
       "      <td>15.800000</td>\n",
       "    </tr>\n",
       "    <tr>\n",
       "      <th>2018-09-01 06:00:00+03:00</th>\n",
       "      <td>11.420000</td>\n",
       "    </tr>\n",
       "    <tr>\n",
       "      <th>2018-09-01 07:00:00+03:00</th>\n",
       "      <td>11.614167</td>\n",
       "    </tr>\n",
       "    <tr>\n",
       "      <th>2018-09-01 08:00:00+03:00</th>\n",
       "      <td>17.665000</td>\n",
       "    </tr>\n",
       "  </tbody>\n",
       "</table>\n",
       "</div>"
      ],
      "text/plain": [
       "                               P2.L1\n",
       "timestamp                           \n",
       "2018-09-01 04:00:00+03:00  17.541667\n",
       "2018-09-01 05:00:00+03:00  15.800000\n",
       "2018-09-01 06:00:00+03:00  11.420000\n",
       "2018-09-01 07:00:00+03:00  11.614167\n",
       "2018-09-01 08:00:00+03:00  17.665000"
      ]
     },
     "execution_count": 73,
     "metadata": {},
     "output_type": "execute_result"
    }
   ],
   "source": [
    "target = \"P2\"\n",
    "y =df[target]\n",
    "X =df.drop(columns=target)\n",
    "X.head()"
   ]
  },
  {
   "cell_type": "code",
   "execution_count": 75,
   "id": "1cd42b1f-979f-4bdf-92e2-61ab52de9c2b",
   "metadata": {},
   "outputs": [
    {
     "data": {
      "text/html": [
       "\n",
       "        <iframe\n",
       "            width=\"600\"\n",
       "            height=\"300\"\n",
       "            src=\"https://player.vimeo.com/video/665412785?h=03118eda71\"\n",
       "            frameborder=\"0\"\n",
       "            allowfullscreen\n",
       "            \n",
       "        ></iframe>\n",
       "        "
      ],
      "text/plain": [
       "<IPython.lib.display.VimeoVideo at 0x7f2a5293cc90>"
      ]
     },
     "execution_count": 75,
     "metadata": {},
     "output_type": "execute_result"
    }
   ],
   "source": [
    "VimeoVideo(\"665412785\", h=\"03118eda71\", width=600)"
   ]
  },
  {
   "cell_type": "markdown",
   "id": "b76cc7e3-e81e-45c7-8336-e2cb0acd31ac",
   "metadata": {},
   "source": [
    "**Task 3.2.14:** Split `X` and `y` into training and test sets. The first 80% of the data should be in your training set. The remaining 20% should be in the test set.\n",
    "\n",
    "- [<span id='technique'>Divide data into training and test sets in <span id='tool'>pandas.](../%40textbook/14-ml-classification.ipynb#Randomized-Train-Test-split)"
   ]
  },
  {
   "cell_type": "code",
   "execution_count": 86,
   "id": "659e74cf-3cae-4970-b152-803bbb1d1dc6",
   "metadata": {},
   "outputs": [
    {
     "data": {
      "text/plain": [
       "True"
      ]
     },
     "execution_count": 86,
     "metadata": {},
     "output_type": "execute_result"
    }
   ],
   "source": [
    "cutoff = int(len(X) * 0.8)\n",
    "\n",
    "X_train, y_train = X.iloc[:cutoff], y.iloc[:cutoff]\n",
    "X_test, y_test = X.iloc[cutoff:], y.iloc[cutoff:]\n",
    "len(X_train)+len(X_test)==len(X)\n"
   ]
  },
  {
   "cell_type": "code",
   "execution_count": 87,
   "id": "3b021fc3-8b7a-41cf-b2f3-f438e924e8a5",
   "metadata": {},
   "outputs": [
    {
     "data": {
      "text/plain": [
       "2341"
      ]
     },
     "execution_count": 87,
     "metadata": {},
     "output_type": "execute_result"
    }
   ],
   "source": [
    "int(len(X)*0.8)"
   ]
  },
  {
   "cell_type": "markdown",
   "id": "406779e7-aa56-4f31-824a-522a9ad73a2c",
   "metadata": {},
   "source": [
    "# Build Model"
   ]
  },
  {
   "cell_type": "markdown",
   "id": "ccc4c41e-2552-4cb4-b4e9-e6aa6b3f62d0",
   "metadata": {},
   "source": [
    "## Baseline"
   ]
  },
  {
   "cell_type": "markdown",
   "id": "21a83331-793d-4570-a464-3c9c19ca3bc8",
   "metadata": {},
   "source": [
    "**Task 3.2.15:** Calculate the baseline mean absolute error for your model.\n",
    "\n",
    "- [<span id='technique'>Calculate summary statistics for a DataFrame or Series in <span id='tool'>pandas.](../%40textbook/05-pandas-summary-statistics.ipynb#Summary-Statistics)"
   ]
  },
  {
   "cell_type": "code",
   "execution_count": 89,
   "id": "c9c0367a-b65d-4287-8697-5d02d0424e76",
   "metadata": {},
   "outputs": [
    {
     "name": "stdout",
     "output_type": "stream",
     "text": [
      "Mean P2 Reading: 9.27\n",
      "Baseline MAE: 3.89\n"
     ]
    }
   ],
   "source": [
    "y_mean=y_train.mean()\n",
    "y_pred_baseline =[y_train.mean()]*len(y_train)\n",
    "mae_baseline =mean_absolute_error(y_train,y_pred_baseline)\n",
    "\n",
    "print(\"Mean P2 Reading:\", round(y_train.mean(), 2))\n",
    "print(\"Baseline MAE:\", round(mae_baseline, 2))"
   ]
  },
  {
   "cell_type": "markdown",
   "id": "dcc20840-2a9b-4e53-9aa4-cb6aa2a33894",
   "metadata": {},
   "source": [
    "## Iterate"
   ]
  },
  {
   "cell_type": "markdown",
   "id": "2b5e72ee-a2df-4748-bd07-23e429b3ab4e",
   "metadata": {},
   "source": [
    "**Task 3.2.16:** Instantiate a [`LinearRegression`](https://scikit-learn.org/stable/modules/generated/sklearn.linear_model.LinearRegression.html) model named `model`, and fit it to your training data.\n",
    "\n",
    "- [<span id='technique'>Instantiate a predictor in <span id='tool'>scikit-learn.](../%40textbook/15-ml-regression.ipynb#Fitting-a-Model-to-Training-Data)\n",
    "- [<span id='technique'>Fit a model to training data in <span id='tool'>scikit-learn.](../%40textbook/15-ml-regression.ipynb#Fitting-a-Model-to-Training-Data)"
   ]
  },
  {
   "cell_type": "code",
   "execution_count": 90,
   "id": "884d9686-5afe-4f60-84fe-532d41cc8813",
   "metadata": {},
   "outputs": [
    {
     "data": {
      "text/html": [
       "<style>#sk-container-id-1 {color: black;}#sk-container-id-1 pre{padding: 0;}#sk-container-id-1 div.sk-toggleable {background-color: white;}#sk-container-id-1 label.sk-toggleable__label {cursor: pointer;display: block;width: 100%;margin-bottom: 0;padding: 0.3em;box-sizing: border-box;text-align: center;}#sk-container-id-1 label.sk-toggleable__label-arrow:before {content: \"▸\";float: left;margin-right: 0.25em;color: #696969;}#sk-container-id-1 label.sk-toggleable__label-arrow:hover:before {color: black;}#sk-container-id-1 div.sk-estimator:hover label.sk-toggleable__label-arrow:before {color: black;}#sk-container-id-1 div.sk-toggleable__content {max-height: 0;max-width: 0;overflow: hidden;text-align: left;background-color: #f0f8ff;}#sk-container-id-1 div.sk-toggleable__content pre {margin: 0.2em;color: black;border-radius: 0.25em;background-color: #f0f8ff;}#sk-container-id-1 input.sk-toggleable__control:checked~div.sk-toggleable__content {max-height: 200px;max-width: 100%;overflow: auto;}#sk-container-id-1 input.sk-toggleable__control:checked~label.sk-toggleable__label-arrow:before {content: \"▾\";}#sk-container-id-1 div.sk-estimator input.sk-toggleable__control:checked~label.sk-toggleable__label {background-color: #d4ebff;}#sk-container-id-1 div.sk-label input.sk-toggleable__control:checked~label.sk-toggleable__label {background-color: #d4ebff;}#sk-container-id-1 input.sk-hidden--visually {border: 0;clip: rect(1px 1px 1px 1px);clip: rect(1px, 1px, 1px, 1px);height: 1px;margin: -1px;overflow: hidden;padding: 0;position: absolute;width: 1px;}#sk-container-id-1 div.sk-estimator {font-family: monospace;background-color: #f0f8ff;border: 1px dotted black;border-radius: 0.25em;box-sizing: border-box;margin-bottom: 0.5em;}#sk-container-id-1 div.sk-estimator:hover {background-color: #d4ebff;}#sk-container-id-1 div.sk-parallel-item::after {content: \"\";width: 100%;border-bottom: 1px solid gray;flex-grow: 1;}#sk-container-id-1 div.sk-label:hover label.sk-toggleable__label {background-color: #d4ebff;}#sk-container-id-1 div.sk-serial::before {content: \"\";position: absolute;border-left: 1px solid gray;box-sizing: border-box;top: 0;bottom: 0;left: 50%;z-index: 0;}#sk-container-id-1 div.sk-serial {display: flex;flex-direction: column;align-items: center;background-color: white;padding-right: 0.2em;padding-left: 0.2em;position: relative;}#sk-container-id-1 div.sk-item {position: relative;z-index: 1;}#sk-container-id-1 div.sk-parallel {display: flex;align-items: stretch;justify-content: center;background-color: white;position: relative;}#sk-container-id-1 div.sk-item::before, #sk-container-id-1 div.sk-parallel-item::before {content: \"\";position: absolute;border-left: 1px solid gray;box-sizing: border-box;top: 0;bottom: 0;left: 50%;z-index: -1;}#sk-container-id-1 div.sk-parallel-item {display: flex;flex-direction: column;z-index: 1;position: relative;background-color: white;}#sk-container-id-1 div.sk-parallel-item:first-child::after {align-self: flex-end;width: 50%;}#sk-container-id-1 div.sk-parallel-item:last-child::after {align-self: flex-start;width: 50%;}#sk-container-id-1 div.sk-parallel-item:only-child::after {width: 0;}#sk-container-id-1 div.sk-dashed-wrapped {border: 1px dashed gray;margin: 0 0.4em 0.5em 0.4em;box-sizing: border-box;padding-bottom: 0.4em;background-color: white;}#sk-container-id-1 div.sk-label label {font-family: monospace;font-weight: bold;display: inline-block;line-height: 1.2em;}#sk-container-id-1 div.sk-label-container {text-align: center;}#sk-container-id-1 div.sk-container {/* jupyter's `normalize.less` sets `[hidden] { display: none; }` but bootstrap.min.css set `[hidden] { display: none !important; }` so we also need the `!important` here to be able to override the default hidden behavior on the sphinx rendered scikit-learn.org. See: https://github.com/scikit-learn/scikit-learn/issues/21755 */display: inline-block !important;position: relative;}#sk-container-id-1 div.sk-text-repr-fallback {display: none;}</style><div id=\"sk-container-id-1\" class=\"sk-top-container\"><div class=\"sk-text-repr-fallback\"><pre>LinearRegression()</pre><b>In a Jupyter environment, please rerun this cell to show the HTML representation or trust the notebook. <br />On GitHub, the HTML representation is unable to render, please try loading this page with nbviewer.org.</b></div><div class=\"sk-container\" hidden><div class=\"sk-item\"><div class=\"sk-estimator sk-toggleable\"><input class=\"sk-toggleable__control sk-hidden--visually\" id=\"sk-estimator-id-1\" type=\"checkbox\" checked><label for=\"sk-estimator-id-1\" class=\"sk-toggleable__label sk-toggleable__label-arrow\">LinearRegression</label><div class=\"sk-toggleable__content\"><pre>LinearRegression()</pre></div></div></div></div></div>"
      ],
      "text/plain": [
       "LinearRegression()"
      ]
     },
     "execution_count": 90,
     "metadata": {},
     "output_type": "execute_result"
    }
   ],
   "source": [
    "model =LinearRegression()\n",
    "model.fit(X_train,y_train)\n"
   ]
  },
  {
   "cell_type": "markdown",
   "id": "e8d5c39e-0f93-4cfa-bae0-489e43daca47",
   "metadata": {
    "tags": []
   },
   "source": [
    "## Evaluate"
   ]
  },
  {
   "cell_type": "code",
   "execution_count": 91,
   "id": "a652d45c-6fa1-4d16-9b58-0233e8476ecf",
   "metadata": {},
   "outputs": [
    {
     "data": {
      "text/html": [
       "\n",
       "        <iframe\n",
       "            width=\"600\"\n",
       "            height=\"300\"\n",
       "            src=\"https://player.vimeo.com/video/665412844?h=129865775d\"\n",
       "            frameborder=\"0\"\n",
       "            allowfullscreen\n",
       "            \n",
       "        ></iframe>\n",
       "        "
      ],
      "text/plain": [
       "<IPython.lib.display.VimeoVideo at 0x7f2a51854250>"
      ]
     },
     "execution_count": 91,
     "metadata": {},
     "output_type": "execute_result"
    }
   ],
   "source": [
    "VimeoVideo(\"665412844\", h=\"129865775d\", width=600)"
   ]
  },
  {
   "cell_type": "markdown",
   "id": "7002f1d5-2e9a-4b47-a632-8237b335cf08",
   "metadata": {},
   "source": [
    "**Task 3.2.17:** Calculate the training and test mean absolute error for your model.\n",
    "\n",
    "- [<span id='technique'>Generate predictions using a trained model in <span id='tool'>scikit-learn.](../%40textbook/15-ml-regression.ipynb#Generating-Predictions-Using-a-Trained-Model)\n",
    "- [<span id='technique'>Calculate the mean absolute error for a list of predictions in <span id='tool'>scikit-learn.](../%40textbook/15-ml-regression.ipynb#Calculating-the-Mean-Absolute-Error-for-a-List-of-Predictions)"
   ]
  },
  {
   "cell_type": "code",
   "execution_count": 96,
   "id": "ba3eede0-1820-4319-8a7a-3fe925f11fd3",
   "metadata": {},
   "outputs": [
    {
     "name": "stdout",
     "output_type": "stream",
     "text": [
      "Training MAE: 2.46\n",
      "Test MAE: 1.8\n"
     ]
    }
   ],
   "source": [
    "training_mae =mean_absolute_error(y_train,model.predict(X_train)) \n",
    "test_mae = mean_absolute_error(y_test,model.predict(X_test))\n",
    "print(\"Training MAE:\", round(training_mae, 2))\n",
    "print(\"Test MAE:\", round(test_mae, 2))"
   ]
  },
  {
   "cell_type": "markdown",
   "id": "211b3ffa-390b-47aa-a537-12e1bea9f1c0",
   "metadata": {},
   "source": [
    "# Communicate Results"
   ]
  },
  {
   "cell_type": "markdown",
   "id": "4e49c7c8-bea4-45b0-91e5-1b660f4fe2c6",
   "metadata": {},
   "source": [
    "**Task 3.2.18:** Extract the intercept and coefficient from your `model`. \n",
    "\n",
    "- [<span id='technique'>Access an object in a pipeline in <span id='tool'>scikit-learn](../%40textbook/13-ml-data-pre-processing-and-production.ipynb#Accessing-an-Object-in-a-Pipeline)<span style='color: transparent; font-size:1%'>WQU WorldQuant University Applied Data Science Lab QQQQ</span>"
   ]
  },
  {
   "cell_type": "code",
   "execution_count": 102,
   "id": "dba630d6-73dd-4b3f-9a47-c3eba2d2ada6",
   "metadata": {},
   "outputs": [
    {
     "name": "stdout",
     "output_type": "stream",
     "text": [
      "P2 = 3.36 + (0.64 * P2.L1)\n"
     ]
    }
   ],
   "source": [
    "intercept =model.intercept_.round(2)\n",
    "coefficient =model.coef_.round(2)[0]\n",
    "\n",
    "print(f\"P2 = {intercept} + ({coefficient} * P2.L1)\")"
   ]
  },
  {
   "cell_type": "code",
   "execution_count": 98,
   "id": "92fb0179-8a9e-4fa3-84b8-f390c7e67da9",
   "metadata": {},
   "outputs": [
    {
     "data": {
      "text/html": [
       "\n",
       "        <iframe\n",
       "            width=\"600\"\n",
       "            height=\"300\"\n",
       "            src=\"https://player.vimeo.com/video/665412870?h=318d69683e\"\n",
       "            frameborder=\"0\"\n",
       "            allowfullscreen\n",
       "            \n",
       "        ></iframe>\n",
       "        "
      ],
      "text/plain": [
       "<IPython.lib.display.VimeoVideo at 0x7f2a52696b10>"
      ]
     },
     "execution_count": 98,
     "metadata": {},
     "output_type": "execute_result"
    }
   ],
   "source": [
    "VimeoVideo(\"665412870\", h=\"318d69683e\", width=600)"
   ]
  },
  {
   "cell_type": "markdown",
   "id": "32526748-3e28-41da-bd2b-340333248a86",
   "metadata": {},
   "source": [
    "**Task 3.2.19:** Create a DataFrame `df_pred_test` that has two columns: `\"y_test\"` and `\"y_pred\"`. The first should contain the true values for your test set, and the second should contain your model's predictions. Be sure the index of `df_pred_test` matches the index of `y_test`.\n",
    "\n",
    "- [<span id='technique'>Create a DataFrame from a dictionary using <span id='tool'>pandas.](../%40textbook/03-pandas-getting-started.ipynb#Working-with-DataFrames)"
   ]
  },
  {
   "cell_type": "code",
   "execution_count": 103,
   "id": "354e3190-3635-4627-944e-8508a8576df6",
   "metadata": {},
   "outputs": [
    {
     "data": {
      "text/html": [
       "<div>\n",
       "<style scoped>\n",
       "    .dataframe tbody tr th:only-of-type {\n",
       "        vertical-align: middle;\n",
       "    }\n",
       "\n",
       "    .dataframe tbody tr th {\n",
       "        vertical-align: top;\n",
       "    }\n",
       "\n",
       "    .dataframe thead th {\n",
       "        text-align: right;\n",
       "    }\n",
       "</style>\n",
       "<table border=\"1\" class=\"dataframe\">\n",
       "  <thead>\n",
       "    <tr style=\"text-align: right;\">\n",
       "      <th></th>\n",
       "      <th>y_test</th>\n",
       "      <th>y_pred</th>\n",
       "    </tr>\n",
       "    <tr>\n",
       "      <th>timestamp</th>\n",
       "      <th></th>\n",
       "      <th></th>\n",
       "    </tr>\n",
       "  </thead>\n",
       "  <tbody>\n",
       "    <tr>\n",
       "      <th>2018-12-07 17:00:00+03:00</th>\n",
       "      <td>7.070000</td>\n",
       "      <td>8.478927</td>\n",
       "    </tr>\n",
       "    <tr>\n",
       "      <th>2018-12-07 18:00:00+03:00</th>\n",
       "      <td>8.968333</td>\n",
       "      <td>7.865485</td>\n",
       "    </tr>\n",
       "    <tr>\n",
       "      <th>2018-12-07 19:00:00+03:00</th>\n",
       "      <td>11.630833</td>\n",
       "      <td>9.076421</td>\n",
       "    </tr>\n",
       "    <tr>\n",
       "      <th>2018-12-07 20:00:00+03:00</th>\n",
       "      <td>11.525833</td>\n",
       "      <td>10.774814</td>\n",
       "    </tr>\n",
       "    <tr>\n",
       "      <th>2018-12-07 21:00:00+03:00</th>\n",
       "      <td>9.533333</td>\n",
       "      <td>10.707836</td>\n",
       "    </tr>\n",
       "  </tbody>\n",
       "</table>\n",
       "</div>"
      ],
      "text/plain": [
       "                              y_test     y_pred\n",
       "timestamp                                      \n",
       "2018-12-07 17:00:00+03:00   7.070000   8.478927\n",
       "2018-12-07 18:00:00+03:00   8.968333   7.865485\n",
       "2018-12-07 19:00:00+03:00  11.630833   9.076421\n",
       "2018-12-07 20:00:00+03:00  11.525833  10.774814\n",
       "2018-12-07 21:00:00+03:00   9.533333  10.707836"
      ]
     },
     "execution_count": 103,
     "metadata": {},
     "output_type": "execute_result"
    }
   ],
   "source": [
    "df_pred_test = pd.DataFrame(\n",
    "    {\n",
    "        \"y_test\":y_test,\n",
    "        \"y_pred\":model.predict(X_test)\n",
    "    }\n",
    ")\n",
    "df_pred_test.head()"
   ]
  },
  {
   "cell_type": "code",
   "execution_count": 104,
   "id": "c7d29ece-6025-40ed-970f-1bc4a1930c1a",
   "metadata": {},
   "outputs": [
    {
     "data": {
      "text/html": [
       "\n",
       "        <iframe\n",
       "            width=\"600\"\n",
       "            height=\"300\"\n",
       "            src=\"https://player.vimeo.com/video/665412891?h=39d7356a26\"\n",
       "            frameborder=\"0\"\n",
       "            allowfullscreen\n",
       "            \n",
       "        ></iframe>\n",
       "        "
      ],
      "text/plain": [
       "<IPython.lib.display.VimeoVideo at 0x7f2a51beb3d0>"
      ]
     },
     "execution_count": 104,
     "metadata": {},
     "output_type": "execute_result"
    }
   ],
   "source": [
    "VimeoVideo(\"665412891\", h=\"39d7356a26\", width=600)"
   ]
  },
  {
   "cell_type": "markdown",
   "id": "b1d6aa72-90e8-4d82-b4e0-112283548e2c",
   "metadata": {},
   "source": [
    "**Task 3.2.20:** Create a time series line plot for the values in `test_predictions` using plotly express. Be sure that the y-axis is properly labeled as `\"P2\"`.\n",
    "\n",
    "- [<span id='technique'>Create a line plot using <span id='tool'>plotly express.](../%40textbook/07-visualization-pandas.ipynb#Line-Plots)"
   ]
  },
  {
   "cell_type": "code",
   "execution_count": 106,
   "id": "773a9b04-70ee-4625-ac2c-b93dbf98c194",
   "metadata": {},
   "outputs": [
    {
     "data": {
      "application/vnd.plotly.v1+json": {
       "config": {
        "plotlyServerURL": "https://plot.ly"
       },
       "data": [
        {
         "hovertemplate": "variable=y_test<br>timestamp=%{x}<br>P2=%{y}<extra></extra>",
         "legendgroup": "y_test",
         "line": {
          "color": "#636efa",
          "dash": "solid"
         },
         "marker": {
          "symbol": "circle"
         },
         "mode": "lines",
         "name": "y_test",
         "showlegend": true,
         "type": "scattergl",
         "x": [
          "2018-12-07T17:00:00+03:00",
          "2018-12-07T18:00:00+03:00",
          "2018-12-07T19:00:00+03:00",
          "2018-12-07T20:00:00+03:00",
          "2018-12-07T21:00:00+03:00",
          "2018-12-07T22:00:00+03:00",
          "2018-12-07T23:00:00+03:00",
          "2018-12-08T00:00:00+03:00",
          "2018-12-08T01:00:00+03:00",
          "2018-12-08T02:00:00+03:00",
          "2018-12-08T03:00:00+03:00",
          "2018-12-08T04:00:00+03:00",
          "2018-12-08T05:00:00+03:00",
          "2018-12-08T06:00:00+03:00",
          "2018-12-08T07:00:00+03:00",
          "2018-12-08T08:00:00+03:00",
          "2018-12-08T09:00:00+03:00",
          "2018-12-08T10:00:00+03:00",
          "2018-12-08T11:00:00+03:00",
          "2018-12-08T12:00:00+03:00",
          "2018-12-08T13:00:00+03:00",
          "2018-12-08T14:00:00+03:00",
          "2018-12-08T15:00:00+03:00",
          "2018-12-08T16:00:00+03:00",
          "2018-12-08T17:00:00+03:00",
          "2018-12-08T18:00:00+03:00",
          "2018-12-08T19:00:00+03:00",
          "2018-12-08T20:00:00+03:00",
          "2018-12-08T21:00:00+03:00",
          "2018-12-08T22:00:00+03:00",
          "2018-12-08T23:00:00+03:00",
          "2018-12-09T00:00:00+03:00",
          "2018-12-09T01:00:00+03:00",
          "2018-12-09T02:00:00+03:00",
          "2018-12-09T03:00:00+03:00",
          "2018-12-09T04:00:00+03:00",
          "2018-12-09T05:00:00+03:00",
          "2018-12-09T06:00:00+03:00",
          "2018-12-09T07:00:00+03:00",
          "2018-12-09T08:00:00+03:00",
          "2018-12-09T09:00:00+03:00",
          "2018-12-09T10:00:00+03:00",
          "2018-12-09T11:00:00+03:00",
          "2018-12-09T12:00:00+03:00",
          "2018-12-09T13:00:00+03:00",
          "2018-12-09T14:00:00+03:00",
          "2018-12-09T15:00:00+03:00",
          "2018-12-09T16:00:00+03:00",
          "2018-12-09T17:00:00+03:00",
          "2018-12-09T18:00:00+03:00",
          "2018-12-09T19:00:00+03:00",
          "2018-12-09T20:00:00+03:00",
          "2018-12-09T21:00:00+03:00",
          "2018-12-09T22:00:00+03:00",
          "2018-12-09T23:00:00+03:00",
          "2018-12-10T00:00:00+03:00",
          "2018-12-10T01:00:00+03:00",
          "2018-12-10T02:00:00+03:00",
          "2018-12-10T03:00:00+03:00",
          "2018-12-10T04:00:00+03:00",
          "2018-12-10T05:00:00+03:00",
          "2018-12-10T06:00:00+03:00",
          "2018-12-10T07:00:00+03:00",
          "2018-12-10T08:00:00+03:00",
          "2018-12-10T09:00:00+03:00",
          "2018-12-10T10:00:00+03:00",
          "2018-12-10T11:00:00+03:00",
          "2018-12-10T12:00:00+03:00",
          "2018-12-10T13:00:00+03:00",
          "2018-12-10T14:00:00+03:00",
          "2018-12-10T15:00:00+03:00",
          "2018-12-10T16:00:00+03:00",
          "2018-12-10T17:00:00+03:00",
          "2018-12-10T18:00:00+03:00",
          "2018-12-10T19:00:00+03:00",
          "2018-12-10T20:00:00+03:00",
          "2018-12-10T21:00:00+03:00",
          "2018-12-10T22:00:00+03:00",
          "2018-12-10T23:00:00+03:00",
          "2018-12-11T00:00:00+03:00",
          "2018-12-11T01:00:00+03:00",
          "2018-12-11T02:00:00+03:00",
          "2018-12-11T03:00:00+03:00",
          "2018-12-11T04:00:00+03:00",
          "2018-12-11T05:00:00+03:00",
          "2018-12-11T06:00:00+03:00",
          "2018-12-11T07:00:00+03:00",
          "2018-12-11T08:00:00+03:00",
          "2018-12-11T09:00:00+03:00",
          "2018-12-11T10:00:00+03:00",
          "2018-12-11T11:00:00+03:00",
          "2018-12-11T12:00:00+03:00",
          "2018-12-11T13:00:00+03:00",
          "2018-12-11T14:00:00+03:00",
          "2018-12-11T15:00:00+03:00",
          "2018-12-11T16:00:00+03:00",
          "2018-12-11T17:00:00+03:00",
          "2018-12-11T18:00:00+03:00",
          "2018-12-11T19:00:00+03:00",
          "2018-12-11T20:00:00+03:00",
          "2018-12-11T21:00:00+03:00",
          "2018-12-11T22:00:00+03:00",
          "2018-12-11T23:00:00+03:00",
          "2018-12-12T00:00:00+03:00",
          "2018-12-12T01:00:00+03:00",
          "2018-12-12T02:00:00+03:00",
          "2018-12-12T03:00:00+03:00",
          "2018-12-12T04:00:00+03:00",
          "2018-12-12T05:00:00+03:00",
          "2018-12-12T06:00:00+03:00",
          "2018-12-12T07:00:00+03:00",
          "2018-12-12T08:00:00+03:00",
          "2018-12-12T09:00:00+03:00",
          "2018-12-12T10:00:00+03:00",
          "2018-12-12T11:00:00+03:00",
          "2018-12-12T12:00:00+03:00",
          "2018-12-12T13:00:00+03:00",
          "2018-12-12T14:00:00+03:00",
          "2018-12-12T15:00:00+03:00",
          "2018-12-12T16:00:00+03:00",
          "2018-12-12T17:00:00+03:00",
          "2018-12-12T18:00:00+03:00",
          "2018-12-12T19:00:00+03:00",
          "2018-12-12T20:00:00+03:00",
          "2018-12-12T21:00:00+03:00",
          "2018-12-12T22:00:00+03:00",
          "2018-12-12T23:00:00+03:00",
          "2018-12-13T00:00:00+03:00",
          "2018-12-13T01:00:00+03:00",
          "2018-12-13T02:00:00+03:00",
          "2018-12-13T03:00:00+03:00",
          "2018-12-13T04:00:00+03:00",
          "2018-12-13T05:00:00+03:00",
          "2018-12-13T06:00:00+03:00",
          "2018-12-13T07:00:00+03:00",
          "2018-12-13T08:00:00+03:00",
          "2018-12-13T09:00:00+03:00",
          "2018-12-13T10:00:00+03:00",
          "2018-12-13T11:00:00+03:00",
          "2018-12-13T12:00:00+03:00",
          "2018-12-13T13:00:00+03:00",
          "2018-12-13T14:00:00+03:00",
          "2018-12-13T15:00:00+03:00",
          "2018-12-13T16:00:00+03:00",
          "2018-12-13T17:00:00+03:00",
          "2018-12-13T18:00:00+03:00",
          "2018-12-13T19:00:00+03:00",
          "2018-12-13T20:00:00+03:00",
          "2018-12-13T21:00:00+03:00",
          "2018-12-13T22:00:00+03:00",
          "2018-12-13T23:00:00+03:00",
          "2018-12-14T00:00:00+03:00",
          "2018-12-14T01:00:00+03:00",
          "2018-12-14T02:00:00+03:00",
          "2018-12-14T03:00:00+03:00",
          "2018-12-14T04:00:00+03:00",
          "2018-12-14T05:00:00+03:00",
          "2018-12-14T06:00:00+03:00",
          "2018-12-14T07:00:00+03:00",
          "2018-12-14T08:00:00+03:00",
          "2018-12-14T09:00:00+03:00",
          "2018-12-14T10:00:00+03:00",
          "2018-12-14T11:00:00+03:00",
          "2018-12-14T12:00:00+03:00",
          "2018-12-14T13:00:00+03:00",
          "2018-12-14T14:00:00+03:00",
          "2018-12-14T15:00:00+03:00",
          "2018-12-14T16:00:00+03:00",
          "2018-12-14T17:00:00+03:00",
          "2018-12-14T18:00:00+03:00",
          "2018-12-14T19:00:00+03:00",
          "2018-12-14T20:00:00+03:00",
          "2018-12-14T21:00:00+03:00",
          "2018-12-14T22:00:00+03:00",
          "2018-12-14T23:00:00+03:00",
          "2018-12-15T00:00:00+03:00",
          "2018-12-15T01:00:00+03:00",
          "2018-12-15T02:00:00+03:00",
          "2018-12-15T03:00:00+03:00",
          "2018-12-15T04:00:00+03:00",
          "2018-12-15T05:00:00+03:00",
          "2018-12-15T06:00:00+03:00",
          "2018-12-15T07:00:00+03:00",
          "2018-12-15T08:00:00+03:00",
          "2018-12-15T09:00:00+03:00",
          "2018-12-15T10:00:00+03:00",
          "2018-12-15T11:00:00+03:00",
          "2018-12-15T12:00:00+03:00",
          "2018-12-15T13:00:00+03:00",
          "2018-12-15T14:00:00+03:00",
          "2018-12-15T15:00:00+03:00",
          "2018-12-15T16:00:00+03:00",
          "2018-12-15T17:00:00+03:00",
          "2018-12-15T18:00:00+03:00",
          "2018-12-15T19:00:00+03:00",
          "2018-12-15T20:00:00+03:00",
          "2018-12-15T21:00:00+03:00",
          "2018-12-15T22:00:00+03:00",
          "2018-12-15T23:00:00+03:00",
          "2018-12-16T00:00:00+03:00",
          "2018-12-16T01:00:00+03:00",
          "2018-12-16T02:00:00+03:00",
          "2018-12-16T03:00:00+03:00",
          "2018-12-16T04:00:00+03:00",
          "2018-12-16T05:00:00+03:00",
          "2018-12-16T06:00:00+03:00",
          "2018-12-16T07:00:00+03:00",
          "2018-12-16T08:00:00+03:00",
          "2018-12-16T09:00:00+03:00",
          "2018-12-16T10:00:00+03:00",
          "2018-12-16T11:00:00+03:00",
          "2018-12-16T12:00:00+03:00",
          "2018-12-16T13:00:00+03:00",
          "2018-12-16T14:00:00+03:00",
          "2018-12-16T15:00:00+03:00",
          "2018-12-16T16:00:00+03:00",
          "2018-12-16T17:00:00+03:00",
          "2018-12-16T18:00:00+03:00",
          "2018-12-16T19:00:00+03:00",
          "2018-12-16T20:00:00+03:00",
          "2018-12-16T21:00:00+03:00",
          "2018-12-16T22:00:00+03:00",
          "2018-12-16T23:00:00+03:00",
          "2018-12-17T00:00:00+03:00",
          "2018-12-17T01:00:00+03:00",
          "2018-12-17T02:00:00+03:00",
          "2018-12-17T03:00:00+03:00",
          "2018-12-17T04:00:00+03:00",
          "2018-12-17T05:00:00+03:00",
          "2018-12-17T06:00:00+03:00",
          "2018-12-17T07:00:00+03:00",
          "2018-12-17T08:00:00+03:00",
          "2018-12-17T09:00:00+03:00",
          "2018-12-17T10:00:00+03:00",
          "2018-12-17T11:00:00+03:00",
          "2018-12-17T12:00:00+03:00",
          "2018-12-17T13:00:00+03:00",
          "2018-12-17T14:00:00+03:00",
          "2018-12-17T15:00:00+03:00",
          "2018-12-17T16:00:00+03:00",
          "2018-12-17T17:00:00+03:00",
          "2018-12-17T18:00:00+03:00",
          "2018-12-17T19:00:00+03:00",
          "2018-12-17T20:00:00+03:00",
          "2018-12-17T21:00:00+03:00",
          "2018-12-17T22:00:00+03:00",
          "2018-12-17T23:00:00+03:00",
          "2018-12-18T00:00:00+03:00",
          "2018-12-18T01:00:00+03:00",
          "2018-12-18T02:00:00+03:00",
          "2018-12-18T03:00:00+03:00",
          "2018-12-18T04:00:00+03:00",
          "2018-12-18T05:00:00+03:00",
          "2018-12-18T06:00:00+03:00",
          "2018-12-18T07:00:00+03:00",
          "2018-12-18T08:00:00+03:00",
          "2018-12-18T09:00:00+03:00",
          "2018-12-18T10:00:00+03:00",
          "2018-12-18T11:00:00+03:00",
          "2018-12-18T12:00:00+03:00",
          "2018-12-18T13:00:00+03:00",
          "2018-12-18T14:00:00+03:00",
          "2018-12-18T15:00:00+03:00",
          "2018-12-18T16:00:00+03:00",
          "2018-12-18T17:00:00+03:00",
          "2018-12-18T18:00:00+03:00",
          "2018-12-18T19:00:00+03:00",
          "2018-12-18T20:00:00+03:00",
          "2018-12-18T21:00:00+03:00",
          "2018-12-18T22:00:00+03:00",
          "2018-12-18T23:00:00+03:00",
          "2018-12-19T00:00:00+03:00",
          "2018-12-19T01:00:00+03:00",
          "2018-12-19T02:00:00+03:00",
          "2018-12-19T03:00:00+03:00",
          "2018-12-19T04:00:00+03:00",
          "2018-12-19T05:00:00+03:00",
          "2018-12-19T06:00:00+03:00",
          "2018-12-19T07:00:00+03:00",
          "2018-12-19T08:00:00+03:00",
          "2018-12-19T09:00:00+03:00",
          "2018-12-19T10:00:00+03:00",
          "2018-12-19T11:00:00+03:00",
          "2018-12-19T12:00:00+03:00",
          "2018-12-19T13:00:00+03:00",
          "2018-12-19T14:00:00+03:00",
          "2018-12-19T15:00:00+03:00",
          "2018-12-19T16:00:00+03:00",
          "2018-12-19T17:00:00+03:00",
          "2018-12-19T18:00:00+03:00",
          "2018-12-19T19:00:00+03:00",
          "2018-12-19T20:00:00+03:00",
          "2018-12-19T21:00:00+03:00",
          "2018-12-19T22:00:00+03:00",
          "2018-12-19T23:00:00+03:00",
          "2018-12-20T00:00:00+03:00",
          "2018-12-20T01:00:00+03:00",
          "2018-12-20T02:00:00+03:00",
          "2018-12-20T03:00:00+03:00",
          "2018-12-20T04:00:00+03:00",
          "2018-12-20T05:00:00+03:00",
          "2018-12-20T06:00:00+03:00",
          "2018-12-20T07:00:00+03:00",
          "2018-12-20T08:00:00+03:00",
          "2018-12-20T09:00:00+03:00",
          "2018-12-20T10:00:00+03:00",
          "2018-12-20T11:00:00+03:00",
          "2018-12-20T12:00:00+03:00",
          "2018-12-20T13:00:00+03:00",
          "2018-12-20T14:00:00+03:00",
          "2018-12-20T15:00:00+03:00",
          "2018-12-20T16:00:00+03:00",
          "2018-12-20T17:00:00+03:00",
          "2018-12-20T18:00:00+03:00",
          "2018-12-20T19:00:00+03:00",
          "2018-12-20T20:00:00+03:00",
          "2018-12-20T21:00:00+03:00",
          "2018-12-20T22:00:00+03:00",
          "2018-12-20T23:00:00+03:00",
          "2018-12-21T00:00:00+03:00",
          "2018-12-21T01:00:00+03:00",
          "2018-12-21T02:00:00+03:00",
          "2018-12-21T03:00:00+03:00",
          "2018-12-21T04:00:00+03:00",
          "2018-12-21T05:00:00+03:00",
          "2018-12-21T06:00:00+03:00",
          "2018-12-21T07:00:00+03:00",
          "2018-12-21T08:00:00+03:00",
          "2018-12-21T09:00:00+03:00",
          "2018-12-21T10:00:00+03:00",
          "2018-12-21T11:00:00+03:00",
          "2018-12-21T12:00:00+03:00",
          "2018-12-21T13:00:00+03:00",
          "2018-12-21T14:00:00+03:00",
          "2018-12-21T15:00:00+03:00",
          "2018-12-21T16:00:00+03:00",
          "2018-12-21T17:00:00+03:00",
          "2018-12-21T18:00:00+03:00",
          "2018-12-21T19:00:00+03:00",
          "2018-12-21T20:00:00+03:00",
          "2018-12-21T21:00:00+03:00",
          "2018-12-21T22:00:00+03:00",
          "2018-12-21T23:00:00+03:00",
          "2018-12-22T00:00:00+03:00",
          "2018-12-22T01:00:00+03:00",
          "2018-12-22T02:00:00+03:00",
          "2018-12-22T03:00:00+03:00",
          "2018-12-22T04:00:00+03:00",
          "2018-12-22T05:00:00+03:00",
          "2018-12-22T06:00:00+03:00",
          "2018-12-22T07:00:00+03:00",
          "2018-12-22T08:00:00+03:00",
          "2018-12-22T09:00:00+03:00",
          "2018-12-22T10:00:00+03:00",
          "2018-12-22T11:00:00+03:00",
          "2018-12-22T12:00:00+03:00",
          "2018-12-22T13:00:00+03:00",
          "2018-12-22T14:00:00+03:00",
          "2018-12-22T15:00:00+03:00",
          "2018-12-22T16:00:00+03:00",
          "2018-12-22T17:00:00+03:00",
          "2018-12-22T18:00:00+03:00",
          "2018-12-22T19:00:00+03:00",
          "2018-12-22T20:00:00+03:00",
          "2018-12-22T21:00:00+03:00",
          "2018-12-22T22:00:00+03:00",
          "2018-12-22T23:00:00+03:00",
          "2018-12-23T00:00:00+03:00",
          "2018-12-23T01:00:00+03:00",
          "2018-12-23T02:00:00+03:00",
          "2018-12-23T03:00:00+03:00",
          "2018-12-23T04:00:00+03:00",
          "2018-12-23T05:00:00+03:00",
          "2018-12-23T06:00:00+03:00",
          "2018-12-23T07:00:00+03:00",
          "2018-12-23T08:00:00+03:00",
          "2018-12-23T09:00:00+03:00",
          "2018-12-23T10:00:00+03:00",
          "2018-12-23T11:00:00+03:00",
          "2018-12-23T12:00:00+03:00",
          "2018-12-23T13:00:00+03:00",
          "2018-12-23T14:00:00+03:00",
          "2018-12-23T15:00:00+03:00",
          "2018-12-23T16:00:00+03:00",
          "2018-12-23T17:00:00+03:00",
          "2018-12-23T18:00:00+03:00",
          "2018-12-23T19:00:00+03:00",
          "2018-12-23T20:00:00+03:00",
          "2018-12-23T21:00:00+03:00",
          "2018-12-23T22:00:00+03:00",
          "2018-12-23T23:00:00+03:00",
          "2018-12-24T00:00:00+03:00",
          "2018-12-24T01:00:00+03:00",
          "2018-12-24T02:00:00+03:00",
          "2018-12-24T03:00:00+03:00",
          "2018-12-24T04:00:00+03:00",
          "2018-12-24T05:00:00+03:00",
          "2018-12-24T06:00:00+03:00",
          "2018-12-24T07:00:00+03:00",
          "2018-12-24T08:00:00+03:00",
          "2018-12-24T09:00:00+03:00",
          "2018-12-24T10:00:00+03:00",
          "2018-12-24T11:00:00+03:00",
          "2018-12-24T12:00:00+03:00",
          "2018-12-24T13:00:00+03:00",
          "2018-12-24T14:00:00+03:00",
          "2018-12-24T15:00:00+03:00",
          "2018-12-24T16:00:00+03:00",
          "2018-12-24T17:00:00+03:00",
          "2018-12-24T18:00:00+03:00",
          "2018-12-24T19:00:00+03:00",
          "2018-12-24T20:00:00+03:00",
          "2018-12-24T21:00:00+03:00",
          "2018-12-24T22:00:00+03:00",
          "2018-12-24T23:00:00+03:00",
          "2018-12-25T00:00:00+03:00",
          "2018-12-25T01:00:00+03:00",
          "2018-12-25T02:00:00+03:00",
          "2018-12-25T03:00:00+03:00",
          "2018-12-25T04:00:00+03:00",
          "2018-12-25T05:00:00+03:00",
          "2018-12-25T06:00:00+03:00",
          "2018-12-25T07:00:00+03:00",
          "2018-12-25T08:00:00+03:00",
          "2018-12-25T09:00:00+03:00",
          "2018-12-25T10:00:00+03:00",
          "2018-12-25T11:00:00+03:00",
          "2018-12-25T12:00:00+03:00",
          "2018-12-25T13:00:00+03:00",
          "2018-12-25T14:00:00+03:00",
          "2018-12-25T15:00:00+03:00",
          "2018-12-25T16:00:00+03:00",
          "2018-12-25T17:00:00+03:00",
          "2018-12-25T18:00:00+03:00",
          "2018-12-25T19:00:00+03:00",
          "2018-12-25T20:00:00+03:00",
          "2018-12-25T21:00:00+03:00",
          "2018-12-25T22:00:00+03:00",
          "2018-12-25T23:00:00+03:00",
          "2018-12-26T00:00:00+03:00",
          "2018-12-26T01:00:00+03:00",
          "2018-12-26T02:00:00+03:00",
          "2018-12-26T03:00:00+03:00",
          "2018-12-26T04:00:00+03:00",
          "2018-12-26T05:00:00+03:00",
          "2018-12-26T06:00:00+03:00",
          "2018-12-26T07:00:00+03:00",
          "2018-12-26T08:00:00+03:00",
          "2018-12-26T09:00:00+03:00",
          "2018-12-26T10:00:00+03:00",
          "2018-12-26T11:00:00+03:00",
          "2018-12-26T12:00:00+03:00",
          "2018-12-26T13:00:00+03:00",
          "2018-12-26T14:00:00+03:00",
          "2018-12-26T15:00:00+03:00",
          "2018-12-26T16:00:00+03:00",
          "2018-12-26T17:00:00+03:00",
          "2018-12-26T18:00:00+03:00",
          "2018-12-26T19:00:00+03:00",
          "2018-12-26T20:00:00+03:00",
          "2018-12-26T21:00:00+03:00",
          "2018-12-26T22:00:00+03:00",
          "2018-12-26T23:00:00+03:00",
          "2018-12-27T00:00:00+03:00",
          "2018-12-27T01:00:00+03:00",
          "2018-12-27T02:00:00+03:00",
          "2018-12-27T03:00:00+03:00",
          "2018-12-27T04:00:00+03:00",
          "2018-12-27T05:00:00+03:00",
          "2018-12-27T06:00:00+03:00",
          "2018-12-27T07:00:00+03:00",
          "2018-12-27T08:00:00+03:00",
          "2018-12-27T09:00:00+03:00",
          "2018-12-27T10:00:00+03:00",
          "2018-12-27T11:00:00+03:00",
          "2018-12-27T12:00:00+03:00",
          "2018-12-27T13:00:00+03:00",
          "2018-12-27T14:00:00+03:00",
          "2018-12-27T15:00:00+03:00",
          "2018-12-27T16:00:00+03:00",
          "2018-12-27T17:00:00+03:00",
          "2018-12-27T18:00:00+03:00",
          "2018-12-27T19:00:00+03:00",
          "2018-12-27T20:00:00+03:00",
          "2018-12-27T21:00:00+03:00",
          "2018-12-27T22:00:00+03:00",
          "2018-12-27T23:00:00+03:00",
          "2018-12-28T00:00:00+03:00",
          "2018-12-28T01:00:00+03:00",
          "2018-12-28T02:00:00+03:00",
          "2018-12-28T03:00:00+03:00",
          "2018-12-28T04:00:00+03:00",
          "2018-12-28T05:00:00+03:00",
          "2018-12-28T06:00:00+03:00",
          "2018-12-28T07:00:00+03:00",
          "2018-12-28T08:00:00+03:00",
          "2018-12-28T09:00:00+03:00",
          "2018-12-28T10:00:00+03:00",
          "2018-12-28T11:00:00+03:00",
          "2018-12-28T12:00:00+03:00",
          "2018-12-28T13:00:00+03:00",
          "2018-12-28T14:00:00+03:00",
          "2018-12-28T15:00:00+03:00",
          "2018-12-28T16:00:00+03:00",
          "2018-12-28T17:00:00+03:00",
          "2018-12-28T18:00:00+03:00",
          "2018-12-28T19:00:00+03:00",
          "2018-12-28T20:00:00+03:00",
          "2018-12-28T21:00:00+03:00",
          "2018-12-28T22:00:00+03:00",
          "2018-12-28T23:00:00+03:00",
          "2018-12-29T00:00:00+03:00",
          "2018-12-29T01:00:00+03:00",
          "2018-12-29T02:00:00+03:00",
          "2018-12-29T03:00:00+03:00",
          "2018-12-29T04:00:00+03:00",
          "2018-12-29T05:00:00+03:00",
          "2018-12-29T06:00:00+03:00",
          "2018-12-29T07:00:00+03:00",
          "2018-12-29T08:00:00+03:00",
          "2018-12-29T09:00:00+03:00",
          "2018-12-29T10:00:00+03:00",
          "2018-12-29T11:00:00+03:00",
          "2018-12-29T12:00:00+03:00",
          "2018-12-29T13:00:00+03:00",
          "2018-12-29T14:00:00+03:00",
          "2018-12-29T15:00:00+03:00",
          "2018-12-29T16:00:00+03:00",
          "2018-12-29T17:00:00+03:00",
          "2018-12-29T18:00:00+03:00",
          "2018-12-29T19:00:00+03:00",
          "2018-12-29T20:00:00+03:00",
          "2018-12-29T21:00:00+03:00",
          "2018-12-29T22:00:00+03:00",
          "2018-12-29T23:00:00+03:00",
          "2018-12-30T00:00:00+03:00",
          "2018-12-30T01:00:00+03:00",
          "2018-12-30T02:00:00+03:00",
          "2018-12-30T03:00:00+03:00",
          "2018-12-30T04:00:00+03:00",
          "2018-12-30T05:00:00+03:00",
          "2018-12-30T06:00:00+03:00",
          "2018-12-30T07:00:00+03:00",
          "2018-12-30T08:00:00+03:00",
          "2018-12-30T09:00:00+03:00",
          "2018-12-30T10:00:00+03:00",
          "2018-12-30T11:00:00+03:00",
          "2018-12-30T12:00:00+03:00",
          "2018-12-30T13:00:00+03:00",
          "2018-12-30T14:00:00+03:00",
          "2018-12-30T15:00:00+03:00",
          "2018-12-30T16:00:00+03:00",
          "2018-12-30T17:00:00+03:00",
          "2018-12-30T18:00:00+03:00",
          "2018-12-30T19:00:00+03:00",
          "2018-12-30T20:00:00+03:00",
          "2018-12-30T21:00:00+03:00",
          "2018-12-30T22:00:00+03:00",
          "2018-12-30T23:00:00+03:00",
          "2018-12-31T00:00:00+03:00",
          "2018-12-31T01:00:00+03:00",
          "2018-12-31T02:00:00+03:00",
          "2018-12-31T03:00:00+03:00",
          "2018-12-31T04:00:00+03:00",
          "2018-12-31T05:00:00+03:00",
          "2018-12-31T06:00:00+03:00",
          "2018-12-31T07:00:00+03:00",
          "2018-12-31T08:00:00+03:00",
          "2018-12-31T09:00:00+03:00",
          "2018-12-31T10:00:00+03:00",
          "2018-12-31T11:00:00+03:00",
          "2018-12-31T12:00:00+03:00",
          "2018-12-31T13:00:00+03:00",
          "2018-12-31T14:00:00+03:00",
          "2018-12-31T15:00:00+03:00",
          "2018-12-31T16:00:00+03:00",
          "2018-12-31T17:00:00+03:00",
          "2018-12-31T18:00:00+03:00",
          "2018-12-31T19:00:00+03:00",
          "2018-12-31T20:00:00+03:00",
          "2018-12-31T21:00:00+03:00",
          "2018-12-31T22:00:00+03:00",
          "2018-12-31T23:00:00+03:00",
          "2019-01-01T00:00:00+03:00",
          "2019-01-01T01:00:00+03:00",
          "2019-01-01T02:00:00+03:00"
         ],
         "xaxis": "x",
         "y": [
          7.07,
          8.968333333333334,
          11.630833333333333,
          11.525833333333333,
          9.533333333333333,
          8.698333333333332,
          9.004166666666666,
          8.071818181818182,
          7.706666666666667,
          6.365833333333334,
          6.101666666666667,
          6.618333333333333,
          9.215833333333334,
          4.729166666666667,
          4.8950000000000005,
          10.1325,
          2.9975,
          1.9483333333333333,
          2.3766666666666665,
          2.953076923076923,
          5.3116666666666665,
          8.350833333333332,
          7.241666666666667,
          5.495,
          5.420833333333333,
          7.085,
          11.169166666666667,
          11.206666666666665,
          10.695,
          11.229166666666666,
          11.554166666666667,
          9.387500000000001,
          8.245833333333334,
          7.553333333333334,
          7.4375,
          7.928333333333334,
          8.94,
          9.913333333333332,
          9.393333333333333,
          11.799166666666666,
          7.387499999999999,
          6.979166666666667,
          8.3925,
          17.164166666666667,
          7.736666666666667,
          8.245833333333334,
          7.430833333333333,
          14.560833333333333,
          8.015,
          10.534166666666666,
          12.904166666666667,
          12.546666666666667,
          8.148333333333333,
          11.276666666666666,
          9.091666666666667,
          8.826666666666666,
          8.2925,
          7.889166666666667,
          9.220833333333333,
          13.128333333333332,
          10.854166666666666,
          20.6325,
          18.3025,
          18.018,
          10.0875,
          3.1958333333333333,
          3.7758333333333334,
          4.995,
          5.9125000000000005,
          6.53,
          7.659166666666667,
          5.760000000000001,
          8.205,
          30.2775,
          34.612500000000004,
          30.35,
          24.883333333333336,
          17.936666666666667,
          5.029090909090909,
          4.8475,
          3.8533333333333335,
          3.3524999999999996,
          2.129166666666667,
          1.7316666666666667,
          1.7866666666666668,
          3.0672727272727274,
          3.685,
          3.3818181818181823,
          5.3275,
          5.007499999999999,
          2.63,
          1.795,
          2.142857142857143,
          1.9088888888888889,
          1.7366666666666666,
          1.7725,
          2.9175,
          6.326666666666667,
          11.779166666666667,
          17.856666666666666,
          20.639166666666668,
          17.1875,
          17.848181818181818,
          19.79,
          24.04,
          18.950833333333332,
          12.559166666666668,
          7.220833333333332,
          10.424999999999999,
          10.374166666666666,
          8.748333333333333,
          4.179166666666666,
          8.244166666666667,
          12.140833333333333,
          8.801666666666668,
          8.851666666666667,
          9.033333333333333,
          7.819166666666667,
          7.629090909090909,
          7.673636363636363,
          7.868333333333333,
          10.001666666666667,
          24.602500000000003,
          12.412,
          18.826666666666664,
          9.299999999999999,
          10.439166666666667,
          11.4125,
          9.0175,
          9.854166666666666,
          9.180000000000001,
          8.926666666666668,
          7.8500000000000005,
          14.860833333333334,
          18.018333333333334,
          15.29090909090909,
          14.712499999999999,
          10.468333333333334,
          7.3758333333333335,
          5.979090909090909,
          4.319166666666667,
          3.765833333333333,
          2.6991666666666667,
          3.8991666666666664,
          4.2749999999999995,
          5.593333333333334,
          10.7025,
          10.8775,
          9.15,
          7.651666666666666,
          7.9191666666666665,
          8.766666666666667,
          9.713,
          3.2899999999999996,
          2.6933333333333334,
          2.7408333333333332,
          2.3233333333333333,
          2.4533333333333336,
          2.468461538461538,
          3.4591666666666665,
          4.459090909090909,
          11.055,
          4.615,
          12.433333333333332,
          4.554166666666666,
          4.349166666666666,
          4.8966666666666665,
          6.004166666666666,
          5.030833333333334,
          6.295000000000001,
          13.245833333333332,
          14.500833333333333,
          8.701666666666666,
          13.718181818181819,
          8.558333333333334,
          6.654166666666666,
          5.836666666666666,
          6.076666666666667,
          5.429166666666667,
          5.726666666666667,
          3.654166666666667,
          4.380833333333333,
          6.204545454545454,
          6.975833333333333,
          9.61,
          11.96,
          9.292727272727273,
          9.510909090909092,
          5.933333333333334,
          5.877777777777777,
          5.335454545454545,
          12.603636363636365,
          7.0775,
          9.3025,
          7.331818181818182,
          8.713333333333333,
          9.535833333333334,
          9.789166666666667,
          8.958333333333334,
          8.666666666666666,
          8.694166666666666,
          15.842500000000001,
          8.908333333333333,
          6.898333333333333,
          6.805833333333333,
          8.3475,
          8.236666666666666,
          17.984,
          7.235833333333333,
          13.3375,
          6.550833333333333,
          3.97,
          5.090833333333333,
          5.755454545454546,
          13.011666666666668,
          14.85,
          5.792727272727273,
          6.077500000000001,
          8.671818181818182,
          8.554166666666667,
          9.1175,
          7.427499999999999,
          7.734999999999999,
          8.089166666666666,
          7.5375000000000005,
          6.5625,
          6.392499999999999,
          6.745,
          8.521666666666667,
          10.1575,
          9.685,
          7.3725,
          6.191666666666666,
          7.876666666666666,
          8.509166666666667,
          9.501666666666667,
          8.125833333333334,
          10.359166666666667,
          10.918333333333335,
          11.498333333333333,
          10.105,
          12.251666666666667,
          17.846923076923076,
          19.63,
          13.202307692307691,
          9.601666666666667,
          9.454166666666667,
          7.570833333333333,
          7.538333333333333,
          7.4363636363636365,
          8.6225,
          9.006923076923076,
          10.195833333333333,
          10.208181818181819,
          9.41,
          8.645833333333334,
          9.610000000000001,
          13.601666666666667,
          11.746666666666668,
          12.170833333333334,
          12.2025,
          10.066666666666666,
          8.991666666666667,
          8.3675,
          8.981666666666667,
          11.6975,
          10.625,
          11.692857142857141,
          9.724615384615385,
          10.009166666666667,
          9.881666666666666,
          9.893333333333333,
          9.1425,
          9.155,
          9.818333333333333,
          9.321666666666667,
          8.868333333333334,
          9.424166666666666,
          10.228333333333333,
          9.375833333333334,
          8.041818181818183,
          8.530833333333334,
          8.696666666666667,
          9.734166666666667,
          13.8125,
          9.873333333333333,
          12.036666666666667,
          11.580833333333333,
          15.615,
          16.289166666666667,
          10.245,
          9.995833333333334,
          10.660833333333334,
          17.31416666666667,
          17.059166666666666,
          14.264166666666666,
          11.06,
          9.678333333333333,
          7.766666666666667,
          8.11,
          9.126666666666667,
          11.146666666666667,
          11.251666666666667,
          10.275,
          9.190833333333332,
          10.8525,
          9.1325,
          9.136666666666667,
          9.543333333333335,
          9.183333333333334,
          9.65,
          8.15,
          8.003333333333334,
          6.944166666666667,
          10.636666666666667,
          10.1175,
          10.925833333333335,
          13.299999999999999,
          12.018333333333333,
          10.005833333333333,
          9.856666666666667,
          9.036666666666667,
          8.878333333333334,
          9.386666666666667,
          10.183333333333334,
          12.059166666666668,
          11.57,
          9.030833333333334,
          8.591666666666667,
          7.8675,
          9.370833333333334,
          8.569166666666666,
          8.783333333333333,
          8.754166666666666,
          7.9750000000000005,
          8.18,
          8.075833333333334,
          7.56,
          10,
          10.688333333333333,
          9.591666666666667,
          9.606923076923078,
          7.849166666666666,
          7.1225,
          7.278333333333333,
          5.985833333333333,
          6.031666666666666,
          7.151666666666667,
          7.984166666666667,
          8.165000000000001,
          14.9475,
          11.824166666666665,
          9.3225,
          7.985833333333333,
          10.329166666666667,
          11.085833333333333,
          10.375,
          8.840833333333334,
          7.104166666666667,
          7.5008333333333335,
          8.385,
          7.64,
          7.64,
          7.64,
          8.506666666666666,
          10.68,
          10.68,
          8.21125,
          8.430909090909092,
          8.301666666666668,
          7.680833333333333,
          7.385000000000001,
          7.543846153846153,
          8.558333333333334,
          8.7875,
          7.328333333333333,
          7.413333333333333,
          7.194166666666667,
          7.105833333333333,
          6.524166666666667,
          6.6066666666666665,
          6.172499999999999,
          5.886666666666667,
          4.941818181818181,
          4.8549999999999995,
          7.575,
          7.8933333333333335,
          7.859166666666667,
          7.973333333333334,
          7.22,
          6.566666666666666,
          5.850909090909091,
          4.83909090909091,
          4.635,
          4.746923076923077,
          4.8625,
          5.310833333333334,
          6.291666666666667,
          6.035833333333334,
          5.173333333333333,
          5.75,
          6.300833333333333,
          6.821666666666666,
          7.694166666666667,
          7.9325,
          7.859166666666667,
          8.229166666666666,
          9.481666666666667,
          9.246666666666668,
          9.430833333333334,
          9.96,
          13.725833333333334,
          14.8525,
          9.584999999999999,
          7.361666666666667,
          9.349166666666667,
          6.6875,
          7.1433333333333335,
          6.19,
          6.948333333333333,
          6.626666666666666,
          7.359166666666667,
          8.37,
          8.708333333333334,
          7.259166666666666,
          6.611666666666667,
          5.719166666666666,
          6.627692307692308,
          7.458333333333333,
          6.823333333333333,
          6.7825,
          5.638333333333333,
          5.946666666666666,
          7.3374999999999995,
          8.060833333333333,
          7.133333333333333,
          7.126666666666666,
          5.7441666666666675,
          6.422727272727273,
          5.679090909090909,
          5.3625,
          4.786666666666666,
          4.956666666666667,
          5.055833333333333,
          6.649166666666666,
          9.023076923076923,
          12.549999999999999,
          12.660000000000002,
          7.8875,
          7.891666666666667,
          7.315833333333334,
          6.871666666666666,
          7.678333333333334,
          8.410833333333334,
          8.0675,
          7.591666666666666,
          8.046666666666667,
          9.750833333333334,
          10.7875,
          12.111666666666666,
          11.222499999999998,
          11.319166666666668,
          11.920833333333334,
          11.211666666666666,
          10.700000000000001,
          10.860833333333334,
          10.734166666666667,
          11.626666666666667,
          14.8075,
          16.232499999999998,
          13.711666666666666,
          13.253333333333332,
          11.1075,
          9.843333333333334,
          8.756666666666666,
          6.6827272727272735,
          5.564166666666666,
          5.940833333333334,
          6.248333333333334,
          5.610833333333333,
          5.36,
          6.805,
          7.7491666666666665,
          7.6883333333333335,
          7.9575000000000005,
          8.355833333333333,
          7.927499999999999,
          7.077500000000001,
          6.189166666666666,
          5.964166666666666,
          5.290833333333333,
          5.249230769230769,
          5.539166666666667,
          7.700833333333333,
          6.321666666666666,
          5.31,
          5.590833333333333,
          9.894545454545455,
          8.965,
          6.790909090909091,
          4.291666666666667,
          3.7733333333333334,
          3.8183333333333334,
          2.4125,
          2.7283333333333335,
          4.4366666666666665,
          7.18,
          5.463333333333334,
          6.325833333333333,
          6.043333333333333,
          6.139166666666667,
          6.895,
          5.803333333333334,
          4.690833333333333,
          4.31,
          4.380833333333333,
          4.5441666666666665,
          4.725833333333333,
          8.7225,
          9.244166666666667,
          6.950833333333333,
          5.716666666666666,
          6.649166666666667,
          5.304545454545455,
          4.0475,
          3.279166666666667,
          3.1683333333333334,
          4.786666666666666,
          3.6775,
          5.6675,
          9.015833333333333,
          11.7675,
          5.255,
          3.751666666666667,
          5.39,
          5.245,
          3.7716666666666665,
          2.9,
          4.3133333333333335,
          4.815833333333333,
          4.783333333333333,
          8.78,
          12.159166666666666,
          6.246666666666666,
          6.7681818181818185,
          4.42,
          4.523333333333333,
          4.723333333333334,
          3.7883333333333336,
          3.5124999999999997,
          2.705,
          2.9791666666666665,
          3.56,
          5.141666666666667,
          8.37,
          7.223333333333334,
          5.802499999999999,
          6.460833333333333,
          9.676666666666668,
          4.254166666666666,
          4.1475,
          3.5191666666666666,
          5.368333333333333,
          5.2700000000000005,
          5.809166666666667,
          6.935,
          7.97,
          9.533333333333333,
          9.635,
          8.9625,
          5.713333333333334,
          5.913333333333334,
          5.800833333333333,
          5.44,
          4.477,
          5.445454545454545,
          4.4871428571428575,
          7.290909090909091,
          9.476666666666667,
          10.4025,
          9.150833333333333,
          7.060833333333334,
          7.854166666666667,
          9.755833333333333,
          12.665,
          18.803333333333335
         ],
         "yaxis": "y"
        },
        {
         "hovertemplate": "variable=y_pred<br>timestamp=%{x}<br>P2=%{y}<extra></extra>",
         "legendgroup": "y_pred",
         "line": {
          "color": "#EF553B",
          "dash": "solid"
         },
         "marker": {
          "symbol": "circle"
         },
         "mode": "lines",
         "name": "y_pred",
         "showlegend": true,
         "type": "scattergl",
         "x": [
          "2018-12-07T17:00:00+03:00",
          "2018-12-07T18:00:00+03:00",
          "2018-12-07T19:00:00+03:00",
          "2018-12-07T20:00:00+03:00",
          "2018-12-07T21:00:00+03:00",
          "2018-12-07T22:00:00+03:00",
          "2018-12-07T23:00:00+03:00",
          "2018-12-08T00:00:00+03:00",
          "2018-12-08T01:00:00+03:00",
          "2018-12-08T02:00:00+03:00",
          "2018-12-08T03:00:00+03:00",
          "2018-12-08T04:00:00+03:00",
          "2018-12-08T05:00:00+03:00",
          "2018-12-08T06:00:00+03:00",
          "2018-12-08T07:00:00+03:00",
          "2018-12-08T08:00:00+03:00",
          "2018-12-08T09:00:00+03:00",
          "2018-12-08T10:00:00+03:00",
          "2018-12-08T11:00:00+03:00",
          "2018-12-08T12:00:00+03:00",
          "2018-12-08T13:00:00+03:00",
          "2018-12-08T14:00:00+03:00",
          "2018-12-08T15:00:00+03:00",
          "2018-12-08T16:00:00+03:00",
          "2018-12-08T17:00:00+03:00",
          "2018-12-08T18:00:00+03:00",
          "2018-12-08T19:00:00+03:00",
          "2018-12-08T20:00:00+03:00",
          "2018-12-08T21:00:00+03:00",
          "2018-12-08T22:00:00+03:00",
          "2018-12-08T23:00:00+03:00",
          "2018-12-09T00:00:00+03:00",
          "2018-12-09T01:00:00+03:00",
          "2018-12-09T02:00:00+03:00",
          "2018-12-09T03:00:00+03:00",
          "2018-12-09T04:00:00+03:00",
          "2018-12-09T05:00:00+03:00",
          "2018-12-09T06:00:00+03:00",
          "2018-12-09T07:00:00+03:00",
          "2018-12-09T08:00:00+03:00",
          "2018-12-09T09:00:00+03:00",
          "2018-12-09T10:00:00+03:00",
          "2018-12-09T11:00:00+03:00",
          "2018-12-09T12:00:00+03:00",
          "2018-12-09T13:00:00+03:00",
          "2018-12-09T14:00:00+03:00",
          "2018-12-09T15:00:00+03:00",
          "2018-12-09T16:00:00+03:00",
          "2018-12-09T17:00:00+03:00",
          "2018-12-09T18:00:00+03:00",
          "2018-12-09T19:00:00+03:00",
          "2018-12-09T20:00:00+03:00",
          "2018-12-09T21:00:00+03:00",
          "2018-12-09T22:00:00+03:00",
          "2018-12-09T23:00:00+03:00",
          "2018-12-10T00:00:00+03:00",
          "2018-12-10T01:00:00+03:00",
          "2018-12-10T02:00:00+03:00",
          "2018-12-10T03:00:00+03:00",
          "2018-12-10T04:00:00+03:00",
          "2018-12-10T05:00:00+03:00",
          "2018-12-10T06:00:00+03:00",
          "2018-12-10T07:00:00+03:00",
          "2018-12-10T08:00:00+03:00",
          "2018-12-10T09:00:00+03:00",
          "2018-12-10T10:00:00+03:00",
          "2018-12-10T11:00:00+03:00",
          "2018-12-10T12:00:00+03:00",
          "2018-12-10T13:00:00+03:00",
          "2018-12-10T14:00:00+03:00",
          "2018-12-10T15:00:00+03:00",
          "2018-12-10T16:00:00+03:00",
          "2018-12-10T17:00:00+03:00",
          "2018-12-10T18:00:00+03:00",
          "2018-12-10T19:00:00+03:00",
          "2018-12-10T20:00:00+03:00",
          "2018-12-10T21:00:00+03:00",
          "2018-12-10T22:00:00+03:00",
          "2018-12-10T23:00:00+03:00",
          "2018-12-11T00:00:00+03:00",
          "2018-12-11T01:00:00+03:00",
          "2018-12-11T02:00:00+03:00",
          "2018-12-11T03:00:00+03:00",
          "2018-12-11T04:00:00+03:00",
          "2018-12-11T05:00:00+03:00",
          "2018-12-11T06:00:00+03:00",
          "2018-12-11T07:00:00+03:00",
          "2018-12-11T08:00:00+03:00",
          "2018-12-11T09:00:00+03:00",
          "2018-12-11T10:00:00+03:00",
          "2018-12-11T11:00:00+03:00",
          "2018-12-11T12:00:00+03:00",
          "2018-12-11T13:00:00+03:00",
          "2018-12-11T14:00:00+03:00",
          "2018-12-11T15:00:00+03:00",
          "2018-12-11T16:00:00+03:00",
          "2018-12-11T17:00:00+03:00",
          "2018-12-11T18:00:00+03:00",
          "2018-12-11T19:00:00+03:00",
          "2018-12-11T20:00:00+03:00",
          "2018-12-11T21:00:00+03:00",
          "2018-12-11T22:00:00+03:00",
          "2018-12-11T23:00:00+03:00",
          "2018-12-12T00:00:00+03:00",
          "2018-12-12T01:00:00+03:00",
          "2018-12-12T02:00:00+03:00",
          "2018-12-12T03:00:00+03:00",
          "2018-12-12T04:00:00+03:00",
          "2018-12-12T05:00:00+03:00",
          "2018-12-12T06:00:00+03:00",
          "2018-12-12T07:00:00+03:00",
          "2018-12-12T08:00:00+03:00",
          "2018-12-12T09:00:00+03:00",
          "2018-12-12T10:00:00+03:00",
          "2018-12-12T11:00:00+03:00",
          "2018-12-12T12:00:00+03:00",
          "2018-12-12T13:00:00+03:00",
          "2018-12-12T14:00:00+03:00",
          "2018-12-12T15:00:00+03:00",
          "2018-12-12T16:00:00+03:00",
          "2018-12-12T17:00:00+03:00",
          "2018-12-12T18:00:00+03:00",
          "2018-12-12T19:00:00+03:00",
          "2018-12-12T20:00:00+03:00",
          "2018-12-12T21:00:00+03:00",
          "2018-12-12T22:00:00+03:00",
          "2018-12-12T23:00:00+03:00",
          "2018-12-13T00:00:00+03:00",
          "2018-12-13T01:00:00+03:00",
          "2018-12-13T02:00:00+03:00",
          "2018-12-13T03:00:00+03:00",
          "2018-12-13T04:00:00+03:00",
          "2018-12-13T05:00:00+03:00",
          "2018-12-13T06:00:00+03:00",
          "2018-12-13T07:00:00+03:00",
          "2018-12-13T08:00:00+03:00",
          "2018-12-13T09:00:00+03:00",
          "2018-12-13T10:00:00+03:00",
          "2018-12-13T11:00:00+03:00",
          "2018-12-13T12:00:00+03:00",
          "2018-12-13T13:00:00+03:00",
          "2018-12-13T14:00:00+03:00",
          "2018-12-13T15:00:00+03:00",
          "2018-12-13T16:00:00+03:00",
          "2018-12-13T17:00:00+03:00",
          "2018-12-13T18:00:00+03:00",
          "2018-12-13T19:00:00+03:00",
          "2018-12-13T20:00:00+03:00",
          "2018-12-13T21:00:00+03:00",
          "2018-12-13T22:00:00+03:00",
          "2018-12-13T23:00:00+03:00",
          "2018-12-14T00:00:00+03:00",
          "2018-12-14T01:00:00+03:00",
          "2018-12-14T02:00:00+03:00",
          "2018-12-14T03:00:00+03:00",
          "2018-12-14T04:00:00+03:00",
          "2018-12-14T05:00:00+03:00",
          "2018-12-14T06:00:00+03:00",
          "2018-12-14T07:00:00+03:00",
          "2018-12-14T08:00:00+03:00",
          "2018-12-14T09:00:00+03:00",
          "2018-12-14T10:00:00+03:00",
          "2018-12-14T11:00:00+03:00",
          "2018-12-14T12:00:00+03:00",
          "2018-12-14T13:00:00+03:00",
          "2018-12-14T14:00:00+03:00",
          "2018-12-14T15:00:00+03:00",
          "2018-12-14T16:00:00+03:00",
          "2018-12-14T17:00:00+03:00",
          "2018-12-14T18:00:00+03:00",
          "2018-12-14T19:00:00+03:00",
          "2018-12-14T20:00:00+03:00",
          "2018-12-14T21:00:00+03:00",
          "2018-12-14T22:00:00+03:00",
          "2018-12-14T23:00:00+03:00",
          "2018-12-15T00:00:00+03:00",
          "2018-12-15T01:00:00+03:00",
          "2018-12-15T02:00:00+03:00",
          "2018-12-15T03:00:00+03:00",
          "2018-12-15T04:00:00+03:00",
          "2018-12-15T05:00:00+03:00",
          "2018-12-15T06:00:00+03:00",
          "2018-12-15T07:00:00+03:00",
          "2018-12-15T08:00:00+03:00",
          "2018-12-15T09:00:00+03:00",
          "2018-12-15T10:00:00+03:00",
          "2018-12-15T11:00:00+03:00",
          "2018-12-15T12:00:00+03:00",
          "2018-12-15T13:00:00+03:00",
          "2018-12-15T14:00:00+03:00",
          "2018-12-15T15:00:00+03:00",
          "2018-12-15T16:00:00+03:00",
          "2018-12-15T17:00:00+03:00",
          "2018-12-15T18:00:00+03:00",
          "2018-12-15T19:00:00+03:00",
          "2018-12-15T20:00:00+03:00",
          "2018-12-15T21:00:00+03:00",
          "2018-12-15T22:00:00+03:00",
          "2018-12-15T23:00:00+03:00",
          "2018-12-16T00:00:00+03:00",
          "2018-12-16T01:00:00+03:00",
          "2018-12-16T02:00:00+03:00",
          "2018-12-16T03:00:00+03:00",
          "2018-12-16T04:00:00+03:00",
          "2018-12-16T05:00:00+03:00",
          "2018-12-16T06:00:00+03:00",
          "2018-12-16T07:00:00+03:00",
          "2018-12-16T08:00:00+03:00",
          "2018-12-16T09:00:00+03:00",
          "2018-12-16T10:00:00+03:00",
          "2018-12-16T11:00:00+03:00",
          "2018-12-16T12:00:00+03:00",
          "2018-12-16T13:00:00+03:00",
          "2018-12-16T14:00:00+03:00",
          "2018-12-16T15:00:00+03:00",
          "2018-12-16T16:00:00+03:00",
          "2018-12-16T17:00:00+03:00",
          "2018-12-16T18:00:00+03:00",
          "2018-12-16T19:00:00+03:00",
          "2018-12-16T20:00:00+03:00",
          "2018-12-16T21:00:00+03:00",
          "2018-12-16T22:00:00+03:00",
          "2018-12-16T23:00:00+03:00",
          "2018-12-17T00:00:00+03:00",
          "2018-12-17T01:00:00+03:00",
          "2018-12-17T02:00:00+03:00",
          "2018-12-17T03:00:00+03:00",
          "2018-12-17T04:00:00+03:00",
          "2018-12-17T05:00:00+03:00",
          "2018-12-17T06:00:00+03:00",
          "2018-12-17T07:00:00+03:00",
          "2018-12-17T08:00:00+03:00",
          "2018-12-17T09:00:00+03:00",
          "2018-12-17T10:00:00+03:00",
          "2018-12-17T11:00:00+03:00",
          "2018-12-17T12:00:00+03:00",
          "2018-12-17T13:00:00+03:00",
          "2018-12-17T14:00:00+03:00",
          "2018-12-17T15:00:00+03:00",
          "2018-12-17T16:00:00+03:00",
          "2018-12-17T17:00:00+03:00",
          "2018-12-17T18:00:00+03:00",
          "2018-12-17T19:00:00+03:00",
          "2018-12-17T20:00:00+03:00",
          "2018-12-17T21:00:00+03:00",
          "2018-12-17T22:00:00+03:00",
          "2018-12-17T23:00:00+03:00",
          "2018-12-18T00:00:00+03:00",
          "2018-12-18T01:00:00+03:00",
          "2018-12-18T02:00:00+03:00",
          "2018-12-18T03:00:00+03:00",
          "2018-12-18T04:00:00+03:00",
          "2018-12-18T05:00:00+03:00",
          "2018-12-18T06:00:00+03:00",
          "2018-12-18T07:00:00+03:00",
          "2018-12-18T08:00:00+03:00",
          "2018-12-18T09:00:00+03:00",
          "2018-12-18T10:00:00+03:00",
          "2018-12-18T11:00:00+03:00",
          "2018-12-18T12:00:00+03:00",
          "2018-12-18T13:00:00+03:00",
          "2018-12-18T14:00:00+03:00",
          "2018-12-18T15:00:00+03:00",
          "2018-12-18T16:00:00+03:00",
          "2018-12-18T17:00:00+03:00",
          "2018-12-18T18:00:00+03:00",
          "2018-12-18T19:00:00+03:00",
          "2018-12-18T20:00:00+03:00",
          "2018-12-18T21:00:00+03:00",
          "2018-12-18T22:00:00+03:00",
          "2018-12-18T23:00:00+03:00",
          "2018-12-19T00:00:00+03:00",
          "2018-12-19T01:00:00+03:00",
          "2018-12-19T02:00:00+03:00",
          "2018-12-19T03:00:00+03:00",
          "2018-12-19T04:00:00+03:00",
          "2018-12-19T05:00:00+03:00",
          "2018-12-19T06:00:00+03:00",
          "2018-12-19T07:00:00+03:00",
          "2018-12-19T08:00:00+03:00",
          "2018-12-19T09:00:00+03:00",
          "2018-12-19T10:00:00+03:00",
          "2018-12-19T11:00:00+03:00",
          "2018-12-19T12:00:00+03:00",
          "2018-12-19T13:00:00+03:00",
          "2018-12-19T14:00:00+03:00",
          "2018-12-19T15:00:00+03:00",
          "2018-12-19T16:00:00+03:00",
          "2018-12-19T17:00:00+03:00",
          "2018-12-19T18:00:00+03:00",
          "2018-12-19T19:00:00+03:00",
          "2018-12-19T20:00:00+03:00",
          "2018-12-19T21:00:00+03:00",
          "2018-12-19T22:00:00+03:00",
          "2018-12-19T23:00:00+03:00",
          "2018-12-20T00:00:00+03:00",
          "2018-12-20T01:00:00+03:00",
          "2018-12-20T02:00:00+03:00",
          "2018-12-20T03:00:00+03:00",
          "2018-12-20T04:00:00+03:00",
          "2018-12-20T05:00:00+03:00",
          "2018-12-20T06:00:00+03:00",
          "2018-12-20T07:00:00+03:00",
          "2018-12-20T08:00:00+03:00",
          "2018-12-20T09:00:00+03:00",
          "2018-12-20T10:00:00+03:00",
          "2018-12-20T11:00:00+03:00",
          "2018-12-20T12:00:00+03:00",
          "2018-12-20T13:00:00+03:00",
          "2018-12-20T14:00:00+03:00",
          "2018-12-20T15:00:00+03:00",
          "2018-12-20T16:00:00+03:00",
          "2018-12-20T17:00:00+03:00",
          "2018-12-20T18:00:00+03:00",
          "2018-12-20T19:00:00+03:00",
          "2018-12-20T20:00:00+03:00",
          "2018-12-20T21:00:00+03:00",
          "2018-12-20T22:00:00+03:00",
          "2018-12-20T23:00:00+03:00",
          "2018-12-21T00:00:00+03:00",
          "2018-12-21T01:00:00+03:00",
          "2018-12-21T02:00:00+03:00",
          "2018-12-21T03:00:00+03:00",
          "2018-12-21T04:00:00+03:00",
          "2018-12-21T05:00:00+03:00",
          "2018-12-21T06:00:00+03:00",
          "2018-12-21T07:00:00+03:00",
          "2018-12-21T08:00:00+03:00",
          "2018-12-21T09:00:00+03:00",
          "2018-12-21T10:00:00+03:00",
          "2018-12-21T11:00:00+03:00",
          "2018-12-21T12:00:00+03:00",
          "2018-12-21T13:00:00+03:00",
          "2018-12-21T14:00:00+03:00",
          "2018-12-21T15:00:00+03:00",
          "2018-12-21T16:00:00+03:00",
          "2018-12-21T17:00:00+03:00",
          "2018-12-21T18:00:00+03:00",
          "2018-12-21T19:00:00+03:00",
          "2018-12-21T20:00:00+03:00",
          "2018-12-21T21:00:00+03:00",
          "2018-12-21T22:00:00+03:00",
          "2018-12-21T23:00:00+03:00",
          "2018-12-22T00:00:00+03:00",
          "2018-12-22T01:00:00+03:00",
          "2018-12-22T02:00:00+03:00",
          "2018-12-22T03:00:00+03:00",
          "2018-12-22T04:00:00+03:00",
          "2018-12-22T05:00:00+03:00",
          "2018-12-22T06:00:00+03:00",
          "2018-12-22T07:00:00+03:00",
          "2018-12-22T08:00:00+03:00",
          "2018-12-22T09:00:00+03:00",
          "2018-12-22T10:00:00+03:00",
          "2018-12-22T11:00:00+03:00",
          "2018-12-22T12:00:00+03:00",
          "2018-12-22T13:00:00+03:00",
          "2018-12-22T14:00:00+03:00",
          "2018-12-22T15:00:00+03:00",
          "2018-12-22T16:00:00+03:00",
          "2018-12-22T17:00:00+03:00",
          "2018-12-22T18:00:00+03:00",
          "2018-12-22T19:00:00+03:00",
          "2018-12-22T20:00:00+03:00",
          "2018-12-22T21:00:00+03:00",
          "2018-12-22T22:00:00+03:00",
          "2018-12-22T23:00:00+03:00",
          "2018-12-23T00:00:00+03:00",
          "2018-12-23T01:00:00+03:00",
          "2018-12-23T02:00:00+03:00",
          "2018-12-23T03:00:00+03:00",
          "2018-12-23T04:00:00+03:00",
          "2018-12-23T05:00:00+03:00",
          "2018-12-23T06:00:00+03:00",
          "2018-12-23T07:00:00+03:00",
          "2018-12-23T08:00:00+03:00",
          "2018-12-23T09:00:00+03:00",
          "2018-12-23T10:00:00+03:00",
          "2018-12-23T11:00:00+03:00",
          "2018-12-23T12:00:00+03:00",
          "2018-12-23T13:00:00+03:00",
          "2018-12-23T14:00:00+03:00",
          "2018-12-23T15:00:00+03:00",
          "2018-12-23T16:00:00+03:00",
          "2018-12-23T17:00:00+03:00",
          "2018-12-23T18:00:00+03:00",
          "2018-12-23T19:00:00+03:00",
          "2018-12-23T20:00:00+03:00",
          "2018-12-23T21:00:00+03:00",
          "2018-12-23T22:00:00+03:00",
          "2018-12-23T23:00:00+03:00",
          "2018-12-24T00:00:00+03:00",
          "2018-12-24T01:00:00+03:00",
          "2018-12-24T02:00:00+03:00",
          "2018-12-24T03:00:00+03:00",
          "2018-12-24T04:00:00+03:00",
          "2018-12-24T05:00:00+03:00",
          "2018-12-24T06:00:00+03:00",
          "2018-12-24T07:00:00+03:00",
          "2018-12-24T08:00:00+03:00",
          "2018-12-24T09:00:00+03:00",
          "2018-12-24T10:00:00+03:00",
          "2018-12-24T11:00:00+03:00",
          "2018-12-24T12:00:00+03:00",
          "2018-12-24T13:00:00+03:00",
          "2018-12-24T14:00:00+03:00",
          "2018-12-24T15:00:00+03:00",
          "2018-12-24T16:00:00+03:00",
          "2018-12-24T17:00:00+03:00",
          "2018-12-24T18:00:00+03:00",
          "2018-12-24T19:00:00+03:00",
          "2018-12-24T20:00:00+03:00",
          "2018-12-24T21:00:00+03:00",
          "2018-12-24T22:00:00+03:00",
          "2018-12-24T23:00:00+03:00",
          "2018-12-25T00:00:00+03:00",
          "2018-12-25T01:00:00+03:00",
          "2018-12-25T02:00:00+03:00",
          "2018-12-25T03:00:00+03:00",
          "2018-12-25T04:00:00+03:00",
          "2018-12-25T05:00:00+03:00",
          "2018-12-25T06:00:00+03:00",
          "2018-12-25T07:00:00+03:00",
          "2018-12-25T08:00:00+03:00",
          "2018-12-25T09:00:00+03:00",
          "2018-12-25T10:00:00+03:00",
          "2018-12-25T11:00:00+03:00",
          "2018-12-25T12:00:00+03:00",
          "2018-12-25T13:00:00+03:00",
          "2018-12-25T14:00:00+03:00",
          "2018-12-25T15:00:00+03:00",
          "2018-12-25T16:00:00+03:00",
          "2018-12-25T17:00:00+03:00",
          "2018-12-25T18:00:00+03:00",
          "2018-12-25T19:00:00+03:00",
          "2018-12-25T20:00:00+03:00",
          "2018-12-25T21:00:00+03:00",
          "2018-12-25T22:00:00+03:00",
          "2018-12-25T23:00:00+03:00",
          "2018-12-26T00:00:00+03:00",
          "2018-12-26T01:00:00+03:00",
          "2018-12-26T02:00:00+03:00",
          "2018-12-26T03:00:00+03:00",
          "2018-12-26T04:00:00+03:00",
          "2018-12-26T05:00:00+03:00",
          "2018-12-26T06:00:00+03:00",
          "2018-12-26T07:00:00+03:00",
          "2018-12-26T08:00:00+03:00",
          "2018-12-26T09:00:00+03:00",
          "2018-12-26T10:00:00+03:00",
          "2018-12-26T11:00:00+03:00",
          "2018-12-26T12:00:00+03:00",
          "2018-12-26T13:00:00+03:00",
          "2018-12-26T14:00:00+03:00",
          "2018-12-26T15:00:00+03:00",
          "2018-12-26T16:00:00+03:00",
          "2018-12-26T17:00:00+03:00",
          "2018-12-26T18:00:00+03:00",
          "2018-12-26T19:00:00+03:00",
          "2018-12-26T20:00:00+03:00",
          "2018-12-26T21:00:00+03:00",
          "2018-12-26T22:00:00+03:00",
          "2018-12-26T23:00:00+03:00",
          "2018-12-27T00:00:00+03:00",
          "2018-12-27T01:00:00+03:00",
          "2018-12-27T02:00:00+03:00",
          "2018-12-27T03:00:00+03:00",
          "2018-12-27T04:00:00+03:00",
          "2018-12-27T05:00:00+03:00",
          "2018-12-27T06:00:00+03:00",
          "2018-12-27T07:00:00+03:00",
          "2018-12-27T08:00:00+03:00",
          "2018-12-27T09:00:00+03:00",
          "2018-12-27T10:00:00+03:00",
          "2018-12-27T11:00:00+03:00",
          "2018-12-27T12:00:00+03:00",
          "2018-12-27T13:00:00+03:00",
          "2018-12-27T14:00:00+03:00",
          "2018-12-27T15:00:00+03:00",
          "2018-12-27T16:00:00+03:00",
          "2018-12-27T17:00:00+03:00",
          "2018-12-27T18:00:00+03:00",
          "2018-12-27T19:00:00+03:00",
          "2018-12-27T20:00:00+03:00",
          "2018-12-27T21:00:00+03:00",
          "2018-12-27T22:00:00+03:00",
          "2018-12-27T23:00:00+03:00",
          "2018-12-28T00:00:00+03:00",
          "2018-12-28T01:00:00+03:00",
          "2018-12-28T02:00:00+03:00",
          "2018-12-28T03:00:00+03:00",
          "2018-12-28T04:00:00+03:00",
          "2018-12-28T05:00:00+03:00",
          "2018-12-28T06:00:00+03:00",
          "2018-12-28T07:00:00+03:00",
          "2018-12-28T08:00:00+03:00",
          "2018-12-28T09:00:00+03:00",
          "2018-12-28T10:00:00+03:00",
          "2018-12-28T11:00:00+03:00",
          "2018-12-28T12:00:00+03:00",
          "2018-12-28T13:00:00+03:00",
          "2018-12-28T14:00:00+03:00",
          "2018-12-28T15:00:00+03:00",
          "2018-12-28T16:00:00+03:00",
          "2018-12-28T17:00:00+03:00",
          "2018-12-28T18:00:00+03:00",
          "2018-12-28T19:00:00+03:00",
          "2018-12-28T20:00:00+03:00",
          "2018-12-28T21:00:00+03:00",
          "2018-12-28T22:00:00+03:00",
          "2018-12-28T23:00:00+03:00",
          "2018-12-29T00:00:00+03:00",
          "2018-12-29T01:00:00+03:00",
          "2018-12-29T02:00:00+03:00",
          "2018-12-29T03:00:00+03:00",
          "2018-12-29T04:00:00+03:00",
          "2018-12-29T05:00:00+03:00",
          "2018-12-29T06:00:00+03:00",
          "2018-12-29T07:00:00+03:00",
          "2018-12-29T08:00:00+03:00",
          "2018-12-29T09:00:00+03:00",
          "2018-12-29T10:00:00+03:00",
          "2018-12-29T11:00:00+03:00",
          "2018-12-29T12:00:00+03:00",
          "2018-12-29T13:00:00+03:00",
          "2018-12-29T14:00:00+03:00",
          "2018-12-29T15:00:00+03:00",
          "2018-12-29T16:00:00+03:00",
          "2018-12-29T17:00:00+03:00",
          "2018-12-29T18:00:00+03:00",
          "2018-12-29T19:00:00+03:00",
          "2018-12-29T20:00:00+03:00",
          "2018-12-29T21:00:00+03:00",
          "2018-12-29T22:00:00+03:00",
          "2018-12-29T23:00:00+03:00",
          "2018-12-30T00:00:00+03:00",
          "2018-12-30T01:00:00+03:00",
          "2018-12-30T02:00:00+03:00",
          "2018-12-30T03:00:00+03:00",
          "2018-12-30T04:00:00+03:00",
          "2018-12-30T05:00:00+03:00",
          "2018-12-30T06:00:00+03:00",
          "2018-12-30T07:00:00+03:00",
          "2018-12-30T08:00:00+03:00",
          "2018-12-30T09:00:00+03:00",
          "2018-12-30T10:00:00+03:00",
          "2018-12-30T11:00:00+03:00",
          "2018-12-30T12:00:00+03:00",
          "2018-12-30T13:00:00+03:00",
          "2018-12-30T14:00:00+03:00",
          "2018-12-30T15:00:00+03:00",
          "2018-12-30T16:00:00+03:00",
          "2018-12-30T17:00:00+03:00",
          "2018-12-30T18:00:00+03:00",
          "2018-12-30T19:00:00+03:00",
          "2018-12-30T20:00:00+03:00",
          "2018-12-30T21:00:00+03:00",
          "2018-12-30T22:00:00+03:00",
          "2018-12-30T23:00:00+03:00",
          "2018-12-31T00:00:00+03:00",
          "2018-12-31T01:00:00+03:00",
          "2018-12-31T02:00:00+03:00",
          "2018-12-31T03:00:00+03:00",
          "2018-12-31T04:00:00+03:00",
          "2018-12-31T05:00:00+03:00",
          "2018-12-31T06:00:00+03:00",
          "2018-12-31T07:00:00+03:00",
          "2018-12-31T08:00:00+03:00",
          "2018-12-31T09:00:00+03:00",
          "2018-12-31T10:00:00+03:00",
          "2018-12-31T11:00:00+03:00",
          "2018-12-31T12:00:00+03:00",
          "2018-12-31T13:00:00+03:00",
          "2018-12-31T14:00:00+03:00",
          "2018-12-31T15:00:00+03:00",
          "2018-12-31T16:00:00+03:00",
          "2018-12-31T17:00:00+03:00",
          "2018-12-31T18:00:00+03:00",
          "2018-12-31T19:00:00+03:00",
          "2018-12-31T20:00:00+03:00",
          "2018-12-31T21:00:00+03:00",
          "2018-12-31T22:00:00+03:00",
          "2018-12-31T23:00:00+03:00",
          "2019-01-01T00:00:00+03:00",
          "2019-01-01T01:00:00+03:00",
          "2019-01-01T02:00:00+03:00"
         ],
         "xaxis": "x",
         "y": [
          8.47892679298487,
          7.865485185833912,
          9.076421044663963,
          10.774814402417263,
          10.707835509435442,
          9.436831278328043,
          8.904189605567854,
          9.099278920840298,
          8.504539212379072,
          8.271611171850664,
          7.416301340043134,
          7.247790950557126,
          7.577369630308939,
          9.234299863835398,
          6.372281135151904,
          6.478065259781921,
          9.819036231137002,
          5.267660979467599,
          4.598403628165125,
          4.871634985249693,
          5.239323755513752,
          6.743854517646287,
          8.682521364508972,
          7.974990360074031,
          6.860801791106608,
          6.813491303206751,
          7.875053599117029,
          10.480319904703546,
          10.504240937911337,
          10.177851729253897,
          10.518593557836013,
          10.72590917897022,
          9.343805038075516,
          8.615542471527153,
          8.173800724956578,
          8.099911311270283,
          8.413011057034506,
          9.058347375129188,
          9.679231081500346,
          9.347526087685617,
          10.882193262594466,
          8.068016600326558,
          7.80754312761948,
          8.70910029029541,
          14.304495746856045,
          8.290747998416897,
          8.615542471527153,
          8.095658683144453,
          12.643844463719486,
          8.468295222670296,
          10.075257075718252,
          11.587066374450767,
          11.359019191203139,
          8.553347785186892,
          10.548893533232551,
          9.155094664991816,
          8.986052696990079,
          8.645310868407963,
          8.388026866795256,
          9.23748933492977,
          11.730060995181795,
          10.279383225758085,
          16.51692552931903,
          15.030631999341491,
          14.849151094071704,
          9.79033099128765,
          5.394176666211036,
          5.764155313158234,
          6.541854681669369,
          7.127122627486704,
          7.521022307641694,
          8.241311196454125,
          7.029843759108346,
          8.589495124256445,
          22.669415270363373,
          25.43468670918424,
          22.715662601231774,
          19.228507538051293,
          14.79726903093658,
          6.563601075494636,
          6.447765284385383,
          5.813592115121006,
          5.494113427168038,
          4.71375616607826,
          4.460193214075654,
          4.495277396113751,
          5.312168598829977,
          5.706213254943803,
          5.512815325857767,
          6.753954509445133,
          6.5498283594053,
          5.033234854031228,
          4.500593181271038,
          4.722489241693803,
          4.5732422450872985,
          4.463382685170027,
          4.486240561346362,
          5.2166294419576404,
          7.391317149803884,
          10.869435378216977,
          14.74623749342662,
          16.521178157444858,
          14.319379945296447,
          14.740825057630108,
          15.97949964991728,
          18.69055008013381,
          15.444200084578444,
          11.366992868939072,
          7.961700897180812,
          10.005620290157786,
          9.973194000698335,
          8.936084316511579,
          6.021439314770941,
          8.614479314495696,
          11.100140454043247,
          8.970105341518218,
          9.002000052461941,
          9.117884168890804,
          8.343374271474042,
          8.222126044568281,
          8.25054133249996,
          8.374737403902039,
          9.735578404167592,
          19.049365578250708,
          11.273116103061376,
          15.364994885734863,
          9.287989293924,
          10.014657124925176,
          10.635540831296336,
          9.10778417709196,
          9.641489006883607,
          9.211441987659063,
          9.049842118877528,
          8.363042676556006,
          12.83521272938183,
          14.849363725477996,
          13.109555568817466,
          12.740591753582112,
          10.033262372975681,
          8.060574501106357,
          7.16960058342539,
          6.1107445054133676,
          5.75777637096949,
          5.077355870836713,
          5.842828933486087,
          6.082570844079744,
          6.923528055962599,
          10.182635935895455,
          10.294267424198488,
          9.192305161092829,
          8.236526989812567,
          8.40716369336149,
          8.947779043857611,
          9.551439606319159,
          5.454245038488383,
          5.073634821226611,
          5.1039347966231485,
          4.837613960243054,
          4.920540208696737,
          4.9301904032899655,
          5.5621554771813155,
          6.200001370736183,
          10.407493648048709,
          6.299454878497068,
          11.28672451306403,
          6.26064964684887,
          6.129881331979602,
          6.479128416813379,
          7.185596264216864,
          6.564712557845706,
          7.371117166206192,
          11.805013565899543,
          12.605570810587015,
          8.906315919630769,
          12.106321933678515,
          8.814884414925427,
          7.6002275064852745,
          7.078748982555388,
          7.231843595085264,
          6.818807088364039,
          7.008580618479196,
          5.686544849861839,
          6.150081315577294,
          7.3134167345898184,
          7.805416813556565,
          9.485736501775087,
          10.984787916130113,
          9.283350063241276,
          9.422526983722982,
          7.140412090379922,
          7.104973522664673,
          6.759028668004362,
          11.39535983155114,
          7.87026939247547,
          9.289584029471186,
          8.032497490411957,
          8.913758018850972,
          9.438426013875231,
          9.600025882656766,
          9.07004210247522,
          8.883989621970162,
          8.901531712989211,
          13.461412220910276,
          9.038147391531496,
          7.755980011593794,
          7.696974796347904,
          8.680395050446059,
          8.609695107854137,
          14.827462690629972,
          7.97126931046393,
          11.863487202629706,
          7.534311770534912,
          5.8880131073230295,
          6.602986210978173,
          7.026944239931643,
          11.655640002979773,
          12.828302208677353,
          7.050720297180601,
          7.2323751736009925,
          8.887275743703759,
          8.812226522346783,
          9.171573598979407,
          8.093532369081537,
          8.28968484138544,
          8.515605710570151,
          8.163700733157732,
          7.541753869755114,
          7.433311852546453,
          7.6581695646997066,
          8.791494960233363,
          9.834983586608864,
          9.533578568190674,
          8.058448187043442,
          7.305201430255829,
          8.380053189059325,
          8.783521282497432,
          9.416631294730353,
          8.538995165262216,
          9.963625587415219,
          10.320314771469198,
          10.690293418416395,
          9.801494140117955,
          11.170840396635167,
          14.7400221138581,
          15.877436574897363,
          11.777248811116483,
          9.4804207166178,
          9.386331319333816,
          8.18496387378688,
          8.164232311673459,
          8.099186431476108,
          8.85581596063654,
          9.10103721900771,
          9.859436198332386,
          9.867313225429093,
          9.358157658000192,
          8.870700159076945,
          9.485736501775088,
          12.031997592115715,
          10.848703816103558,
          11.11927728060948,
          11.139477264207173,
          9.777041528394433,
          9.091305243104369,
          8.693152934823548,
          9.084926300915624,
          10.81734068367556,
          10.133199133932683,
          10.814379031945073,
          9.558848993015317,
          9.74036261080915,
          9.659031097902654,
          9.666473197122855,
          9.18752095445127,
          9.195494632187199,
          9.618631130707271,
          9.301810335332947,
          9.012631622776517,
          9.367194492767581,
          9.880167760445808,
          9.336362938855315,
          8.485402385812838,
          8.79734232390638,
          8.903126448536398,
          9.564941700618668,
          12.166486956595083,
          9.653715312745366,
          11.033693139577156,
          10.742919691473539,
          13.316291286116332,
          13.746338305340874,
          9.89079933076038,
          9.73185735455749,
          10.15605701010902,
          14.400179879687219,
          14.237516853874222,
          12.454602512120054,
          10.410683119143082,
          9.529325940064844,
          8.309884824983133,
          8.528895173463368,
          9.177420962652423,
          10.46596728477887,
          10.532946177760689,
          9.909936157326616,
          9.218352508363534,
          10.278320068726627,
          9.181142012262525,
          9.183799904841168,
          9.44321022051679,
          9.213568301721978,
          9.511252270530067,
          8.55441094221835,
          8.460853123450093,
          7.785216829958874,
          10.140641233152886,
          9.809467817853886,
          10.325098978110756,
          11.839566169421914,
          11.021998412231124,
          9.738236296746235,
          9.643083742430793,
          9.12001048295372,
          9.01901056496526,
          9.343273459559787,
          9.851462520596456,
          11.048045759501832,
          10.736009170769066,
          9.116289433343619,
          8.836147555554577,
          8.374205825386309,
          9.333173467760941,
          8.8217949356299,
          8.958410614172186,
          8.939805366121679,
          8.442779453915316,
          8.573547768784582,
          8.507100454318493,
          8.178053353082406,
          9.734515247136134,
          10.173599101128065,
          9.474041774429056,
          9.483773750332396,
          8.362511098040276,
          7.898974632324822,
          7.998379814766095,
          7.173901536870831,
          7.203138355235912,
          7.917579880375328,
          8.44862681758833,
          8.563979355501466,
          12.890496895017616,
          10.898140618066328,
          9.302341913848675,
          8.449689974619789,
          9.944488760848984,
          10.427162053130672,
          9.973725579214063,
          8.995089531757468,
          7.88727990497879,
          8.140311278465667,
          8.70431608365385,
          8.229084890592365,
          8.229084890592365,
          8.229084890592365,
          8.781926546950245,
          10.168283315970779,
          10.168283315970779,
          8.593481963124411,
          8.733601227338543,
          8.651158232080979,
          8.255132237863073,
          8.066421864779374,
          8.16774890800828,
          8.814884414925427,
          8.961068506750829,
          8.03027452570982,
          8.08449553431415,
          7.944690384677493,
          7.8883430620102475,
          7.517301258031593,
          7.569927531088737,
          7.292975124394067,
          7.110643693499113,
          6.507930307301954,
          6.452549491026942,
          8.187621766365524,
          8.390684759373901,
          8.368890040229022,
          8.441716296883857,
          7.961169318665084,
          7.544411762333758,
          7.0878341426423885,
          6.442401173908485,
          6.312212762874557,
          6.383607846602431,
          6.457333697668501,
          6.743322939130559,
          7.368990852143277,
          7.205796247814556,
          6.655612484035318,
          7.023464816919601,
          7.374838215816292,
          7.70707478814675,
          8.263637494114732,
          8.41566894961315,
          8.368890040229022,
          8.604910901212579,
          9.403873410352864,
          9.253968268917362,
          9.37144712089341,
          9.708999478381156,
          12.111202790959297,
          12.82989694422454,
          9.469789146303224,
          8.05153766633897,
          9.319352426351994,
          7.621490647114424,
          7.912264095218041,
          7.304138273224371,
          7.787874722537517,
          7.582685415466226,
          8.049942930791783,
          8.694747670370734,
          8.9105685477566,
          7.9861535089043345,
          7.57311700218311,
          7.003796411837637,
          7.583339665947124,
          8.113200774163502,
          7.7081379451782075,
          7.682090597907499,
          6.952233295811951,
          7.148917346631581,
          8.036121889382834,
          8.497532041035374,
          7.9058851530292955,
          7.901632524903466,
          7.0197437673095,
          7.452593655071523,
          6.978232317763046,
          6.77628080710574,
          6.408960052737186,
          6.517402069945848,
          6.580659913317566,
          7.597038035390902,
          9.111341664081836,
          11.361145505266055,
          11.431313869342247,
          8.386963709763798,
          8.38962160234244,
          8.022300847973888,
          7.738969499090474,
          8.253537502315886,
          8.720795017641443,
          8.501784669161205,
          8.198253336680098,
          8.488495206267986,
          9.575573270933244,
          10.236856944499785,
          11.08153520599274,
          10.514340929710183,
          10.576004037534718,
          10.959803725890861,
          10.50743040900571,
          10.18104120034827,
          10.283635853883915,
          10.202835919493147,
          10.77215650983862,
          12.801191704375189,
          13.71019096627132,
          12.102165956191907,
          11.809797772541103,
          10.440983094539618,
          9.634578486179134,
          8.941400101668865,
          7.618446151978888,
          6.904922807912093,
          7.145196297021481,
          7.341348769325383,
          6.934691204792902,
          6.774686071558554,
          7.696443217832175,
          8.298721676152828,
          8.259916444504633,
          8.431616305085011,
          8.685710835603345,
          8.412479478518776,
          7.870269392475471,
          7.303606694708642,
          7.160080495461885,
          6.730565054753068,
          6.704027019621688,
          6.888975452440231,
          8.267890122240562,
          7.388127678709511,
          6.74279136061483,
          6.9219333204154125,
          9.667246402236643,
          9.07429473060105,
          7.687454708384399,
          6.0932024143943195,
          5.762560577611048,
          5.791265817460399,
          4.894492861426029,
          5.095961118887218,
          6.1856970761311185,
          7.935653549910104,
          6.840601807508917,
          7.390785571288154,
          7.210580454456114,
          7.271711983764918,
          7.753853697530878,
          7.05748584192624,
          6.347828523428381,
          6.104897141740351,
          6.150081315577294,
          6.254270704660126,
          6.370154821088988,
          8.919605382523988,
          9.252373533370175,
          7.789469458084703,
          7.002201676290451,
          7.597038035390903,
          6.739311937602787,
          5.937449909285801,
          5.44733451778391,
          5.376634575191989,
          6.408960052737186,
          5.701429048302244,
          6.970838543862456,
          9.106721020060501,
          10.861993278996774,
          6.707707178576733,
          5.748739536202102,
          6.793822898124788,
          6.7013282363879885,
          5.761497420579591,
          5.205466293127337,
          6.107023455803267,
          6.427565300787691,
          6.406833738674271,
          8.956284300109271,
          11.111835181389278,
          7.340285612293925,
          7.672957112500888,
          6.175065505816544,
          6.240981241766907,
          6.368560085541803,
          5.772128990894165,
          5.596176502187955,
          5.081076920446813,
          5.255966252121566,
          5.626476477584493,
          6.635412500437626,
          8.694747670370734,
          7.963295632727999,
          7.0569542634105105,
          7.476901290836209,
          9.528262783033387,
          6.069281381186526,
          6.001239331173249,
          5.600429130313785,
          6.780001856715842,
          6.717275591859851,
          7.06120689153634,
          7.779369466285857,
          8.439589982820943,
          9.436831278328043,
          9.501683857246949,
          9.072699995053863,
          7.000075362227537,
          7.127654206002433,
          7.055891106379053,
          6.825717609068512,
          6.21142547629239,
          6.829197032080555,
          6.217895546226687,
          8.006401817821638,
          9.40068393925849,
          9.99126767023311,
          9.192836739608556,
          7.859637822160897,
          8.365700569134649,
          9.578762742027616,
          11.43450334043662
         ],
         "yaxis": "y"
        }
       ],
       "layout": {
        "legend": {
         "title": {
          "text": "variable"
         },
         "tracegroupgap": 0
        },
        "margin": {
         "t": 60
        },
        "template": {
         "data": {
          "bar": [
           {
            "error_x": {
             "color": "#2a3f5f"
            },
            "error_y": {
             "color": "#2a3f5f"
            },
            "marker": {
             "line": {
              "color": "#E5ECF6",
              "width": 0.5
             },
             "pattern": {
              "fillmode": "overlay",
              "size": 10,
              "solidity": 0.2
             }
            },
            "type": "bar"
           }
          ],
          "barpolar": [
           {
            "marker": {
             "line": {
              "color": "#E5ECF6",
              "width": 0.5
             },
             "pattern": {
              "fillmode": "overlay",
              "size": 10,
              "solidity": 0.2
             }
            },
            "type": "barpolar"
           }
          ],
          "carpet": [
           {
            "aaxis": {
             "endlinecolor": "#2a3f5f",
             "gridcolor": "white",
             "linecolor": "white",
             "minorgridcolor": "white",
             "startlinecolor": "#2a3f5f"
            },
            "baxis": {
             "endlinecolor": "#2a3f5f",
             "gridcolor": "white",
             "linecolor": "white",
             "minorgridcolor": "white",
             "startlinecolor": "#2a3f5f"
            },
            "type": "carpet"
           }
          ],
          "choropleth": [
           {
            "colorbar": {
             "outlinewidth": 0,
             "ticks": ""
            },
            "type": "choropleth"
           }
          ],
          "contour": [
           {
            "colorbar": {
             "outlinewidth": 0,
             "ticks": ""
            },
            "colorscale": [
             [
              0,
              "#0d0887"
             ],
             [
              0.1111111111111111,
              "#46039f"
             ],
             [
              0.2222222222222222,
              "#7201a8"
             ],
             [
              0.3333333333333333,
              "#9c179e"
             ],
             [
              0.4444444444444444,
              "#bd3786"
             ],
             [
              0.5555555555555556,
              "#d8576b"
             ],
             [
              0.6666666666666666,
              "#ed7953"
             ],
             [
              0.7777777777777778,
              "#fb9f3a"
             ],
             [
              0.8888888888888888,
              "#fdca26"
             ],
             [
              1,
              "#f0f921"
             ]
            ],
            "type": "contour"
           }
          ],
          "contourcarpet": [
           {
            "colorbar": {
             "outlinewidth": 0,
             "ticks": ""
            },
            "type": "contourcarpet"
           }
          ],
          "heatmap": [
           {
            "colorbar": {
             "outlinewidth": 0,
             "ticks": ""
            },
            "colorscale": [
             [
              0,
              "#0d0887"
             ],
             [
              0.1111111111111111,
              "#46039f"
             ],
             [
              0.2222222222222222,
              "#7201a8"
             ],
             [
              0.3333333333333333,
              "#9c179e"
             ],
             [
              0.4444444444444444,
              "#bd3786"
             ],
             [
              0.5555555555555556,
              "#d8576b"
             ],
             [
              0.6666666666666666,
              "#ed7953"
             ],
             [
              0.7777777777777778,
              "#fb9f3a"
             ],
             [
              0.8888888888888888,
              "#fdca26"
             ],
             [
              1,
              "#f0f921"
             ]
            ],
            "type": "heatmap"
           }
          ],
          "heatmapgl": [
           {
            "colorbar": {
             "outlinewidth": 0,
             "ticks": ""
            },
            "colorscale": [
             [
              0,
              "#0d0887"
             ],
             [
              0.1111111111111111,
              "#46039f"
             ],
             [
              0.2222222222222222,
              "#7201a8"
             ],
             [
              0.3333333333333333,
              "#9c179e"
             ],
             [
              0.4444444444444444,
              "#bd3786"
             ],
             [
              0.5555555555555556,
              "#d8576b"
             ],
             [
              0.6666666666666666,
              "#ed7953"
             ],
             [
              0.7777777777777778,
              "#fb9f3a"
             ],
             [
              0.8888888888888888,
              "#fdca26"
             ],
             [
              1,
              "#f0f921"
             ]
            ],
            "type": "heatmapgl"
           }
          ],
          "histogram": [
           {
            "marker": {
             "pattern": {
              "fillmode": "overlay",
              "size": 10,
              "solidity": 0.2
             }
            },
            "type": "histogram"
           }
          ],
          "histogram2d": [
           {
            "colorbar": {
             "outlinewidth": 0,
             "ticks": ""
            },
            "colorscale": [
             [
              0,
              "#0d0887"
             ],
             [
              0.1111111111111111,
              "#46039f"
             ],
             [
              0.2222222222222222,
              "#7201a8"
             ],
             [
              0.3333333333333333,
              "#9c179e"
             ],
             [
              0.4444444444444444,
              "#bd3786"
             ],
             [
              0.5555555555555556,
              "#d8576b"
             ],
             [
              0.6666666666666666,
              "#ed7953"
             ],
             [
              0.7777777777777778,
              "#fb9f3a"
             ],
             [
              0.8888888888888888,
              "#fdca26"
             ],
             [
              1,
              "#f0f921"
             ]
            ],
            "type": "histogram2d"
           }
          ],
          "histogram2dcontour": [
           {
            "colorbar": {
             "outlinewidth": 0,
             "ticks": ""
            },
            "colorscale": [
             [
              0,
              "#0d0887"
             ],
             [
              0.1111111111111111,
              "#46039f"
             ],
             [
              0.2222222222222222,
              "#7201a8"
             ],
             [
              0.3333333333333333,
              "#9c179e"
             ],
             [
              0.4444444444444444,
              "#bd3786"
             ],
             [
              0.5555555555555556,
              "#d8576b"
             ],
             [
              0.6666666666666666,
              "#ed7953"
             ],
             [
              0.7777777777777778,
              "#fb9f3a"
             ],
             [
              0.8888888888888888,
              "#fdca26"
             ],
             [
              1,
              "#f0f921"
             ]
            ],
            "type": "histogram2dcontour"
           }
          ],
          "mesh3d": [
           {
            "colorbar": {
             "outlinewidth": 0,
             "ticks": ""
            },
            "type": "mesh3d"
           }
          ],
          "parcoords": [
           {
            "line": {
             "colorbar": {
              "outlinewidth": 0,
              "ticks": ""
             }
            },
            "type": "parcoords"
           }
          ],
          "pie": [
           {
            "automargin": true,
            "type": "pie"
           }
          ],
          "scatter": [
           {
            "fillpattern": {
             "fillmode": "overlay",
             "size": 10,
             "solidity": 0.2
            },
            "type": "scatter"
           }
          ],
          "scatter3d": [
           {
            "line": {
             "colorbar": {
              "outlinewidth": 0,
              "ticks": ""
             }
            },
            "marker": {
             "colorbar": {
              "outlinewidth": 0,
              "ticks": ""
             }
            },
            "type": "scatter3d"
           }
          ],
          "scattercarpet": [
           {
            "marker": {
             "colorbar": {
              "outlinewidth": 0,
              "ticks": ""
             }
            },
            "type": "scattercarpet"
           }
          ],
          "scattergeo": [
           {
            "marker": {
             "colorbar": {
              "outlinewidth": 0,
              "ticks": ""
             }
            },
            "type": "scattergeo"
           }
          ],
          "scattergl": [
           {
            "marker": {
             "colorbar": {
              "outlinewidth": 0,
              "ticks": ""
             }
            },
            "type": "scattergl"
           }
          ],
          "scattermapbox": [
           {
            "marker": {
             "colorbar": {
              "outlinewidth": 0,
              "ticks": ""
             }
            },
            "type": "scattermapbox"
           }
          ],
          "scatterpolar": [
           {
            "marker": {
             "colorbar": {
              "outlinewidth": 0,
              "ticks": ""
             }
            },
            "type": "scatterpolar"
           }
          ],
          "scatterpolargl": [
           {
            "marker": {
             "colorbar": {
              "outlinewidth": 0,
              "ticks": ""
             }
            },
            "type": "scatterpolargl"
           }
          ],
          "scatterternary": [
           {
            "marker": {
             "colorbar": {
              "outlinewidth": 0,
              "ticks": ""
             }
            },
            "type": "scatterternary"
           }
          ],
          "surface": [
           {
            "colorbar": {
             "outlinewidth": 0,
             "ticks": ""
            },
            "colorscale": [
             [
              0,
              "#0d0887"
             ],
             [
              0.1111111111111111,
              "#46039f"
             ],
             [
              0.2222222222222222,
              "#7201a8"
             ],
             [
              0.3333333333333333,
              "#9c179e"
             ],
             [
              0.4444444444444444,
              "#bd3786"
             ],
             [
              0.5555555555555556,
              "#d8576b"
             ],
             [
              0.6666666666666666,
              "#ed7953"
             ],
             [
              0.7777777777777778,
              "#fb9f3a"
             ],
             [
              0.8888888888888888,
              "#fdca26"
             ],
             [
              1,
              "#f0f921"
             ]
            ],
            "type": "surface"
           }
          ],
          "table": [
           {
            "cells": {
             "fill": {
              "color": "#EBF0F8"
             },
             "line": {
              "color": "white"
             }
            },
            "header": {
             "fill": {
              "color": "#C8D4E3"
             },
             "line": {
              "color": "white"
             }
            },
            "type": "table"
           }
          ]
         },
         "layout": {
          "annotationdefaults": {
           "arrowcolor": "#2a3f5f",
           "arrowhead": 0,
           "arrowwidth": 1
          },
          "autotypenumbers": "strict",
          "coloraxis": {
           "colorbar": {
            "outlinewidth": 0,
            "ticks": ""
           }
          },
          "colorscale": {
           "diverging": [
            [
             0,
             "#8e0152"
            ],
            [
             0.1,
             "#c51b7d"
            ],
            [
             0.2,
             "#de77ae"
            ],
            [
             0.3,
             "#f1b6da"
            ],
            [
             0.4,
             "#fde0ef"
            ],
            [
             0.5,
             "#f7f7f7"
            ],
            [
             0.6,
             "#e6f5d0"
            ],
            [
             0.7,
             "#b8e186"
            ],
            [
             0.8,
             "#7fbc41"
            ],
            [
             0.9,
             "#4d9221"
            ],
            [
             1,
             "#276419"
            ]
           ],
           "sequential": [
            [
             0,
             "#0d0887"
            ],
            [
             0.1111111111111111,
             "#46039f"
            ],
            [
             0.2222222222222222,
             "#7201a8"
            ],
            [
             0.3333333333333333,
             "#9c179e"
            ],
            [
             0.4444444444444444,
             "#bd3786"
            ],
            [
             0.5555555555555556,
             "#d8576b"
            ],
            [
             0.6666666666666666,
             "#ed7953"
            ],
            [
             0.7777777777777778,
             "#fb9f3a"
            ],
            [
             0.8888888888888888,
             "#fdca26"
            ],
            [
             1,
             "#f0f921"
            ]
           ],
           "sequentialminus": [
            [
             0,
             "#0d0887"
            ],
            [
             0.1111111111111111,
             "#46039f"
            ],
            [
             0.2222222222222222,
             "#7201a8"
            ],
            [
             0.3333333333333333,
             "#9c179e"
            ],
            [
             0.4444444444444444,
             "#bd3786"
            ],
            [
             0.5555555555555556,
             "#d8576b"
            ],
            [
             0.6666666666666666,
             "#ed7953"
            ],
            [
             0.7777777777777778,
             "#fb9f3a"
            ],
            [
             0.8888888888888888,
             "#fdca26"
            ],
            [
             1,
             "#f0f921"
            ]
           ]
          },
          "colorway": [
           "#636efa",
           "#EF553B",
           "#00cc96",
           "#ab63fa",
           "#FFA15A",
           "#19d3f3",
           "#FF6692",
           "#B6E880",
           "#FF97FF",
           "#FECB52"
          ],
          "font": {
           "color": "#2a3f5f"
          },
          "geo": {
           "bgcolor": "white",
           "lakecolor": "white",
           "landcolor": "#E5ECF6",
           "showlakes": true,
           "showland": true,
           "subunitcolor": "white"
          },
          "hoverlabel": {
           "align": "left"
          },
          "hovermode": "closest",
          "mapbox": {
           "style": "light"
          },
          "paper_bgcolor": "white",
          "plot_bgcolor": "#E5ECF6",
          "polar": {
           "angularaxis": {
            "gridcolor": "white",
            "linecolor": "white",
            "ticks": ""
           },
           "bgcolor": "#E5ECF6",
           "radialaxis": {
            "gridcolor": "white",
            "linecolor": "white",
            "ticks": ""
           }
          },
          "scene": {
           "xaxis": {
            "backgroundcolor": "#E5ECF6",
            "gridcolor": "white",
            "gridwidth": 2,
            "linecolor": "white",
            "showbackground": true,
            "ticks": "",
            "zerolinecolor": "white"
           },
           "yaxis": {
            "backgroundcolor": "#E5ECF6",
            "gridcolor": "white",
            "gridwidth": 2,
            "linecolor": "white",
            "showbackground": true,
            "ticks": "",
            "zerolinecolor": "white"
           },
           "zaxis": {
            "backgroundcolor": "#E5ECF6",
            "gridcolor": "white",
            "gridwidth": 2,
            "linecolor": "white",
            "showbackground": true,
            "ticks": "",
            "zerolinecolor": "white"
           }
          },
          "shapedefaults": {
           "line": {
            "color": "#2a3f5f"
           }
          },
          "ternary": {
           "aaxis": {
            "gridcolor": "white",
            "linecolor": "white",
            "ticks": ""
           },
           "baxis": {
            "gridcolor": "white",
            "linecolor": "white",
            "ticks": ""
           },
           "bgcolor": "#E5ECF6",
           "caxis": {
            "gridcolor": "white",
            "linecolor": "white",
            "ticks": ""
           }
          },
          "title": {
           "x": 0.05
          },
          "xaxis": {
           "automargin": true,
           "gridcolor": "white",
           "linecolor": "white",
           "ticks": "",
           "title": {
            "standoff": 15
           },
           "zerolinecolor": "white",
           "zerolinewidth": 2
          },
          "yaxis": {
           "automargin": true,
           "gridcolor": "white",
           "linecolor": "white",
           "ticks": "",
           "title": {
            "standoff": 15
           },
           "zerolinecolor": "white",
           "zerolinewidth": 2
          }
         }
        },
        "xaxis": {
         "anchor": "y",
         "domain": [
          0,
          1
         ],
         "title": {
          "text": "timestamp"
         }
        },
        "yaxis": {
         "anchor": "x",
         "domain": [
          0,
          1
         ],
         "title": {
          "text": "P2"
         }
        }
       }
      },
      "image/png": "[encoded data removed]",
      "text/html": [
       "<div>                            <div id=\"70432f0d-0577-4c76-b129-465e3d2fee93\" class=\"plotly-graph-div\" style=\"height:525px; width:100%;\"></div>            <script type=\"text/javascript\">                require([\"plotly\"], function(Plotly) {                    window.PLOTLYENV=window.PLOTLYENV || {};                                    if (document.getElementById(\"70432f0d-0577-4c76-b129-465e3d2fee93\")) {                    Plotly.newPlot(                        \"70432f0d-0577-4c76-b129-465e3d2fee93\",                        [{\"hovertemplate\":\"variable=y_test\\u003cbr\\u003etimestamp=%{x}\\u003cbr\\u003eP2=%{y}\\u003cextra\\u003e\\u003c\\u002fextra\\u003e\",\"legendgroup\":\"y_test\",\"line\":{\"color\":\"#636efa\",\"dash\":\"solid\"},\"marker\":{\"symbol\":\"circle\"},\"mode\":\"lines\",\"name\":\"y_test\",\"showlegend\":true,\"x\":[\"2018-12-07T17:00:00+03:00\",\"2018-12-07T18:00:00+03:00\",\"2018-12-07T19:00:00+03:00\",\"2018-12-07T20:00:00+03:00\",\"2018-12-07T21:00:00+03:00\",\"2018-12-07T22:00:00+03:00\",\"2018-12-07T23:00:00+03:00\",\"2018-12-08T00:00:00+03:00\",\"2018-12-08T01:00:00+03:00\",\"2018-12-08T02:00:00+03:00\",\"2018-12-08T03:00:00+03:00\",\"2018-12-08T04:00:00+03:00\",\"2018-12-08T05:00:00+03:00\",\"2018-12-08T06:00:00+03:00\",\"2018-12-08T07:00:00+03:00\",\"2018-12-08T08:00:00+03:00\",\"2018-12-08T09:00:00+03:00\",\"2018-12-08T10:00:00+03:00\",\"2018-12-08T11:00:00+03:00\",\"2018-12-08T12:00:00+03:00\",\"2018-12-08T13:00:00+03:00\",\"2018-12-08T14:00:00+03:00\",\"2018-12-08T15:00:00+03:00\",\"2018-12-08T16:00:00+03:00\",\"2018-12-08T17:00:00+03:00\",\"2018-12-08T18:00:00+03:00\",\"2018-12-08T19:00:00+03:00\",\"2018-12-08T20:00:00+03:00\",\"2018-12-08T21:00:00+03:00\",\"2018-12-08T22:00:00+03:00\",\"2018-12-08T23:00:00+03:00\",\"2018-12-09T00:00:00+03:00\",\"2018-12-09T01:00:00+03:00\",\"2018-12-09T02:00:00+03:00\",\"2018-12-09T03:00:00+03:00\",\"2018-12-09T04:00:00+03:00\",\"2018-12-09T05:00:00+03:00\",\"2018-12-09T06:00:00+03:00\",\"2018-12-09T07:00:00+03:00\",\"2018-12-09T08:00:00+03:00\",\"2018-12-09T09:00:00+03:00\",\"2018-12-09T10:00:00+03:00\",\"2018-12-09T11:00:00+03:00\",\"2018-12-09T12:00:00+03:00\",\"2018-12-09T13:00:00+03:00\",\"2018-12-09T14:00:00+03:00\",\"2018-12-09T15:00:00+03:00\",\"2018-12-09T16:00:00+03:00\",\"2018-12-09T17:00:00+03:00\",\"2018-12-09T18:00:00+03:00\",\"2018-12-09T19:00:00+03:00\",\"2018-12-09T20:00:00+03:00\",\"2018-12-09T21:00:00+03:00\",\"2018-12-09T22:00:00+03:00\",\"2018-12-09T23:00:00+03:00\",\"2018-12-10T00:00:00+03:00\",\"2018-12-10T01:00:00+03:00\",\"2018-12-10T02:00:00+03:00\",\"2018-12-10T03:00:00+03:00\",\"2018-12-10T04:00:00+03:00\",\"2018-12-10T05:00:00+03:00\",\"2018-12-10T06:00:00+03:00\",\"2018-12-10T07:00:00+03:00\",\"2018-12-10T08:00:00+03:00\",\"2018-12-10T09:00:00+03:00\",\"2018-12-10T10:00:00+03:00\",\"2018-12-10T11:00:00+03:00\",\"2018-12-10T12:00:00+03:00\",\"2018-12-10T13:00:00+03:00\",\"2018-12-10T14:00:00+03:00\",\"2018-12-10T15:00:00+03:00\",\"2018-12-10T16:00:00+03:00\",\"2018-12-10T17:00:00+03:00\",\"2018-12-10T18:00:00+03:00\",\"2018-12-10T19:00:00+03:00\",\"2018-12-10T20:00:00+03:00\",\"2018-12-10T21:00:00+03:00\",\"2018-12-10T22:00:00+03:00\",\"2018-12-10T23:00:00+03:00\",\"2018-12-11T00:00:00+03:00\",\"2018-12-11T01:00:00+03:00\",\"2018-12-11T02:00:00+03:00\",\"2018-12-11T03:00:00+03:00\",\"2018-12-11T04:00:00+03:00\",\"2018-12-11T05:00:00+03:00\",\"2018-12-11T06:00:00+03:00\",\"2018-12-11T07:00:00+03:00\",\"2018-12-11T08:00:00+03:00\",\"2018-12-11T09:00:00+03:00\",\"2018-12-11T10:00:00+03:00\",\"2018-12-11T11:00:00+03:00\",\"2018-12-11T12:00:00+03:00\",\"2018-12-11T13:00:00+03:00\",\"2018-12-11T14:00:00+03:00\",\"2018-12-11T15:00:00+03:00\",\"2018-12-11T16:00:00+03:00\",\"2018-12-11T17:00:00+03:00\",\"2018-12-11T18:00:00+03:00\",\"2018-12-11T19:00:00+03:00\",\"2018-12-11T20:00:00+03:00\",\"2018-12-11T21:00:00+03:00\",\"2018-12-11T22:00:00+03:00\",\"2018-12-11T23:00:00+03:00\",\"2018-12-12T00:00:00+03:00\",\"2018-12-12T01:00:00+03:00\",\"2018-12-12T02:00:00+03:00\",\"2018-12-12T03:00:00+03:00\",\"2018-12-12T04:00:00+03:00\",\"2018-12-12T05:00:00+03:00\",\"2018-12-12T06:00:00+03:00\",\"2018-12-12T07:00:00+03:00\",\"2018-12-12T08:00:00+03:00\",\"2018-12-12T09:00:00+03:00\",\"2018-12-12T10:00:00+03:00\",\"2018-12-12T11:00:00+03:00\",\"2018-12-12T12:00:00+03:00\",\"2018-12-12T13:00:00+03:00\",\"2018-12-12T14:00:00+03:00\",\"2018-12-12T15:00:00+03:00\",\"2018-12-12T16:00:00+03:00\",\"2018-12-12T17:00:00+03:00\",\"2018-12-12T18:00:00+03:00\",\"2018-12-12T19:00:00+03:00\",\"2018-12-12T20:00:00+03:00\",\"2018-12-12T21:00:00+03:00\",\"2018-12-12T22:00:00+03:00\",\"2018-12-12T23:00:00+03:00\",\"2018-12-13T00:00:00+03:00\",\"2018-12-13T01:00:00+03:00\",\"2018-12-13T02:00:00+03:00\",\"2018-12-13T03:00:00+03:00\",\"2018-12-13T04:00:00+03:00\",\"2018-12-13T05:00:00+03:00\",\"2018-12-13T06:00:00+03:00\",\"2018-12-13T07:00:00+03:00\",\"2018-12-13T08:00:00+03:00\",\"2018-12-13T09:00:00+03:00\",\"2018-12-13T10:00:00+03:00\",\"2018-12-13T11:00:00+03:00\",\"2018-12-13T12:00:00+03:00\",\"2018-12-13T13:00:00+03:00\",\"2018-12-13T14:00:00+03:00\",\"2018-12-13T15:00:00+03:00\",\"2018-12-13T16:00:00+03:00\",\"2018-12-13T17:00:00+03:00\",\"2018-12-13T18:00:00+03:00\",\"2018-12-13T19:00:00+03:00\",\"2018-12-13T20:00:00+03:00\",\"2018-12-13T21:00:00+03:00\",\"2018-12-13T22:00:00+03:00\",\"2018-12-13T23:00:00+03:00\",\"2018-12-14T00:00:00+03:00\",\"2018-12-14T01:00:00+03:00\",\"2018-12-14T02:00:00+03:00\",\"2018-12-14T03:00:00+03:00\",\"2018-12-14T04:00:00+03:00\",\"2018-12-14T05:00:00+03:00\",\"2018-12-14T06:00:00+03:00\",\"2018-12-14T07:00:00+03:00\",\"2018-12-14T08:00:00+03:00\",\"2018-12-14T09:00:00+03:00\",\"2018-12-14T10:00:00+03:00\",\"2018-12-14T11:00:00+03:00\",\"2018-12-14T12:00:00+03:00\",\"2018-12-14T13:00:00+03:00\",\"2018-12-14T14:00:00+03:00\",\"2018-12-14T15:00:00+03:00\",\"2018-12-14T16:00:00+03:00\",\"2018-12-14T17:00:00+03:00\",\"2018-12-14T18:00:00+03:00\",\"2018-12-14T19:00:00+03:00\",\"2018-12-14T20:00:00+03:00\",\"2018-12-14T21:00:00+03:00\",\"2018-12-14T22:00:00+03:00\",\"2018-12-14T23:00:00+03:00\",\"2018-12-15T00:00:00+03:00\",\"2018-12-15T01:00:00+03:00\",\"2018-12-15T02:00:00+03:00\",\"2018-12-15T03:00:00+03:00\",\"2018-12-15T04:00:00+03:00\",\"2018-12-15T05:00:00+03:00\",\"2018-12-15T06:00:00+03:00\",\"2018-12-15T07:00:00+03:00\",\"2018-12-15T08:00:00+03:00\",\"2018-12-15T09:00:00+03:00\",\"2018-12-15T10:00:00+03:00\",\"2018-12-15T11:00:00+03:00\",\"2018-12-15T12:00:00+03:00\",\"2018-12-15T13:00:00+03:00\",\"2018-12-15T14:00:00+03:00\",\"2018-12-15T15:00:00+03:00\",\"2018-12-15T16:00:00+03:00\",\"2018-12-15T17:00:00+03:00\",\"2018-12-15T18:00:00+03:00\",\"2018-12-15T19:00:00+03:00\",\"2018-12-15T20:00:00+03:00\",\"2018-12-15T21:00:00+03:00\",\"2018-12-15T22:00:00+03:00\",\"2018-12-15T23:00:00+03:00\",\"2018-12-16T00:00:00+03:00\",\"2018-12-16T01:00:00+03:00\",\"2018-12-16T02:00:00+03:00\",\"2018-12-16T03:00:00+03:00\",\"2018-12-16T04:00:00+03:00\",\"2018-12-16T05:00:00+03:00\",\"2018-12-16T06:00:00+03:00\",\"2018-12-16T07:00:00+03:00\",\"2018-12-16T08:00:00+03:00\",\"2018-12-16T09:00:00+03:00\",\"2018-12-16T10:00:00+03:00\",\"2018-12-16T11:00:00+03:00\",\"2018-12-16T12:00:00+03:00\",\"2018-12-16T13:00:00+03:00\",\"2018-12-16T14:00:00+03:00\",\"2018-12-16T15:00:00+03:00\",\"2018-12-16T16:00:00+03:00\",\"2018-12-16T17:00:00+03:00\",\"2018-12-16T18:00:00+03:00\",\"2018-12-16T19:00:00+03:00\",\"2018-12-16T20:00:00+03:00\",\"2018-12-16T21:00:00+03:00\",\"2018-12-16T22:00:00+03:00\",\"2018-12-16T23:00:00+03:00\",\"2018-12-17T00:00:00+03:00\",\"2018-12-17T01:00:00+03:00\",\"2018-12-17T02:00:00+03:00\",\"2018-12-17T03:00:00+03:00\",\"2018-12-17T04:00:00+03:00\",\"2018-12-17T05:00:00+03:00\",\"2018-12-17T06:00:00+03:00\",\"2018-12-17T07:00:00+03:00\",\"2018-12-17T08:00:00+03:00\",\"2018-12-17T09:00:00+03:00\",\"2018-12-17T10:00:00+03:00\",\"2018-12-17T11:00:00+03:00\",\"2018-12-17T12:00:00+03:00\",\"2018-12-17T13:00:00+03:00\",\"2018-12-17T14:00:00+03:00\",\"2018-12-17T15:00:00+03:00\",\"2018-12-17T16:00:00+03:00\",\"2018-12-17T17:00:00+03:00\",\"2018-12-17T18:00:00+03:00\",\"2018-12-17T19:00:00+03:00\",\"2018-12-17T20:00:00+03:00\",\"2018-12-17T21:00:00+03:00\",\"2018-12-17T22:00:00+03:00\",\"2018-12-17T23:00:00+03:00\",\"2018-12-18T00:00:00+03:00\",\"2018-12-18T01:00:00+03:00\",\"2018-12-18T02:00:00+03:00\",\"2018-12-18T03:00:00+03:00\",\"2018-12-18T04:00:00+03:00\",\"2018-12-18T05:00:00+03:00\",\"2018-12-18T06:00:00+03:00\",\"2018-12-18T07:00:00+03:00\",\"2018-12-18T08:00:00+03:00\",\"2018-12-18T09:00:00+03:00\",\"2018-12-18T10:00:00+03:00\",\"2018-12-18T11:00:00+03:00\",\"2018-12-18T12:00:00+03:00\",\"2018-12-18T13:00:00+03:00\",\"2018-12-18T14:00:00+03:00\",\"2018-12-18T15:00:00+03:00\",\"2018-12-18T16:00:00+03:00\",\"2018-12-18T17:00:00+03:00\",\"2018-12-18T18:00:00+03:00\",\"2018-12-18T19:00:00+03:00\",\"2018-12-18T20:00:00+03:00\",\"2018-12-18T21:00:00+03:00\",\"2018-12-18T22:00:00+03:00\",\"2018-12-18T23:00:00+03:00\",\"2018-12-19T00:00:00+03:00\",\"2018-12-19T01:00:00+03:00\",\"2018-12-19T02:00:00+03:00\",\"2018-12-19T03:00:00+03:00\",\"2018-12-19T04:00:00+03:00\",\"2018-12-19T05:00:00+03:00\",\"2018-12-19T06:00:00+03:00\",\"2018-12-19T07:00:00+03:00\",\"2018-12-19T08:00:00+03:00\",\"2018-12-19T09:00:00+03:00\",\"2018-12-19T10:00:00+03:00\",\"2018-12-19T11:00:00+03:00\",\"2018-12-19T12:00:00+03:00\",\"2018-12-19T13:00:00+03:00\",\"2018-12-19T14:00:00+03:00\",\"2018-12-19T15:00:00+03:00\",\"2018-12-19T16:00:00+03:00\",\"2018-12-19T17:00:00+03:00\",\"2018-12-19T18:00:00+03:00\",\"2018-12-19T19:00:00+03:00\",\"2018-12-19T20:00:00+03:00\",\"2018-12-19T21:00:00+03:00\",\"2018-12-19T22:00:00+03:00\",\"2018-12-19T23:00:00+03:00\",\"2018-12-20T00:00:00+03:00\",\"2018-12-20T01:00:00+03:00\",\"2018-12-20T02:00:00+03:00\",\"2018-12-20T03:00:00+03:00\",\"2018-12-20T04:00:00+03:00\",\"2018-12-20T05:00:00+03:00\",\"2018-12-20T06:00:00+03:00\",\"2018-12-20T07:00:00+03:00\",\"2018-12-20T08:00:00+03:00\",\"2018-12-20T09:00:00+03:00\",\"2018-12-20T10:00:00+03:00\",\"2018-12-20T11:00:00+03:00\",\"2018-12-20T12:00:00+03:00\",\"2018-12-20T13:00:00+03:00\",\"2018-12-20T14:00:00+03:00\",\"2018-12-20T15:00:00+03:00\",\"2018-12-20T16:00:00+03:00\",\"2018-12-20T17:00:00+03:00\",\"2018-12-20T18:00:00+03:00\",\"2018-12-20T19:00:00+03:00\",\"2018-12-20T20:00:00+03:00\",\"2018-12-20T21:00:00+03:00\",\"2018-12-20T22:00:00+03:00\",\"2018-12-20T23:00:00+03:00\",\"2018-12-21T00:00:00+03:00\",\"2018-12-21T01:00:00+03:00\",\"2018-12-21T02:00:00+03:00\",\"2018-12-21T03:00:00+03:00\",\"2018-12-21T04:00:00+03:00\",\"2018-12-21T05:00:00+03:00\",\"2018-12-21T06:00:00+03:00\",\"2018-12-21T07:00:00+03:00\",\"2018-12-21T08:00:00+03:00\",\"2018-12-21T09:00:00+03:00\",\"2018-12-21T10:00:00+03:00\",\"2018-12-21T11:00:00+03:00\",\"2018-12-21T12:00:00+03:00\",\"2018-12-21T13:00:00+03:00\",\"2018-12-21T14:00:00+03:00\",\"2018-12-21T15:00:00+03:00\",\"2018-12-21T16:00:00+03:00\",\"2018-12-21T17:00:00+03:00\",\"2018-12-21T18:00:00+03:00\",\"2018-12-21T19:00:00+03:00\",\"2018-12-21T20:00:00+03:00\",\"2018-12-21T21:00:00+03:00\",\"2018-12-21T22:00:00+03:00\",\"2018-12-21T23:00:00+03:00\",\"2018-12-22T00:00:00+03:00\",\"2018-12-22T01:00:00+03:00\",\"2018-12-22T02:00:00+03:00\",\"2018-12-22T03:00:00+03:00\",\"2018-12-22T04:00:00+03:00\",\"2018-12-22T05:00:00+03:00\",\"2018-12-22T06:00:00+03:00\",\"2018-12-22T07:00:00+03:00\",\"2018-12-22T08:00:00+03:00\",\"2018-12-22T09:00:00+03:00\",\"2018-12-22T10:00:00+03:00\",\"2018-12-22T11:00:00+03:00\",\"2018-12-22T12:00:00+03:00\",\"2018-12-22T13:00:00+03:00\",\"2018-12-22T14:00:00+03:00\",\"2018-12-22T15:00:00+03:00\",\"2018-12-22T16:00:00+03:00\",\"2018-12-22T17:00:00+03:00\",\"2018-12-22T18:00:00+03:00\",\"2018-12-22T19:00:00+03:00\",\"2018-12-22T20:00:00+03:00\",\"2018-12-22T21:00:00+03:00\",\"2018-12-22T22:00:00+03:00\",\"2018-12-22T23:00:00+03:00\",\"2018-12-23T00:00:00+03:00\",\"2018-12-23T01:00:00+03:00\",\"2018-12-23T02:00:00+03:00\",\"2018-12-23T03:00:00+03:00\",\"2018-12-23T04:00:00+03:00\",\"2018-12-23T05:00:00+03:00\",\"2018-12-23T06:00:00+03:00\",\"2018-12-23T07:00:00+03:00\",\"2018-12-23T08:00:00+03:00\",\"2018-12-23T09:00:00+03:00\",\"2018-12-23T10:00:00+03:00\",\"2018-12-23T11:00:00+03:00\",\"2018-12-23T12:00:00+03:00\",\"2018-12-23T13:00:00+03:00\",\"2018-12-23T14:00:00+03:00\",\"2018-12-23T15:00:00+03:00\",\"2018-12-23T16:00:00+03:00\",\"2018-12-23T17:00:00+03:00\",\"2018-12-23T18:00:00+03:00\",\"2018-12-23T19:00:00+03:00\",\"2018-12-23T20:00:00+03:00\",\"2018-12-23T21:00:00+03:00\",\"2018-12-23T22:00:00+03:00\",\"2018-12-23T23:00:00+03:00\",\"2018-12-24T00:00:00+03:00\",\"2018-12-24T01:00:00+03:00\",\"2018-12-24T02:00:00+03:00\",\"2018-12-24T03:00:00+03:00\",\"2018-12-24T04:00:00+03:00\",\"2018-12-24T05:00:00+03:00\",\"2018-12-24T06:00:00+03:00\",\"2018-12-24T07:00:00+03:00\",\"2018-12-24T08:00:00+03:00\",\"2018-12-24T09:00:00+03:00\",\"2018-12-24T10:00:00+03:00\",\"2018-12-24T11:00:00+03:00\",\"2018-12-24T12:00:00+03:00\",\"2018-12-24T13:00:00+03:00\",\"2018-12-24T14:00:00+03:00\",\"2018-12-24T15:00:00+03:00\",\"2018-12-24T16:00:00+03:00\",\"2018-12-24T17:00:00+03:00\",\"2018-12-24T18:00:00+03:00\",\"2018-12-24T19:00:00+03:00\",\"2018-12-24T20:00:00+03:00\",\"2018-12-24T21:00:00+03:00\",\"2018-12-24T22:00:00+03:00\",\"2018-12-24T23:00:00+03:00\",\"2018-12-25T00:00:00+03:00\",\"2018-12-25T01:00:00+03:00\",\"2018-12-25T02:00:00+03:00\",\"2018-12-25T03:00:00+03:00\",\"2018-12-25T04:00:00+03:00\",\"2018-12-25T05:00:00+03:00\",\"2018-12-25T06:00:00+03:00\",\"2018-12-25T07:00:00+03:00\",\"2018-12-25T08:00:00+03:00\",\"2018-12-25T09:00:00+03:00\",\"2018-12-25T10:00:00+03:00\",\"2018-12-25T11:00:00+03:00\",\"2018-12-25T12:00:00+03:00\",\"2018-12-25T13:00:00+03:00\",\"2018-12-25T14:00:00+03:00\",\"2018-12-25T15:00:00+03:00\",\"2018-12-25T16:00:00+03:00\",\"2018-12-25T17:00:00+03:00\",\"2018-12-25T18:00:00+03:00\",\"2018-12-25T19:00:00+03:00\",\"2018-12-25T20:00:00+03:00\",\"2018-12-25T21:00:00+03:00\",\"2018-12-25T22:00:00+03:00\",\"2018-12-25T23:00:00+03:00\",\"2018-12-26T00:00:00+03:00\",\"2018-12-26T01:00:00+03:00\",\"2018-12-26T02:00:00+03:00\",\"2018-12-26T03:00:00+03:00\",\"2018-12-26T04:00:00+03:00\",\"2018-12-26T05:00:00+03:00\",\"2018-12-26T06:00:00+03:00\",\"2018-12-26T07:00:00+03:00\",\"2018-12-26T08:00:00+03:00\",\"2018-12-26T09:00:00+03:00\",\"2018-12-26T10:00:00+03:00\",\"2018-12-26T11:00:00+03:00\",\"2018-12-26T12:00:00+03:00\",\"2018-12-26T13:00:00+03:00\",\"2018-12-26T14:00:00+03:00\",\"2018-12-26T15:00:00+03:00\",\"2018-12-26T16:00:00+03:00\",\"2018-12-26T17:00:00+03:00\",\"2018-12-26T18:00:00+03:00\",\"2018-12-26T19:00:00+03:00\",\"2018-12-26T20:00:00+03:00\",\"2018-12-26T21:00:00+03:00\",\"2018-12-26T22:00:00+03:00\",\"2018-12-26T23:00:00+03:00\",\"2018-12-27T00:00:00+03:00\",\"2018-12-27T01:00:00+03:00\",\"2018-12-27T02:00:00+03:00\",\"2018-12-27T03:00:00+03:00\",\"2018-12-27T04:00:00+03:00\",\"2018-12-27T05:00:00+03:00\",\"2018-12-27T06:00:00+03:00\",\"2018-12-27T07:00:00+03:00\",\"2018-12-27T08:00:00+03:00\",\"2018-12-27T09:00:00+03:00\",\"2018-12-27T10:00:00+03:00\",\"2018-12-27T11:00:00+03:00\",\"2018-12-27T12:00:00+03:00\",\"2018-12-27T13:00:00+03:00\",\"2018-12-27T14:00:00+03:00\",\"2018-12-27T15:00:00+03:00\",\"2018-12-27T16:00:00+03:00\",\"2018-12-27T17:00:00+03:00\",\"2018-12-27T18:00:00+03:00\",\"2018-12-27T19:00:00+03:00\",\"2018-12-27T20:00:00+03:00\",\"2018-12-27T21:00:00+03:00\",\"2018-12-27T22:00:00+03:00\",\"2018-12-27T23:00:00+03:00\",\"2018-12-28T00:00:00+03:00\",\"2018-12-28T01:00:00+03:00\",\"2018-12-28T02:00:00+03:00\",\"2018-12-28T03:00:00+03:00\",\"2018-12-28T04:00:00+03:00\",\"2018-12-28T05:00:00+03:00\",\"2018-12-28T06:00:00+03:00\",\"2018-12-28T07:00:00+03:00\",\"2018-12-28T08:00:00+03:00\",\"2018-12-28T09:00:00+03:00\",\"2018-12-28T10:00:00+03:00\",\"2018-12-28T11:00:00+03:00\",\"2018-12-28T12:00:00+03:00\",\"2018-12-28T13:00:00+03:00\",\"2018-12-28T14:00:00+03:00\",\"2018-12-28T15:00:00+03:00\",\"2018-12-28T16:00:00+03:00\",\"2018-12-28T17:00:00+03:00\",\"2018-12-28T18:00:00+03:00\",\"2018-12-28T19:00:00+03:00\",\"2018-12-28T20:00:00+03:00\",\"2018-12-28T21:00:00+03:00\",\"2018-12-28T22:00:00+03:00\",\"2018-12-28T23:00:00+03:00\",\"2018-12-29T00:00:00+03:00\",\"2018-12-29T01:00:00+03:00\",\"2018-12-29T02:00:00+03:00\",\"2018-12-29T03:00:00+03:00\",\"2018-12-29T04:00:00+03:00\",\"2018-12-29T05:00:00+03:00\",\"2018-12-29T06:00:00+03:00\",\"2018-12-29T07:00:00+03:00\",\"2018-12-29T08:00:00+03:00\",\"2018-12-29T09:00:00+03:00\",\"2018-12-29T10:00:00+03:00\",\"2018-12-29T11:00:00+03:00\",\"2018-12-29T12:00:00+03:00\",\"2018-12-29T13:00:00+03:00\",\"2018-12-29T14:00:00+03:00\",\"2018-12-29T15:00:00+03:00\",\"2018-12-29T16:00:00+03:00\",\"2018-12-29T17:00:00+03:00\",\"2018-12-29T18:00:00+03:00\",\"2018-12-29T19:00:00+03:00\",\"2018-12-29T20:00:00+03:00\",\"2018-12-29T21:00:00+03:00\",\"2018-12-29T22:00:00+03:00\",\"2018-12-29T23:00:00+03:00\",\"2018-12-30T00:00:00+03:00\",\"2018-12-30T01:00:00+03:00\",\"2018-12-30T02:00:00+03:00\",\"2018-12-30T03:00:00+03:00\",\"2018-12-30T04:00:00+03:00\",\"2018-12-30T05:00:00+03:00\",\"2018-12-30T06:00:00+03:00\",\"2018-12-30T07:00:00+03:00\",\"2018-12-30T08:00:00+03:00\",\"2018-12-30T09:00:00+03:00\",\"2018-12-30T10:00:00+03:00\",\"2018-12-30T11:00:00+03:00\",\"2018-12-30T12:00:00+03:00\",\"2018-12-30T13:00:00+03:00\",\"2018-12-30T14:00:00+03:00\",\"2018-12-30T15:00:00+03:00\",\"2018-12-30T16:00:00+03:00\",\"2018-12-30T17:00:00+03:00\",\"2018-12-30T18:00:00+03:00\",\"2018-12-30T19:00:00+03:00\",\"2018-12-30T20:00:00+03:00\",\"2018-12-30T21:00:00+03:00\",\"2018-12-30T22:00:00+03:00\",\"2018-12-30T23:00:00+03:00\",\"2018-12-31T00:00:00+03:00\",\"2018-12-31T01:00:00+03:00\",\"2018-12-31T02:00:00+03:00\",\"2018-12-31T03:00:00+03:00\",\"2018-12-31T04:00:00+03:00\",\"2018-12-31T05:00:00+03:00\",\"2018-12-31T06:00:00+03:00\",\"2018-12-31T07:00:00+03:00\",\"2018-12-31T08:00:00+03:00\",\"2018-12-31T09:00:00+03:00\",\"2018-12-31T10:00:00+03:00\",\"2018-12-31T11:00:00+03:00\",\"2018-12-31T12:00:00+03:00\",\"2018-12-31T13:00:00+03:00\",\"2018-12-31T14:00:00+03:00\",\"2018-12-31T15:00:00+03:00\",\"2018-12-31T16:00:00+03:00\",\"2018-12-31T17:00:00+03:00\",\"2018-12-31T18:00:00+03:00\",\"2018-12-31T19:00:00+03:00\",\"2018-12-31T20:00:00+03:00\",\"2018-12-31T21:00:00+03:00\",\"2018-12-31T22:00:00+03:00\",\"2018-12-31T23:00:00+03:00\",\"2019-01-01T00:00:00+03:00\",\"2019-01-01T01:00:00+03:00\",\"2019-01-01T02:00:00+03:00\"],\"xaxis\":\"x\",\"y\":[7.07,8.968333333333334,11.630833333333333,11.525833333333333,9.533333333333333,8.698333333333332,9.004166666666666,8.071818181818182,7.706666666666667,6.365833333333334,6.101666666666667,6.618333333333333,9.215833333333334,4.729166666666667,4.8950000000000005,10.1325,2.9975,1.9483333333333333,2.3766666666666665,2.953076923076923,5.3116666666666665,8.350833333333332,7.241666666666667,5.495,5.420833333333333,7.085,11.169166666666667,11.206666666666665,10.695,11.229166666666666,11.554166666666667,9.387500000000001,8.245833333333334,7.553333333333334,7.4375,7.928333333333334,8.94,9.913333333333332,9.393333333333333,11.799166666666666,7.387499999999999,6.979166666666667,8.3925,17.164166666666667,7.736666666666667,8.245833333333334,7.430833333333333,14.560833333333333,8.015,10.534166666666666,12.904166666666667,12.546666666666667,8.148333333333333,11.276666666666666,9.091666666666667,8.826666666666666,8.2925,7.889166666666667,9.220833333333333,13.128333333333332,10.854166666666666,20.6325,18.3025,18.018,10.0875,3.1958333333333333,3.7758333333333334,4.995,5.9125000000000005,6.53,7.659166666666667,5.760000000000001,8.205,30.2775,34.612500000000004,30.35,24.883333333333336,17.936666666666667,5.029090909090909,4.8475,3.8533333333333335,3.3524999999999996,2.129166666666667,1.7316666666666667,1.7866666666666668,3.0672727272727274,3.685,3.3818181818181823,5.3275,5.007499999999999,2.63,1.795,2.142857142857143,1.9088888888888889,1.7366666666666666,1.7725,2.9175,6.326666666666667,11.779166666666667,17.856666666666666,20.639166666666668,17.1875,17.848181818181818,19.79,24.04,18.950833333333332,12.559166666666668,7.220833333333332,10.424999999999999,10.374166666666666,8.748333333333333,4.179166666666666,8.244166666666667,12.140833333333333,8.801666666666668,8.851666666666667,9.033333333333333,7.819166666666667,7.629090909090909,7.673636363636363,7.868333333333333,10.001666666666667,24.602500000000003,12.412,18.826666666666664,9.299999999999999,10.439166666666667,11.4125,9.0175,9.854166666666666,9.180000000000001,8.926666666666668,7.8500000000000005,14.860833333333334,18.018333333333334,15.29090909090909,14.712499999999999,10.468333333333334,7.3758333333333335,5.979090909090909,4.319166666666667,3.765833333333333,2.6991666666666667,3.8991666666666664,4.2749999999999995,5.593333333333334,10.7025,10.8775,9.15,7.651666666666666,7.9191666666666665,8.766666666666667,9.713,3.2899999999999996,2.6933333333333334,2.7408333333333332,2.3233333333333333,2.4533333333333336,2.468461538461538,3.4591666666666665,4.459090909090909,11.055,4.615,12.433333333333332,4.554166666666666,4.349166666666666,4.8966666666666665,6.004166666666666,5.030833333333334,6.295000000000001,13.245833333333332,14.500833333333333,8.701666666666666,13.718181818181819,8.558333333333334,6.654166666666666,5.836666666666666,6.076666666666667,5.429166666666667,5.726666666666667,3.654166666666667,4.380833333333333,6.204545454545454,6.975833333333333,9.61,11.96,9.292727272727273,9.510909090909092,5.933333333333334,5.877777777777777,5.335454545454545,12.603636363636365,7.0775,9.3025,7.331818181818182,8.713333333333333,9.535833333333334,9.789166666666667,8.958333333333334,8.666666666666666,8.694166666666666,15.842500000000001,8.908333333333333,6.898333333333333,6.805833333333333,8.3475,8.236666666666666,17.984,7.235833333333333,13.3375,6.550833333333333,3.97,5.090833333333333,5.755454545454546,13.011666666666668,14.85,5.792727272727273,6.077500000000001,8.671818181818182,8.554166666666667,9.1175,7.427499999999999,7.734999999999999,8.089166666666666,7.5375000000000005,6.5625,6.392499999999999,6.745,8.521666666666667,10.1575,9.685,7.3725,6.191666666666666,7.876666666666666,8.509166666666667,9.501666666666667,8.125833333333334,10.359166666666667,10.918333333333335,11.498333333333333,10.105,12.251666666666667,17.846923076923076,19.63,13.202307692307691,9.601666666666667,9.454166666666667,7.570833333333333,7.538333333333333,7.4363636363636365,8.6225,9.006923076923076,10.195833333333333,10.208181818181819,9.41,8.645833333333334,9.610000000000001,13.601666666666667,11.746666666666668,12.170833333333334,12.2025,10.066666666666666,8.991666666666667,8.3675,8.981666666666667,11.6975,10.625,11.692857142857141,9.724615384615385,10.009166666666667,9.881666666666666,9.893333333333333,9.1425,9.155,9.818333333333333,9.321666666666667,8.868333333333334,9.424166666666666,10.228333333333333,9.375833333333334,8.041818181818183,8.530833333333334,8.696666666666667,9.734166666666667,13.8125,9.873333333333333,12.036666666666667,11.580833333333333,15.615,16.289166666666667,10.245,9.995833333333334,10.660833333333334,17.31416666666667,17.059166666666666,14.264166666666666,11.06,9.678333333333333,7.766666666666667,8.11,9.126666666666667,11.146666666666667,11.251666666666667,10.275,9.190833333333332,10.8525,9.1325,9.136666666666667,9.543333333333335,9.183333333333334,9.65,8.15,8.003333333333334,6.944166666666667,10.636666666666667,10.1175,10.925833333333335,13.299999999999999,12.018333333333333,10.005833333333333,9.856666666666667,9.036666666666667,8.878333333333334,9.386666666666667,10.183333333333334,12.059166666666668,11.57,9.030833333333334,8.591666666666667,7.8675,9.370833333333334,8.569166666666666,8.783333333333333,8.754166666666666,7.9750000000000005,8.18,8.075833333333334,7.56,10.0,10.688333333333333,9.591666666666667,9.606923076923078,7.849166666666666,7.1225,7.278333333333333,5.985833333333333,6.031666666666666,7.151666666666667,7.984166666666667,8.165000000000001,14.9475,11.824166666666665,9.3225,7.985833333333333,10.329166666666667,11.085833333333333,10.375,8.840833333333334,7.104166666666667,7.5008333333333335,8.385,7.64,7.64,7.64,8.506666666666666,10.68,10.68,8.21125,8.430909090909092,8.301666666666668,7.680833333333333,7.385000000000001,7.543846153846153,8.558333333333334,8.7875,7.328333333333333,7.413333333333333,7.194166666666667,7.105833333333333,6.524166666666667,6.6066666666666665,6.172499999999999,5.886666666666667,4.941818181818181,4.8549999999999995,7.575,7.8933333333333335,7.859166666666667,7.973333333333334,7.22,6.566666666666666,5.850909090909091,4.83909090909091,4.635,4.746923076923077,4.8625,5.310833333333334,6.291666666666667,6.035833333333334,5.173333333333333,5.75,6.300833333333333,6.821666666666666,7.694166666666667,7.9325,7.859166666666667,8.229166666666666,9.481666666666667,9.246666666666668,9.430833333333334,9.96,13.725833333333334,14.8525,9.584999999999999,7.361666666666667,9.349166666666667,6.6875,7.1433333333333335,6.19,6.948333333333333,6.626666666666666,7.359166666666667,8.37,8.708333333333334,7.259166666666666,6.611666666666667,5.719166666666666,6.627692307692308,7.458333333333333,6.823333333333333,6.7825,5.638333333333333,5.946666666666666,7.3374999999999995,8.060833333333333,7.133333333333333,7.126666666666666,5.7441666666666675,6.422727272727273,5.679090909090909,5.3625,4.786666666666666,4.956666666666667,5.055833333333333,6.649166666666666,9.023076923076923,12.549999999999999,12.660000000000002,7.8875,7.891666666666667,7.315833333333334,6.871666666666666,7.678333333333334,8.410833333333334,8.0675,7.591666666666666,8.046666666666667,9.750833333333334,10.7875,12.111666666666666,11.222499999999998,11.319166666666668,11.920833333333334,11.211666666666666,10.700000000000001,10.860833333333334,10.734166666666667,11.626666666666667,14.8075,16.232499999999998,13.711666666666666,13.253333333333332,11.1075,9.843333333333334,8.756666666666666,6.6827272727272735,5.564166666666666,5.940833333333334,6.248333333333334,5.610833333333333,5.36,6.805,7.7491666666666665,7.6883333333333335,7.9575000000000005,8.355833333333333,7.927499999999999,7.077500000000001,6.189166666666666,5.964166666666666,5.290833333333333,5.249230769230769,5.539166666666667,7.700833333333333,6.321666666666666,5.31,5.590833333333333,9.894545454545455,8.965,6.790909090909091,4.291666666666667,3.7733333333333334,3.8183333333333334,2.4125,2.7283333333333335,4.4366666666666665,7.18,5.463333333333334,6.325833333333333,6.043333333333333,6.139166666666667,6.895,5.803333333333334,4.690833333333333,4.31,4.380833333333333,4.5441666666666665,4.725833333333333,8.7225,9.244166666666667,6.950833333333333,5.716666666666666,6.649166666666667,5.304545454545455,4.0475,3.279166666666667,3.1683333333333334,4.786666666666666,3.6775,5.6675,9.015833333333333,11.7675,5.255,3.751666666666667,5.39,5.245,3.7716666666666665,2.9,4.3133333333333335,4.815833333333333,4.783333333333333,8.78,12.159166666666666,6.246666666666666,6.7681818181818185,4.42,4.523333333333333,4.723333333333334,3.7883333333333336,3.5124999999999997,2.705,2.9791666666666665,3.56,5.141666666666667,8.37,7.223333333333334,5.802499999999999,6.460833333333333,9.676666666666668,4.254166666666666,4.1475,3.5191666666666666,5.368333333333333,5.2700000000000005,5.809166666666667,6.935,7.97,9.533333333333333,9.635,8.9625,5.713333333333334,5.913333333333334,5.800833333333333,5.44,4.477,5.445454545454545,4.4871428571428575,7.290909090909091,9.476666666666667,10.4025,9.150833333333333,7.060833333333334,7.854166666666667,9.755833333333333,12.665,18.803333333333335],\"yaxis\":\"y\",\"type\":\"scattergl\"},{\"hovertemplate\":\"variable=y_pred\\u003cbr\\u003etimestamp=%{x}\\u003cbr\\u003eP2=%{y}\\u003cextra\\u003e\\u003c\\u002fextra\\u003e\",\"legendgroup\":\"y_pred\",\"line\":{\"color\":\"#EF553B\",\"dash\":\"solid\"},\"marker\":{\"symbol\":\"circle\"},\"mode\":\"lines\",\"name\":\"y_pred\",\"showlegend\":true,\"x\":[\"2018-12-07T17:00:00+03:00\",\"2018-12-07T18:00:00+03:00\",\"2018-12-07T19:00:00+03:00\",\"2018-12-07T20:00:00+03:00\",\"2018-12-07T21:00:00+03:00\",\"2018-12-07T22:00:00+03:00\",\"2018-12-07T23:00:00+03:00\",\"2018-12-08T00:00:00+03:00\",\"2018-12-08T01:00:00+03:00\",\"2018-12-08T02:00:00+03:00\",\"2018-12-08T03:00:00+03:00\",\"2018-12-08T04:00:00+03:00\",\"2018-12-08T05:00:00+03:00\",\"2018-12-08T06:00:00+03:00\",\"2018-12-08T07:00:00+03:00\",\"2018-12-08T08:00:00+03:00\",\"2018-12-08T09:00:00+03:00\",\"2018-12-08T10:00:00+03:00\",\"2018-12-08T11:00:00+03:00\",\"2018-12-08T12:00:00+03:00\",\"2018-12-08T13:00:00+03:00\",\"2018-12-08T14:00:00+03:00\",\"2018-12-08T15:00:00+03:00\",\"2018-12-08T16:00:00+03:00\",\"2018-12-08T17:00:00+03:00\",\"2018-12-08T18:00:00+03:00\",\"2018-12-08T19:00:00+03:00\",\"2018-12-08T20:00:00+03:00\",\"2018-12-08T21:00:00+03:00\",\"2018-12-08T22:00:00+03:00\",\"2018-12-08T23:00:00+03:00\",\"2018-12-09T00:00:00+03:00\",\"2018-12-09T01:00:00+03:00\",\"2018-12-09T02:00:00+03:00\",\"2018-12-09T03:00:00+03:00\",\"2018-12-09T04:00:00+03:00\",\"2018-12-09T05:00:00+03:00\",\"2018-12-09T06:00:00+03:00\",\"2018-12-09T07:00:00+03:00\",\"2018-12-09T08:00:00+03:00\",\"2018-12-09T09:00:00+03:00\",\"2018-12-09T10:00:00+03:00\",\"2018-12-09T11:00:00+03:00\",\"2018-12-09T12:00:00+03:00\",\"2018-12-09T13:00:00+03:00\",\"2018-12-09T14:00:00+03:00\",\"2018-12-09T15:00:00+03:00\",\"2018-12-09T16:00:00+03:00\",\"2018-12-09T17:00:00+03:00\",\"2018-12-09T18:00:00+03:00\",\"2018-12-09T19:00:00+03:00\",\"2018-12-09T20:00:00+03:00\",\"2018-12-09T21:00:00+03:00\",\"2018-12-09T22:00:00+03:00\",\"2018-12-09T23:00:00+03:00\",\"2018-12-10T00:00:00+03:00\",\"2018-12-10T01:00:00+03:00\",\"2018-12-10T02:00:00+03:00\",\"2018-12-10T03:00:00+03:00\",\"2018-12-10T04:00:00+03:00\",\"2018-12-10T05:00:00+03:00\",\"2018-12-10T06:00:00+03:00\",\"2018-12-10T07:00:00+03:00\",\"2018-12-10T08:00:00+03:00\",\"2018-12-10T09:00:00+03:00\",\"2018-12-10T10:00:00+03:00\",\"2018-12-10T11:00:00+03:00\",\"2018-12-10T12:00:00+03:00\",\"2018-12-10T13:00:00+03:00\",\"2018-12-10T14:00:00+03:00\",\"2018-12-10T15:00:00+03:00\",\"2018-12-10T16:00:00+03:00\",\"2018-12-10T17:00:00+03:00\",\"2018-12-10T18:00:00+03:00\",\"2018-12-10T19:00:00+03:00\",\"2018-12-10T20:00:00+03:00\",\"2018-12-10T21:00:00+03:00\",\"2018-12-10T22:00:00+03:00\",\"2018-12-10T23:00:00+03:00\",\"2018-12-11T00:00:00+03:00\",\"2018-12-11T01:00:00+03:00\",\"2018-12-11T02:00:00+03:00\",\"2018-12-11T03:00:00+03:00\",\"2018-12-11T04:00:00+03:00\",\"2018-12-11T05:00:00+03:00\",\"2018-12-11T06:00:00+03:00\",\"2018-12-11T07:00:00+03:00\",\"2018-12-11T08:00:00+03:00\",\"2018-12-11T09:00:00+03:00\",\"2018-12-11T10:00:00+03:00\",\"2018-12-11T11:00:00+03:00\",\"2018-12-11T12:00:00+03:00\",\"2018-12-11T13:00:00+03:00\",\"2018-12-11T14:00:00+03:00\",\"2018-12-11T15:00:00+03:00\",\"2018-12-11T16:00:00+03:00\",\"2018-12-11T17:00:00+03:00\",\"2018-12-11T18:00:00+03:00\",\"2018-12-11T19:00:00+03:00\",\"2018-12-11T20:00:00+03:00\",\"2018-12-11T21:00:00+03:00\",\"2018-12-11T22:00:00+03:00\",\"2018-12-11T23:00:00+03:00\",\"2018-12-12T00:00:00+03:00\",\"2018-12-12T01:00:00+03:00\",\"2018-12-12T02:00:00+03:00\",\"2018-12-12T03:00:00+03:00\",\"2018-12-12T04:00:00+03:00\",\"2018-12-12T05:00:00+03:00\",\"2018-12-12T06:00:00+03:00\",\"2018-12-12T07:00:00+03:00\",\"2018-12-12T08:00:00+03:00\",\"2018-12-12T09:00:00+03:00\",\"2018-12-12T10:00:00+03:00\",\"2018-12-12T11:00:00+03:00\",\"2018-12-12T12:00:00+03:00\",\"2018-12-12T13:00:00+03:00\",\"2018-12-12T14:00:00+03:00\",\"2018-12-12T15:00:00+03:00\",\"2018-12-12T16:00:00+03:00\",\"2018-12-12T17:00:00+03:00\",\"2018-12-12T18:00:00+03:00\",\"2018-12-12T19:00:00+03:00\",\"2018-12-12T20:00:00+03:00\",\"2018-12-12T21:00:00+03:00\",\"2018-12-12T22:00:00+03:00\",\"2018-12-12T23:00:00+03:00\",\"2018-12-13T00:00:00+03:00\",\"2018-12-13T01:00:00+03:00\",\"2018-12-13T02:00:00+03:00\",\"2018-12-13T03:00:00+03:00\",\"2018-12-13T04:00:00+03:00\",\"2018-12-13T05:00:00+03:00\",\"2018-12-13T06:00:00+03:00\",\"2018-12-13T07:00:00+03:00\",\"2018-12-13T08:00:00+03:00\",\"2018-12-13T09:00:00+03:00\",\"2018-12-13T10:00:00+03:00\",\"2018-12-13T11:00:00+03:00\",\"2018-12-13T12:00:00+03:00\",\"2018-12-13T13:00:00+03:00\",\"2018-12-13T14:00:00+03:00\",\"2018-12-13T15:00:00+03:00\",\"2018-12-13T16:00:00+03:00\",\"2018-12-13T17:00:00+03:00\",\"2018-12-13T18:00:00+03:00\",\"2018-12-13T19:00:00+03:00\",\"2018-12-13T20:00:00+03:00\",\"2018-12-13T21:00:00+03:00\",\"2018-12-13T22:00:00+03:00\",\"2018-12-13T23:00:00+03:00\",\"2018-12-14T00:00:00+03:00\",\"2018-12-14T01:00:00+03:00\",\"2018-12-14T02:00:00+03:00\",\"2018-12-14T03:00:00+03:00\",\"2018-12-14T04:00:00+03:00\",\"2018-12-14T05:00:00+03:00\",\"2018-12-14T06:00:00+03:00\",\"2018-12-14T07:00:00+03:00\",\"2018-12-14T08:00:00+03:00\",\"2018-12-14T09:00:00+03:00\",\"2018-12-14T10:00:00+03:00\",\"2018-12-14T11:00:00+03:00\",\"2018-12-14T12:00:00+03:00\",\"2018-12-14T13:00:00+03:00\",\"2018-12-14T14:00:00+03:00\",\"2018-12-14T15:00:00+03:00\",\"2018-12-14T16:00:00+03:00\",\"2018-12-14T17:00:00+03:00\",\"2018-12-14T18:00:00+03:00\",\"2018-12-14T19:00:00+03:00\",\"2018-12-14T20:00:00+03:00\",\"2018-12-14T21:00:00+03:00\",\"2018-12-14T22:00:00+03:00\",\"2018-12-14T23:00:00+03:00\",\"2018-12-15T00:00:00+03:00\",\"2018-12-15T01:00:00+03:00\",\"2018-12-15T02:00:00+03:00\",\"2018-12-15T03:00:00+03:00\",\"2018-12-15T04:00:00+03:00\",\"2018-12-15T05:00:00+03:00\",\"2018-12-15T06:00:00+03:00\",\"2018-12-15T07:00:00+03:00\",\"2018-12-15T08:00:00+03:00\",\"2018-12-15T09:00:00+03:00\",\"2018-12-15T10:00:00+03:00\",\"2018-12-15T11:00:00+03:00\",\"2018-12-15T12:00:00+03:00\",\"2018-12-15T13:00:00+03:00\",\"2018-12-15T14:00:00+03:00\",\"2018-12-15T15:00:00+03:00\",\"2018-12-15T16:00:00+03:00\",\"2018-12-15T17:00:00+03:00\",\"2018-12-15T18:00:00+03:00\",\"2018-12-15T19:00:00+03:00\",\"2018-12-15T20:00:00+03:00\",\"2018-12-15T21:00:00+03:00\",\"2018-12-15T22:00:00+03:00\",\"2018-12-15T23:00:00+03:00\",\"2018-12-16T00:00:00+03:00\",\"2018-12-16T01:00:00+03:00\",\"2018-12-16T02:00:00+03:00\",\"2018-12-16T03:00:00+03:00\",\"2018-12-16T04:00:00+03:00\",\"2018-12-16T05:00:00+03:00\",\"2018-12-16T06:00:00+03:00\",\"2018-12-16T07:00:00+03:00\",\"2018-12-16T08:00:00+03:00\",\"2018-12-16T09:00:00+03:00\",\"2018-12-16T10:00:00+03:00\",\"2018-12-16T11:00:00+03:00\",\"2018-12-16T12:00:00+03:00\",\"2018-12-16T13:00:00+03:00\",\"2018-12-16T14:00:00+03:00\",\"2018-12-16T15:00:00+03:00\",\"2018-12-16T16:00:00+03:00\",\"2018-12-16T17:00:00+03:00\",\"2018-12-16T18:00:00+03:00\",\"2018-12-16T19:00:00+03:00\",\"2018-12-16T20:00:00+03:00\",\"2018-12-16T21:00:00+03:00\",\"2018-12-16T22:00:00+03:00\",\"2018-12-16T23:00:00+03:00\",\"2018-12-17T00:00:00+03:00\",\"2018-12-17T01:00:00+03:00\",\"2018-12-17T02:00:00+03:00\",\"2018-12-17T03:00:00+03:00\",\"2018-12-17T04:00:00+03:00\",\"2018-12-17T05:00:00+03:00\",\"2018-12-17T06:00:00+03:00\",\"2018-12-17T07:00:00+03:00\",\"2018-12-17T08:00:00+03:00\",\"2018-12-17T09:00:00+03:00\",\"2018-12-17T10:00:00+03:00\",\"2018-12-17T11:00:00+03:00\",\"2018-12-17T12:00:00+03:00\",\"2018-12-17T13:00:00+03:00\",\"2018-12-17T14:00:00+03:00\",\"2018-12-17T15:00:00+03:00\",\"2018-12-17T16:00:00+03:00\",\"2018-12-17T17:00:00+03:00\",\"2018-12-17T18:00:00+03:00\",\"2018-12-17T19:00:00+03:00\",\"2018-12-17T20:00:00+03:00\",\"2018-12-17T21:00:00+03:00\",\"2018-12-17T22:00:00+03:00\",\"2018-12-17T23:00:00+03:00\",\"2018-12-18T00:00:00+03:00\",\"2018-12-18T01:00:00+03:00\",\"2018-12-18T02:00:00+03:00\",\"2018-12-18T03:00:00+03:00\",\"2018-12-18T04:00:00+03:00\",\"2018-12-18T05:00:00+03:00\",\"2018-12-18T06:00:00+03:00\",\"2018-12-18T07:00:00+03:00\",\"2018-12-18T08:00:00+03:00\",\"2018-12-18T09:00:00+03:00\",\"2018-12-18T10:00:00+03:00\",\"2018-12-18T11:00:00+03:00\",\"2018-12-18T12:00:00+03:00\",\"2018-12-18T13:00:00+03:00\",\"2018-12-18T14:00:00+03:00\",\"2018-12-18T15:00:00+03:00\",\"2018-12-18T16:00:00+03:00\",\"2018-12-18T17:00:00+03:00\",\"2018-12-18T18:00:00+03:00\",\"2018-12-18T19:00:00+03:00\",\"2018-12-18T20:00:00+03:00\",\"2018-12-18T21:00:00+03:00\",\"2018-12-18T22:00:00+03:00\",\"2018-12-18T23:00:00+03:00\",\"2018-12-19T00:00:00+03:00\",\"2018-12-19T01:00:00+03:00\",\"2018-12-19T02:00:00+03:00\",\"2018-12-19T03:00:00+03:00\",\"2018-12-19T04:00:00+03:00\",\"2018-12-19T05:00:00+03:00\",\"2018-12-19T06:00:00+03:00\",\"2018-12-19T07:00:00+03:00\",\"2018-12-19T08:00:00+03:00\",\"2018-12-19T09:00:00+03:00\",\"2018-12-19T10:00:00+03:00\",\"2018-12-19T11:00:00+03:00\",\"2018-12-19T12:00:00+03:00\",\"2018-12-19T13:00:00+03:00\",\"2018-12-19T14:00:00+03:00\",\"2018-12-19T15:00:00+03:00\",\"2018-12-19T16:00:00+03:00\",\"2018-12-19T17:00:00+03:00\",\"2018-12-19T18:00:00+03:00\",\"2018-12-19T19:00:00+03:00\",\"2018-12-19T20:00:00+03:00\",\"2018-12-19T21:00:00+03:00\",\"2018-12-19T22:00:00+03:00\",\"2018-12-19T23:00:00+03:00\",\"2018-12-20T00:00:00+03:00\",\"2018-12-20T01:00:00+03:00\",\"2018-12-20T02:00:00+03:00\",\"2018-12-20T03:00:00+03:00\",\"2018-12-20T04:00:00+03:00\",\"2018-12-20T05:00:00+03:00\",\"2018-12-20T06:00:00+03:00\",\"2018-12-20T07:00:00+03:00\",\"2018-12-20T08:00:00+03:00\",\"2018-12-20T09:00:00+03:00\",\"2018-12-20T10:00:00+03:00\",\"2018-12-20T11:00:00+03:00\",\"2018-12-20T12:00:00+03:00\",\"2018-12-20T13:00:00+03:00\",\"2018-12-20T14:00:00+03:00\",\"2018-12-20T15:00:00+03:00\",\"2018-12-20T16:00:00+03:00\",\"2018-12-20T17:00:00+03:00\",\"2018-12-20T18:00:00+03:00\",\"2018-12-20T19:00:00+03:00\",\"2018-12-20T20:00:00+03:00\",\"2018-12-20T21:00:00+03:00\",\"2018-12-20T22:00:00+03:00\",\"2018-12-20T23:00:00+03:00\",\"2018-12-21T00:00:00+03:00\",\"2018-12-21T01:00:00+03:00\",\"2018-12-21T02:00:00+03:00\",\"2018-12-21T03:00:00+03:00\",\"2018-12-21T04:00:00+03:00\",\"2018-12-21T05:00:00+03:00\",\"2018-12-21T06:00:00+03:00\",\"2018-12-21T07:00:00+03:00\",\"2018-12-21T08:00:00+03:00\",\"2018-12-21T09:00:00+03:00\",\"2018-12-21T10:00:00+03:00\",\"2018-12-21T11:00:00+03:00\",\"2018-12-21T12:00:00+03:00\",\"2018-12-21T13:00:00+03:00\",\"2018-12-21T14:00:00+03:00\",\"2018-12-21T15:00:00+03:00\",\"2018-12-21T16:00:00+03:00\",\"2018-12-21T17:00:00+03:00\",\"2018-12-21T18:00:00+03:00\",\"2018-12-21T19:00:00+03:00\",\"2018-12-21T20:00:00+03:00\",\"2018-12-21T21:00:00+03:00\",\"2018-12-21T22:00:00+03:00\",\"2018-12-21T23:00:00+03:00\",\"2018-12-22T00:00:00+03:00\",\"2018-12-22T01:00:00+03:00\",\"2018-12-22T02:00:00+03:00\",\"2018-12-22T03:00:00+03:00\",\"2018-12-22T04:00:00+03:00\",\"2018-12-22T05:00:00+03:00\",\"2018-12-22T06:00:00+03:00\",\"2018-12-22T07:00:00+03:00\",\"2018-12-22T08:00:00+03:00\",\"2018-12-22T09:00:00+03:00\",\"2018-12-22T10:00:00+03:00\",\"2018-12-22T11:00:00+03:00\",\"2018-12-22T12:00:00+03:00\",\"2018-12-22T13:00:00+03:00\",\"2018-12-22T14:00:00+03:00\",\"2018-12-22T15:00:00+03:00\",\"2018-12-22T16:00:00+03:00\",\"2018-12-22T17:00:00+03:00\",\"2018-12-22T18:00:00+03:00\",\"2018-12-22T19:00:00+03:00\",\"2018-12-22T20:00:00+03:00\",\"2018-12-22T21:00:00+03:00\",\"2018-12-22T22:00:00+03:00\",\"2018-12-22T23:00:00+03:00\",\"2018-12-23T00:00:00+03:00\",\"2018-12-23T01:00:00+03:00\",\"2018-12-23T02:00:00+03:00\",\"2018-12-23T03:00:00+03:00\",\"2018-12-23T04:00:00+03:00\",\"2018-12-23T05:00:00+03:00\",\"2018-12-23T06:00:00+03:00\",\"2018-12-23T07:00:00+03:00\",\"2018-12-23T08:00:00+03:00\",\"2018-12-23T09:00:00+03:00\",\"2018-12-23T10:00:00+03:00\",\"2018-12-23T11:00:00+03:00\",\"2018-12-23T12:00:00+03:00\",\"2018-12-23T13:00:00+03:00\",\"2018-12-23T14:00:00+03:00\",\"2018-12-23T15:00:00+03:00\",\"2018-12-23T16:00:00+03:00\",\"2018-12-23T17:00:00+03:00\",\"2018-12-23T18:00:00+03:00\",\"2018-12-23T19:00:00+03:00\",\"2018-12-23T20:00:00+03:00\",\"2018-12-23T21:00:00+03:00\",\"2018-12-23T22:00:00+03:00\",\"2018-12-23T23:00:00+03:00\",\"2018-12-24T00:00:00+03:00\",\"2018-12-24T01:00:00+03:00\",\"2018-12-24T02:00:00+03:00\",\"2018-12-24T03:00:00+03:00\",\"2018-12-24T04:00:00+03:00\",\"2018-12-24T05:00:00+03:00\",\"2018-12-24T06:00:00+03:00\",\"2018-12-24T07:00:00+03:00\",\"2018-12-24T08:00:00+03:00\",\"2018-12-24T09:00:00+03:00\",\"2018-12-24T10:00:00+03:00\",\"2018-12-24T11:00:00+03:00\",\"2018-12-24T12:00:00+03:00\",\"2018-12-24T13:00:00+03:00\",\"2018-12-24T14:00:00+03:00\",\"2018-12-24T15:00:00+03:00\",\"2018-12-24T16:00:00+03:00\",\"2018-12-24T17:00:00+03:00\",\"2018-12-24T18:00:00+03:00\",\"2018-12-24T19:00:00+03:00\",\"2018-12-24T20:00:00+03:00\",\"2018-12-24T21:00:00+03:00\",\"2018-12-24T22:00:00+03:00\",\"2018-12-24T23:00:00+03:00\",\"2018-12-25T00:00:00+03:00\",\"2018-12-25T01:00:00+03:00\",\"2018-12-25T02:00:00+03:00\",\"2018-12-25T03:00:00+03:00\",\"2018-12-25T04:00:00+03:00\",\"2018-12-25T05:00:00+03:00\",\"2018-12-25T06:00:00+03:00\",\"2018-12-25T07:00:00+03:00\",\"2018-12-25T08:00:00+03:00\",\"2018-12-25T09:00:00+03:00\",\"2018-12-25T10:00:00+03:00\",\"2018-12-25T11:00:00+03:00\",\"2018-12-25T12:00:00+03:00\",\"2018-12-25T13:00:00+03:00\",\"2018-12-25T14:00:00+03:00\",\"2018-12-25T15:00:00+03:00\",\"2018-12-25T16:00:00+03:00\",\"2018-12-25T17:00:00+03:00\",\"2018-12-25T18:00:00+03:00\",\"2018-12-25T19:00:00+03:00\",\"2018-12-25T20:00:00+03:00\",\"2018-12-25T21:00:00+03:00\",\"2018-12-25T22:00:00+03:00\",\"2018-12-25T23:00:00+03:00\",\"2018-12-26T00:00:00+03:00\",\"2018-12-26T01:00:00+03:00\",\"2018-12-26T02:00:00+03:00\",\"2018-12-26T03:00:00+03:00\",\"2018-12-26T04:00:00+03:00\",\"2018-12-26T05:00:00+03:00\",\"2018-12-26T06:00:00+03:00\",\"2018-12-26T07:00:00+03:00\",\"2018-12-26T08:00:00+03:00\",\"2018-12-26T09:00:00+03:00\",\"2018-12-26T10:00:00+03:00\",\"2018-12-26T11:00:00+03:00\",\"2018-12-26T12:00:00+03:00\",\"2018-12-26T13:00:00+03:00\",\"2018-12-26T14:00:00+03:00\",\"2018-12-26T15:00:00+03:00\",\"2018-12-26T16:00:00+03:00\",\"2018-12-26T17:00:00+03:00\",\"2018-12-26T18:00:00+03:00\",\"2018-12-26T19:00:00+03:00\",\"2018-12-26T20:00:00+03:00\",\"2018-12-26T21:00:00+03:00\",\"2018-12-26T22:00:00+03:00\",\"2018-12-26T23:00:00+03:00\",\"2018-12-27T00:00:00+03:00\",\"2018-12-27T01:00:00+03:00\",\"2018-12-27T02:00:00+03:00\",\"2018-12-27T03:00:00+03:00\",\"2018-12-27T04:00:00+03:00\",\"2018-12-27T05:00:00+03:00\",\"2018-12-27T06:00:00+03:00\",\"2018-12-27T07:00:00+03:00\",\"2018-12-27T08:00:00+03:00\",\"2018-12-27T09:00:00+03:00\",\"2018-12-27T10:00:00+03:00\",\"2018-12-27T11:00:00+03:00\",\"2018-12-27T12:00:00+03:00\",\"2018-12-27T13:00:00+03:00\",\"2018-12-27T14:00:00+03:00\",\"2018-12-27T15:00:00+03:00\",\"2018-12-27T16:00:00+03:00\",\"2018-12-27T17:00:00+03:00\",\"2018-12-27T18:00:00+03:00\",\"2018-12-27T19:00:00+03:00\",\"2018-12-27T20:00:00+03:00\",\"2018-12-27T21:00:00+03:00\",\"2018-12-27T22:00:00+03:00\",\"2018-12-27T23:00:00+03:00\",\"2018-12-28T00:00:00+03:00\",\"2018-12-28T01:00:00+03:00\",\"2018-12-28T02:00:00+03:00\",\"2018-12-28T03:00:00+03:00\",\"2018-12-28T04:00:00+03:00\",\"2018-12-28T05:00:00+03:00\",\"2018-12-28T06:00:00+03:00\",\"2018-12-28T07:00:00+03:00\",\"2018-12-28T08:00:00+03:00\",\"2018-12-28T09:00:00+03:00\",\"2018-12-28T10:00:00+03:00\",\"2018-12-28T11:00:00+03:00\",\"2018-12-28T12:00:00+03:00\",\"2018-12-28T13:00:00+03:00\",\"2018-12-28T14:00:00+03:00\",\"2018-12-28T15:00:00+03:00\",\"2018-12-28T16:00:00+03:00\",\"2018-12-28T17:00:00+03:00\",\"2018-12-28T18:00:00+03:00\",\"2018-12-28T19:00:00+03:00\",\"2018-12-28T20:00:00+03:00\",\"2018-12-28T21:00:00+03:00\",\"2018-12-28T22:00:00+03:00\",\"2018-12-28T23:00:00+03:00\",\"2018-12-29T00:00:00+03:00\",\"2018-12-29T01:00:00+03:00\",\"2018-12-29T02:00:00+03:00\",\"2018-12-29T03:00:00+03:00\",\"2018-12-29T04:00:00+03:00\",\"2018-12-29T05:00:00+03:00\",\"2018-12-29T06:00:00+03:00\",\"2018-12-29T07:00:00+03:00\",\"2018-12-29T08:00:00+03:00\",\"2018-12-29T09:00:00+03:00\",\"2018-12-29T10:00:00+03:00\",\"2018-12-29T11:00:00+03:00\",\"2018-12-29T12:00:00+03:00\",\"2018-12-29T13:00:00+03:00\",\"2018-12-29T14:00:00+03:00\",\"2018-12-29T15:00:00+03:00\",\"2018-12-29T16:00:00+03:00\",\"2018-12-29T17:00:00+03:00\",\"2018-12-29T18:00:00+03:00\",\"2018-12-29T19:00:00+03:00\",\"2018-12-29T20:00:00+03:00\",\"2018-12-29T21:00:00+03:00\",\"2018-12-29T22:00:00+03:00\",\"2018-12-29T23:00:00+03:00\",\"2018-12-30T00:00:00+03:00\",\"2018-12-30T01:00:00+03:00\",\"2018-12-30T02:00:00+03:00\",\"2018-12-30T03:00:00+03:00\",\"2018-12-30T04:00:00+03:00\",\"2018-12-30T05:00:00+03:00\",\"2018-12-30T06:00:00+03:00\",\"2018-12-30T07:00:00+03:00\",\"2018-12-30T08:00:00+03:00\",\"2018-12-30T09:00:00+03:00\",\"2018-12-30T10:00:00+03:00\",\"2018-12-30T11:00:00+03:00\",\"2018-12-30T12:00:00+03:00\",\"2018-12-30T13:00:00+03:00\",\"2018-12-30T14:00:00+03:00\",\"2018-12-30T15:00:00+03:00\",\"2018-12-30T16:00:00+03:00\",\"2018-12-30T17:00:00+03:00\",\"2018-12-30T18:00:00+03:00\",\"2018-12-30T19:00:00+03:00\",\"2018-12-30T20:00:00+03:00\",\"2018-12-30T21:00:00+03:00\",\"2018-12-30T22:00:00+03:00\",\"2018-12-30T23:00:00+03:00\",\"2018-12-31T00:00:00+03:00\",\"2018-12-31T01:00:00+03:00\",\"2018-12-31T02:00:00+03:00\",\"2018-12-31T03:00:00+03:00\",\"2018-12-31T04:00:00+03:00\",\"2018-12-31T05:00:00+03:00\",\"2018-12-31T06:00:00+03:00\",\"2018-12-31T07:00:00+03:00\",\"2018-12-31T08:00:00+03:00\",\"2018-12-31T09:00:00+03:00\",\"2018-12-31T10:00:00+03:00\",\"2018-12-31T11:00:00+03:00\",\"2018-12-31T12:00:00+03:00\",\"2018-12-31T13:00:00+03:00\",\"2018-12-31T14:00:00+03:00\",\"2018-12-31T15:00:00+03:00\",\"2018-12-31T16:00:00+03:00\",\"2018-12-31T17:00:00+03:00\",\"2018-12-31T18:00:00+03:00\",\"2018-12-31T19:00:00+03:00\",\"2018-12-31T20:00:00+03:00\",\"2018-12-31T21:00:00+03:00\",\"2018-12-31T22:00:00+03:00\",\"2018-12-31T23:00:00+03:00\",\"2019-01-01T00:00:00+03:00\",\"2019-01-01T01:00:00+03:00\",\"2019-01-01T02:00:00+03:00\"],\"xaxis\":\"x\",\"y\":[8.47892679298487,7.865485185833912,9.076421044663963,10.774814402417263,10.707835509435442,9.436831278328043,8.904189605567854,9.099278920840298,8.504539212379072,8.271611171850664,7.416301340043134,7.247790950557126,7.577369630308939,9.234299863835398,6.372281135151904,6.478065259781921,9.819036231137002,5.267660979467599,4.598403628165125,4.871634985249693,5.239323755513752,6.743854517646287,8.682521364508972,7.974990360074031,6.860801791106608,6.813491303206751,7.875053599117029,10.480319904703546,10.504240937911337,10.177851729253897,10.518593557836013,10.72590917897022,9.343805038075516,8.615542471527153,8.173800724956578,8.099911311270283,8.413011057034506,9.058347375129188,9.679231081500346,9.347526087685617,10.882193262594466,8.068016600326558,7.80754312761948,8.70910029029541,14.304495746856045,8.290747998416897,8.615542471527153,8.095658683144453,12.643844463719486,8.468295222670296,10.075257075718252,11.587066374450767,11.359019191203139,8.553347785186892,10.548893533232551,9.155094664991816,8.986052696990079,8.645310868407963,8.388026866795256,9.23748933492977,11.730060995181795,10.279383225758085,16.51692552931903,15.030631999341491,14.849151094071704,9.79033099128765,5.394176666211036,5.764155313158234,6.541854681669369,7.127122627486704,7.521022307641694,8.241311196454125,7.029843759108346,8.589495124256445,22.669415270363373,25.43468670918424,22.715662601231774,19.228507538051293,14.79726903093658,6.563601075494636,6.447765284385383,5.813592115121006,5.494113427168038,4.71375616607826,4.460193214075654,4.495277396113751,5.312168598829977,5.706213254943803,5.512815325857767,6.753954509445133,6.5498283594053,5.033234854031228,4.500593181271038,4.722489241693803,4.5732422450872985,4.463382685170027,4.486240561346362,5.2166294419576404,7.391317149803884,10.869435378216977,14.74623749342662,16.521178157444858,14.319379945296447,14.740825057630108,15.97949964991728,18.69055008013381,15.444200084578444,11.366992868939072,7.961700897180812,10.005620290157786,9.973194000698335,8.936084316511579,6.021439314770941,8.614479314495696,11.100140454043247,8.970105341518218,9.002000052461941,9.117884168890804,8.343374271474042,8.222126044568281,8.25054133249996,8.374737403902039,9.735578404167592,19.049365578250708,11.273116103061376,15.364994885734863,9.287989293924,10.014657124925176,10.635540831296336,9.10778417709196,9.641489006883607,9.211441987659063,9.049842118877528,8.363042676556006,12.83521272938183,14.849363725477996,13.109555568817466,12.740591753582112,10.033262372975681,8.060574501106357,7.16960058342539,6.1107445054133676,5.75777637096949,5.077355870836713,5.842828933486087,6.082570844079744,6.923528055962599,10.182635935895455,10.294267424198488,9.192305161092829,8.236526989812567,8.40716369336149,8.947779043857611,9.551439606319159,5.454245038488383,5.073634821226611,5.1039347966231485,4.837613960243054,4.920540208696737,4.9301904032899655,5.5621554771813155,6.200001370736183,10.407493648048709,6.299454878497068,11.28672451306403,6.26064964684887,6.129881331979602,6.479128416813379,7.185596264216864,6.564712557845706,7.371117166206192,11.805013565899543,12.605570810587015,8.906315919630769,12.106321933678515,8.814884414925427,7.6002275064852745,7.078748982555388,7.231843595085264,6.818807088364039,7.008580618479196,5.686544849861839,6.150081315577294,7.3134167345898184,7.805416813556565,9.485736501775087,10.984787916130113,9.283350063241276,9.422526983722982,7.140412090379922,7.104973522664673,6.759028668004362,11.39535983155114,7.87026939247547,9.289584029471186,8.032497490411957,8.913758018850972,9.438426013875231,9.600025882656766,9.07004210247522,8.883989621970162,8.901531712989211,13.461412220910276,9.038147391531496,7.755980011593794,7.696974796347904,8.680395050446059,8.609695107854137,14.827462690629972,7.97126931046393,11.863487202629706,7.534311770534912,5.8880131073230295,6.602986210978173,7.026944239931643,11.655640002979773,12.828302208677353,7.050720297180601,7.2323751736009925,8.887275743703759,8.812226522346783,9.171573598979407,8.093532369081537,8.28968484138544,8.515605710570151,8.163700733157732,7.541753869755114,7.433311852546453,7.6581695646997066,8.791494960233363,9.834983586608864,9.533578568190674,8.058448187043442,7.305201430255829,8.380053189059325,8.783521282497432,9.416631294730353,8.538995165262216,9.963625587415219,10.320314771469198,10.690293418416395,9.801494140117955,11.170840396635167,14.7400221138581,15.877436574897363,11.777248811116483,9.4804207166178,9.386331319333816,8.18496387378688,8.164232311673459,8.099186431476108,8.85581596063654,9.10103721900771,9.859436198332386,9.867313225429093,9.358157658000192,8.870700159076945,9.485736501775088,12.031997592115715,10.848703816103558,11.11927728060948,11.139477264207173,9.777041528394433,9.091305243104369,8.693152934823548,9.084926300915624,10.81734068367556,10.133199133932683,10.814379031945073,9.558848993015317,9.74036261080915,9.659031097902654,9.666473197122855,9.18752095445127,9.195494632187199,9.618631130707271,9.301810335332947,9.012631622776517,9.367194492767581,9.880167760445808,9.336362938855315,8.485402385812838,8.79734232390638,8.903126448536398,9.564941700618668,12.166486956595083,9.653715312745366,11.033693139577156,10.742919691473539,13.316291286116332,13.746338305340874,9.89079933076038,9.73185735455749,10.15605701010902,14.400179879687219,14.237516853874222,12.454602512120054,10.410683119143082,9.529325940064844,8.309884824983133,8.528895173463368,9.177420962652423,10.46596728477887,10.532946177760689,9.909936157326616,9.218352508363534,10.278320068726627,9.181142012262525,9.183799904841168,9.44321022051679,9.213568301721978,9.511252270530067,8.55441094221835,8.460853123450093,7.785216829958874,10.140641233152886,9.809467817853886,10.325098978110756,11.839566169421914,11.021998412231124,9.738236296746235,9.643083742430793,9.12001048295372,9.01901056496526,9.343273459559787,9.851462520596456,11.048045759501832,10.736009170769066,9.116289433343619,8.836147555554577,8.374205825386309,9.333173467760941,8.8217949356299,8.958410614172186,8.939805366121679,8.442779453915316,8.573547768784582,8.507100454318493,8.178053353082406,9.734515247136134,10.173599101128065,9.474041774429056,9.483773750332396,8.362511098040276,7.898974632324822,7.998379814766095,7.173901536870831,7.203138355235912,7.917579880375328,8.44862681758833,8.563979355501466,12.890496895017616,10.898140618066328,9.302341913848675,8.449689974619789,9.944488760848984,10.427162053130672,9.973725579214063,8.995089531757468,7.88727990497879,8.140311278465667,8.70431608365385,8.229084890592365,8.229084890592365,8.229084890592365,8.781926546950245,10.168283315970779,10.168283315970779,8.593481963124411,8.733601227338543,8.651158232080979,8.255132237863073,8.066421864779374,8.16774890800828,8.814884414925427,8.961068506750829,8.03027452570982,8.08449553431415,7.944690384677493,7.8883430620102475,7.517301258031593,7.569927531088737,7.292975124394067,7.110643693499113,6.507930307301954,6.452549491026942,8.187621766365524,8.390684759373901,8.368890040229022,8.441716296883857,7.961169318665084,7.544411762333758,7.0878341426423885,6.442401173908485,6.312212762874557,6.383607846602431,6.457333697668501,6.743322939130559,7.368990852143277,7.205796247814556,6.655612484035318,7.023464816919601,7.374838215816292,7.70707478814675,8.263637494114732,8.41566894961315,8.368890040229022,8.604910901212579,9.403873410352864,9.253968268917362,9.37144712089341,9.708999478381156,12.111202790959297,12.82989694422454,9.469789146303224,8.05153766633897,9.319352426351994,7.621490647114424,7.912264095218041,7.304138273224371,7.787874722537517,7.582685415466226,8.049942930791783,8.694747670370734,8.9105685477566,7.9861535089043345,7.57311700218311,7.003796411837637,7.583339665947124,8.113200774163502,7.7081379451782075,7.682090597907499,6.952233295811951,7.148917346631581,8.036121889382834,8.497532041035374,7.9058851530292955,7.901632524903466,7.0197437673095,7.452593655071523,6.978232317763046,6.77628080710574,6.408960052737186,6.517402069945848,6.580659913317566,7.597038035390902,9.111341664081836,11.361145505266055,11.431313869342247,8.386963709763798,8.38962160234244,8.022300847973888,7.738969499090474,8.253537502315886,8.720795017641443,8.501784669161205,8.198253336680098,8.488495206267986,9.575573270933244,10.236856944499785,11.08153520599274,10.514340929710183,10.576004037534718,10.959803725890861,10.50743040900571,10.18104120034827,10.283635853883915,10.202835919493147,10.77215650983862,12.801191704375189,13.71019096627132,12.102165956191907,11.809797772541103,10.440983094539618,9.634578486179134,8.941400101668865,7.618446151978888,6.904922807912093,7.145196297021481,7.341348769325383,6.934691204792902,6.774686071558554,7.696443217832175,8.298721676152828,8.259916444504633,8.431616305085011,8.685710835603345,8.412479478518776,7.870269392475471,7.303606694708642,7.160080495461885,6.730565054753068,6.704027019621688,6.888975452440231,8.267890122240562,7.388127678709511,6.74279136061483,6.9219333204154125,9.667246402236643,9.07429473060105,7.687454708384399,6.0932024143943195,5.762560577611048,5.791265817460399,4.894492861426029,5.095961118887218,6.1856970761311185,7.935653549910104,6.840601807508917,7.390785571288154,7.210580454456114,7.271711983764918,7.753853697530878,7.05748584192624,6.347828523428381,6.104897141740351,6.150081315577294,6.254270704660126,6.370154821088988,8.919605382523988,9.252373533370175,7.789469458084703,7.002201676290451,7.597038035390903,6.739311937602787,5.937449909285801,5.44733451778391,5.376634575191989,6.408960052737186,5.701429048302244,6.970838543862456,9.106721020060501,10.861993278996774,6.707707178576733,5.748739536202102,6.793822898124788,6.7013282363879885,5.761497420579591,5.205466293127337,6.107023455803267,6.427565300787691,6.406833738674271,8.956284300109271,11.111835181389278,7.340285612293925,7.672957112500888,6.175065505816544,6.240981241766907,6.368560085541803,5.772128990894165,5.596176502187955,5.081076920446813,5.255966252121566,5.626476477584493,6.635412500437626,8.694747670370734,7.963295632727999,7.0569542634105105,7.476901290836209,9.528262783033387,6.069281381186526,6.001239331173249,5.600429130313785,6.780001856715842,6.717275591859851,7.06120689153634,7.779369466285857,8.439589982820943,9.436831278328043,9.501683857246949,9.072699995053863,7.000075362227537,7.127654206002433,7.055891106379053,6.825717609068512,6.21142547629239,6.829197032080555,6.217895546226687,8.006401817821638,9.40068393925849,9.99126767023311,9.192836739608556,7.859637822160897,8.365700569134649,9.578762742027616,11.43450334043662],\"yaxis\":\"y\",\"type\":\"scattergl\"}],                        {\"template\":{\"data\":{\"histogram2dcontour\":[{\"type\":\"histogram2dcontour\",\"colorbar\":{\"outlinewidth\":0,\"ticks\":\"\"},\"colorscale\":[[0.0,\"#0d0887\"],[0.1111111111111111,\"#46039f\"],[0.2222222222222222,\"#7201a8\"],[0.3333333333333333,\"#9c179e\"],[0.4444444444444444,\"#bd3786\"],[0.5555555555555556,\"#d8576b\"],[0.6666666666666666,\"#ed7953\"],[0.7777777777777778,\"#fb9f3a\"],[0.8888888888888888,\"#fdca26\"],[1.0,\"#f0f921\"]]}],\"choropleth\":[{\"type\":\"choropleth\",\"colorbar\":{\"outlinewidth\":0,\"ticks\":\"\"}}],\"histogram2d\":[{\"type\":\"histogram2d\",\"colorbar\":{\"outlinewidth\":0,\"ticks\":\"\"},\"colorscale\":[[0.0,\"#0d0887\"],[0.1111111111111111,\"#46039f\"],[0.2222222222222222,\"#7201a8\"],[0.3333333333333333,\"#9c179e\"],[0.4444444444444444,\"#bd3786\"],[0.5555555555555556,\"#d8576b\"],[0.6666666666666666,\"#ed7953\"],[0.7777777777777778,\"#fb9f3a\"],[0.8888888888888888,\"#fdca26\"],[1.0,\"#f0f921\"]]}],\"heatmap\":[{\"type\":\"heatmap\",\"colorbar\":{\"outlinewidth\":0,\"ticks\":\"\"},\"colorscale\":[[0.0,\"#0d0887\"],[0.1111111111111111,\"#46039f\"],[0.2222222222222222,\"#7201a8\"],[0.3333333333333333,\"#9c179e\"],[0.4444444444444444,\"#bd3786\"],[0.5555555555555556,\"#d8576b\"],[0.6666666666666666,\"#ed7953\"],[0.7777777777777778,\"#fb9f3a\"],[0.8888888888888888,\"#fdca26\"],[1.0,\"#f0f921\"]]}],\"heatmapgl\":[{\"type\":\"heatmapgl\",\"colorbar\":{\"outlinewidth\":0,\"ticks\":\"\"},\"colorscale\":[[0.0,\"#0d0887\"],[0.1111111111111111,\"#46039f\"],[0.2222222222222222,\"#7201a8\"],[0.3333333333333333,\"#9c179e\"],[0.4444444444444444,\"#bd3786\"],[0.5555555555555556,\"#d8576b\"],[0.6666666666666666,\"#ed7953\"],[0.7777777777777778,\"#fb9f3a\"],[0.8888888888888888,\"#fdca26\"],[1.0,\"#f0f921\"]]}],\"contourcarpet\":[{\"type\":\"contourcarpet\",\"colorbar\":{\"outlinewidth\":0,\"ticks\":\"\"}}],\"contour\":[{\"type\":\"contour\",\"colorbar\":{\"outlinewidth\":0,\"ticks\":\"\"},\"colorscale\":[[0.0,\"#0d0887\"],[0.1111111111111111,\"#46039f\"],[0.2222222222222222,\"#7201a8\"],[0.3333333333333333,\"#9c179e\"],[0.4444444444444444,\"#bd3786\"],[0.5555555555555556,\"#d8576b\"],[0.6666666666666666,\"#ed7953\"],[0.7777777777777778,\"#fb9f3a\"],[0.8888888888888888,\"#fdca26\"],[1.0,\"#f0f921\"]]}],\"surface\":[{\"type\":\"surface\",\"colorbar\":{\"outlinewidth\":0,\"ticks\":\"\"},\"colorscale\":[[0.0,\"#0d0887\"],[0.1111111111111111,\"#46039f\"],[0.2222222222222222,\"#7201a8\"],[0.3333333333333333,\"#9c179e\"],[0.4444444444444444,\"#bd3786\"],[0.5555555555555556,\"#d8576b\"],[0.6666666666666666,\"#ed7953\"],[0.7777777777777778,\"#fb9f3a\"],[0.8888888888888888,\"#fdca26\"],[1.0,\"#f0f921\"]]}],\"mesh3d\":[{\"type\":\"mesh3d\",\"colorbar\":{\"outlinewidth\":0,\"ticks\":\"\"}}],\"scatter\":[{\"fillpattern\":{\"fillmode\":\"overlay\",\"size\":10,\"solidity\":0.2},\"type\":\"scatter\"}],\"parcoords\":[{\"type\":\"parcoords\",\"line\":{\"colorbar\":{\"outlinewidth\":0,\"ticks\":\"\"}}}],\"scatterpolargl\":[{\"type\":\"scatterpolargl\",\"marker\":{\"colorbar\":{\"outlinewidth\":0,\"ticks\":\"\"}}}],\"bar\":[{\"error_x\":{\"color\":\"#2a3f5f\"},\"error_y\":{\"color\":\"#2a3f5f\"},\"marker\":{\"line\":{\"color\":\"#E5ECF6\",\"width\":0.5},\"pattern\":{\"fillmode\":\"overlay\",\"size\":10,\"solidity\":0.2}},\"type\":\"bar\"}],\"scattergeo\":[{\"type\":\"scattergeo\",\"marker\":{\"colorbar\":{\"outlinewidth\":0,\"ticks\":\"\"}}}],\"scatterpolar\":[{\"type\":\"scatterpolar\",\"marker\":{\"colorbar\":{\"outlinewidth\":0,\"ticks\":\"\"}}}],\"histogram\":[{\"marker\":{\"pattern\":{\"fillmode\":\"overlay\",\"size\":10,\"solidity\":0.2}},\"type\":\"histogram\"}],\"scattergl\":[{\"type\":\"scattergl\",\"marker\":{\"colorbar\":{\"outlinewidth\":0,\"ticks\":\"\"}}}],\"scatter3d\":[{\"type\":\"scatter3d\",\"line\":{\"colorbar\":{\"outlinewidth\":0,\"ticks\":\"\"}},\"marker\":{\"colorbar\":{\"outlinewidth\":0,\"ticks\":\"\"}}}],\"scattermapbox\":[{\"type\":\"scattermapbox\",\"marker\":{\"colorbar\":{\"outlinewidth\":0,\"ticks\":\"\"}}}],\"scatterternary\":[{\"type\":\"scatterternary\",\"marker\":{\"colorbar\":{\"outlinewidth\":0,\"ticks\":\"\"}}}],\"scattercarpet\":[{\"type\":\"scattercarpet\",\"marker\":{\"colorbar\":{\"outlinewidth\":0,\"ticks\":\"\"}}}],\"carpet\":[{\"aaxis\":{\"endlinecolor\":\"#2a3f5f\",\"gridcolor\":\"white\",\"linecolor\":\"white\",\"minorgridcolor\":\"white\",\"startlinecolor\":\"#2a3f5f\"},\"baxis\":{\"endlinecolor\":\"#2a3f5f\",\"gridcolor\":\"white\",\"linecolor\":\"white\",\"minorgridcolor\":\"white\",\"startlinecolor\":\"#2a3f5f\"},\"type\":\"carpet\"}],\"table\":[{\"cells\":{\"fill\":{\"color\":\"#EBF0F8\"},\"line\":{\"color\":\"white\"}},\"header\":{\"fill\":{\"color\":\"#C8D4E3\"},\"line\":{\"color\":\"white\"}},\"type\":\"table\"}],\"barpolar\":[{\"marker\":{\"line\":{\"color\":\"#E5ECF6\",\"width\":0.5},\"pattern\":{\"fillmode\":\"overlay\",\"size\":10,\"solidity\":0.2}},\"type\":\"barpolar\"}],\"pie\":[{\"automargin\":true,\"type\":\"pie\"}]},\"layout\":{\"autotypenumbers\":\"strict\",\"colorway\":[\"#636efa\",\"#EF553B\",\"#00cc96\",\"#ab63fa\",\"#FFA15A\",\"#19d3f3\",\"#FF6692\",\"#B6E880\",\"#FF97FF\",\"#FECB52\"],\"font\":{\"color\":\"#2a3f5f\"},\"hovermode\":\"closest\",\"hoverlabel\":{\"align\":\"left\"},\"paper_bgcolor\":\"white\",\"plot_bgcolor\":\"#E5ECF6\",\"polar\":{\"bgcolor\":\"#E5ECF6\",\"angularaxis\":{\"gridcolor\":\"white\",\"linecolor\":\"white\",\"ticks\":\"\"},\"radialaxis\":{\"gridcolor\":\"white\",\"linecolor\":\"white\",\"ticks\":\"\"}},\"ternary\":{\"bgcolor\":\"#E5ECF6\",\"aaxis\":{\"gridcolor\":\"white\",\"linecolor\":\"white\",\"ticks\":\"\"},\"baxis\":{\"gridcolor\":\"white\",\"linecolor\":\"white\",\"ticks\":\"\"},\"caxis\":{\"gridcolor\":\"white\",\"linecolor\":\"white\",\"ticks\":\"\"}},\"coloraxis\":{\"colorbar\":{\"outlinewidth\":0,\"ticks\":\"\"}},\"colorscale\":{\"sequential\":[[0.0,\"#0d0887\"],[0.1111111111111111,\"#46039f\"],[0.2222222222222222,\"#7201a8\"],[0.3333333333333333,\"#9c179e\"],[0.4444444444444444,\"#bd3786\"],[0.5555555555555556,\"#d8576b\"],[0.6666666666666666,\"#ed7953\"],[0.7777777777777778,\"#fb9f3a\"],[0.8888888888888888,\"#fdca26\"],[1.0,\"#f0f921\"]],\"sequentialminus\":[[0.0,\"#0d0887\"],[0.1111111111111111,\"#46039f\"],[0.2222222222222222,\"#7201a8\"],[0.3333333333333333,\"#9c179e\"],[0.4444444444444444,\"#bd3786\"],[0.5555555555555556,\"#d8576b\"],[0.6666666666666666,\"#ed7953\"],[0.7777777777777778,\"#fb9f3a\"],[0.8888888888888888,\"#fdca26\"],[1.0,\"#f0f921\"]],\"diverging\":[[0,\"#8e0152\"],[0.1,\"#c51b7d\"],[0.2,\"#de77ae\"],[0.3,\"#f1b6da\"],[0.4,\"#fde0ef\"],[0.5,\"#f7f7f7\"],[0.6,\"#e6f5d0\"],[0.7,\"#b8e186\"],[0.8,\"#7fbc41\"],[0.9,\"#4d9221\"],[1,\"#276419\"]]},\"xaxis\":{\"gridcolor\":\"white\",\"linecolor\":\"white\",\"ticks\":\"\",\"title\":{\"standoff\":15},\"zerolinecolor\":\"white\",\"automargin\":true,\"zerolinewidth\":2},\"yaxis\":{\"gridcolor\":\"white\",\"linecolor\":\"white\",\"ticks\":\"\",\"title\":{\"standoff\":15},\"zerolinecolor\":\"white\",\"automargin\":true,\"zerolinewidth\":2},\"scene\":{\"xaxis\":{\"backgroundcolor\":\"#E5ECF6\",\"gridcolor\":\"white\",\"linecolor\":\"white\",\"showbackground\":true,\"ticks\":\"\",\"zerolinecolor\":\"white\",\"gridwidth\":2},\"yaxis\":{\"backgroundcolor\":\"#E5ECF6\",\"gridcolor\":\"white\",\"linecolor\":\"white\",\"showbackground\":true,\"ticks\":\"\",\"zerolinecolor\":\"white\",\"gridwidth\":2},\"zaxis\":{\"backgroundcolor\":\"#E5ECF6\",\"gridcolor\":\"white\",\"linecolor\":\"white\",\"showbackground\":true,\"ticks\":\"\",\"zerolinecolor\":\"white\",\"gridwidth\":2}},\"shapedefaults\":{\"line\":{\"color\":\"#2a3f5f\"}},\"annotationdefaults\":{\"arrowcolor\":\"#2a3f5f\",\"arrowhead\":0,\"arrowwidth\":1},\"geo\":{\"bgcolor\":\"white\",\"landcolor\":\"#E5ECF6\",\"subunitcolor\":\"white\",\"showland\":true,\"showlakes\":true,\"lakecolor\":\"white\"},\"title\":{\"x\":0.05},\"mapbox\":{\"style\":\"light\"}}},\"xaxis\":{\"anchor\":\"y\",\"domain\":[0.0,1.0],\"title\":{\"text\":\"timestamp\"}},\"yaxis\":{\"anchor\":\"x\",\"domain\":[0.0,1.0],\"title\":{\"text\":\"P2\"}},\"legend\":{\"title\":{\"text\":\"variable\"},\"tracegroupgap\":0},\"margin\":{\"t\":60}},                        {\"responsive\": true}                    ).then(function(){\n",
       "                            \n",
       "var gd = document.getElementById('70432f0d-0577-4c76-b129-465e3d2fee93');\n",
       "var x = new MutationObserver(function (mutations, observer) {{\n",
       "        var display = window.getComputedStyle(gd).display;\n",
       "        if (!display || display === 'none') {{\n",
       "            console.log([gd, 'removed!']);\n",
       "            Plotly.purge(gd);\n",
       "            observer.disconnect();\n",
       "        }}\n",
       "}});\n",
       "\n",
       "// Listen for the removal of the full notebook cells\n",
       "var notebookContainer = gd.closest('#notebook-container');\n",
       "if (notebookContainer) {{\n",
       "    x.observe(notebookContainer, {childList: true});\n",
       "}}\n",
       "\n",
       "// Listen for the clearing of the current output cell\n",
       "var outputEl = gd.closest('.output');\n",
       "if (outputEl) {{\n",
       "    x.observe(outputEl, {childList: true});\n",
       "}}\n",
       "\n",
       "                        })                };                });            </script>        </div>"
      ]
     },
     "metadata": {},
     "output_type": "display_data"
    }
   ],
   "source": [
    "fig =px.line(df_pred_test,labels={\"value\":\"P2\"})\n",
    "fig.show()"
   ]
  },
  {
   "cell_type": "markdown",
   "id": "5fc5b814",
   "metadata": {
    "deletable": false,
    "editable": false
   },
   "source": [
    "---\n",
    "Copyright 2023 WorldQuant University. This\n",
    "content is licensed solely for personal use. Redistribution or\n",
    "publication of this material is strictly prohibited.\n"
   ]
  }
 ],
 "metadata": {
  "kernelspec": {
   "display_name": "Python 3 (ipykernel)",
   "language": "python",
   "name": "python3"
  },
  "language_info": {
   "codemirror_mode": {
    "name": "ipython",
    "version": 3
   },
   "file_extension": ".py",
   "mimetype": "text/x-python",
   "name": "python",
   "nbconvert_exporter": "python",
   "pygments_lexer": "ipython3",
   "version": "3.11.0"
  },
  "toc-autonumbering": false,
  "widgets": {
   "application/vnd.jupyter.widget-state+json": {
    "state": {},
    "version_major": 2,
    "version_minor": 0
   }
  }
 },
 "nbformat": 4,
 "nbformat_minor": 5
}
