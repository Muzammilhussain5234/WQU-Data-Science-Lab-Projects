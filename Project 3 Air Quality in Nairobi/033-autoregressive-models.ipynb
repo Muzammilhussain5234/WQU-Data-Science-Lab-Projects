{
 "cells": [
  {
   "cell_type": "markdown",
   "id": "da0b1108-1533-44cb-9ca3-97c6cccd6a5e",
   "metadata": {},
   "source": [
    "<font size=\"+3\"><strong>3.3. Autoregressive Models</strong></font>"
   ]
  },
  {
   "cell_type": "code",
   "execution_count": 1,
   "id": "2a2428fb-63b3-47b2-94c2-34501f9e3f3e",
   "metadata": {},
   "outputs": [],
   "source": [
    "import warnings\n",
    "\n",
    "import matplotlib.pyplot as plt\n",
    "import pandas as pd\n",
    "import plotly.express as px\n",
    "from IPython.display import VimeoVideo\n",
    "from pymongo import MongoClient\n",
    "from sklearn.metrics import mean_absolute_error\n",
    "from statsmodels.graphics.tsaplots import plot_acf, plot_pacf\n",
    "from statsmodels.tsa.ar_model import AutoReg\n",
    "\n",
    "warnings.simplefilter(action=\"ignore\", category=FutureWarning)"
   ]
  },
  {
   "cell_type": "code",
   "execution_count": 2,
   "id": "38e20181-2307-4291-a9ea-26c84453f377",
   "metadata": {},
   "outputs": [
    {
     "data": {
      "text/html": [
       "\n",
       "        <iframe\n",
       "            width=\"600\"\n",
       "            height=\"300\"\n",
       "            src=\"https://player.vimeo.com/video/665851858?h=e39fc3d260\"\n",
       "            frameborder=\"0\"\n",
       "            allowfullscreen\n",
       "            \n",
       "        ></iframe>\n",
       "        "
      ],
      "text/plain": [
       "<IPython.lib.display.VimeoVideo at 0x72dbb4d6ca10>"
      ]
     },
     "execution_count": 2,
     "metadata": {},
     "output_type": "execute_result"
    }
   ],
   "source": [
    "VimeoVideo(\"665851858\", h=\"e39fc3d260\", width=600)"
   ]
  },
  {
   "cell_type": "markdown",
   "id": "ff1a66f1-3742-4825-bc0a-89c3ed28f43a",
   "metadata": {},
   "source": [
    "<div style=\"padding: 1em; border: 1px solid #f0ad4e; border-left: 6px solid #f0ad4e; background-color: #fcf8e3; color: #8a6d3b; border-radius: 4px;\">\n",
    "\n",
    "<strong>🛠️ Instruction:</strong> Locate the IP address of the machine running MongoDB and assign it to the variable <code>host</code>. Make sure to use a <strong>string</strong> (i.e., wrap the IP in quotes).<br><br>\n",
    "\n",
    "<strong>⚠️ Note:</strong> The IP address is <strong>dynamic</strong> — it may change every time you start the lab. Always check the current IP before proceeding.\n",
    "\n",
    "</div>\n",
    "\n",
    "<img src=\"../images/mongo_ip.png\" alt=\"MongoDB\" width=\"600\"/>\n"
   ]
  },
  {
   "cell_type": "code",
   "execution_count": 3,
   "id": "ac5f2d9e-18cc-465a-9a81-0d5d7c1058d8",
   "metadata": {},
   "outputs": [],
   "source": [
    "host = \"...\""
   ]
  },
  {
   "cell_type": "markdown",
   "id": "19b28a2d-f364-4479-99f4-273cfcbd59e2",
   "metadata": {},
   "source": [
    "# Prepare Data"
   ]
  },
  {
   "cell_type": "markdown",
   "id": "00ce3f87-f7f4-482c-9c41-09173cdcefbb",
   "metadata": {
    "tags": []
   },
   "source": [
    "## Import"
   ]
  },
  {
   "cell_type": "code",
   "execution_count": 4,
   "id": "9da64f93-2a92-46a7-8541-4bee1807745e",
   "metadata": {},
   "outputs": [
    {
     "data": {
      "text/html": [
       "\n",
       "        <iframe\n",
       "            width=\"600\"\n",
       "            height=\"300\"\n",
       "            src=\"https://player.vimeo.com/video/665851852?h=16aa0a56e6\"\n",
       "            frameborder=\"0\"\n",
       "            allowfullscreen\n",
       "            \n",
       "        ></iframe>\n",
       "        "
      ],
      "text/plain": [
       "<IPython.lib.display.VimeoVideo at 0x72dbb42b0ed0>"
      ]
     },
     "execution_count": 4,
     "metadata": {},
     "output_type": "execute_result"
    }
   ],
   "source": [
    "VimeoVideo(\"665851852\", h=\"16aa0a56e6\", width=600)"
   ]
  },
  {
   "cell_type": "markdown",
   "id": "4664b45c-ad3f-42e7-95c9-d1a566a31af1",
   "metadata": {},
   "source": [
    "**Task 3.3.1:** Complete to the create a client to connect to the MongoDB server running at `host` on port `27017`, assigns the `\"air-quality\"` database to `db`, and assigned the `\"nairobi\"` connection to `nairobi`.\n",
    "\n",
    "- [<span id='technique'>Create a client object for a <span id='tool'>MongoDB</span> instance.](../%40textbook/11-databases-mongodb.ipynb#Servers-and-Clients) \n",
    "- [<span id='technique'>Access a database using <span id='tool'>PyMongo.](../%40textbook/11-databases-mongodb.ipynb#Servers-and-Clients)\n",
    "- [<span id='technique'>Access a collection in a database using <span id='tool'>PyMongo.](../%40textbook/11-databases-mongodb.ipynb#Collections)"
   ]
  },
  {
   "cell_type": "code",
   "execution_count": 5,
   "id": "9fe15e42-c61c-4d0b-8372-6c8e61409c2a",
   "metadata": {},
   "outputs": [
    {
     "data": {
      "text/plain": [
       "Collection(Database(MongoClient(host=['192.125.2.2:27017'], document_class=dict, tz_aware=False, connect=True), 'air-quality'), 'nairobi')"
      ]
     },
     "execution_count": 5,
     "metadata": {},
     "output_type": "execute_result"
    }
   ],
   "source": [
    "client =MongoClient(host=\"192.125.2.2\",port=27017)\n",
    "db = client[\"air-quality\"]\n",
    "nairobi = db[\"nairobi\"]\n",
    "nairobi"
   ]
  },
  {
   "cell_type": "code",
   "execution_count": 6,
   "id": "ffb6d217-6809-42ed-bd49-939b92c64d40",
   "metadata": {},
   "outputs": [
    {
     "data": {
      "text/html": [
       "\n",
       "        <iframe\n",
       "            width=\"600\"\n",
       "            height=\"300\"\n",
       "            src=\"https://player.vimeo.com/video/665851840?h=e048425f49\"\n",
       "            frameborder=\"0\"\n",
       "            allowfullscreen\n",
       "            \n",
       "        ></iframe>\n",
       "        "
      ],
      "text/plain": [
       "<IPython.lib.display.VimeoVideo at 0x72dbb4209350>"
      ]
     },
     "execution_count": 6,
     "metadata": {},
     "output_type": "execute_result"
    }
   ],
   "source": [
    "VimeoVideo(\"665851840\", h=\"e048425f49\", width=600)"
   ]
  },
  {
   "cell_type": "markdown",
   "id": "2d69b42e-025e-46ac-a4cb-2623d8f155a1",
   "metadata": {},
   "source": [
    "**Task 3.3.2:** Change the `wrangle` function below so that it returns a Series of the resampled data instead of a DataFrame."
   ]
  },
  {
   "cell_type": "code",
   "execution_count": 7,
   "id": "7ed78dd3-1e79-453f-867e-a6a092eb80a9",
   "metadata": {},
   "outputs": [],
   "source": [
    "def wrangle(collection):\n",
    "    results = collection.find(\n",
    "        {\"metadata.site\": 29, \"metadata.measurement\": \"P2\"},\n",
    "        projection={\"P2\": 1, \"timestamp\": 1, \"_id\": 0},\n",
    "    )\n",
    "\n",
    "    # Read data into DataFrame\n",
    "    df = pd.DataFrame(list(results)).set_index(\"timestamp\")\n",
    "\n",
    "    # Localize timezone\n",
    "    df.index = df.index.tz_localize(\"UTC\").tz_convert(\"Africa/Nairobi\")\n",
    "\n",
    "    # Remove outliers\n",
    "    df = df[df[\"P2\"] < 500]\n",
    "\n",
    "    # Resample to 1hr window\n",
    "    y = df[\"P2\"].resample(\"1H\").mean().fillna(method='ffill')\n",
    "\n",
    "    return y"
   ]
  },
  {
   "cell_type": "markdown",
   "id": "18d44196-3c70-4bf7-a2e0-3e061480be1d",
   "metadata": {},
   "source": [
    "**Task 3.3.3:** Use your wrangle function to read the data from the `nairobi` collection into the Series `y`."
   ]
  },
  {
   "cell_type": "code",
   "execution_count": 8,
   "id": "51ac4862-d53e-4ec9-8c30-b97be3156a7e",
   "metadata": {},
   "outputs": [
    {
     "data": {
      "text/plain": [
       "timestamp\n",
       "2018-09-01 03:00:00+03:00    17.541667\n",
       "2018-09-01 04:00:00+03:00    15.800000\n",
       "2018-09-01 05:00:00+03:00    11.420000\n",
       "2018-09-01 06:00:00+03:00    11.614167\n",
       "2018-09-01 07:00:00+03:00    17.665000\n",
       "Freq: H, Name: P2, dtype: float64"
      ]
     },
     "execution_count": 8,
     "metadata": {},
     "output_type": "execute_result"
    }
   ],
   "source": [
    "y =wrangle(nairobi)\n",
    "y.head()"
   ]
  },
  {
   "cell_type": "code",
   "execution_count": 9,
   "id": "bc377937-46d2-4b73-b79a-acf4fd37603b",
   "metadata": {},
   "outputs": [],
   "source": [
    "# Check your work\n",
    "assert isinstance(y, pd.Series), f\"`y` should be a Series, not type {type(y)}\"\n",
    "assert len(y) == 2928, f\"`y` should have 2928 observations, not {len(y)}\"\n",
    "assert y.isnull().sum() == 0"
   ]
  },
  {
   "cell_type": "markdown",
   "id": "8730fa2c-0970-42b1-bb18-d334bd8d8b2d",
   "metadata": {},
   "source": [
    "## Explore"
   ]
  },
  {
   "cell_type": "code",
   "execution_count": 10,
   "id": "86d3d7a9-ac9d-47f6-8b7e-d2eeda8e5d42",
   "metadata": {},
   "outputs": [
    {
     "data": {
      "text/html": [
       "\n",
       "        <iframe\n",
       "            width=\"600\"\n",
       "            height=\"300\"\n",
       "            src=\"https://player.vimeo.com/video/665851830?h=85f58bc92b\"\n",
       "            frameborder=\"0\"\n",
       "            allowfullscreen\n",
       "            \n",
       "        ></iframe>\n",
       "        "
      ],
      "text/plain": [
       "<IPython.lib.display.VimeoVideo at 0x72dbb28b8150>"
      ]
     },
     "execution_count": 10,
     "metadata": {},
     "output_type": "execute_result"
    }
   ],
   "source": [
    "VimeoVideo(\"665851830\", h=\"85f58bc92b\", width=600)"
   ]
  },
  {
   "cell_type": "markdown",
   "id": "a5829db3-8427-4f78-81b7-d4068ad5d480",
   "metadata": {},
   "source": [
    "**Task 3.3.4:** Create an ACF plot for the data in `y`. Be sure to label the x-axis as `\"Lag [hours]\"` and the y-axis as `\"Correlation Coefficient\"`.\n",
    "\n",
    "- [What's an <span id='term'>ACF plot?](../%40textbook/17-ts-core.ipynb#ACF-Plot)\n",
    "- [<span id='technique'>Create an ACF plot using <span id='tool'>statsmodels](../%40textbook/18-ts-models.ipynb#Creating-an-ACF-Plot)"
   ]
  },
  {
   "cell_type": "code",
   "execution_count": 11,
   "id": "bda3cfc3-6353-4c19-806c-d91b7e44ad5c",
   "metadata": {},
   "outputs": [
    {
     "data": {
      "image/png": "[encoded data removed]",
      "text/plain": [
       "<Figure size 1500x600 with 1 Axes>"
      ]
     },
     "metadata": {},
     "output_type": "display_data"
    }
   ],
   "source": [
    "fig, ax = plt.subplots(figsize=(15, 6))\n",
    "plot_acf(y,ax=ax)\n",
    "plt.xlabel(\"Lag [hours]\")\n",
    "plt.ylabel(\"Correlation Coefficient\");"
   ]
  },
  {
   "cell_type": "code",
   "execution_count": 16,
   "id": "4e32a266-ac58-40ab-8344-3d9023745828",
   "metadata": {},
   "outputs": [
    {
     "data": {
      "text/html": [
       "\n",
       "        <iframe\n",
       "            width=\"600\"\n",
       "            height=\"300\"\n",
       "            src=\"https://player.vimeo.com/video/665851811?h=ee3a2b5c24\"\n",
       "            frameborder=\"0\"\n",
       "            allowfullscreen\n",
       "            \n",
       "        ></iframe>\n",
       "        "
      ],
      "text/plain": [
       "<IPython.lib.display.VimeoVideo at 0x72dbb1c9ff90>"
      ]
     },
     "execution_count": 16,
     "metadata": {},
     "output_type": "execute_result"
    }
   ],
   "source": [
    "VimeoVideo(\"665851811\", h=\"ee3a2b5c24\", width=600)"
   ]
  },
  {
   "cell_type": "markdown",
   "id": "fbda5fe7-9fc3-424f-99f6-fc8131ae11ec",
   "metadata": {},
   "source": [
    "**Task 3.3.5:** Create an PACF plot for the data in `y`. Be sure to label the x-axis as `\"Lag [hours]\"` and the y-axis as `\"Correlation Coefficient\"`.\n",
    "\n",
    "- [What's a PACF plot?](../%40textbook/17-ts-core.ipynb#PACF-Plot)\n",
    "- [Create an PACF plot using statsmodels](../%40textbook/18-ts-models.ipynb#Creating-a-PACF-Plot)"
   ]
  },
  {
   "cell_type": "code",
   "execution_count": 17,
   "id": "c8df06e5-8c82-4f97-af26-baa3c2eaa6d6",
   "metadata": {},
   "outputs": [
    {
     "data": {
      "image/png": "[encoded data removed]",
      "text/plain": [
       "<Figure size 1500x600 with 1 Axes>"
      ]
     },
     "metadata": {},
     "output_type": "display_data"
    }
   ],
   "source": [
    "fig, ax = plt.subplots(figsize=(15, 6))\n",
    "plot_pacf(y,ax=ax)\n",
    "plt.xlabel(\"Lag [hours]\")\n",
    "plt.ylabel(\"Correlation Coefficient\");"
   ]
  },
  {
   "cell_type": "markdown",
   "id": "c21e2444-6d8b-4e01-8033-881720d97069",
   "metadata": {},
   "source": [
    "## Split"
   ]
  },
  {
   "cell_type": "code",
   "execution_count": 14,
   "id": "4babfeaf-69c4-4827-8c55-e3df0c482c66",
   "metadata": {},
   "outputs": [
    {
     "data": {
      "text/html": [
       "\n",
       "        <iframe\n",
       "            width=\"600\"\n",
       "            height=\"300\"\n",
       "            src=\"https://player.vimeo.com/video/665851798?h=6c191cd94c\"\n",
       "            frameborder=\"0\"\n",
       "            allowfullscreen\n",
       "            \n",
       "        ></iframe>\n",
       "        "
      ],
      "text/plain": [
       "<IPython.lib.display.VimeoVideo at 0x72dbb1cce350>"
      ]
     },
     "execution_count": 14,
     "metadata": {},
     "output_type": "execute_result"
    }
   ],
   "source": [
    "VimeoVideo(\"665851798\", h=\"6c191cd94c\", width=600)"
   ]
  },
  {
   "cell_type": "markdown",
   "id": "8ab7de17-39eb-4098-ac2d-f1202cd622b6",
   "metadata": {},
   "source": [
    "**Task 3.3.6:** Split `y` into training and test sets. The first 95% of the data should be in your training set. The remaining 5% should be in the test set.\n",
    "\n",
    "- [<span id='technique'>Divide data into training and test sets in <span id='tool'>pandas.](../%40textbook/18-ts-models.ipynb#Splitting-the-Data-in-pandas)"
   ]
  },
  {
   "cell_type": "code",
   "execution_count": 23,
   "id": "5ae77566-fa0a-4be7-9cb9-48c0e671b1b1",
   "metadata": {},
   "outputs": [
    {
     "data": {
      "text/plain": [
       "True"
      ]
     },
     "execution_count": 23,
     "metadata": {},
     "output_type": "execute_result"
    }
   ],
   "source": [
    "len(y_train) +len(y_test)==len(y)"
   ]
  },
  {
   "cell_type": "code",
   "execution_count": 20,
   "id": "c60edd04-b3d6-497b-8a30-5bdd2ea47383",
   "metadata": {},
   "outputs": [],
   "source": [
    "cutoff_test =int(len(y)*0.95)\n",
    "\n",
    "y_train =y.iloc[:cutoff_test]\n",
    "\n",
    "y_test =y.iloc[cutoff_test:]"
   ]
  },
  {
   "cell_type": "markdown",
   "id": "3357bfd8-d9b8-4cb0-a777-4865150169ea",
   "metadata": {},
   "source": [
    "# Build Model"
   ]
  },
  {
   "cell_type": "markdown",
   "id": "324141f7-b68d-4128-bdc6-05d4339d31d3",
   "metadata": {},
   "source": [
    "## Baseline"
   ]
  },
  {
   "cell_type": "markdown",
   "id": "a4481ead-912b-483a-a828-1183836eb280",
   "metadata": {},
   "source": [
    "**Task 3.3.7:** Calculate the baseline mean absolute error for your model.\n",
    "\n",
    "- [<span id='technique'>Calculate summary statistics for a DataFrame or Series in <span id='tool'>pandas.](../%40textbook/04-pandas-advanced.ipynb#Calculate-Summary-Statistics-for-a-DataFrame-or-Series)"
   ]
  },
  {
   "cell_type": "code",
   "execution_count": 24,
   "id": "e2acfb6f-5296-401f-856d-4d9bccc0c4a7",
   "metadata": {},
   "outputs": [
    {
     "name": "stdout",
     "output_type": "stream",
     "text": [
      "Mean P2 Reading: 9.22\n",
      "Baseline MAE: 3.71\n"
     ]
    }
   ],
   "source": [
    "y_train_mean = y_train.mean()\n",
    "y_pred_baseline = [y_train_mean] * len(y_train)\n",
    "mae_baseline = mean_absolute_error(y_train, y_pred_baseline)\n",
    "\n",
    "print(\"Mean P2 Reading:\", round(y_train_mean, 2))\n",
    "print(\"Baseline MAE:\", round(mae_baseline, 2))"
   ]
  },
  {
   "cell_type": "markdown",
   "id": "f7b59427-6cbe-4a1a-a927-81bcbacdb28f",
   "metadata": {},
   "source": [
    "## Iterate"
   ]
  },
  {
   "cell_type": "code",
   "execution_count": 28,
   "id": "70c66e0c-48dc-45c6-8525-21e4dd1bcd94",
   "metadata": {
    "scrolled": true
   },
   "outputs": [
    {
     "data": {
      "text/html": [
       "\n",
       "        <iframe\n",
       "            width=\"600\"\n",
       "            height=\"300\"\n",
       "            src=\"https://player.vimeo.com/video/665851769?h=94a4296cde\"\n",
       "            frameborder=\"0\"\n",
       "            allowfullscreen\n",
       "            \n",
       "        ></iframe>\n",
       "        "
      ],
      "text/plain": [
       "<IPython.lib.display.VimeoVideo at 0x72dbb423bf10>"
      ]
     },
     "execution_count": 28,
     "metadata": {},
     "output_type": "execute_result"
    }
   ],
   "source": [
    "VimeoVideo(\"665851769\", h=\"94a4296cde\", width=600)"
   ]
  },
  {
   "cell_type": "markdown",
   "id": "82f28564-9154-4570-ac9a-6aee95e1fb21",
   "metadata": {},
   "source": [
    "**Task 3.3.8:** Instantiate an [`AutoReg`](https://www.statsmodels.org/stable/generated/statsmodels.tsa.ar_model.AutoReg.html) model and fit it to the training data `y_train`. Be sure to set the `lags` argument to `26`.\n",
    "\n",
    "- [What's an <span id='term'>AR model?](../%40textbook/17-ts-core.ipynb#Autoregression-Models)\n",
    "- [<span id='technique'>Instantiate a predictor in <span id='tool'>statsmodels.](../%40textbook/18-ts-models.ipynb#Splitting-the-Data-in-pandas)\n",
    "- [<span id='technique'>Train a model in <span id='tool'>statsmodels.](../%40textbook/18-ts-models.ipynb#Iterating)"
   ]
  },
  {
   "cell_type": "code",
   "execution_count": 29,
   "id": "b73acf9a-c29b-4506-9d5b-91035067a4a3",
   "metadata": {},
   "outputs": [],
   "source": [
    "model = AutoReg(y_train,lags=26).fit()"
   ]
  },
  {
   "cell_type": "code",
   "execution_count": 30,
   "id": "ee52eb26-e623-4d40-8d41-49dd7cfad152",
   "metadata": {},
   "outputs": [
    {
     "data": {
      "text/html": [
       "\n",
       "        <iframe\n",
       "            width=\"600\"\n",
       "            height=\"300\"\n",
       "            src=\"https://player.vimeo.com/video/665851746?h=1a4511e883\"\n",
       "            frameborder=\"0\"\n",
       "            allowfullscreen\n",
       "            \n",
       "        ></iframe>\n",
       "        "
      ],
      "text/plain": [
       "<IPython.lib.display.VimeoVideo at 0x72dbb0e8c210>"
      ]
     },
     "execution_count": 30,
     "metadata": {},
     "output_type": "execute_result"
    }
   ],
   "source": [
    "VimeoVideo(\"665851746\", h=\"1a4511e883\", width=600)"
   ]
  },
  {
   "cell_type": "markdown",
   "id": "3f8df0e4-7bdf-4448-a2df-7f125933242e",
   "metadata": {},
   "source": [
    "**Task 3.3.9:** Generate a list of training predictions for your model and use them to calculate your training mean absolute error. \n",
    "\n",
    "- [<span id='technique'>Generate in-sample predictions for a model in <span id='tool'>statsmodels.](../%40textbook/18-ts-models.ipynb#Iterating)\n",
    "- [<span id='technique'>Calculate the mean absolute error for a list of predictions in <span id='tool'>scikit-learn.](../%40textbook/15-ml-regression.ipynb#Calculating-the-Mean-Absolute-Error-for-a-List-of-Predictions)"
   ]
  },
  {
   "cell_type": "code",
   "execution_count": 31,
   "id": "c8a0c1ae-3404-4eb5-99a7-f2b90a0d1dfa",
   "metadata": {},
   "outputs": [
    {
     "data": {
      "text/plain": [
       "timestamp\n",
       "2018-09-01 03:00:00+03:00         NaN\n",
       "2018-09-01 04:00:00+03:00         NaN\n",
       "2018-09-01 05:00:00+03:00         NaN\n",
       "2018-09-01 06:00:00+03:00         NaN\n",
       "2018-09-01 07:00:00+03:00         NaN\n",
       "                               ...   \n",
       "2018-12-25 19:00:00+03:00    8.452835\n",
       "2018-12-25 20:00:00+03:00    8.706514\n",
       "2018-12-25 21:00:00+03:00    7.862413\n",
       "2018-12-25 22:00:00+03:00    7.766388\n",
       "2018-12-25 23:00:00+03:00    6.484643\n",
       "Freq: H, Length: 2781, dtype: float64"
      ]
     },
     "execution_count": 31,
     "metadata": {},
     "output_type": "execute_result"
    }
   ],
   "source": [
    "model.predict().dropna()"
   ]
  },
  {
   "cell_type": "code",
   "execution_count": 33,
   "id": "b277ad1e-8eb0-4ccf-a073-295486fa247a",
   "metadata": {},
   "outputs": [
    {
     "name": "stdout",
     "output_type": "stream",
     "text": [
      "Training MAE: 2.2809871656467\n"
     ]
    }
   ],
   "source": [
    "y_pred = model.predict().dropna()\n",
    "training_mae = mean_absolute_error(y_train.iloc[26:],y_pred)\n",
    "print(\"Training MAE:\", training_mae)"
   ]
  },
  {
   "cell_type": "code",
   "execution_count": 34,
   "id": "a519ef88-5f74-414b-877c-038afa9d7111",
   "metadata": {},
   "outputs": [
    {
     "data": {
      "text/html": [
       "\n",
       "        <iframe\n",
       "            width=\"600\"\n",
       "            height=\"300\"\n",
       "            src=\"https://player.vimeo.com/video/665851744?h=60d053b455\"\n",
       "            frameborder=\"0\"\n",
       "            allowfullscreen\n",
       "            \n",
       "        ></iframe>\n",
       "        "
      ],
      "text/plain": [
       "<IPython.lib.display.VimeoVideo at 0x72dbb119e5d0>"
      ]
     },
     "execution_count": 34,
     "metadata": {},
     "output_type": "execute_result"
    }
   ],
   "source": [
    "VimeoVideo(\"665851744\", h=\"60d053b455\", width=600)"
   ]
  },
  {
   "cell_type": "markdown",
   "id": "973c1eab-f79f-4c77-a3fe-e6a464092d3c",
   "metadata": {},
   "source": [
    "**Task 3.3.10:** Use `y_train` and `y_pred` to calculate the residuals for your model.\n",
    "\n",
    "- [What's a <span id='term'>residual?](../%40textbook/12-ml-core.ipynb#Residuals)\n",
    "- [<span id='technique'>Create new columns derived from existing columns in a DataFrame using <span id='tool'>pandas.](../%40textbook/03-pandas-getting-started.ipynb#Adding-Columns)"
   ]
  },
  {
   "cell_type": "code",
   "execution_count": 36,
   "id": "dad3f406-422b-4faf-a5fa-b29d60f61c0c",
   "metadata": {},
   "outputs": [
    {
     "data": {
      "text/plain": [
       "timestamp\n",
       "2018-12-25 19:00:00+03:00   -0.392002\n",
       "2018-12-25 20:00:00+03:00   -1.573180\n",
       "2018-12-25 21:00:00+03:00   -0.735747\n",
       "2018-12-25 22:00:00+03:00   -2.022221\n",
       "2018-12-25 23:00:00+03:00   -0.061916\n",
       "Freq: H, dtype: float64"
      ]
     },
     "execution_count": 36,
     "metadata": {},
     "output_type": "execute_result"
    }
   ],
   "source": [
    "y_train_resid =model.resid\n",
    "y_train_resid.tail()"
   ]
  },
  {
   "cell_type": "code",
   "execution_count": 37,
   "id": "8553d7cb-6a1f-4390-b641-d12f8123cfd8",
   "metadata": {},
   "outputs": [
    {
     "data": {
      "text/html": [
       "\n",
       "        <iframe\n",
       "            width=\"600\"\n",
       "            height=\"300\"\n",
       "            src=\"https://player.vimeo.com/video/665851712?h=9ff0cdba9c\"\n",
       "            frameborder=\"0\"\n",
       "            allowfullscreen\n",
       "            \n",
       "        ></iframe>\n",
       "        "
      ],
      "text/plain": [
       "<IPython.lib.display.VimeoVideo at 0x72dbb139e910>"
      ]
     },
     "execution_count": 37,
     "metadata": {},
     "output_type": "execute_result"
    }
   ],
   "source": [
    "VimeoVideo(\"665851712\", h=\"9ff0cdba9c\", width=600)"
   ]
  },
  {
   "cell_type": "markdown",
   "id": "0d4130f7-cbcb-45d9-9b27-c27871620fcb",
   "metadata": {},
   "source": [
    "**Task 3.3.11:** Create a plot of `y_train_resid`.\n",
    "\n",
    "- [<span id='technique'>Create a line plot using <span id='tool'>pandas.](../%40textbook/07-visualization-pandas.ipynb#Line-Plots)"
   ]
  },
  {
   "cell_type": "code",
   "execution_count": 38,
   "id": "2cc7744d-cc2e-429c-84af-adf5ba487a2b",
   "metadata": {},
   "outputs": [
    {
     "data": {
      "text/plain": [
       "<Axes: xlabel='timestamp', ylabel='residual value'>"
      ]
     },
     "execution_count": 38,
     "metadata": {},
     "output_type": "execute_result"
    },
    {
     "data": {
      "image/png": "[encoded data removed]",
      "text/plain": [
       "<Figure size 1500x600 with 1 Axes>"
      ]
     },
     "metadata": {},
     "output_type": "display_data"
    }
   ],
   "source": [
    "fig, ax = plt.subplots(figsize=(15, 6))\n",
    "y_train_resid.plot(ylabel=\"residual value\",ax=ax)\n"
   ]
  },
  {
   "cell_type": "code",
   "execution_count": 39,
   "id": "a8c3eaf6-5fb5-4465-aa42-52375ed5a435",
   "metadata": {},
   "outputs": [
    {
     "data": {
      "text/html": [
       "\n",
       "        <iframe\n",
       "            width=\"600\"\n",
       "            height=\"300\"\n",
       "            src=\"https://player.vimeo.com/video/665851702?h=b494adc297\"\n",
       "            frameborder=\"0\"\n",
       "            allowfullscreen\n",
       "            \n",
       "        ></iframe>\n",
       "        "
      ],
      "text/plain": [
       "<IPython.lib.display.VimeoVideo at 0x72dbb11afa90>"
      ]
     },
     "execution_count": 39,
     "metadata": {},
     "output_type": "execute_result"
    }
   ],
   "source": [
    "VimeoVideo(\"665851702\", h=\"b494adc297\", width=600)"
   ]
  },
  {
   "cell_type": "markdown",
   "id": "de34974c-d25d-4bf9-8b33-f5b91d346c59",
   "metadata": {},
   "source": [
    "**Task 3.3.12:** Create a histogram of `y_train_resid`.\n",
    "\n",
    "- [<span id='technique'>Create a histogram using <span id='tool'>plotly express.](../%40textbook/06-visualization-matplotlib.ipynb#Histograms)"
   ]
  },
  {
   "cell_type": "code",
   "execution_count": 41,
   "id": "f7c63952-50da-4ff1-b781-a2eea54a5071",
   "metadata": {},
   "outputs": [
    {
     "data": {
      "text/plain": [
       "Text(0.5, 1.0, 'AR(26),Reddistribution of Residuals ')"
      ]
     },
     "execution_count": 41,
     "metadata": {},
     "output_type": "execute_result"
    },
    {
     "data": {
      "image/png": "[encoded data removed]",
      "text/plain": [
       "<Figure size 640x480 with 1 Axes>"
      ]
     },
     "metadata": {},
     "output_type": "display_data"
    }
   ],
   "source": [
    "y_train_resid.hist()\n",
    "plt.xlabel(\"residual value\")\n",
    "plt.ylabel(\"frequency\")\n",
    "plt.title(\"AR(26),Reddistribution of Residuals \")"
   ]
  },
  {
   "cell_type": "code",
   "execution_count": 42,
   "id": "a1132cfd-28f3-4ae1-9c51-31eb5acf1e40",
   "metadata": {},
   "outputs": [
    {
     "data": {
      "text/html": [
       "\n",
       "        <iframe\n",
       "            width=\"600\"\n",
       "            height=\"300\"\n",
       "            src=\"https://player.vimeo.com/video/665851684?h=d6d782a1f3\"\n",
       "            frameborder=\"0\"\n",
       "            allowfullscreen\n",
       "            \n",
       "        ></iframe>\n",
       "        "
      ],
      "text/plain": [
       "<IPython.lib.display.VimeoVideo at 0x72dbb0b03e50>"
      ]
     },
     "execution_count": 42,
     "metadata": {},
     "output_type": "execute_result"
    }
   ],
   "source": [
    "VimeoVideo(\"665851684\", h=\"d6d782a1f3\", width=600)"
   ]
  },
  {
   "cell_type": "markdown",
   "id": "706b0579-4c23-4aee-ab59-10fadfb19dc6",
   "metadata": {},
   "source": [
    "**Task 3.3.13:** Create an ACF plot of `y_train_resid`.\n",
    "\n",
    "- [What's an <span id='term'>ACF plot?](../%40textbook/17-ts-core.ipynb#ACF-Plot)\n",
    "- [<span id='technique'>Create an ACF plot using <span id='tool'>statsmodels](../%40textbook/18-ts-models.ipynb#ACF-Plots)"
   ]
  },
  {
   "cell_type": "code",
   "execution_count": 43,
   "id": "b31cb392-055d-4029-b57f-ef26f89b45c7",
   "metadata": {},
   "outputs": [
    {
     "data": {
      "image/png": "[encoded data removed]",
      "text/plain": [
       "<Figure size 1500x600 with 1 Axes>"
      ]
     },
     "metadata": {},
     "output_type": "display_data"
    }
   ],
   "source": [
    "fig, ax = plt.subplots(figsize=(15, 6))\n",
    "plot_acf(y_train_resid,ax=ax);"
   ]
  },
  {
   "cell_type": "markdown",
   "id": "67b7658d-3e87-40c4-8a9e-aa6195bbd328",
   "metadata": {},
   "source": [
    "## Evaluate"
   ]
  },
  {
   "cell_type": "code",
   "execution_count": 44,
   "id": "c17200fd-545e-45b4-b538-49519d08d767",
   "metadata": {},
   "outputs": [
    {
     "data": {
      "text/html": [
       "\n",
       "        <iframe\n",
       "            width=\"600\"\n",
       "            height=\"300\"\n",
       "            src=\"https://player.vimeo.com/video/665851662?h=72e767e121\"\n",
       "            frameborder=\"0\"\n",
       "            allowfullscreen\n",
       "            \n",
       "        ></iframe>\n",
       "        "
      ],
      "text/plain": [
       "<IPython.lib.display.VimeoVideo at 0x72dbb0986910>"
      ]
     },
     "execution_count": 44,
     "metadata": {},
     "output_type": "execute_result"
    }
   ],
   "source": [
    "VimeoVideo(\"665851662\", h=\"72e767e121\", width=600)"
   ]
  },
  {
   "cell_type": "markdown",
   "id": "cf6cbc76-e549-43d6-8f27-67cf049788ac",
   "metadata": {
    "jp-MarkdownHeadingCollapsed": true,
    "tags": []
   },
   "source": [
    "**Task 3.3.14:** Calculate the test mean absolute error for your model.\n",
    "\n",
    "- [<span id='technique'>Generate out-of-sample predictions using model in <span id='tool'>statsmodels.](../%40textbook/18-ts-models.ipynb#Out-of-Sample-Predictions)\n",
    "- [<span id='technique'>Calculate the mean absolute error for a list of predictions in <span id='tool'>scikit-learn.](../%40textbook/15-ml-regression.ipynb#Calculating-the-Mean-Absolute-Error-for-a-List-of-Predictions)"
   ]
  },
  {
   "cell_type": "code",
   "execution_count": 45,
   "id": "51979f18-ff64-4d76-a350-e81377968149",
   "metadata": {},
   "outputs": [
    {
     "name": "stdout",
     "output_type": "stream",
     "text": [
      "Test MAE: 3.013643949503859\n"
     ]
    }
   ],
   "source": [
    "y_pred_test = model.predict(y_test.index.min(),y_test.index.max())\n",
    "test_mae =mean_absolute_error(y_test,y_pred_test)\n",
    "print(\"Test MAE:\", test_mae)"
   ]
  },
  {
   "cell_type": "markdown",
   "id": "7af0acb5-50f8-4cef-b757-10079aca4286",
   "metadata": {},
   "source": [
    "**Task 3.3.15:** Create a DataFrame `test_predictions` that has two columns: `\"y_test\"` and `\"y_pred\"`. The first should contain the true values for your test set, and the second should contain your model's predictions. Be sure the index of `test_predictions` matches the index of `y_test`.\n",
    "\n",
    "- [<span id='technique'>Create a DataFrame from a dictionary using <span id='tool'>pandas.](../%40textbook/03-pandas-getting-started.ipynb#Working-with-DataFrames)<span style='color: transparent; font-size:1%'>WQU WorldQuant University Applied Data Science Lab QQQQ</span>"
   ]
  },
  {
   "cell_type": "code",
   "execution_count": 51,
   "id": "02a1d44e-c3e4-4ea5-8040-cd203687c88b",
   "metadata": {},
   "outputs": [],
   "source": [
    "df_pred_test = pd.DataFrame(\n",
    "    {\"y_test\": y_test, \"y_pred\": y_pred_test}, index=y_test.index\n",
    ")"
   ]
  },
  {
   "cell_type": "code",
   "execution_count": 47,
   "id": "f7a4d03f-7be0-4043-b946-5e22a27aa4ee",
   "metadata": {},
   "outputs": [
    {
     "data": {
      "text/html": [
       "\n",
       "        <iframe\n",
       "            width=\"600\"\n",
       "            height=\"300\"\n",
       "            src=\"https://player.vimeo.com/video/665851628?h=29b43e482e\"\n",
       "            frameborder=\"0\"\n",
       "            allowfullscreen\n",
       "            \n",
       "        ></iframe>\n",
       "        "
      ],
      "text/plain": [
       "<IPython.lib.display.VimeoVideo at 0x72dbb08e0a10>"
      ]
     },
     "execution_count": 47,
     "metadata": {},
     "output_type": "execute_result"
    }
   ],
   "source": [
    "VimeoVideo(\"665851628\", h=\"29b43e482e\", width=600)"
   ]
  },
  {
   "cell_type": "markdown",
   "id": "aa368395-555c-4219-a924-15f38b79d32e",
   "metadata": {},
   "source": [
    "**Task 3.3.16:** Create a time series plot for the values in `test_predictions` using plotly express. Be sure that the y-axis is properly labeled as `\"P2\"`.\n",
    "\n",
    "- [<span id='technique'>Create a line plot in <span id='tool'>plotly express.](../%40textbook/07-visualization-pandas.ipynb#Line-Plots)"
   ]
  },
  {
   "cell_type": "code",
   "execution_count": 50,
   "id": "6fe8be4e-05ed-4789-976b-93faff7b4103",
   "metadata": {},
   "outputs": [
    {
     "data": {
      "application/vnd.plotly.v1+json": {
       "config": {
        "plotlyServerURL": "https://plot.ly"
       },
       "data": [
        {
         "hovertemplate": "variable=y_test<br>timestamp=%{x}<br>P2=%{y}<extra></extra>",
         "legendgroup": "y_test",
         "line": {
          "color": "#636efa",
          "dash": "solid"
         },
         "marker": {
          "symbol": "circle"
         },
         "mode": "lines",
         "name": "y_test",
         "orientation": "v",
         "showlegend": true,
         "type": "scatter",
         "x": [
          "2018-12-26T00:00:00+03:00",
          "2018-12-26T01:00:00+03:00",
          "2018-12-26T02:00:00+03:00",
          "2018-12-26T03:00:00+03:00",
          "2018-12-26T04:00:00+03:00",
          "2018-12-26T05:00:00+03:00",
          "2018-12-26T06:00:00+03:00",
          "2018-12-26T07:00:00+03:00",
          "2018-12-26T08:00:00+03:00",
          "2018-12-26T09:00:00+03:00",
          "2018-12-26T10:00:00+03:00",
          "2018-12-26T11:00:00+03:00",
          "2018-12-26T12:00:00+03:00",
          "2018-12-26T13:00:00+03:00",
          "2018-12-26T14:00:00+03:00",
          "2018-12-26T15:00:00+03:00",
          "2018-12-26T16:00:00+03:00",
          "2018-12-26T17:00:00+03:00",
          "2018-12-26T18:00:00+03:00",
          "2018-12-26T19:00:00+03:00",
          "2018-12-26T20:00:00+03:00",
          "2018-12-26T21:00:00+03:00",
          "2018-12-26T22:00:00+03:00",
          "2018-12-26T23:00:00+03:00",
          "2018-12-27T00:00:00+03:00",
          "2018-12-27T01:00:00+03:00",
          "2018-12-27T02:00:00+03:00",
          "2018-12-27T03:00:00+03:00",
          "2018-12-27T04:00:00+03:00",
          "2018-12-27T05:00:00+03:00",
          "2018-12-27T06:00:00+03:00",
          "2018-12-27T07:00:00+03:00",
          "2018-12-27T08:00:00+03:00",
          "2018-12-27T09:00:00+03:00",
          "2018-12-27T10:00:00+03:00",
          "2018-12-27T11:00:00+03:00",
          "2018-12-27T12:00:00+03:00",
          "2018-12-27T13:00:00+03:00",
          "2018-12-27T14:00:00+03:00",
          "2018-12-27T15:00:00+03:00",
          "2018-12-27T16:00:00+03:00",
          "2018-12-27T17:00:00+03:00",
          "2018-12-27T18:00:00+03:00",
          "2018-12-27T19:00:00+03:00",
          "2018-12-27T20:00:00+03:00",
          "2018-12-27T21:00:00+03:00",
          "2018-12-27T22:00:00+03:00",
          "2018-12-27T23:00:00+03:00",
          "2018-12-28T00:00:00+03:00",
          "2018-12-28T01:00:00+03:00",
          "2018-12-28T02:00:00+03:00",
          "2018-12-28T03:00:00+03:00",
          "2018-12-28T04:00:00+03:00",
          "2018-12-28T05:00:00+03:00",
          "2018-12-28T06:00:00+03:00",
          "2018-12-28T07:00:00+03:00",
          "2018-12-28T08:00:00+03:00",
          "2018-12-28T09:00:00+03:00",
          "2018-12-28T10:00:00+03:00",
          "2018-12-28T11:00:00+03:00",
          "2018-12-28T12:00:00+03:00",
          "2018-12-28T13:00:00+03:00",
          "2018-12-28T14:00:00+03:00",
          "2018-12-28T15:00:00+03:00",
          "2018-12-28T16:00:00+03:00",
          "2018-12-28T17:00:00+03:00",
          "2018-12-28T18:00:00+03:00",
          "2018-12-28T19:00:00+03:00",
          "2018-12-28T20:00:00+03:00",
          "2018-12-28T21:00:00+03:00",
          "2018-12-28T22:00:00+03:00",
          "2018-12-28T23:00:00+03:00",
          "2018-12-29T00:00:00+03:00",
          "2018-12-29T01:00:00+03:00",
          "2018-12-29T02:00:00+03:00",
          "2018-12-29T03:00:00+03:00",
          "2018-12-29T04:00:00+03:00",
          "2018-12-29T05:00:00+03:00",
          "2018-12-29T06:00:00+03:00",
          "2018-12-29T07:00:00+03:00",
          "2018-12-29T08:00:00+03:00",
          "2018-12-29T09:00:00+03:00",
          "2018-12-29T10:00:00+03:00",
          "2018-12-29T11:00:00+03:00",
          "2018-12-29T12:00:00+03:00",
          "2018-12-29T13:00:00+03:00",
          "2018-12-29T14:00:00+03:00",
          "2018-12-29T15:00:00+03:00",
          "2018-12-29T16:00:00+03:00",
          "2018-12-29T17:00:00+03:00",
          "2018-12-29T18:00:00+03:00",
          "2018-12-29T19:00:00+03:00",
          "2018-12-29T20:00:00+03:00",
          "2018-12-29T21:00:00+03:00",
          "2018-12-29T22:00:00+03:00",
          "2018-12-29T23:00:00+03:00",
          "2018-12-30T00:00:00+03:00",
          "2018-12-30T01:00:00+03:00",
          "2018-12-30T02:00:00+03:00",
          "2018-12-30T03:00:00+03:00",
          "2018-12-30T04:00:00+03:00",
          "2018-12-30T05:00:00+03:00",
          "2018-12-30T06:00:00+03:00",
          "2018-12-30T07:00:00+03:00",
          "2018-12-30T08:00:00+03:00",
          "2018-12-30T09:00:00+03:00",
          "2018-12-30T10:00:00+03:00",
          "2018-12-30T11:00:00+03:00",
          "2018-12-30T12:00:00+03:00",
          "2018-12-30T13:00:00+03:00",
          "2018-12-30T14:00:00+03:00",
          "2018-12-30T15:00:00+03:00",
          "2018-12-30T16:00:00+03:00",
          "2018-12-30T17:00:00+03:00",
          "2018-12-30T18:00:00+03:00",
          "2018-12-30T19:00:00+03:00",
          "2018-12-30T20:00:00+03:00",
          "2018-12-30T21:00:00+03:00",
          "2018-12-30T22:00:00+03:00",
          "2018-12-30T23:00:00+03:00",
          "2018-12-31T00:00:00+03:00",
          "2018-12-31T01:00:00+03:00",
          "2018-12-31T02:00:00+03:00",
          "2018-12-31T03:00:00+03:00",
          "2018-12-31T04:00:00+03:00",
          "2018-12-31T05:00:00+03:00",
          "2018-12-31T06:00:00+03:00",
          "2018-12-31T07:00:00+03:00",
          "2018-12-31T08:00:00+03:00",
          "2018-12-31T09:00:00+03:00",
          "2018-12-31T10:00:00+03:00",
          "2018-12-31T11:00:00+03:00",
          "2018-12-31T12:00:00+03:00",
          "2018-12-31T13:00:00+03:00",
          "2018-12-31T14:00:00+03:00",
          "2018-12-31T15:00:00+03:00",
          "2018-12-31T16:00:00+03:00",
          "2018-12-31T17:00:00+03:00",
          "2018-12-31T18:00:00+03:00",
          "2018-12-31T19:00:00+03:00",
          "2018-12-31T20:00:00+03:00",
          "2018-12-31T21:00:00+03:00",
          "2018-12-31T22:00:00+03:00",
          "2018-12-31T23:00:00+03:00",
          "2019-01-01T00:00:00+03:00",
          "2019-01-01T01:00:00+03:00",
          "2019-01-01T02:00:00+03:00"
         ],
         "xaxis": "x",
         "y": [
          5.679090909090909,
          5.3625,
          4.786666666666666,
          4.956666666666667,
          5.055833333333333,
          6.649166666666666,
          9.023076923076923,
          12.549999999999999,
          12.660000000000002,
          7.8875,
          7.891666666666667,
          7.315833333333334,
          6.871666666666666,
          7.678333333333334,
          8.410833333333334,
          8.0675,
          7.591666666666666,
          8.046666666666667,
          9.750833333333334,
          10.7875,
          12.111666666666666,
          11.222499999999998,
          11.319166666666668,
          11.920833333333334,
          11.211666666666666,
          10.700000000000001,
          10.860833333333334,
          10.734166666666667,
          11.626666666666667,
          14.8075,
          16.232499999999998,
          13.711666666666666,
          13.253333333333332,
          11.1075,
          9.843333333333334,
          8.756666666666666,
          6.6827272727272735,
          5.564166666666666,
          5.940833333333334,
          6.248333333333334,
          5.610833333333333,
          5.36,
          6.805,
          7.7491666666666665,
          7.6883333333333335,
          7.9575000000000005,
          8.355833333333333,
          7.927499999999999,
          7.077500000000001,
          6.189166666666666,
          5.964166666666666,
          5.290833333333333,
          5.249230769230769,
          5.539166666666667,
          7.700833333333333,
          6.321666666666666,
          5.31,
          5.590833333333333,
          9.894545454545455,
          8.965,
          6.790909090909091,
          4.291666666666667,
          3.7733333333333334,
          3.8183333333333334,
          2.4125,
          2.7283333333333335,
          4.4366666666666665,
          7.18,
          5.463333333333334,
          6.325833333333333,
          6.043333333333333,
          6.139166666666667,
          6.895,
          5.803333333333334,
          4.690833333333333,
          4.31,
          4.380833333333333,
          4.5441666666666665,
          4.725833333333333,
          8.7225,
          9.244166666666667,
          6.950833333333333,
          5.716666666666666,
          6.649166666666667,
          5.304545454545455,
          4.0475,
          3.279166666666667,
          3.1683333333333334,
          4.786666666666666,
          3.6775,
          5.6675,
          9.015833333333333,
          11.7675,
          5.255,
          3.751666666666667,
          5.39,
          5.245,
          3.7716666666666665,
          2.9,
          4.3133333333333335,
          4.815833333333333,
          4.783333333333333,
          8.78,
          12.159166666666666,
          6.246666666666666,
          6.7681818181818185,
          4.42,
          4.523333333333333,
          4.723333333333334,
          3.7883333333333336,
          3.5124999999999997,
          2.705,
          2.9791666666666665,
          3.56,
          5.141666666666667,
          8.37,
          7.223333333333334,
          5.802499999999999,
          6.460833333333333,
          9.676666666666668,
          4.254166666666666,
          4.1475,
          3.5191666666666666,
          5.368333333333333,
          5.2700000000000005,
          5.809166666666667,
          6.935,
          7.97,
          9.533333333333333,
          9.635,
          8.9625,
          5.713333333333334,
          5.913333333333334,
          5.800833333333333,
          5.44,
          4.477,
          5.445454545454545,
          4.4871428571428575,
          7.290909090909091,
          9.476666666666667,
          10.4025,
          9.150833333333333,
          7.060833333333334,
          7.854166666666667,
          9.755833333333333,
          12.665,
          18.803333333333335
         ],
         "yaxis": "y"
        },
        {
         "hovertemplate": "variable=y_pred<br>timestamp=%{x}<br>P2=%{y}<extra></extra>",
         "legendgroup": "y_pred",
         "line": {
          "color": "#EF553B",
          "dash": "solid"
         },
         "marker": {
          "symbol": "circle"
         },
         "mode": "lines",
         "name": "y_pred",
         "orientation": "v",
         "showlegend": true,
         "type": "scatter",
         "x": [
          "2018-12-26T00:00:00+03:00",
          "2018-12-26T01:00:00+03:00",
          "2018-12-26T02:00:00+03:00",
          "2018-12-26T03:00:00+03:00",
          "2018-12-26T04:00:00+03:00",
          "2018-12-26T05:00:00+03:00",
          "2018-12-26T06:00:00+03:00",
          "2018-12-26T07:00:00+03:00",
          "2018-12-26T08:00:00+03:00",
          "2018-12-26T09:00:00+03:00",
          "2018-12-26T10:00:00+03:00",
          "2018-12-26T11:00:00+03:00",
          "2018-12-26T12:00:00+03:00",
          "2018-12-26T13:00:00+03:00",
          "2018-12-26T14:00:00+03:00",
          "2018-12-26T15:00:00+03:00",
          "2018-12-26T16:00:00+03:00",
          "2018-12-26T17:00:00+03:00",
          "2018-12-26T18:00:00+03:00",
          "2018-12-26T19:00:00+03:00",
          "2018-12-26T20:00:00+03:00",
          "2018-12-26T21:00:00+03:00",
          "2018-12-26T22:00:00+03:00",
          "2018-12-26T23:00:00+03:00",
          "2018-12-27T00:00:00+03:00",
          "2018-12-27T01:00:00+03:00",
          "2018-12-27T02:00:00+03:00",
          "2018-12-27T03:00:00+03:00",
          "2018-12-27T04:00:00+03:00",
          "2018-12-27T05:00:00+03:00",
          "2018-12-27T06:00:00+03:00",
          "2018-12-27T07:00:00+03:00",
          "2018-12-27T08:00:00+03:00",
          "2018-12-27T09:00:00+03:00",
          "2018-12-27T10:00:00+03:00",
          "2018-12-27T11:00:00+03:00",
          "2018-12-27T12:00:00+03:00",
          "2018-12-27T13:00:00+03:00",
          "2018-12-27T14:00:00+03:00",
          "2018-12-27T15:00:00+03:00",
          "2018-12-27T16:00:00+03:00",
          "2018-12-27T17:00:00+03:00",
          "2018-12-27T18:00:00+03:00",
          "2018-12-27T19:00:00+03:00",
          "2018-12-27T20:00:00+03:00",
          "2018-12-27T21:00:00+03:00",
          "2018-12-27T22:00:00+03:00",
          "2018-12-27T23:00:00+03:00",
          "2018-12-28T00:00:00+03:00",
          "2018-12-28T01:00:00+03:00",
          "2018-12-28T02:00:00+03:00",
          "2018-12-28T03:00:00+03:00",
          "2018-12-28T04:00:00+03:00",
          "2018-12-28T05:00:00+03:00",
          "2018-12-28T06:00:00+03:00",
          "2018-12-28T07:00:00+03:00",
          "2018-12-28T08:00:00+03:00",
          "2018-12-28T09:00:00+03:00",
          "2018-12-28T10:00:00+03:00",
          "2018-12-28T11:00:00+03:00",
          "2018-12-28T12:00:00+03:00",
          "2018-12-28T13:00:00+03:00",
          "2018-12-28T14:00:00+03:00",
          "2018-12-28T15:00:00+03:00",
          "2018-12-28T16:00:00+03:00",
          "2018-12-28T17:00:00+03:00",
          "2018-12-28T18:00:00+03:00",
          "2018-12-28T19:00:00+03:00",
          "2018-12-28T20:00:00+03:00",
          "2018-12-28T21:00:00+03:00",
          "2018-12-28T22:00:00+03:00",
          "2018-12-28T23:00:00+03:00",
          "2018-12-29T00:00:00+03:00",
          "2018-12-29T01:00:00+03:00",
          "2018-12-29T02:00:00+03:00",
          "2018-12-29T03:00:00+03:00",
          "2018-12-29T04:00:00+03:00",
          "2018-12-29T05:00:00+03:00",
          "2018-12-29T06:00:00+03:00",
          "2018-12-29T07:00:00+03:00",
          "2018-12-29T08:00:00+03:00",
          "2018-12-29T09:00:00+03:00",
          "2018-12-29T10:00:00+03:00",
          "2018-12-29T11:00:00+03:00",
          "2018-12-29T12:00:00+03:00",
          "2018-12-29T13:00:00+03:00",
          "2018-12-29T14:00:00+03:00",
          "2018-12-29T15:00:00+03:00",
          "2018-12-29T16:00:00+03:00",
          "2018-12-29T17:00:00+03:00",
          "2018-12-29T18:00:00+03:00",
          "2018-12-29T19:00:00+03:00",
          "2018-12-29T20:00:00+03:00",
          "2018-12-29T21:00:00+03:00",
          "2018-12-29T22:00:00+03:00",
          "2018-12-29T23:00:00+03:00",
          "2018-12-30T00:00:00+03:00",
          "2018-12-30T01:00:00+03:00",
          "2018-12-30T02:00:00+03:00",
          "2018-12-30T03:00:00+03:00",
          "2018-12-30T04:00:00+03:00",
          "2018-12-30T05:00:00+03:00",
          "2018-12-30T06:00:00+03:00",
          "2018-12-30T07:00:00+03:00",
          "2018-12-30T08:00:00+03:00",
          "2018-12-30T09:00:00+03:00",
          "2018-12-30T10:00:00+03:00",
          "2018-12-30T11:00:00+03:00",
          "2018-12-30T12:00:00+03:00",
          "2018-12-30T13:00:00+03:00",
          "2018-12-30T14:00:00+03:00",
          "2018-12-30T15:00:00+03:00",
          "2018-12-30T16:00:00+03:00",
          "2018-12-30T17:00:00+03:00",
          "2018-12-30T18:00:00+03:00",
          "2018-12-30T19:00:00+03:00",
          "2018-12-30T20:00:00+03:00",
          "2018-12-30T21:00:00+03:00",
          "2018-12-30T22:00:00+03:00",
          "2018-12-30T23:00:00+03:00",
          "2018-12-31T00:00:00+03:00",
          "2018-12-31T01:00:00+03:00",
          "2018-12-31T02:00:00+03:00",
          "2018-12-31T03:00:00+03:00",
          "2018-12-31T04:00:00+03:00",
          "2018-12-31T05:00:00+03:00",
          "2018-12-31T06:00:00+03:00",
          "2018-12-31T07:00:00+03:00",
          "2018-12-31T08:00:00+03:00",
          "2018-12-31T09:00:00+03:00",
          "2018-12-31T10:00:00+03:00",
          "2018-12-31T11:00:00+03:00",
          "2018-12-31T12:00:00+03:00",
          "2018-12-31T13:00:00+03:00",
          "2018-12-31T14:00:00+03:00",
          "2018-12-31T15:00:00+03:00",
          "2018-12-31T16:00:00+03:00",
          "2018-12-31T17:00:00+03:00",
          "2018-12-31T18:00:00+03:00",
          "2018-12-31T19:00:00+03:00",
          "2018-12-31T20:00:00+03:00",
          "2018-12-31T21:00:00+03:00",
          "2018-12-31T22:00:00+03:00",
          "2018-12-31T23:00:00+03:00",
          "2019-01-01T00:00:00+03:00",
          "2019-01-01T01:00:00+03:00",
          "2019-01-01T02:00:00+03:00"
         ],
         "xaxis": "x",
         "y": [
          6.717606382234198,
          7.259273681867514,
          7.311587511724055,
          7.551141195476663,
          7.744001428237576,
          8.147630932741096,
          8.372516291180276,
          8.589426700259725,
          8.594783029431403,
          8.408272028822378,
          8.150029655186135,
          8.170253268223838,
          8.232459771391708,
          8.424798101616688,
          8.486064994978989,
          8.372844532691229,
          8.516089947824403,
          8.643899519928624,
          8.837196206059884,
          8.9462855325494,
          8.857616896816518,
          8.579687532635905,
          8.55851083741345,
          8.431761154407456,
          8.56813108548309,
          8.59999036039299,
          8.675657995830827,
          8.746551804161337,
          8.835328406479636,
          8.92998230242457,
          9.016833944293877,
          9.030653834030108,
          9.00197673219031,
          8.931066362636939,
          8.864911824372573,
          8.83476523206251,
          8.854852910023833,
          8.876906561544082,
          8.913747266962138,
          8.952829557991963,
          8.992981120072692,
          9.065336856160783,
          9.106605165266597,
          9.110299852439434,
          9.075595880529601,
          9.023806160271235,
          8.966596564175585,
          8.961130309032166,
          8.948031855941046,
          8.975897975843562,
          8.996642083106282,
          9.030727187556886,
          9.070417407184701,
          9.102486595443617,
          9.122772646899975,
          9.124089607889225,
          9.103458067511102,
          9.075793581682587,
          9.048889132796958,
          9.032894503861533,
          9.030590668472822,
          9.039924643470709,
          9.05514223714566,
          9.077449217043219,
          9.10212860516615,
          9.122431923261358,
          9.135332979783374,
          9.132710193052226,
          9.11816351602172,
          9.097971739567429,
          9.080438755541818,
          9.067666671119833,
          9.067317126911139,
          9.070602570999274,
          9.08364255711636,
          9.098291251638233,
          9.113966715109756,
          9.126979303763642,
          9.132477886205248,
          9.130508631651649,
          9.121816642522628,
          9.10926004664996,
          9.097908392471776,
          9.090245571826742,
          9.08803721825532,
          9.091348734068537,
          9.098956487187891,
          9.108930717764157,
          9.11932307672698,
          9.127293325137167,
          9.130656031350126,
          9.128929577547694,
          9.122695029929355,
          9.114460469342806,
          9.106713094918163,
          9.10172883510348,
          9.100013023631425,
          9.102508511767883,
          9.107340671410325,
          9.114239983554729,
          9.120785018318966,
          9.125587046763362,
          9.127580205719603,
          9.126122101381481,
          9.122126735132005,
          9.116846136252057,
          9.111794410252546,
          9.108451972441479,
          9.107436875515301,
          9.108867504927627,
          9.112273619312191,
          9.116690392394133,
          9.120975947060545,
          9.124069166573808,
          9.125175618513946,
          9.12414270455522,
          9.121429883483545,
          9.11790197647898,
          9.114618086199744,
          9.112399718003209,
          9.111789586954814,
          9.1127452045278,
          9.115052616578373,
          9.117914951861524,
          9.120702234205858,
          9.122621569243819,
          9.123245683092282,
          9.122528152570798,
          9.120713205470114,
          9.11841541803796,
          9.11627337744038,
          9.114832163470444,
          9.114439785114204,
          9.115110588237041,
          9.11661281473023,
          9.11852037740206,
          9.120312381587174,
          9.121534169996483,
          9.121906384322688,
          9.121382671062328,
          9.120176086263136,
          9.118658241063034,
          9.117254986239715,
          9.116332249060738,
          9.116089954543273,
          9.116556280732194,
          9.117551451527106
         ],
         "yaxis": "y"
        }
       ],
       "layout": {
        "legend": {
         "title": {
          "text": "variable"
         },
         "tracegroupgap": 0
        },
        "margin": {
         "t": 60
        },
        "template": {
         "data": {
          "bar": [
           {
            "error_x": {
             "color": "#2a3f5f"
            },
            "error_y": {
             "color": "#2a3f5f"
            },
            "marker": {
             "line": {
              "color": "#E5ECF6",
              "width": 0.5
             },
             "pattern": {
              "fillmode": "overlay",
              "size": 10,
              "solidity": 0.2
             }
            },
            "type": "bar"
           }
          ],
          "barpolar": [
           {
            "marker": {
             "line": {
              "color": "#E5ECF6",
              "width": 0.5
             },
             "pattern": {
              "fillmode": "overlay",
              "size": 10,
              "solidity": 0.2
             }
            },
            "type": "barpolar"
           }
          ],
          "carpet": [
           {
            "aaxis": {
             "endlinecolor": "#2a3f5f",
             "gridcolor": "white",
             "linecolor": "white",
             "minorgridcolor": "white",
             "startlinecolor": "#2a3f5f"
            },
            "baxis": {
             "endlinecolor": "#2a3f5f",
             "gridcolor": "white",
             "linecolor": "white",
             "minorgridcolor": "white",
             "startlinecolor": "#2a3f5f"
            },
            "type": "carpet"
           }
          ],
          "choropleth": [
           {
            "colorbar": {
             "outlinewidth": 0,
             "ticks": ""
            },
            "type": "choropleth"
           }
          ],
          "contour": [
           {
            "colorbar": {
             "outlinewidth": 0,
             "ticks": ""
            },
            "colorscale": [
             [
              0,
              "#0d0887"
             ],
             [
              0.1111111111111111,
              "#46039f"
             ],
             [
              0.2222222222222222,
              "#7201a8"
             ],
             [
              0.3333333333333333,
              "#9c179e"
             ],
             [
              0.4444444444444444,
              "#bd3786"
             ],
             [
              0.5555555555555556,
              "#d8576b"
             ],
             [
              0.6666666666666666,
              "#ed7953"
             ],
             [
              0.7777777777777778,
              "#fb9f3a"
             ],
             [
              0.8888888888888888,
              "#fdca26"
             ],
             [
              1,
              "#f0f921"
             ]
            ],
            "type": "contour"
           }
          ],
          "contourcarpet": [
           {
            "colorbar": {
             "outlinewidth": 0,
             "ticks": ""
            },
            "type": "contourcarpet"
           }
          ],
          "heatmap": [
           {
            "colorbar": {
             "outlinewidth": 0,
             "ticks": ""
            },
            "colorscale": [
             [
              0,
              "#0d0887"
             ],
             [
              0.1111111111111111,
              "#46039f"
             ],
             [
              0.2222222222222222,
              "#7201a8"
             ],
             [
              0.3333333333333333,
              "#9c179e"
             ],
             [
              0.4444444444444444,
              "#bd3786"
             ],
             [
              0.5555555555555556,
              "#d8576b"
             ],
             [
              0.6666666666666666,
              "#ed7953"
             ],
             [
              0.7777777777777778,
              "#fb9f3a"
             ],
             [
              0.8888888888888888,
              "#fdca26"
             ],
             [
              1,
              "#f0f921"
             ]
            ],
            "type": "heatmap"
           }
          ],
          "heatmapgl": [
           {
            "colorbar": {
             "outlinewidth": 0,
             "ticks": ""
            },
            "colorscale": [
             [
              0,
              "#0d0887"
             ],
             [
              0.1111111111111111,
              "#46039f"
             ],
             [
              0.2222222222222222,
              "#7201a8"
             ],
             [
              0.3333333333333333,
              "#9c179e"
             ],
             [
              0.4444444444444444,
              "#bd3786"
             ],
             [
              0.5555555555555556,
              "#d8576b"
             ],
             [
              0.6666666666666666,
              "#ed7953"
             ],
             [
              0.7777777777777778,
              "#fb9f3a"
             ],
             [
              0.8888888888888888,
              "#fdca26"
             ],
             [
              1,
              "#f0f921"
             ]
            ],
            "type": "heatmapgl"
           }
          ],
          "histogram": [
           {
            "marker": {
             "pattern": {
              "fillmode": "overlay",
              "size": 10,
              "solidity": 0.2
             }
            },
            "type": "histogram"
           }
          ],
          "histogram2d": [
           {
            "colorbar": {
             "outlinewidth": 0,
             "ticks": ""
            },
            "colorscale": [
             [
              0,
              "#0d0887"
             ],
             [
              0.1111111111111111,
              "#46039f"
             ],
             [
              0.2222222222222222,
              "#7201a8"
             ],
             [
              0.3333333333333333,
              "#9c179e"
             ],
             [
              0.4444444444444444,
              "#bd3786"
             ],
             [
              0.5555555555555556,
              "#d8576b"
             ],
             [
              0.6666666666666666,
              "#ed7953"
             ],
             [
              0.7777777777777778,
              "#fb9f3a"
             ],
             [
              0.8888888888888888,
              "#fdca26"
             ],
             [
              1,
              "#f0f921"
             ]
            ],
            "type": "histogram2d"
           }
          ],
          "histogram2dcontour": [
           {
            "colorbar": {
             "outlinewidth": 0,
             "ticks": ""
            },
            "colorscale": [
             [
              0,
              "#0d0887"
             ],
             [
              0.1111111111111111,
              "#46039f"
             ],
             [
              0.2222222222222222,
              "#7201a8"
             ],
             [
              0.3333333333333333,
              "#9c179e"
             ],
             [
              0.4444444444444444,
              "#bd3786"
             ],
             [
              0.5555555555555556,
              "#d8576b"
             ],
             [
              0.6666666666666666,
              "#ed7953"
             ],
             [
              0.7777777777777778,
              "#fb9f3a"
             ],
             [
              0.8888888888888888,
              "#fdca26"
             ],
             [
              1,
              "#f0f921"
             ]
            ],
            "type": "histogram2dcontour"
           }
          ],
          "mesh3d": [
           {
            "colorbar": {
             "outlinewidth": 0,
             "ticks": ""
            },
            "type": "mesh3d"
           }
          ],
          "parcoords": [
           {
            "line": {
             "colorbar": {
              "outlinewidth": 0,
              "ticks": ""
             }
            },
            "type": "parcoords"
           }
          ],
          "pie": [
           {
            "automargin": true,
            "type": "pie"
           }
          ],
          "scatter": [
           {
            "fillpattern": {
             "fillmode": "overlay",
             "size": 10,
             "solidity": 0.2
            },
            "type": "scatter"
           }
          ],
          "scatter3d": [
           {
            "line": {
             "colorbar": {
              "outlinewidth": 0,
              "ticks": ""
             }
            },
            "marker": {
             "colorbar": {
              "outlinewidth": 0,
              "ticks": ""
             }
            },
            "type": "scatter3d"
           }
          ],
          "scattercarpet": [
           {
            "marker": {
             "colorbar": {
              "outlinewidth": 0,
              "ticks": ""
             }
            },
            "type": "scattercarpet"
           }
          ],
          "scattergeo": [
           {
            "marker": {
             "colorbar": {
              "outlinewidth": 0,
              "ticks": ""
             }
            },
            "type": "scattergeo"
           }
          ],
          "scattergl": [
           {
            "marker": {
             "colorbar": {
              "outlinewidth": 0,
              "ticks": ""
             }
            },
            "type": "scattergl"
           }
          ],
          "scattermapbox": [
           {
            "marker": {
             "colorbar": {
              "outlinewidth": 0,
              "ticks": ""
             }
            },
            "type": "scattermapbox"
           }
          ],
          "scatterpolar": [
           {
            "marker": {
             "colorbar": {
              "outlinewidth": 0,
              "ticks": ""
             }
            },
            "type": "scatterpolar"
           }
          ],
          "scatterpolargl": [
           {
            "marker": {
             "colorbar": {
              "outlinewidth": 0,
              "ticks": ""
             }
            },
            "type": "scatterpolargl"
           }
          ],
          "scatterternary": [
           {
            "marker": {
             "colorbar": {
              "outlinewidth": 0,
              "ticks": ""
             }
            },
            "type": "scatterternary"
           }
          ],
          "surface": [
           {
            "colorbar": {
             "outlinewidth": 0,
             "ticks": ""
            },
            "colorscale": [
             [
              0,
              "#0d0887"
             ],
             [
              0.1111111111111111,
              "#46039f"
             ],
             [
              0.2222222222222222,
              "#7201a8"
             ],
             [
              0.3333333333333333,
              "#9c179e"
             ],
             [
              0.4444444444444444,
              "#bd3786"
             ],
             [
              0.5555555555555556,
              "#d8576b"
             ],
             [
              0.6666666666666666,
              "#ed7953"
             ],
             [
              0.7777777777777778,
              "#fb9f3a"
             ],
             [
              0.8888888888888888,
              "#fdca26"
             ],
             [
              1,
              "#f0f921"
             ]
            ],
            "type": "surface"
           }
          ],
          "table": [
           {
            "cells": {
             "fill": {
              "color": "#EBF0F8"
             },
             "line": {
              "color": "white"
             }
            },
            "header": {
             "fill": {
              "color": "#C8D4E3"
             },
             "line": {
              "color": "white"
             }
            },
            "type": "table"
           }
          ]
         },
         "layout": {
          "annotationdefaults": {
           "arrowcolor": "#2a3f5f",
           "arrowhead": 0,
           "arrowwidth": 1
          },
          "autotypenumbers": "strict",
          "coloraxis": {
           "colorbar": {
            "outlinewidth": 0,
            "ticks": ""
           }
          },
          "colorscale": {
           "diverging": [
            [
             0,
             "#8e0152"
            ],
            [
             0.1,
             "#c51b7d"
            ],
            [
             0.2,
             "#de77ae"
            ],
            [
             0.3,
             "#f1b6da"
            ],
            [
             0.4,
             "#fde0ef"
            ],
            [
             0.5,
             "#f7f7f7"
            ],
            [
             0.6,
             "#e6f5d0"
            ],
            [
             0.7,
             "#b8e186"
            ],
            [
             0.8,
             "#7fbc41"
            ],
            [
             0.9,
             "#4d9221"
            ],
            [
             1,
             "#276419"
            ]
           ],
           "sequential": [
            [
             0,
             "#0d0887"
            ],
            [
             0.1111111111111111,
             "#46039f"
            ],
            [
             0.2222222222222222,
             "#7201a8"
            ],
            [
             0.3333333333333333,
             "#9c179e"
            ],
            [
             0.4444444444444444,
             "#bd3786"
            ],
            [
             0.5555555555555556,
             "#d8576b"
            ],
            [
             0.6666666666666666,
             "#ed7953"
            ],
            [
             0.7777777777777778,
             "#fb9f3a"
            ],
            [
             0.8888888888888888,
             "#fdca26"
            ],
            [
             1,
             "#f0f921"
            ]
           ],
           "sequentialminus": [
            [
             0,
             "#0d0887"
            ],
            [
             0.1111111111111111,
             "#46039f"
            ],
            [
             0.2222222222222222,
             "#7201a8"
            ],
            [
             0.3333333333333333,
             "#9c179e"
            ],
            [
             0.4444444444444444,
             "#bd3786"
            ],
            [
             0.5555555555555556,
             "#d8576b"
            ],
            [
             0.6666666666666666,
             "#ed7953"
            ],
            [
             0.7777777777777778,
             "#fb9f3a"
            ],
            [
             0.8888888888888888,
             "#fdca26"
            ],
            [
             1,
             "#f0f921"
            ]
           ]
          },
          "colorway": [
           "#636efa",
           "#EF553B",
           "#00cc96",
           "#ab63fa",
           "#FFA15A",
           "#19d3f3",
           "#FF6692",
           "#B6E880",
           "#FF97FF",
           "#FECB52"
          ],
          "font": {
           "color": "#2a3f5f"
          },
          "geo": {
           "bgcolor": "white",
           "lakecolor": "white",
           "landcolor": "#E5ECF6",
           "showlakes": true,
           "showland": true,
           "subunitcolor": "white"
          },
          "hoverlabel": {
           "align": "left"
          },
          "hovermode": "closest",
          "mapbox": {
           "style": "light"
          },
          "paper_bgcolor": "white",
          "plot_bgcolor": "#E5ECF6",
          "polar": {
           "angularaxis": {
            "gridcolor": "white",
            "linecolor": "white",
            "ticks": ""
           },
           "bgcolor": "#E5ECF6",
           "radialaxis": {
            "gridcolor": "white",
            "linecolor": "white",
            "ticks": ""
           }
          },
          "scene": {
           "xaxis": {
            "backgroundcolor": "#E5ECF6",
            "gridcolor": "white",
            "gridwidth": 2,
            "linecolor": "white",
            "showbackground": true,
            "ticks": "",
            "zerolinecolor": "white"
           },
           "yaxis": {
            "backgroundcolor": "#E5ECF6",
            "gridcolor": "white",
            "gridwidth": 2,
            "linecolor": "white",
            "showbackground": true,
            "ticks": "",
            "zerolinecolor": "white"
           },
           "zaxis": {
            "backgroundcolor": "#E5ECF6",
            "gridcolor": "white",
            "gridwidth": 2,
            "linecolor": "white",
            "showbackground": true,
            "ticks": "",
            "zerolinecolor": "white"
           }
          },
          "shapedefaults": {
           "line": {
            "color": "#2a3f5f"
           }
          },
          "ternary": {
           "aaxis": {
            "gridcolor": "white",
            "linecolor": "white",
            "ticks": ""
           },
           "baxis": {
            "gridcolor": "white",
            "linecolor": "white",
            "ticks": ""
           },
           "bgcolor": "#E5ECF6",
           "caxis": {
            "gridcolor": "white",
            "linecolor": "white",
            "ticks": ""
           }
          },
          "title": {
           "x": 0.05
          },
          "xaxis": {
           "automargin": true,
           "gridcolor": "white",
           "linecolor": "white",
           "ticks": "",
           "title": {
            "standoff": 15
           },
           "zerolinecolor": "white",
           "zerolinewidth": 2
          },
          "yaxis": {
           "automargin": true,
           "gridcolor": "white",
           "linecolor": "white",
           "ticks": "",
           "title": {
            "standoff": 15
           },
           "zerolinecolor": "white",
           "zerolinewidth": 2
          }
         }
        },
        "xaxis": {
         "anchor": "y",
         "domain": [
          0,
          1
         ],
         "title": {
          "text": "timestamp"
         }
        },
        "yaxis": {
         "anchor": "x",
         "domain": [
          0,
          1
         ],
         "title": {
          "text": "P2"
         }
        }
       }
      },
      "image/png": "[encoded data removed]",
      "text/html": [
       "<div>                            <div id=\"930e95d7-da64-4746-8ce0-ccec90417735\" class=\"plotly-graph-div\" style=\"height:525px; width:100%;\"></div>            <script type=\"text/javascript\">                require([\"plotly\"], function(Plotly) {                    window.PLOTLYENV=window.PLOTLYENV || {};                                    if (document.getElementById(\"930e95d7-da64-4746-8ce0-ccec90417735\")) {                    Plotly.newPlot(                        \"930e95d7-da64-4746-8ce0-ccec90417735\",                        [{\"hovertemplate\":\"variable=y_test\\u003cbr\\u003etimestamp=%{x}\\u003cbr\\u003eP2=%{y}\\u003cextra\\u003e\\u003c\\u002fextra\\u003e\",\"legendgroup\":\"y_test\",\"line\":{\"color\":\"#636efa\",\"dash\":\"solid\"},\"marker\":{\"symbol\":\"circle\"},\"mode\":\"lines\",\"name\":\"y_test\",\"orientation\":\"v\",\"showlegend\":true,\"x\":[\"2018-12-26T00:00:00+03:00\",\"2018-12-26T01:00:00+03:00\",\"2018-12-26T02:00:00+03:00\",\"2018-12-26T03:00:00+03:00\",\"2018-12-26T04:00:00+03:00\",\"2018-12-26T05:00:00+03:00\",\"2018-12-26T06:00:00+03:00\",\"2018-12-26T07:00:00+03:00\",\"2018-12-26T08:00:00+03:00\",\"2018-12-26T09:00:00+03:00\",\"2018-12-26T10:00:00+03:00\",\"2018-12-26T11:00:00+03:00\",\"2018-12-26T12:00:00+03:00\",\"2018-12-26T13:00:00+03:00\",\"2018-12-26T14:00:00+03:00\",\"2018-12-26T15:00:00+03:00\",\"2018-12-26T16:00:00+03:00\",\"2018-12-26T17:00:00+03:00\",\"2018-12-26T18:00:00+03:00\",\"2018-12-26T19:00:00+03:00\",\"2018-12-26T20:00:00+03:00\",\"2018-12-26T21:00:00+03:00\",\"2018-12-26T22:00:00+03:00\",\"2018-12-26T23:00:00+03:00\",\"2018-12-27T00:00:00+03:00\",\"2018-12-27T01:00:00+03:00\",\"2018-12-27T02:00:00+03:00\",\"2018-12-27T03:00:00+03:00\",\"2018-12-27T04:00:00+03:00\",\"2018-12-27T05:00:00+03:00\",\"2018-12-27T06:00:00+03:00\",\"2018-12-27T07:00:00+03:00\",\"2018-12-27T08:00:00+03:00\",\"2018-12-27T09:00:00+03:00\",\"2018-12-27T10:00:00+03:00\",\"2018-12-27T11:00:00+03:00\",\"2018-12-27T12:00:00+03:00\",\"2018-12-27T13:00:00+03:00\",\"2018-12-27T14:00:00+03:00\",\"2018-12-27T15:00:00+03:00\",\"2018-12-27T16:00:00+03:00\",\"2018-12-27T17:00:00+03:00\",\"2018-12-27T18:00:00+03:00\",\"2018-12-27T19:00:00+03:00\",\"2018-12-27T20:00:00+03:00\",\"2018-12-27T21:00:00+03:00\",\"2018-12-27T22:00:00+03:00\",\"2018-12-27T23:00:00+03:00\",\"2018-12-28T00:00:00+03:00\",\"2018-12-28T01:00:00+03:00\",\"2018-12-28T02:00:00+03:00\",\"2018-12-28T03:00:00+03:00\",\"2018-12-28T04:00:00+03:00\",\"2018-12-28T05:00:00+03:00\",\"2018-12-28T06:00:00+03:00\",\"2018-12-28T07:00:00+03:00\",\"2018-12-28T08:00:00+03:00\",\"2018-12-28T09:00:00+03:00\",\"2018-12-28T10:00:00+03:00\",\"2018-12-28T11:00:00+03:00\",\"2018-12-28T12:00:00+03:00\",\"2018-12-28T13:00:00+03:00\",\"2018-12-28T14:00:00+03:00\",\"2018-12-28T15:00:00+03:00\",\"2018-12-28T16:00:00+03:00\",\"2018-12-28T17:00:00+03:00\",\"2018-12-28T18:00:00+03:00\",\"2018-12-28T19:00:00+03:00\",\"2018-12-28T20:00:00+03:00\",\"2018-12-28T21:00:00+03:00\",\"2018-12-28T22:00:00+03:00\",\"2018-12-28T23:00:00+03:00\",\"2018-12-29T00:00:00+03:00\",\"2018-12-29T01:00:00+03:00\",\"2018-12-29T02:00:00+03:00\",\"2018-12-29T03:00:00+03:00\",\"2018-12-29T04:00:00+03:00\",\"2018-12-29T05:00:00+03:00\",\"2018-12-29T06:00:00+03:00\",\"2018-12-29T07:00:00+03:00\",\"2018-12-29T08:00:00+03:00\",\"2018-12-29T09:00:00+03:00\",\"2018-12-29T10:00:00+03:00\",\"2018-12-29T11:00:00+03:00\",\"2018-12-29T12:00:00+03:00\",\"2018-12-29T13:00:00+03:00\",\"2018-12-29T14:00:00+03:00\",\"2018-12-29T15:00:00+03:00\",\"2018-12-29T16:00:00+03:00\",\"2018-12-29T17:00:00+03:00\",\"2018-12-29T18:00:00+03:00\",\"2018-12-29T19:00:00+03:00\",\"2018-12-29T20:00:00+03:00\",\"2018-12-29T21:00:00+03:00\",\"2018-12-29T22:00:00+03:00\",\"2018-12-29T23:00:00+03:00\",\"2018-12-30T00:00:00+03:00\",\"2018-12-30T01:00:00+03:00\",\"2018-12-30T02:00:00+03:00\",\"2018-12-30T03:00:00+03:00\",\"2018-12-30T04:00:00+03:00\",\"2018-12-30T05:00:00+03:00\",\"2018-12-30T06:00:00+03:00\",\"2018-12-30T07:00:00+03:00\",\"2018-12-30T08:00:00+03:00\",\"2018-12-30T09:00:00+03:00\",\"2018-12-30T10:00:00+03:00\",\"2018-12-30T11:00:00+03:00\",\"2018-12-30T12:00:00+03:00\",\"2018-12-30T13:00:00+03:00\",\"2018-12-30T14:00:00+03:00\",\"2018-12-30T15:00:00+03:00\",\"2018-12-30T16:00:00+03:00\",\"2018-12-30T17:00:00+03:00\",\"2018-12-30T18:00:00+03:00\",\"2018-12-30T19:00:00+03:00\",\"2018-12-30T20:00:00+03:00\",\"2018-12-30T21:00:00+03:00\",\"2018-12-30T22:00:00+03:00\",\"2018-12-30T23:00:00+03:00\",\"2018-12-31T00:00:00+03:00\",\"2018-12-31T01:00:00+03:00\",\"2018-12-31T02:00:00+03:00\",\"2018-12-31T03:00:00+03:00\",\"2018-12-31T04:00:00+03:00\",\"2018-12-31T05:00:00+03:00\",\"2018-12-31T06:00:00+03:00\",\"2018-12-31T07:00:00+03:00\",\"2018-12-31T08:00:00+03:00\",\"2018-12-31T09:00:00+03:00\",\"2018-12-31T10:00:00+03:00\",\"2018-12-31T11:00:00+03:00\",\"2018-12-31T12:00:00+03:00\",\"2018-12-31T13:00:00+03:00\",\"2018-12-31T14:00:00+03:00\",\"2018-12-31T15:00:00+03:00\",\"2018-12-31T16:00:00+03:00\",\"2018-12-31T17:00:00+03:00\",\"2018-12-31T18:00:00+03:00\",\"2018-12-31T19:00:00+03:00\",\"2018-12-31T20:00:00+03:00\",\"2018-12-31T21:00:00+03:00\",\"2018-12-31T22:00:00+03:00\",\"2018-12-31T23:00:00+03:00\",\"2019-01-01T00:00:00+03:00\",\"2019-01-01T01:00:00+03:00\",\"2019-01-01T02:00:00+03:00\"],\"xaxis\":\"x\",\"y\":[5.679090909090909,5.3625,4.786666666666666,4.956666666666667,5.055833333333333,6.649166666666666,9.023076923076923,12.549999999999999,12.660000000000002,7.8875,7.891666666666667,7.315833333333334,6.871666666666666,7.678333333333334,8.410833333333334,8.0675,7.591666666666666,8.046666666666667,9.750833333333334,10.7875,12.111666666666666,11.222499999999998,11.319166666666668,11.920833333333334,11.211666666666666,10.700000000000001,10.860833333333334,10.734166666666667,11.626666666666667,14.8075,16.232499999999998,13.711666666666666,13.253333333333332,11.1075,9.843333333333334,8.756666666666666,6.6827272727272735,5.564166666666666,5.940833333333334,6.248333333333334,5.610833333333333,5.36,6.805,7.7491666666666665,7.6883333333333335,7.9575000000000005,8.355833333333333,7.927499999999999,7.077500000000001,6.189166666666666,5.964166666666666,5.290833333333333,5.249230769230769,5.539166666666667,7.700833333333333,6.321666666666666,5.31,5.590833333333333,9.894545454545455,8.965,6.790909090909091,4.291666666666667,3.7733333333333334,3.8183333333333334,2.4125,2.7283333333333335,4.4366666666666665,7.18,5.463333333333334,6.325833333333333,6.043333333333333,6.139166666666667,6.895,5.803333333333334,4.690833333333333,4.31,4.380833333333333,4.5441666666666665,4.725833333333333,8.7225,9.244166666666667,6.950833333333333,5.716666666666666,6.649166666666667,5.304545454545455,4.0475,3.279166666666667,3.1683333333333334,4.786666666666666,3.6775,5.6675,9.015833333333333,11.7675,5.255,3.751666666666667,5.39,5.245,3.7716666666666665,2.9,4.3133333333333335,4.815833333333333,4.783333333333333,8.78,12.159166666666666,6.246666666666666,6.7681818181818185,4.42,4.523333333333333,4.723333333333334,3.7883333333333336,3.5124999999999997,2.705,2.9791666666666665,3.56,5.141666666666667,8.37,7.223333333333334,5.802499999999999,6.460833333333333,9.676666666666668,4.254166666666666,4.1475,3.5191666666666666,5.368333333333333,5.2700000000000005,5.809166666666667,6.935,7.97,9.533333333333333,9.635,8.9625,5.713333333333334,5.913333333333334,5.800833333333333,5.44,4.477,5.445454545454545,4.4871428571428575,7.290909090909091,9.476666666666667,10.4025,9.150833333333333,7.060833333333334,7.854166666666667,9.755833333333333,12.665,18.803333333333335],\"yaxis\":\"y\",\"type\":\"scatter\"},{\"hovertemplate\":\"variable=y_pred\\u003cbr\\u003etimestamp=%{x}\\u003cbr\\u003eP2=%{y}\\u003cextra\\u003e\\u003c\\u002fextra\\u003e\",\"legendgroup\":\"y_pred\",\"line\":{\"color\":\"#EF553B\",\"dash\":\"solid\"},\"marker\":{\"symbol\":\"circle\"},\"mode\":\"lines\",\"name\":\"y_pred\",\"orientation\":\"v\",\"showlegend\":true,\"x\":[\"2018-12-26T00:00:00+03:00\",\"2018-12-26T01:00:00+03:00\",\"2018-12-26T02:00:00+03:00\",\"2018-12-26T03:00:00+03:00\",\"2018-12-26T04:00:00+03:00\",\"2018-12-26T05:00:00+03:00\",\"2018-12-26T06:00:00+03:00\",\"2018-12-26T07:00:00+03:00\",\"2018-12-26T08:00:00+03:00\",\"2018-12-26T09:00:00+03:00\",\"2018-12-26T10:00:00+03:00\",\"2018-12-26T11:00:00+03:00\",\"2018-12-26T12:00:00+03:00\",\"2018-12-26T13:00:00+03:00\",\"2018-12-26T14:00:00+03:00\",\"2018-12-26T15:00:00+03:00\",\"2018-12-26T16:00:00+03:00\",\"2018-12-26T17:00:00+03:00\",\"2018-12-26T18:00:00+03:00\",\"2018-12-26T19:00:00+03:00\",\"2018-12-26T20:00:00+03:00\",\"2018-12-26T21:00:00+03:00\",\"2018-12-26T22:00:00+03:00\",\"2018-12-26T23:00:00+03:00\",\"2018-12-27T00:00:00+03:00\",\"2018-12-27T01:00:00+03:00\",\"2018-12-27T02:00:00+03:00\",\"2018-12-27T03:00:00+03:00\",\"2018-12-27T04:00:00+03:00\",\"2018-12-27T05:00:00+03:00\",\"2018-12-27T06:00:00+03:00\",\"2018-12-27T07:00:00+03:00\",\"2018-12-27T08:00:00+03:00\",\"2018-12-27T09:00:00+03:00\",\"2018-12-27T10:00:00+03:00\",\"2018-12-27T11:00:00+03:00\",\"2018-12-27T12:00:00+03:00\",\"2018-12-27T13:00:00+03:00\",\"2018-12-27T14:00:00+03:00\",\"2018-12-27T15:00:00+03:00\",\"2018-12-27T16:00:00+03:00\",\"2018-12-27T17:00:00+03:00\",\"2018-12-27T18:00:00+03:00\",\"2018-12-27T19:00:00+03:00\",\"2018-12-27T20:00:00+03:00\",\"2018-12-27T21:00:00+03:00\",\"2018-12-27T22:00:00+03:00\",\"2018-12-27T23:00:00+03:00\",\"2018-12-28T00:00:00+03:00\",\"2018-12-28T01:00:00+03:00\",\"2018-12-28T02:00:00+03:00\",\"2018-12-28T03:00:00+03:00\",\"2018-12-28T04:00:00+03:00\",\"2018-12-28T05:00:00+03:00\",\"2018-12-28T06:00:00+03:00\",\"2018-12-28T07:00:00+03:00\",\"2018-12-28T08:00:00+03:00\",\"2018-12-28T09:00:00+03:00\",\"2018-12-28T10:00:00+03:00\",\"2018-12-28T11:00:00+03:00\",\"2018-12-28T12:00:00+03:00\",\"2018-12-28T13:00:00+03:00\",\"2018-12-28T14:00:00+03:00\",\"2018-12-28T15:00:00+03:00\",\"2018-12-28T16:00:00+03:00\",\"2018-12-28T17:00:00+03:00\",\"2018-12-28T18:00:00+03:00\",\"2018-12-28T19:00:00+03:00\",\"2018-12-28T20:00:00+03:00\",\"2018-12-28T21:00:00+03:00\",\"2018-12-28T22:00:00+03:00\",\"2018-12-28T23:00:00+03:00\",\"2018-12-29T00:00:00+03:00\",\"2018-12-29T01:00:00+03:00\",\"2018-12-29T02:00:00+03:00\",\"2018-12-29T03:00:00+03:00\",\"2018-12-29T04:00:00+03:00\",\"2018-12-29T05:00:00+03:00\",\"2018-12-29T06:00:00+03:00\",\"2018-12-29T07:00:00+03:00\",\"2018-12-29T08:00:00+03:00\",\"2018-12-29T09:00:00+03:00\",\"2018-12-29T10:00:00+03:00\",\"2018-12-29T11:00:00+03:00\",\"2018-12-29T12:00:00+03:00\",\"2018-12-29T13:00:00+03:00\",\"2018-12-29T14:00:00+03:00\",\"2018-12-29T15:00:00+03:00\",\"2018-12-29T16:00:00+03:00\",\"2018-12-29T17:00:00+03:00\",\"2018-12-29T18:00:00+03:00\",\"2018-12-29T19:00:00+03:00\",\"2018-12-29T20:00:00+03:00\",\"2018-12-29T21:00:00+03:00\",\"2018-12-29T22:00:00+03:00\",\"2018-12-29T23:00:00+03:00\",\"2018-12-30T00:00:00+03:00\",\"2018-12-30T01:00:00+03:00\",\"2018-12-30T02:00:00+03:00\",\"2018-12-30T03:00:00+03:00\",\"2018-12-30T04:00:00+03:00\",\"2018-12-30T05:00:00+03:00\",\"2018-12-30T06:00:00+03:00\",\"2018-12-30T07:00:00+03:00\",\"2018-12-30T08:00:00+03:00\",\"2018-12-30T09:00:00+03:00\",\"2018-12-30T10:00:00+03:00\",\"2018-12-30T11:00:00+03:00\",\"2018-12-30T12:00:00+03:00\",\"2018-12-30T13:00:00+03:00\",\"2018-12-30T14:00:00+03:00\",\"2018-12-30T15:00:00+03:00\",\"2018-12-30T16:00:00+03:00\",\"2018-12-30T17:00:00+03:00\",\"2018-12-30T18:00:00+03:00\",\"2018-12-30T19:00:00+03:00\",\"2018-12-30T20:00:00+03:00\",\"2018-12-30T21:00:00+03:00\",\"2018-12-30T22:00:00+03:00\",\"2018-12-30T23:00:00+03:00\",\"2018-12-31T00:00:00+03:00\",\"2018-12-31T01:00:00+03:00\",\"2018-12-31T02:00:00+03:00\",\"2018-12-31T03:00:00+03:00\",\"2018-12-31T04:00:00+03:00\",\"2018-12-31T05:00:00+03:00\",\"2018-12-31T06:00:00+03:00\",\"2018-12-31T07:00:00+03:00\",\"2018-12-31T08:00:00+03:00\",\"2018-12-31T09:00:00+03:00\",\"2018-12-31T10:00:00+03:00\",\"2018-12-31T11:00:00+03:00\",\"2018-12-31T12:00:00+03:00\",\"2018-12-31T13:00:00+03:00\",\"2018-12-31T14:00:00+03:00\",\"2018-12-31T15:00:00+03:00\",\"2018-12-31T16:00:00+03:00\",\"2018-12-31T17:00:00+03:00\",\"2018-12-31T18:00:00+03:00\",\"2018-12-31T19:00:00+03:00\",\"2018-12-31T20:00:00+03:00\",\"2018-12-31T21:00:00+03:00\",\"2018-12-31T22:00:00+03:00\",\"2018-12-31T23:00:00+03:00\",\"2019-01-01T00:00:00+03:00\",\"2019-01-01T01:00:00+03:00\",\"2019-01-01T02:00:00+03:00\"],\"xaxis\":\"x\",\"y\":[6.717606382234198,7.259273681867514,7.311587511724055,7.551141195476663,7.744001428237576,8.147630932741096,8.372516291180276,8.589426700259725,8.594783029431403,8.408272028822378,8.150029655186135,8.170253268223838,8.232459771391708,8.424798101616688,8.486064994978989,8.372844532691229,8.516089947824403,8.643899519928624,8.837196206059884,8.9462855325494,8.857616896816518,8.579687532635905,8.55851083741345,8.431761154407456,8.56813108548309,8.59999036039299,8.675657995830827,8.746551804161337,8.835328406479636,8.92998230242457,9.016833944293877,9.030653834030108,9.00197673219031,8.931066362636939,8.864911824372573,8.83476523206251,8.854852910023833,8.876906561544082,8.913747266962138,8.952829557991963,8.992981120072692,9.065336856160783,9.106605165266597,9.110299852439434,9.075595880529601,9.023806160271235,8.966596564175585,8.961130309032166,8.948031855941046,8.975897975843562,8.996642083106282,9.030727187556886,9.070417407184701,9.102486595443617,9.122772646899975,9.124089607889225,9.103458067511102,9.075793581682587,9.048889132796958,9.032894503861533,9.030590668472822,9.039924643470709,9.05514223714566,9.077449217043219,9.10212860516615,9.122431923261358,9.135332979783374,9.132710193052226,9.11816351602172,9.097971739567429,9.080438755541818,9.067666671119833,9.067317126911139,9.070602570999274,9.08364255711636,9.098291251638233,9.113966715109756,9.126979303763642,9.132477886205248,9.130508631651649,9.121816642522628,9.10926004664996,9.097908392471776,9.090245571826742,9.08803721825532,9.091348734068537,9.098956487187891,9.108930717764157,9.11932307672698,9.127293325137167,9.130656031350126,9.128929577547694,9.122695029929355,9.114460469342806,9.106713094918163,9.10172883510348,9.100013023631425,9.102508511767883,9.107340671410325,9.114239983554729,9.120785018318966,9.125587046763362,9.127580205719603,9.126122101381481,9.122126735132005,9.116846136252057,9.111794410252546,9.108451972441479,9.107436875515301,9.108867504927627,9.112273619312191,9.116690392394133,9.120975947060545,9.124069166573808,9.125175618513946,9.12414270455522,9.121429883483545,9.11790197647898,9.114618086199744,9.112399718003209,9.111789586954814,9.1127452045278,9.115052616578373,9.117914951861524,9.120702234205858,9.122621569243819,9.123245683092282,9.122528152570798,9.120713205470114,9.11841541803796,9.11627337744038,9.114832163470444,9.114439785114204,9.115110588237041,9.11661281473023,9.11852037740206,9.120312381587174,9.121534169996483,9.121906384322688,9.121382671062328,9.120176086263136,9.118658241063034,9.117254986239715,9.116332249060738,9.116089954543273,9.116556280732194,9.117551451527106],\"yaxis\":\"y\",\"type\":\"scatter\"}],                        {\"template\":{\"data\":{\"histogram2dcontour\":[{\"type\":\"histogram2dcontour\",\"colorbar\":{\"outlinewidth\":0,\"ticks\":\"\"},\"colorscale\":[[0.0,\"#0d0887\"],[0.1111111111111111,\"#46039f\"],[0.2222222222222222,\"#7201a8\"],[0.3333333333333333,\"#9c179e\"],[0.4444444444444444,\"#bd3786\"],[0.5555555555555556,\"#d8576b\"],[0.6666666666666666,\"#ed7953\"],[0.7777777777777778,\"#fb9f3a\"],[0.8888888888888888,\"#fdca26\"],[1.0,\"#f0f921\"]]}],\"choropleth\":[{\"type\":\"choropleth\",\"colorbar\":{\"outlinewidth\":0,\"ticks\":\"\"}}],\"histogram2d\":[{\"type\":\"histogram2d\",\"colorbar\":{\"outlinewidth\":0,\"ticks\":\"\"},\"colorscale\":[[0.0,\"#0d0887\"],[0.1111111111111111,\"#46039f\"],[0.2222222222222222,\"#7201a8\"],[0.3333333333333333,\"#9c179e\"],[0.4444444444444444,\"#bd3786\"],[0.5555555555555556,\"#d8576b\"],[0.6666666666666666,\"#ed7953\"],[0.7777777777777778,\"#fb9f3a\"],[0.8888888888888888,\"#fdca26\"],[1.0,\"#f0f921\"]]}],\"heatmap\":[{\"type\":\"heatmap\",\"colorbar\":{\"outlinewidth\":0,\"ticks\":\"\"},\"colorscale\":[[0.0,\"#0d0887\"],[0.1111111111111111,\"#46039f\"],[0.2222222222222222,\"#7201a8\"],[0.3333333333333333,\"#9c179e\"],[0.4444444444444444,\"#bd3786\"],[0.5555555555555556,\"#d8576b\"],[0.6666666666666666,\"#ed7953\"],[0.7777777777777778,\"#fb9f3a\"],[0.8888888888888888,\"#fdca26\"],[1.0,\"#f0f921\"]]}],\"heatmapgl\":[{\"type\":\"heatmapgl\",\"colorbar\":{\"outlinewidth\":0,\"ticks\":\"\"},\"colorscale\":[[0.0,\"#0d0887\"],[0.1111111111111111,\"#46039f\"],[0.2222222222222222,\"#7201a8\"],[0.3333333333333333,\"#9c179e\"],[0.4444444444444444,\"#bd3786\"],[0.5555555555555556,\"#d8576b\"],[0.6666666666666666,\"#ed7953\"],[0.7777777777777778,\"#fb9f3a\"],[0.8888888888888888,\"#fdca26\"],[1.0,\"#f0f921\"]]}],\"contourcarpet\":[{\"type\":\"contourcarpet\",\"colorbar\":{\"outlinewidth\":0,\"ticks\":\"\"}}],\"contour\":[{\"type\":\"contour\",\"colorbar\":{\"outlinewidth\":0,\"ticks\":\"\"},\"colorscale\":[[0.0,\"#0d0887\"],[0.1111111111111111,\"#46039f\"],[0.2222222222222222,\"#7201a8\"],[0.3333333333333333,\"#9c179e\"],[0.4444444444444444,\"#bd3786\"],[0.5555555555555556,\"#d8576b\"],[0.6666666666666666,\"#ed7953\"],[0.7777777777777778,\"#fb9f3a\"],[0.8888888888888888,\"#fdca26\"],[1.0,\"#f0f921\"]]}],\"surface\":[{\"type\":\"surface\",\"colorbar\":{\"outlinewidth\":0,\"ticks\":\"\"},\"colorscale\":[[0.0,\"#0d0887\"],[0.1111111111111111,\"#46039f\"],[0.2222222222222222,\"#7201a8\"],[0.3333333333333333,\"#9c179e\"],[0.4444444444444444,\"#bd3786\"],[0.5555555555555556,\"#d8576b\"],[0.6666666666666666,\"#ed7953\"],[0.7777777777777778,\"#fb9f3a\"],[0.8888888888888888,\"#fdca26\"],[1.0,\"#f0f921\"]]}],\"mesh3d\":[{\"type\":\"mesh3d\",\"colorbar\":{\"outlinewidth\":0,\"ticks\":\"\"}}],\"scatter\":[{\"fillpattern\":{\"fillmode\":\"overlay\",\"size\":10,\"solidity\":0.2},\"type\":\"scatter\"}],\"parcoords\":[{\"type\":\"parcoords\",\"line\":{\"colorbar\":{\"outlinewidth\":0,\"ticks\":\"\"}}}],\"scatterpolargl\":[{\"type\":\"scatterpolargl\",\"marker\":{\"colorbar\":{\"outlinewidth\":0,\"ticks\":\"\"}}}],\"bar\":[{\"error_x\":{\"color\":\"#2a3f5f\"},\"error_y\":{\"color\":\"#2a3f5f\"},\"marker\":{\"line\":{\"color\":\"#E5ECF6\",\"width\":0.5},\"pattern\":{\"fillmode\":\"overlay\",\"size\":10,\"solidity\":0.2}},\"type\":\"bar\"}],\"scattergeo\":[{\"type\":\"scattergeo\",\"marker\":{\"colorbar\":{\"outlinewidth\":0,\"ticks\":\"\"}}}],\"scatterpolar\":[{\"type\":\"scatterpolar\",\"marker\":{\"colorbar\":{\"outlinewidth\":0,\"ticks\":\"\"}}}],\"histogram\":[{\"marker\":{\"pattern\":{\"fillmode\":\"overlay\",\"size\":10,\"solidity\":0.2}},\"type\":\"histogram\"}],\"scattergl\":[{\"type\":\"scattergl\",\"marker\":{\"colorbar\":{\"outlinewidth\":0,\"ticks\":\"\"}}}],\"scatter3d\":[{\"type\":\"scatter3d\",\"line\":{\"colorbar\":{\"outlinewidth\":0,\"ticks\":\"\"}},\"marker\":{\"colorbar\":{\"outlinewidth\":0,\"ticks\":\"\"}}}],\"scattermapbox\":[{\"type\":\"scattermapbox\",\"marker\":{\"colorbar\":{\"outlinewidth\":0,\"ticks\":\"\"}}}],\"scatterternary\":[{\"type\":\"scatterternary\",\"marker\":{\"colorbar\":{\"outlinewidth\":0,\"ticks\":\"\"}}}],\"scattercarpet\":[{\"type\":\"scattercarpet\",\"marker\":{\"colorbar\":{\"outlinewidth\":0,\"ticks\":\"\"}}}],\"carpet\":[{\"aaxis\":{\"endlinecolor\":\"#2a3f5f\",\"gridcolor\":\"white\",\"linecolor\":\"white\",\"minorgridcolor\":\"white\",\"startlinecolor\":\"#2a3f5f\"},\"baxis\":{\"endlinecolor\":\"#2a3f5f\",\"gridcolor\":\"white\",\"linecolor\":\"white\",\"minorgridcolor\":\"white\",\"startlinecolor\":\"#2a3f5f\"},\"type\":\"carpet\"}],\"table\":[{\"cells\":{\"fill\":{\"color\":\"#EBF0F8\"},\"line\":{\"color\":\"white\"}},\"header\":{\"fill\":{\"color\":\"#C8D4E3\"},\"line\":{\"color\":\"white\"}},\"type\":\"table\"}],\"barpolar\":[{\"marker\":{\"line\":{\"color\":\"#E5ECF6\",\"width\":0.5},\"pattern\":{\"fillmode\":\"overlay\",\"size\":10,\"solidity\":0.2}},\"type\":\"barpolar\"}],\"pie\":[{\"automargin\":true,\"type\":\"pie\"}]},\"layout\":{\"autotypenumbers\":\"strict\",\"colorway\":[\"#636efa\",\"#EF553B\",\"#00cc96\",\"#ab63fa\",\"#FFA15A\",\"#19d3f3\",\"#FF6692\",\"#B6E880\",\"#FF97FF\",\"#FECB52\"],\"font\":{\"color\":\"#2a3f5f\"},\"hovermode\":\"closest\",\"hoverlabel\":{\"align\":\"left\"},\"paper_bgcolor\":\"white\",\"plot_bgcolor\":\"#E5ECF6\",\"polar\":{\"bgcolor\":\"#E5ECF6\",\"angularaxis\":{\"gridcolor\":\"white\",\"linecolor\":\"white\",\"ticks\":\"\"},\"radialaxis\":{\"gridcolor\":\"white\",\"linecolor\":\"white\",\"ticks\":\"\"}},\"ternary\":{\"bgcolor\":\"#E5ECF6\",\"aaxis\":{\"gridcolor\":\"white\",\"linecolor\":\"white\",\"ticks\":\"\"},\"baxis\":{\"gridcolor\":\"white\",\"linecolor\":\"white\",\"ticks\":\"\"},\"caxis\":{\"gridcolor\":\"white\",\"linecolor\":\"white\",\"ticks\":\"\"}},\"coloraxis\":{\"colorbar\":{\"outlinewidth\":0,\"ticks\":\"\"}},\"colorscale\":{\"sequential\":[[0.0,\"#0d0887\"],[0.1111111111111111,\"#46039f\"],[0.2222222222222222,\"#7201a8\"],[0.3333333333333333,\"#9c179e\"],[0.4444444444444444,\"#bd3786\"],[0.5555555555555556,\"#d8576b\"],[0.6666666666666666,\"#ed7953\"],[0.7777777777777778,\"#fb9f3a\"],[0.8888888888888888,\"#fdca26\"],[1.0,\"#f0f921\"]],\"sequentialminus\":[[0.0,\"#0d0887\"],[0.1111111111111111,\"#46039f\"],[0.2222222222222222,\"#7201a8\"],[0.3333333333333333,\"#9c179e\"],[0.4444444444444444,\"#bd3786\"],[0.5555555555555556,\"#d8576b\"],[0.6666666666666666,\"#ed7953\"],[0.7777777777777778,\"#fb9f3a\"],[0.8888888888888888,\"#fdca26\"],[1.0,\"#f0f921\"]],\"diverging\":[[0,\"#8e0152\"],[0.1,\"#c51b7d\"],[0.2,\"#de77ae\"],[0.3,\"#f1b6da\"],[0.4,\"#fde0ef\"],[0.5,\"#f7f7f7\"],[0.6,\"#e6f5d0\"],[0.7,\"#b8e186\"],[0.8,\"#7fbc41\"],[0.9,\"#4d9221\"],[1,\"#276419\"]]},\"xaxis\":{\"gridcolor\":\"white\",\"linecolor\":\"white\",\"ticks\":\"\",\"title\":{\"standoff\":15},\"zerolinecolor\":\"white\",\"automargin\":true,\"zerolinewidth\":2},\"yaxis\":{\"gridcolor\":\"white\",\"linecolor\":\"white\",\"ticks\":\"\",\"title\":{\"standoff\":15},\"zerolinecolor\":\"white\",\"automargin\":true,\"zerolinewidth\":2},\"scene\":{\"xaxis\":{\"backgroundcolor\":\"#E5ECF6\",\"gridcolor\":\"white\",\"linecolor\":\"white\",\"showbackground\":true,\"ticks\":\"\",\"zerolinecolor\":\"white\",\"gridwidth\":2},\"yaxis\":{\"backgroundcolor\":\"#E5ECF6\",\"gridcolor\":\"white\",\"linecolor\":\"white\",\"showbackground\":true,\"ticks\":\"\",\"zerolinecolor\":\"white\",\"gridwidth\":2},\"zaxis\":{\"backgroundcolor\":\"#E5ECF6\",\"gridcolor\":\"white\",\"linecolor\":\"white\",\"showbackground\":true,\"ticks\":\"\",\"zerolinecolor\":\"white\",\"gridwidth\":2}},\"shapedefaults\":{\"line\":{\"color\":\"#2a3f5f\"}},\"annotationdefaults\":{\"arrowcolor\":\"#2a3f5f\",\"arrowhead\":0,\"arrowwidth\":1},\"geo\":{\"bgcolor\":\"white\",\"landcolor\":\"#E5ECF6\",\"subunitcolor\":\"white\",\"showland\":true,\"showlakes\":true,\"lakecolor\":\"white\"},\"title\":{\"x\":0.05},\"mapbox\":{\"style\":\"light\"}}},\"xaxis\":{\"anchor\":\"y\",\"domain\":[0.0,1.0],\"title\":{\"text\":\"timestamp\"}},\"yaxis\":{\"anchor\":\"x\",\"domain\":[0.0,1.0],\"title\":{\"text\":\"P2\"}},\"legend\":{\"title\":{\"text\":\"variable\"},\"tracegroupgap\":0},\"margin\":{\"t\":60}},                        {\"responsive\": true}                    ).then(function(){\n",
       "                            \n",
       "var gd = document.getElementById('930e95d7-da64-4746-8ce0-ccec90417735');\n",
       "var x = new MutationObserver(function (mutations, observer) {{\n",
       "        var display = window.getComputedStyle(gd).display;\n",
       "        if (!display || display === 'none') {{\n",
       "            console.log([gd, 'removed!']);\n",
       "            Plotly.purge(gd);\n",
       "            observer.disconnect();\n",
       "        }}\n",
       "}});\n",
       "\n",
       "// Listen for the removal of the full notebook cells\n",
       "var notebookContainer = gd.closest('#notebook-container');\n",
       "if (notebookContainer) {{\n",
       "    x.observe(notebookContainer, {childList: true});\n",
       "}}\n",
       "\n",
       "// Listen for the clearing of the current output cell\n",
       "var outputEl = gd.closest('.output');\n",
       "if (outputEl) {{\n",
       "    x.observe(outputEl, {childList: true});\n",
       "}}\n",
       "\n",
       "                        })                };                });            </script>        </div>"
      ]
     },
     "metadata": {},
     "output_type": "display_data"
    }
   ],
   "source": [
    "fig = px.line(df_pred_test, labels={\"value\": \"P2\"})\n",
    "fig.show()"
   ]
  },
  {
   "cell_type": "code",
   "execution_count": 52,
   "id": "914b5af2-deca-4283-8afc-82ab25540d2f",
   "metadata": {},
   "outputs": [
    {
     "data": {
      "text/html": [
       "\n",
       "        <iframe\n",
       "            width=\"600\"\n",
       "            height=\"300\"\n",
       "            src=\"https://player.vimeo.com/video/665851599?h=bb30d96e43\"\n",
       "            frameborder=\"0\"\n",
       "            allowfullscreen\n",
       "            \n",
       "        ></iframe>\n",
       "        "
      ],
      "text/plain": [
       "<IPython.lib.display.VimeoVideo at 0x72dbb0a56e50>"
      ]
     },
     "execution_count": 52,
     "metadata": {},
     "output_type": "execute_result"
    }
   ],
   "source": [
    "VimeoVideo(\"665851599\", h=\"bb30d96e43\", width=600)"
   ]
  },
  {
   "cell_type": "markdown",
   "id": "85a40559-c6ea-41ed-bc53-29f0971a732a",
   "metadata": {},
   "source": [
    "**Task 3.3.17:** Perform walk-forward validation for your model for the entire test set `y_test`. Store your model's predictions in the Series `y_pred_wfv`. \n",
    "\n",
    "- [What's <span id='term'>walk-forward validation?](../%40textbook/17-ts-core.ipynb#Walk-Forward-Validation)\n",
    "- [<span id='technique'>Perform walk-forward validation for time series model.](../%40textbook/18-ts-models.ipynb#Walk-forward-Validation)"
   ]
  },
  {
   "cell_type": "code",
   "execution_count": 56,
   "id": "92379eeb-4546-4bad-b11a-ec2477eaf6cc",
   "metadata": {},
   "outputs": [],
   "source": [
    "%%capture\n",
    "\n",
    "y_pred_wfv =pd.Series()\n",
    "history =y_train.copy()\n",
    "for i in range(len(y_test)):\n",
    "    model=AutoReg(history,lags=26).fit()\n",
    "    next_pred=model.forecast()\n",
    "    y_pred_wfv=y_pred_wfv.append(next_pred)\n",
    "    history=history.append(y_test[next_pred.index])\n",
    "    "
   ]
  },
  {
   "cell_type": "code",
   "execution_count": 54,
   "id": "8ec34a29-428c-4720-8aa7-7ae3a9511811",
   "metadata": {},
   "outputs": [
    {
     "data": {
      "text/plain": [
       "timestamp\n",
       "2018-12-25 23:00:00+03:00    6.422727\n",
       "Freq: H, Name: P2, dtype: float64"
      ]
     },
     "execution_count": 54,
     "metadata": {},
     "output_type": "execute_result"
    }
   ],
   "source": []
  },
  {
   "cell_type": "code",
   "execution_count": 57,
   "id": "81401774-34c5-4108-b4fd-18e35035be47",
   "metadata": {},
   "outputs": [
    {
     "data": {
      "text/html": [
       "\n",
       "        <iframe\n",
       "            width=\"600\"\n",
       "            height=\"300\"\n",
       "            src=\"https://player.vimeo.com/video/665851568?h=a764ab5416\"\n",
       "            frameborder=\"0\"\n",
       "            allowfullscreen\n",
       "            \n",
       "        ></iframe>\n",
       "        "
      ],
      "text/plain": [
       "<IPython.lib.display.VimeoVideo at 0x72db9bf948d0>"
      ]
     },
     "execution_count": 57,
     "metadata": {},
     "output_type": "execute_result"
    }
   ],
   "source": [
    "VimeoVideo(\"665851568\", h=\"a764ab5416\", width=600)"
   ]
  },
  {
   "cell_type": "markdown",
   "id": "4695b215-7312-4cd9-9e21-0603f5f9151b",
   "metadata": {},
   "source": [
    "**Task 3.3.18:** Calculate the test mean absolute error for your model.\n",
    "\n",
    "- [<span id='technique'>Calculate the mean absolute error for a list of predictions in <span id='tool'>scikit-learn.](../%40textbook/15-ml-regression.ipynb#Calculating-the-Mean-Absolute-Error-for-a-List-of-Predictions)"
   ]
  },
  {
   "cell_type": "code",
   "execution_count": 58,
   "id": "1aba2273-eba8-4ace-8bbd-245fecd828f1",
   "metadata": {},
   "outputs": [
    {
     "name": "stdout",
     "output_type": "stream",
     "text": [
      "Test MAE (walk forward validation): 1.4\n"
     ]
    }
   ],
   "source": [
    "test_mae =mean_absolute_error(y_test,y_pred_wfv)\n",
    "print(\"Test MAE (walk forward validation):\", round(test_mae, 2))"
   ]
  },
  {
   "cell_type": "markdown",
   "id": "6d8662e5-ab31-4eee-b0d2-0a34a207f697",
   "metadata": {},
   "source": [
    "# Communicate Results"
   ]
  },
  {
   "cell_type": "code",
   "execution_count": 59,
   "id": "b90b7a1f-f4ad-419b-b4f1-c3e6f96f0e44",
   "metadata": {},
   "outputs": [
    {
     "data": {
      "text/html": [
       "\n",
       "        <iframe\n",
       "            width=\"600\"\n",
       "            height=\"300\"\n",
       "            src=\"https://player.vimeo.com/video/665851553?h=46338036cc\"\n",
       "            frameborder=\"0\"\n",
       "            allowfullscreen\n",
       "            \n",
       "        ></iframe>\n",
       "        "
      ],
      "text/plain": [
       "<IPython.lib.display.VimeoVideo at 0x72db9bfa3890>"
      ]
     },
     "execution_count": 59,
     "metadata": {},
     "output_type": "execute_result"
    }
   ],
   "source": [
    "VimeoVideo(\"665851553\", h=\"46338036cc\", width=600)"
   ]
  },
  {
   "cell_type": "markdown",
   "id": "1bbfa94d-a026-49fd-b1f6-b9d162c3aa53",
   "metadata": {},
   "source": [
    "**Task 3.3.19:** Print out the parameters for your trained model.\n",
    "\n",
    "- [<span id='technique'>Access model parameters in <span id='tool'>statsmodels](../%40textbook/18-ts-models.ipynb#Communicating-the-Results)"
   ]
  },
  {
   "cell_type": "code",
   "execution_count": 60,
   "id": "5f31e84c-2e76-4438-ab7c-0e96a21cc298",
   "metadata": {
    "tags": []
   },
   "outputs": [
    {
     "name": "stdout",
     "output_type": "stream",
     "text": [
      "const     2.011432\n",
      "P2.L1     0.587118\n",
      "P2.L2     0.019796\n",
      "P2.L3     0.023615\n",
      "P2.L4     0.027187\n",
      "P2.L5     0.044014\n",
      "P2.L6    -0.102128\n",
      "P2.L7     0.029583\n",
      "P2.L8     0.049867\n",
      "P2.L9    -0.016897\n",
      "P2.L10    0.032438\n",
      "P2.L11    0.064360\n",
      "P2.L12    0.005987\n",
      "P2.L13    0.018375\n",
      "P2.L14   -0.007636\n",
      "P2.L15   -0.016075\n",
      "P2.L16   -0.015953\n",
      "P2.L17   -0.035444\n",
      "P2.L18    0.000756\n",
      "P2.L19   -0.003907\n",
      "P2.L20   -0.020655\n",
      "P2.L21   -0.012578\n",
      "P2.L22    0.052499\n",
      "P2.L23    0.074229\n",
      "P2.L24   -0.023806\n",
      "P2.L25    0.090577\n",
      "P2.L26   -0.088323\n",
      "dtype: float64\n"
     ]
    }
   ],
   "source": [
    "print(model.params)"
   ]
  },
  {
   "cell_type": "code",
   "execution_count": 61,
   "id": "9c3ed2e8-8363-475f-89d7-880acd4c2516",
   "metadata": {},
   "outputs": [
    {
     "data": {
      "text/html": [
       "\n",
       "        <iframe\n",
       "            width=\"600\"\n",
       "            height=\"300\"\n",
       "            src=\"https://player.vimeo.com/video/665851529?h=39284d37ac\"\n",
       "            frameborder=\"0\"\n",
       "            allowfullscreen\n",
       "            \n",
       "        ></iframe>\n",
       "        "
      ],
      "text/plain": [
       "<IPython.lib.display.VimeoVideo at 0x72db9bfa2dd0>"
      ]
     },
     "execution_count": 61,
     "metadata": {},
     "output_type": "execute_result"
    }
   ],
   "source": [
    "VimeoVideo(\"665851529\", h=\"39284d37ac\", width=600)"
   ]
  },
  {
   "cell_type": "markdown",
   "id": "6c81a4e3-da69-402a-a621-7cb794b684d8",
   "metadata": {
    "tags": []
   },
   "source": [
    "**Task 3.3.20:** Put the values for `y_test` and `y_pred_wfv` into the DataFrame `df_pred_test` (don't forget the index). Then plot `df_pred_test` using plotly express.\n",
    "\n",
    "- [<span id='technique'>Create a line plot in <span id='tool'>plotly express.](../%40textbook/07-visualization-pandas.ipynb#Line-Plots)"
   ]
  },
  {
   "cell_type": "code",
   "execution_count": 62,
   "id": "9f6d68b8-e445-4dde-9632-3dab4c581ba0",
   "metadata": {},
   "outputs": [
    {
     "data": {
      "application/vnd.plotly.v1+json": {
       "config": {
        "plotlyServerURL": "https://plot.ly"
       },
       "data": [
        {
         "hovertemplate": "variable=y_test<br>index=%{x}<br>PM2.5=%{y}<extra></extra>",
         "legendgroup": "y_test",
         "line": {
          "color": "#636efa",
          "dash": "solid"
         },
         "marker": {
          "symbol": "circle"
         },
         "mode": "lines",
         "name": "y_test",
         "orientation": "v",
         "showlegend": true,
         "type": "scatter",
         "x": [
          "2018-12-26T00:00:00+03:00",
          "2018-12-26T01:00:00+03:00",
          "2018-12-26T02:00:00+03:00",
          "2018-12-26T03:00:00+03:00",
          "2018-12-26T04:00:00+03:00",
          "2018-12-26T05:00:00+03:00",
          "2018-12-26T06:00:00+03:00",
          "2018-12-26T07:00:00+03:00",
          "2018-12-26T08:00:00+03:00",
          "2018-12-26T09:00:00+03:00",
          "2018-12-26T10:00:00+03:00",
          "2018-12-26T11:00:00+03:00",
          "2018-12-26T12:00:00+03:00",
          "2018-12-26T13:00:00+03:00",
          "2018-12-26T14:00:00+03:00",
          "2018-12-26T15:00:00+03:00",
          "2018-12-26T16:00:00+03:00",
          "2018-12-26T17:00:00+03:00",
          "2018-12-26T18:00:00+03:00",
          "2018-12-26T19:00:00+03:00",
          "2018-12-26T20:00:00+03:00",
          "2018-12-26T21:00:00+03:00",
          "2018-12-26T22:00:00+03:00",
          "2018-12-26T23:00:00+03:00",
          "2018-12-27T00:00:00+03:00",
          "2018-12-27T01:00:00+03:00",
          "2018-12-27T02:00:00+03:00",
          "2018-12-27T03:00:00+03:00",
          "2018-12-27T04:00:00+03:00",
          "2018-12-27T05:00:00+03:00",
          "2018-12-27T06:00:00+03:00",
          "2018-12-27T07:00:00+03:00",
          "2018-12-27T08:00:00+03:00",
          "2018-12-27T09:00:00+03:00",
          "2018-12-27T10:00:00+03:00",
          "2018-12-27T11:00:00+03:00",
          "2018-12-27T12:00:00+03:00",
          "2018-12-27T13:00:00+03:00",
          "2018-12-27T14:00:00+03:00",
          "2018-12-27T15:00:00+03:00",
          "2018-12-27T16:00:00+03:00",
          "2018-12-27T17:00:00+03:00",
          "2018-12-27T18:00:00+03:00",
          "2018-12-27T19:00:00+03:00",
          "2018-12-27T20:00:00+03:00",
          "2018-12-27T21:00:00+03:00",
          "2018-12-27T22:00:00+03:00",
          "2018-12-27T23:00:00+03:00",
          "2018-12-28T00:00:00+03:00",
          "2018-12-28T01:00:00+03:00",
          "2018-12-28T02:00:00+03:00",
          "2018-12-28T03:00:00+03:00",
          "2018-12-28T04:00:00+03:00",
          "2018-12-28T05:00:00+03:00",
          "2018-12-28T06:00:00+03:00",
          "2018-12-28T07:00:00+03:00",
          "2018-12-28T08:00:00+03:00",
          "2018-12-28T09:00:00+03:00",
          "2018-12-28T10:00:00+03:00",
          "2018-12-28T11:00:00+03:00",
          "2018-12-28T12:00:00+03:00",
          "2018-12-28T13:00:00+03:00",
          "2018-12-28T14:00:00+03:00",
          "2018-12-28T15:00:00+03:00",
          "2018-12-28T16:00:00+03:00",
          "2018-12-28T17:00:00+03:00",
          "2018-12-28T18:00:00+03:00",
          "2018-12-28T19:00:00+03:00",
          "2018-12-28T20:00:00+03:00",
          "2018-12-28T21:00:00+03:00",
          "2018-12-28T22:00:00+03:00",
          "2018-12-28T23:00:00+03:00",
          "2018-12-29T00:00:00+03:00",
          "2018-12-29T01:00:00+03:00",
          "2018-12-29T02:00:00+03:00",
          "2018-12-29T03:00:00+03:00",
          "2018-12-29T04:00:00+03:00",
          "2018-12-29T05:00:00+03:00",
          "2018-12-29T06:00:00+03:00",
          "2018-12-29T07:00:00+03:00",
          "2018-12-29T08:00:00+03:00",
          "2018-12-29T09:00:00+03:00",
          "2018-12-29T10:00:00+03:00",
          "2018-12-29T11:00:00+03:00",
          "2018-12-29T12:00:00+03:00",
          "2018-12-29T13:00:00+03:00",
          "2018-12-29T14:00:00+03:00",
          "2018-12-29T15:00:00+03:00",
          "2018-12-29T16:00:00+03:00",
          "2018-12-29T17:00:00+03:00",
          "2018-12-29T18:00:00+03:00",
          "2018-12-29T19:00:00+03:00",
          "2018-12-29T20:00:00+03:00",
          "2018-12-29T21:00:00+03:00",
          "2018-12-29T22:00:00+03:00",
          "2018-12-29T23:00:00+03:00",
          "2018-12-30T00:00:00+03:00",
          "2018-12-30T01:00:00+03:00",
          "2018-12-30T02:00:00+03:00",
          "2018-12-30T03:00:00+03:00",
          "2018-12-30T04:00:00+03:00",
          "2018-12-30T05:00:00+03:00",
          "2018-12-30T06:00:00+03:00",
          "2018-12-30T07:00:00+03:00",
          "2018-12-30T08:00:00+03:00",
          "2018-12-30T09:00:00+03:00",
          "2018-12-30T10:00:00+03:00",
          "2018-12-30T11:00:00+03:00",
          "2018-12-30T12:00:00+03:00",
          "2018-12-30T13:00:00+03:00",
          "2018-12-30T14:00:00+03:00",
          "2018-12-30T15:00:00+03:00",
          "2018-12-30T16:00:00+03:00",
          "2018-12-30T17:00:00+03:00",
          "2018-12-30T18:00:00+03:00",
          "2018-12-30T19:00:00+03:00",
          "2018-12-30T20:00:00+03:00",
          "2018-12-30T21:00:00+03:00",
          "2018-12-30T22:00:00+03:00",
          "2018-12-30T23:00:00+03:00",
          "2018-12-31T00:00:00+03:00",
          "2018-12-31T01:00:00+03:00",
          "2018-12-31T02:00:00+03:00",
          "2018-12-31T03:00:00+03:00",
          "2018-12-31T04:00:00+03:00",
          "2018-12-31T05:00:00+03:00",
          "2018-12-31T06:00:00+03:00",
          "2018-12-31T07:00:00+03:00",
          "2018-12-31T08:00:00+03:00",
          "2018-12-31T09:00:00+03:00",
          "2018-12-31T10:00:00+03:00",
          "2018-12-31T11:00:00+03:00",
          "2018-12-31T12:00:00+03:00",
          "2018-12-31T13:00:00+03:00",
          "2018-12-31T14:00:00+03:00",
          "2018-12-31T15:00:00+03:00",
          "2018-12-31T16:00:00+03:00",
          "2018-12-31T17:00:00+03:00",
          "2018-12-31T18:00:00+03:00",
          "2018-12-31T19:00:00+03:00",
          "2018-12-31T20:00:00+03:00",
          "2018-12-31T21:00:00+03:00",
          "2018-12-31T22:00:00+03:00",
          "2018-12-31T23:00:00+03:00",
          "2019-01-01T00:00:00+03:00",
          "2019-01-01T01:00:00+03:00",
          "2019-01-01T02:00:00+03:00"
         ],
         "xaxis": "x",
         "y": [
          5.679090909090909,
          5.3625,
          4.786666666666666,
          4.956666666666667,
          5.055833333333333,
          6.649166666666666,
          9.023076923076923,
          12.549999999999999,
          12.660000000000002,
          7.8875,
          7.891666666666667,
          7.315833333333334,
          6.871666666666666,
          7.678333333333334,
          8.410833333333334,
          8.0675,
          7.591666666666666,
          8.046666666666667,
          9.750833333333334,
          10.7875,
          12.111666666666666,
          11.222499999999998,
          11.319166666666668,
          11.920833333333334,
          11.211666666666666,
          10.700000000000001,
          10.860833333333334,
          10.734166666666667,
          11.626666666666667,
          14.8075,
          16.232499999999998,
          13.711666666666666,
          13.253333333333332,
          11.1075,
          9.843333333333334,
          8.756666666666666,
          6.6827272727272735,
          5.564166666666666,
          5.940833333333334,
          6.248333333333334,
          5.610833333333333,
          5.36,
          6.805,
          7.7491666666666665,
          7.6883333333333335,
          7.9575000000000005,
          8.355833333333333,
          7.927499999999999,
          7.077500000000001,
          6.189166666666666,
          5.964166666666666,
          5.290833333333333,
          5.249230769230769,
          5.539166666666667,
          7.700833333333333,
          6.321666666666666,
          5.31,
          5.590833333333333,
          9.894545454545455,
          8.965,
          6.790909090909091,
          4.291666666666667,
          3.7733333333333334,
          3.8183333333333334,
          2.4125,
          2.7283333333333335,
          4.4366666666666665,
          7.18,
          5.463333333333334,
          6.325833333333333,
          6.043333333333333,
          6.139166666666667,
          6.895,
          5.803333333333334,
          4.690833333333333,
          4.31,
          4.380833333333333,
          4.5441666666666665,
          4.725833333333333,
          8.7225,
          9.244166666666667,
          6.950833333333333,
          5.716666666666666,
          6.649166666666667,
          5.304545454545455,
          4.0475,
          3.279166666666667,
          3.1683333333333334,
          4.786666666666666,
          3.6775,
          5.6675,
          9.015833333333333,
          11.7675,
          5.255,
          3.751666666666667,
          5.39,
          5.245,
          3.7716666666666665,
          2.9,
          4.3133333333333335,
          4.815833333333333,
          4.783333333333333,
          8.78,
          12.159166666666666,
          6.246666666666666,
          6.7681818181818185,
          4.42,
          4.523333333333333,
          4.723333333333334,
          3.7883333333333336,
          3.5124999999999997,
          2.705,
          2.9791666666666665,
          3.56,
          5.141666666666667,
          8.37,
          7.223333333333334,
          5.802499999999999,
          6.460833333333333,
          9.676666666666668,
          4.254166666666666,
          4.1475,
          3.5191666666666666,
          5.368333333333333,
          5.2700000000000005,
          5.809166666666667,
          6.935,
          7.97,
          9.533333333333333,
          9.635,
          8.9625,
          5.713333333333334,
          5.913333333333334,
          5.800833333333333,
          5.44,
          4.477,
          5.445454545454545,
          4.4871428571428575,
          7.290909090909091,
          9.476666666666667,
          10.4025,
          9.150833333333333,
          7.060833333333334,
          7.854166666666667,
          9.755833333333333,
          12.665,
          18.803333333333335
         ],
         "yaxis": "y"
        },
        {
         "hovertemplate": "variable=y_pred_wfv<br>index=%{x}<br>PM2.5=%{y}<extra></extra>",
         "legendgroup": "y_pred_wfv",
         "line": {
          "color": "#EF553B",
          "dash": "solid"
         },
         "marker": {
          "symbol": "circle"
         },
         "mode": "lines",
         "name": "y_pred_wfv",
         "orientation": "v",
         "showlegend": true,
         "type": "scatter",
         "x": [
          "2018-12-26T00:00:00+03:00",
          "2018-12-26T01:00:00+03:00",
          "2018-12-26T02:00:00+03:00",
          "2018-12-26T03:00:00+03:00",
          "2018-12-26T04:00:00+03:00",
          "2018-12-26T05:00:00+03:00",
          "2018-12-26T06:00:00+03:00",
          "2018-12-26T07:00:00+03:00",
          "2018-12-26T08:00:00+03:00",
          "2018-12-26T09:00:00+03:00",
          "2018-12-26T10:00:00+03:00",
          "2018-12-26T11:00:00+03:00",
          "2018-12-26T12:00:00+03:00",
          "2018-12-26T13:00:00+03:00",
          "2018-12-26T14:00:00+03:00",
          "2018-12-26T15:00:00+03:00",
          "2018-12-26T16:00:00+03:00",
          "2018-12-26T17:00:00+03:00",
          "2018-12-26T18:00:00+03:00",
          "2018-12-26T19:00:00+03:00",
          "2018-12-26T20:00:00+03:00",
          "2018-12-26T21:00:00+03:00",
          "2018-12-26T22:00:00+03:00",
          "2018-12-26T23:00:00+03:00",
          "2018-12-27T00:00:00+03:00",
          "2018-12-27T01:00:00+03:00",
          "2018-12-27T02:00:00+03:00",
          "2018-12-27T03:00:00+03:00",
          "2018-12-27T04:00:00+03:00",
          "2018-12-27T05:00:00+03:00",
          "2018-12-27T06:00:00+03:00",
          "2018-12-27T07:00:00+03:00",
          "2018-12-27T08:00:00+03:00",
          "2018-12-27T09:00:00+03:00",
          "2018-12-27T10:00:00+03:00",
          "2018-12-27T11:00:00+03:00",
          "2018-12-27T12:00:00+03:00",
          "2018-12-27T13:00:00+03:00",
          "2018-12-27T14:00:00+03:00",
          "2018-12-27T15:00:00+03:00",
          "2018-12-27T16:00:00+03:00",
          "2018-12-27T17:00:00+03:00",
          "2018-12-27T18:00:00+03:00",
          "2018-12-27T19:00:00+03:00",
          "2018-12-27T20:00:00+03:00",
          "2018-12-27T21:00:00+03:00",
          "2018-12-27T22:00:00+03:00",
          "2018-12-27T23:00:00+03:00",
          "2018-12-28T00:00:00+03:00",
          "2018-12-28T01:00:00+03:00",
          "2018-12-28T02:00:00+03:00",
          "2018-12-28T03:00:00+03:00",
          "2018-12-28T04:00:00+03:00",
          "2018-12-28T05:00:00+03:00",
          "2018-12-28T06:00:00+03:00",
          "2018-12-28T07:00:00+03:00",
          "2018-12-28T08:00:00+03:00",
          "2018-12-28T09:00:00+03:00",
          "2018-12-28T10:00:00+03:00",
          "2018-12-28T11:00:00+03:00",
          "2018-12-28T12:00:00+03:00",
          "2018-12-28T13:00:00+03:00",
          "2018-12-28T14:00:00+03:00",
          "2018-12-28T15:00:00+03:00",
          "2018-12-28T16:00:00+03:00",
          "2018-12-28T17:00:00+03:00",
          "2018-12-28T18:00:00+03:00",
          "2018-12-28T19:00:00+03:00",
          "2018-12-28T20:00:00+03:00",
          "2018-12-28T21:00:00+03:00",
          "2018-12-28T22:00:00+03:00",
          "2018-12-28T23:00:00+03:00",
          "2018-12-29T00:00:00+03:00",
          "2018-12-29T01:00:00+03:00",
          "2018-12-29T02:00:00+03:00",
          "2018-12-29T03:00:00+03:00",
          "2018-12-29T04:00:00+03:00",
          "2018-12-29T05:00:00+03:00",
          "2018-12-29T06:00:00+03:00",
          "2018-12-29T07:00:00+03:00",
          "2018-12-29T08:00:00+03:00",
          "2018-12-29T09:00:00+03:00",
          "2018-12-29T10:00:00+03:00",
          "2018-12-29T11:00:00+03:00",
          "2018-12-29T12:00:00+03:00",
          "2018-12-29T13:00:00+03:00",
          "2018-12-29T14:00:00+03:00",
          "2018-12-29T15:00:00+03:00",
          "2018-12-29T16:00:00+03:00",
          "2018-12-29T17:00:00+03:00",
          "2018-12-29T18:00:00+03:00",
          "2018-12-29T19:00:00+03:00",
          "2018-12-29T20:00:00+03:00",
          "2018-12-29T21:00:00+03:00",
          "2018-12-29T22:00:00+03:00",
          "2018-12-29T23:00:00+03:00",
          "2018-12-30T00:00:00+03:00",
          "2018-12-30T01:00:00+03:00",
          "2018-12-30T02:00:00+03:00",
          "2018-12-30T03:00:00+03:00",
          "2018-12-30T04:00:00+03:00",
          "2018-12-30T05:00:00+03:00",
          "2018-12-30T06:00:00+03:00",
          "2018-12-30T07:00:00+03:00",
          "2018-12-30T08:00:00+03:00",
          "2018-12-30T09:00:00+03:00",
          "2018-12-30T10:00:00+03:00",
          "2018-12-30T11:00:00+03:00",
          "2018-12-30T12:00:00+03:00",
          "2018-12-30T13:00:00+03:00",
          "2018-12-30T14:00:00+03:00",
          "2018-12-30T15:00:00+03:00",
          "2018-12-30T16:00:00+03:00",
          "2018-12-30T17:00:00+03:00",
          "2018-12-30T18:00:00+03:00",
          "2018-12-30T19:00:00+03:00",
          "2018-12-30T20:00:00+03:00",
          "2018-12-30T21:00:00+03:00",
          "2018-12-30T22:00:00+03:00",
          "2018-12-30T23:00:00+03:00",
          "2018-12-31T00:00:00+03:00",
          "2018-12-31T01:00:00+03:00",
          "2018-12-31T02:00:00+03:00",
          "2018-12-31T03:00:00+03:00",
          "2018-12-31T04:00:00+03:00",
          "2018-12-31T05:00:00+03:00",
          "2018-12-31T06:00:00+03:00",
          "2018-12-31T07:00:00+03:00",
          "2018-12-31T08:00:00+03:00",
          "2018-12-31T09:00:00+03:00",
          "2018-12-31T10:00:00+03:00",
          "2018-12-31T11:00:00+03:00",
          "2018-12-31T12:00:00+03:00",
          "2018-12-31T13:00:00+03:00",
          "2018-12-31T14:00:00+03:00",
          "2018-12-31T15:00:00+03:00",
          "2018-12-31T16:00:00+03:00",
          "2018-12-31T17:00:00+03:00",
          "2018-12-31T18:00:00+03:00",
          "2018-12-31T19:00:00+03:00",
          "2018-12-31T20:00:00+03:00",
          "2018-12-31T21:00:00+03:00",
          "2018-12-31T22:00:00+03:00",
          "2018-12-31T23:00:00+03:00",
          "2019-01-01T00:00:00+03:00",
          "2019-01-01T01:00:00+03:00",
          "2019-01-01T02:00:00+03:00"
         ],
         "xaxis": "x",
         "y": [
          6.717606382234198,
          6.652194153166832,
          6.180631450063712,
          6.010500441698374,
          6.102229429989014,
          6.366213097721233,
          7.334891968527749,
          8.85972685700222,
          10.856627021627641,
          10.841276830834845,
          8.043093300542964,
          8.095211669052937,
          7.587844865032626,
          7.083080303531315,
          7.435465753855031,
          8.35798987947985,
          8.323210171239086,
          8.238523896930396,
          9.062359838289659,
          9.897086260334326,
          10.07151690971139,
          10.671339770440563,
          10.178309583614778,
          9.93252509255354,
          10.32139682048204,
          9.849853804521059,
          9.6299519833422,
          9.825779515426921,
          10.1297506256858,
          11.025726907897736,
          13.495762848784478,
          14.321074635731776,
          12.630899721299985,
          12.255667732411647,
          10.426898125571247,
          9.622108291318707,
          8.784640979900686,
          7.8553710408364275,
          7.030693121445786,
          7.253740079224209,
          7.648775340369044,
          7.378849952192256,
          7.434615927121588,
          8.308747643706523,
          8.292707908874487,
          8.114550301508526,
          7.969711521915263,
          8.12719390643187,
          7.794302997329927,
          7.124894286287736,
          6.810153011892414,
          7.037314619795876,
          6.956352497881278,
          7.1574159310877645,
          7.467728716197915,
          8.588393957260982,
          7.297057124617518,
          6.905153267046735,
          6.68676920801126,
          8.931416662561237,
          8.091820550694328,
          7.007291497718766,
          5.732320096374101,
          5.367111827370225,
          4.942063294766195,
          4.409369568112223,
          4.847096487269293,
          6.01443785065752,
          7.676974656112244,
          6.738280818999536,
          7.340497075492118,
          6.982710535804603,
          6.601386461592313,
          6.591608033458545,
          6.095808104963817,
          5.319627888322812,
          5.311808161377909,
          5.7989913062124145,
          5.672759334997309,
          5.987733391912824,
          8.559105016548,
          9.23353779038874,
          7.786375633858689,
          7.154652308617186,
          7.03499082944515,
          5.692206849404791,
          4.656321915797957,
          4.572237517423801,
          4.699777367339202,
          5.568190120650867,
          5.567223043416837,
          6.878139822853807,
          8.928609069168358,
          10.146324872321193,
          6.484753766537115,
          5.5845918013609035,
          6.108691349145699,
          5.5353204727571645,
          4.239490365099546,
          4.592358334127782,
          5.533001149998798,
          5.847012054907328,
          6.591625781679904,
          9.064321547146314,
          10.93846914893906,
          7.020574791916973,
          7.082838864803253,
          5.650490906389251,
          5.182616806938302,
          4.525631211758422,
          5.219525987746991,
          4.868652483674984,
          4.370757853227402,
          5.565510998031644,
          5.991804610859406,
          6.8226394747544985,
          8.129122877156014,
          7.371358620005265,
          5.8841821955475,
          6.413344421503334,
          8.309935035984996,
          4.915091809218932,
          4.942190635703379,
          4.86693682069033,
          6.275264075855269,
          6.3390955977120385,
          7.462353543745965,
          7.993042473597625,
          8.438439460934244,
          8.340990650987418,
          9.133672707147493,
          8.229645018130066,
          6.312007475776232,
          6.273773816388054,
          5.97929345329559,
          5.791347487075102,
          5.353452953067057,
          6.9058628189942315,
          6.4450581231765725,
          7.840165077645186,
          9.35259023930135,
          9.889673279319942,
          8.76562282382849,
          7.364228091666291,
          7.791623086652443,
          7.865696772568399,
          10.259856231008897
         ],
         "yaxis": "y"
        }
       ],
       "layout": {
        "legend": {
         "title": {
          "text": "variable"
         },
         "tracegroupgap": 0
        },
        "margin": {
         "t": 60
        },
        "template": {
         "data": {
          "bar": [
           {
            "error_x": {
             "color": "#2a3f5f"
            },
            "error_y": {
             "color": "#2a3f5f"
            },
            "marker": {
             "line": {
              "color": "#E5ECF6",
              "width": 0.5
             },
             "pattern": {
              "fillmode": "overlay",
              "size": 10,
              "solidity": 0.2
             }
            },
            "type": "bar"
           }
          ],
          "barpolar": [
           {
            "marker": {
             "line": {
              "color": "#E5ECF6",
              "width": 0.5
             },
             "pattern": {
              "fillmode": "overlay",
              "size": 10,
              "solidity": 0.2
             }
            },
            "type": "barpolar"
           }
          ],
          "carpet": [
           {
            "aaxis": {
             "endlinecolor": "#2a3f5f",
             "gridcolor": "white",
             "linecolor": "white",
             "minorgridcolor": "white",
             "startlinecolor": "#2a3f5f"
            },
            "baxis": {
             "endlinecolor": "#2a3f5f",
             "gridcolor": "white",
             "linecolor": "white",
             "minorgridcolor": "white",
             "startlinecolor": "#2a3f5f"
            },
            "type": "carpet"
           }
          ],
          "choropleth": [
           {
            "colorbar": {
             "outlinewidth": 0,
             "ticks": ""
            },
            "type": "choropleth"
           }
          ],
          "contour": [
           {
            "colorbar": {
             "outlinewidth": 0,
             "ticks": ""
            },
            "colorscale": [
             [
              0,
              "#0d0887"
             ],
             [
              0.1111111111111111,
              "#46039f"
             ],
             [
              0.2222222222222222,
              "#7201a8"
             ],
             [
              0.3333333333333333,
              "#9c179e"
             ],
             [
              0.4444444444444444,
              "#bd3786"
             ],
             [
              0.5555555555555556,
              "#d8576b"
             ],
             [
              0.6666666666666666,
              "#ed7953"
             ],
             [
              0.7777777777777778,
              "#fb9f3a"
             ],
             [
              0.8888888888888888,
              "#fdca26"
             ],
             [
              1,
              "#f0f921"
             ]
            ],
            "type": "contour"
           }
          ],
          "contourcarpet": [
           {
            "colorbar": {
             "outlinewidth": 0,
             "ticks": ""
            },
            "type": "contourcarpet"
           }
          ],
          "heatmap": [
           {
            "colorbar": {
             "outlinewidth": 0,
             "ticks": ""
            },
            "colorscale": [
             [
              0,
              "#0d0887"
             ],
             [
              0.1111111111111111,
              "#46039f"
             ],
             [
              0.2222222222222222,
              "#7201a8"
             ],
             [
              0.3333333333333333,
              "#9c179e"
             ],
             [
              0.4444444444444444,
              "#bd3786"
             ],
             [
              0.5555555555555556,
              "#d8576b"
             ],
             [
              0.6666666666666666,
              "#ed7953"
             ],
             [
              0.7777777777777778,
              "#fb9f3a"
             ],
             [
              0.8888888888888888,
              "#fdca26"
             ],
             [
              1,
              "#f0f921"
             ]
            ],
            "type": "heatmap"
           }
          ],
          "heatmapgl": [
           {
            "colorbar": {
             "outlinewidth": 0,
             "ticks": ""
            },
            "colorscale": [
             [
              0,
              "#0d0887"
             ],
             [
              0.1111111111111111,
              "#46039f"
             ],
             [
              0.2222222222222222,
              "#7201a8"
             ],
             [
              0.3333333333333333,
              "#9c179e"
             ],
             [
              0.4444444444444444,
              "#bd3786"
             ],
             [
              0.5555555555555556,
              "#d8576b"
             ],
             [
              0.6666666666666666,
              "#ed7953"
             ],
             [
              0.7777777777777778,
              "#fb9f3a"
             ],
             [
              0.8888888888888888,
              "#fdca26"
             ],
             [
              1,
              "#f0f921"
             ]
            ],
            "type": "heatmapgl"
           }
          ],
          "histogram": [
           {
            "marker": {
             "pattern": {
              "fillmode": "overlay",
              "size": 10,
              "solidity": 0.2
             }
            },
            "type": "histogram"
           }
          ],
          "histogram2d": [
           {
            "colorbar": {
             "outlinewidth": 0,
             "ticks": ""
            },
            "colorscale": [
             [
              0,
              "#0d0887"
             ],
             [
              0.1111111111111111,
              "#46039f"
             ],
             [
              0.2222222222222222,
              "#7201a8"
             ],
             [
              0.3333333333333333,
              "#9c179e"
             ],
             [
              0.4444444444444444,
              "#bd3786"
             ],
             [
              0.5555555555555556,
              "#d8576b"
             ],
             [
              0.6666666666666666,
              "#ed7953"
             ],
             [
              0.7777777777777778,
              "#fb9f3a"
             ],
             [
              0.8888888888888888,
              "#fdca26"
             ],
             [
              1,
              "#f0f921"
             ]
            ],
            "type": "histogram2d"
           }
          ],
          "histogram2dcontour": [
           {
            "colorbar": {
             "outlinewidth": 0,
             "ticks": ""
            },
            "colorscale": [
             [
              0,
              "#0d0887"
             ],
             [
              0.1111111111111111,
              "#46039f"
             ],
             [
              0.2222222222222222,
              "#7201a8"
             ],
             [
              0.3333333333333333,
              "#9c179e"
             ],
             [
              0.4444444444444444,
              "#bd3786"
             ],
             [
              0.5555555555555556,
              "#d8576b"
             ],
             [
              0.6666666666666666,
              "#ed7953"
             ],
             [
              0.7777777777777778,
              "#fb9f3a"
             ],
             [
              0.8888888888888888,
              "#fdca26"
             ],
             [
              1,
              "#f0f921"
             ]
            ],
            "type": "histogram2dcontour"
           }
          ],
          "mesh3d": [
           {
            "colorbar": {
             "outlinewidth": 0,
             "ticks": ""
            },
            "type": "mesh3d"
           }
          ],
          "parcoords": [
           {
            "line": {
             "colorbar": {
              "outlinewidth": 0,
              "ticks": ""
             }
            },
            "type": "parcoords"
           }
          ],
          "pie": [
           {
            "automargin": true,
            "type": "pie"
           }
          ],
          "scatter": [
           {
            "fillpattern": {
             "fillmode": "overlay",
             "size": 10,
             "solidity": 0.2
            },
            "type": "scatter"
           }
          ],
          "scatter3d": [
           {
            "line": {
             "colorbar": {
              "outlinewidth": 0,
              "ticks": ""
             }
            },
            "marker": {
             "colorbar": {
              "outlinewidth": 0,
              "ticks": ""
             }
            },
            "type": "scatter3d"
           }
          ],
          "scattercarpet": [
           {
            "marker": {
             "colorbar": {
              "outlinewidth": 0,
              "ticks": ""
             }
            },
            "type": "scattercarpet"
           }
          ],
          "scattergeo": [
           {
            "marker": {
             "colorbar": {
              "outlinewidth": 0,
              "ticks": ""
             }
            },
            "type": "scattergeo"
           }
          ],
          "scattergl": [
           {
            "marker": {
             "colorbar": {
              "outlinewidth": 0,
              "ticks": ""
             }
            },
            "type": "scattergl"
           }
          ],
          "scattermapbox": [
           {
            "marker": {
             "colorbar": {
              "outlinewidth": 0,
              "ticks": ""
             }
            },
            "type": "scattermapbox"
           }
          ],
          "scatterpolar": [
           {
            "marker": {
             "colorbar": {
              "outlinewidth": 0,
              "ticks": ""
             }
            },
            "type": "scatterpolar"
           }
          ],
          "scatterpolargl": [
           {
            "marker": {
             "colorbar": {
              "outlinewidth": 0,
              "ticks": ""
             }
            },
            "type": "scatterpolargl"
           }
          ],
          "scatterternary": [
           {
            "marker": {
             "colorbar": {
              "outlinewidth": 0,
              "ticks": ""
             }
            },
            "type": "scatterternary"
           }
          ],
          "surface": [
           {
            "colorbar": {
             "outlinewidth": 0,
             "ticks": ""
            },
            "colorscale": [
             [
              0,
              "#0d0887"
             ],
             [
              0.1111111111111111,
              "#46039f"
             ],
             [
              0.2222222222222222,
              "#7201a8"
             ],
             [
              0.3333333333333333,
              "#9c179e"
             ],
             [
              0.4444444444444444,
              "#bd3786"
             ],
             [
              0.5555555555555556,
              "#d8576b"
             ],
             [
              0.6666666666666666,
              "#ed7953"
             ],
             [
              0.7777777777777778,
              "#fb9f3a"
             ],
             [
              0.8888888888888888,
              "#fdca26"
             ],
             [
              1,
              "#f0f921"
             ]
            ],
            "type": "surface"
           }
          ],
          "table": [
           {
            "cells": {
             "fill": {
              "color": "#EBF0F8"
             },
             "line": {
              "color": "white"
             }
            },
            "header": {
             "fill": {
              "color": "#C8D4E3"
             },
             "line": {
              "color": "white"
             }
            },
            "type": "table"
           }
          ]
         },
         "layout": {
          "annotationdefaults": {
           "arrowcolor": "#2a3f5f",
           "arrowhead": 0,
           "arrowwidth": 1
          },
          "autotypenumbers": "strict",
          "coloraxis": {
           "colorbar": {
            "outlinewidth": 0,
            "ticks": ""
           }
          },
          "colorscale": {
           "diverging": [
            [
             0,
             "#8e0152"
            ],
            [
             0.1,
             "#c51b7d"
            ],
            [
             0.2,
             "#de77ae"
            ],
            [
             0.3,
             "#f1b6da"
            ],
            [
             0.4,
             "#fde0ef"
            ],
            [
             0.5,
             "#f7f7f7"
            ],
            [
             0.6,
             "#e6f5d0"
            ],
            [
             0.7,
             "#b8e186"
            ],
            [
             0.8,
             "#7fbc41"
            ],
            [
             0.9,
             "#4d9221"
            ],
            [
             1,
             "#276419"
            ]
           ],
           "sequential": [
            [
             0,
             "#0d0887"
            ],
            [
             0.1111111111111111,
             "#46039f"
            ],
            [
             0.2222222222222222,
             "#7201a8"
            ],
            [
             0.3333333333333333,
             "#9c179e"
            ],
            [
             0.4444444444444444,
             "#bd3786"
            ],
            [
             0.5555555555555556,
             "#d8576b"
            ],
            [
             0.6666666666666666,
             "#ed7953"
            ],
            [
             0.7777777777777778,
             "#fb9f3a"
            ],
            [
             0.8888888888888888,
             "#fdca26"
            ],
            [
             1,
             "#f0f921"
            ]
           ],
           "sequentialminus": [
            [
             0,
             "#0d0887"
            ],
            [
             0.1111111111111111,
             "#46039f"
            ],
            [
             0.2222222222222222,
             "#7201a8"
            ],
            [
             0.3333333333333333,
             "#9c179e"
            ],
            [
             0.4444444444444444,
             "#bd3786"
            ],
            [
             0.5555555555555556,
             "#d8576b"
            ],
            [
             0.6666666666666666,
             "#ed7953"
            ],
            [
             0.7777777777777778,
             "#fb9f3a"
            ],
            [
             0.8888888888888888,
             "#fdca26"
            ],
            [
             1,
             "#f0f921"
            ]
           ]
          },
          "colorway": [
           "#636efa",
           "#EF553B",
           "#00cc96",
           "#ab63fa",
           "#FFA15A",
           "#19d3f3",
           "#FF6692",
           "#B6E880",
           "#FF97FF",
           "#FECB52"
          ],
          "font": {
           "color": "#2a3f5f"
          },
          "geo": {
           "bgcolor": "white",
           "lakecolor": "white",
           "landcolor": "#E5ECF6",
           "showlakes": true,
           "showland": true,
           "subunitcolor": "white"
          },
          "hoverlabel": {
           "align": "left"
          },
          "hovermode": "closest",
          "mapbox": {
           "style": "light"
          },
          "paper_bgcolor": "white",
          "plot_bgcolor": "#E5ECF6",
          "polar": {
           "angularaxis": {
            "gridcolor": "white",
            "linecolor": "white",
            "ticks": ""
           },
           "bgcolor": "#E5ECF6",
           "radialaxis": {
            "gridcolor": "white",
            "linecolor": "white",
            "ticks": ""
           }
          },
          "scene": {
           "xaxis": {
            "backgroundcolor": "#E5ECF6",
            "gridcolor": "white",
            "gridwidth": 2,
            "linecolor": "white",
            "showbackground": true,
            "ticks": "",
            "zerolinecolor": "white"
           },
           "yaxis": {
            "backgroundcolor": "#E5ECF6",
            "gridcolor": "white",
            "gridwidth": 2,
            "linecolor": "white",
            "showbackground": true,
            "ticks": "",
            "zerolinecolor": "white"
           },
           "zaxis": {
            "backgroundcolor": "#E5ECF6",
            "gridcolor": "white",
            "gridwidth": 2,
            "linecolor": "white",
            "showbackground": true,
            "ticks": "",
            "zerolinecolor": "white"
           }
          },
          "shapedefaults": {
           "line": {
            "color": "#2a3f5f"
           }
          },
          "ternary": {
           "aaxis": {
            "gridcolor": "white",
            "linecolor": "white",
            "ticks": ""
           },
           "baxis": {
            "gridcolor": "white",
            "linecolor": "white",
            "ticks": ""
           },
           "bgcolor": "#E5ECF6",
           "caxis": {
            "gridcolor": "white",
            "linecolor": "white",
            "ticks": ""
           }
          },
          "title": {
           "x": 0.05
          },
          "xaxis": {
           "automargin": true,
           "gridcolor": "white",
           "linecolor": "white",
           "ticks": "",
           "title": {
            "standoff": 15
           },
           "zerolinecolor": "white",
           "zerolinewidth": 2
          },
          "yaxis": {
           "automargin": true,
           "gridcolor": "white",
           "linecolor": "white",
           "ticks": "",
           "title": {
            "standoff": 15
           },
           "zerolinecolor": "white",
           "zerolinewidth": 2
          }
         }
        },
        "xaxis": {
         "anchor": "y",
         "domain": [
          0,
          1
         ],
         "title": {
          "text": "index"
         }
        },
        "yaxis": {
         "anchor": "x",
         "domain": [
          0,
          1
         ],
         "title": {
          "text": "PM2.5"
         }
        }
       }
      },
      "image/png": "[encoded data removed]",
      "text/html": [
       "<div>                            <div id=\"83927242-08ce-4fb3-9c9d-952772ff264f\" class=\"plotly-graph-div\" style=\"height:525px; width:100%;\"></div>            <script type=\"text/javascript\">                require([\"plotly\"], function(Plotly) {                    window.PLOTLYENV=window.PLOTLYENV || {};                                    if (document.getElementById(\"83927242-08ce-4fb3-9c9d-952772ff264f\")) {                    Plotly.newPlot(                        \"83927242-08ce-4fb3-9c9d-952772ff264f\",                        [{\"hovertemplate\":\"variable=y_test\\u003cbr\\u003eindex=%{x}\\u003cbr\\u003ePM2.5=%{y}\\u003cextra\\u003e\\u003c\\u002fextra\\u003e\",\"legendgroup\":\"y_test\",\"line\":{\"color\":\"#636efa\",\"dash\":\"solid\"},\"marker\":{\"symbol\":\"circle\"},\"mode\":\"lines\",\"name\":\"y_test\",\"orientation\":\"v\",\"showlegend\":true,\"x\":[\"2018-12-26T00:00:00+03:00\",\"2018-12-26T01:00:00+03:00\",\"2018-12-26T02:00:00+03:00\",\"2018-12-26T03:00:00+03:00\",\"2018-12-26T04:00:00+03:00\",\"2018-12-26T05:00:00+03:00\",\"2018-12-26T06:00:00+03:00\",\"2018-12-26T07:00:00+03:00\",\"2018-12-26T08:00:00+03:00\",\"2018-12-26T09:00:00+03:00\",\"2018-12-26T10:00:00+03:00\",\"2018-12-26T11:00:00+03:00\",\"2018-12-26T12:00:00+03:00\",\"2018-12-26T13:00:00+03:00\",\"2018-12-26T14:00:00+03:00\",\"2018-12-26T15:00:00+03:00\",\"2018-12-26T16:00:00+03:00\",\"2018-12-26T17:00:00+03:00\",\"2018-12-26T18:00:00+03:00\",\"2018-12-26T19:00:00+03:00\",\"2018-12-26T20:00:00+03:00\",\"2018-12-26T21:00:00+03:00\",\"2018-12-26T22:00:00+03:00\",\"2018-12-26T23:00:00+03:00\",\"2018-12-27T00:00:00+03:00\",\"2018-12-27T01:00:00+03:00\",\"2018-12-27T02:00:00+03:00\",\"2018-12-27T03:00:00+03:00\",\"2018-12-27T04:00:00+03:00\",\"2018-12-27T05:00:00+03:00\",\"2018-12-27T06:00:00+03:00\",\"2018-12-27T07:00:00+03:00\",\"2018-12-27T08:00:00+03:00\",\"2018-12-27T09:00:00+03:00\",\"2018-12-27T10:00:00+03:00\",\"2018-12-27T11:00:00+03:00\",\"2018-12-27T12:00:00+03:00\",\"2018-12-27T13:00:00+03:00\",\"2018-12-27T14:00:00+03:00\",\"2018-12-27T15:00:00+03:00\",\"2018-12-27T16:00:00+03:00\",\"2018-12-27T17:00:00+03:00\",\"2018-12-27T18:00:00+03:00\",\"2018-12-27T19:00:00+03:00\",\"2018-12-27T20:00:00+03:00\",\"2018-12-27T21:00:00+03:00\",\"2018-12-27T22:00:00+03:00\",\"2018-12-27T23:00:00+03:00\",\"2018-12-28T00:00:00+03:00\",\"2018-12-28T01:00:00+03:00\",\"2018-12-28T02:00:00+03:00\",\"2018-12-28T03:00:00+03:00\",\"2018-12-28T04:00:00+03:00\",\"2018-12-28T05:00:00+03:00\",\"2018-12-28T06:00:00+03:00\",\"2018-12-28T07:00:00+03:00\",\"2018-12-28T08:00:00+03:00\",\"2018-12-28T09:00:00+03:00\",\"2018-12-28T10:00:00+03:00\",\"2018-12-28T11:00:00+03:00\",\"2018-12-28T12:00:00+03:00\",\"2018-12-28T13:00:00+03:00\",\"2018-12-28T14:00:00+03:00\",\"2018-12-28T15:00:00+03:00\",\"2018-12-28T16:00:00+03:00\",\"2018-12-28T17:00:00+03:00\",\"2018-12-28T18:00:00+03:00\",\"2018-12-28T19:00:00+03:00\",\"2018-12-28T20:00:00+03:00\",\"2018-12-28T21:00:00+03:00\",\"2018-12-28T22:00:00+03:00\",\"2018-12-28T23:00:00+03:00\",\"2018-12-29T00:00:00+03:00\",\"2018-12-29T01:00:00+03:00\",\"2018-12-29T02:00:00+03:00\",\"2018-12-29T03:00:00+03:00\",\"2018-12-29T04:00:00+03:00\",\"2018-12-29T05:00:00+03:00\",\"2018-12-29T06:00:00+03:00\",\"2018-12-29T07:00:00+03:00\",\"2018-12-29T08:00:00+03:00\",\"2018-12-29T09:00:00+03:00\",\"2018-12-29T10:00:00+03:00\",\"2018-12-29T11:00:00+03:00\",\"2018-12-29T12:00:00+03:00\",\"2018-12-29T13:00:00+03:00\",\"2018-12-29T14:00:00+03:00\",\"2018-12-29T15:00:00+03:00\",\"2018-12-29T16:00:00+03:00\",\"2018-12-29T17:00:00+03:00\",\"2018-12-29T18:00:00+03:00\",\"2018-12-29T19:00:00+03:00\",\"2018-12-29T20:00:00+03:00\",\"2018-12-29T21:00:00+03:00\",\"2018-12-29T22:00:00+03:00\",\"2018-12-29T23:00:00+03:00\",\"2018-12-30T00:00:00+03:00\",\"2018-12-30T01:00:00+03:00\",\"2018-12-30T02:00:00+03:00\",\"2018-12-30T03:00:00+03:00\",\"2018-12-30T04:00:00+03:00\",\"2018-12-30T05:00:00+03:00\",\"2018-12-30T06:00:00+03:00\",\"2018-12-30T07:00:00+03:00\",\"2018-12-30T08:00:00+03:00\",\"2018-12-30T09:00:00+03:00\",\"2018-12-30T10:00:00+03:00\",\"2018-12-30T11:00:00+03:00\",\"2018-12-30T12:00:00+03:00\",\"2018-12-30T13:00:00+03:00\",\"2018-12-30T14:00:00+03:00\",\"2018-12-30T15:00:00+03:00\",\"2018-12-30T16:00:00+03:00\",\"2018-12-30T17:00:00+03:00\",\"2018-12-30T18:00:00+03:00\",\"2018-12-30T19:00:00+03:00\",\"2018-12-30T20:00:00+03:00\",\"2018-12-30T21:00:00+03:00\",\"2018-12-30T22:00:00+03:00\",\"2018-12-30T23:00:00+03:00\",\"2018-12-31T00:00:00+03:00\",\"2018-12-31T01:00:00+03:00\",\"2018-12-31T02:00:00+03:00\",\"2018-12-31T03:00:00+03:00\",\"2018-12-31T04:00:00+03:00\",\"2018-12-31T05:00:00+03:00\",\"2018-12-31T06:00:00+03:00\",\"2018-12-31T07:00:00+03:00\",\"2018-12-31T08:00:00+03:00\",\"2018-12-31T09:00:00+03:00\",\"2018-12-31T10:00:00+03:00\",\"2018-12-31T11:00:00+03:00\",\"2018-12-31T12:00:00+03:00\",\"2018-12-31T13:00:00+03:00\",\"2018-12-31T14:00:00+03:00\",\"2018-12-31T15:00:00+03:00\",\"2018-12-31T16:00:00+03:00\",\"2018-12-31T17:00:00+03:00\",\"2018-12-31T18:00:00+03:00\",\"2018-12-31T19:00:00+03:00\",\"2018-12-31T20:00:00+03:00\",\"2018-12-31T21:00:00+03:00\",\"2018-12-31T22:00:00+03:00\",\"2018-12-31T23:00:00+03:00\",\"2019-01-01T00:00:00+03:00\",\"2019-01-01T01:00:00+03:00\",\"2019-01-01T02:00:00+03:00\"],\"xaxis\":\"x\",\"y\":[5.679090909090909,5.3625,4.786666666666666,4.956666666666667,5.055833333333333,6.649166666666666,9.023076923076923,12.549999999999999,12.660000000000002,7.8875,7.891666666666667,7.315833333333334,6.871666666666666,7.678333333333334,8.410833333333334,8.0675,7.591666666666666,8.046666666666667,9.750833333333334,10.7875,12.111666666666666,11.222499999999998,11.319166666666668,11.920833333333334,11.211666666666666,10.700000000000001,10.860833333333334,10.734166666666667,11.626666666666667,14.8075,16.232499999999998,13.711666666666666,13.253333333333332,11.1075,9.843333333333334,8.756666666666666,6.6827272727272735,5.564166666666666,5.940833333333334,6.248333333333334,5.610833333333333,5.36,6.805,7.7491666666666665,7.6883333333333335,7.9575000000000005,8.355833333333333,7.927499999999999,7.077500000000001,6.189166666666666,5.964166666666666,5.290833333333333,5.249230769230769,5.539166666666667,7.700833333333333,6.321666666666666,5.31,5.590833333333333,9.894545454545455,8.965,6.790909090909091,4.291666666666667,3.7733333333333334,3.8183333333333334,2.4125,2.7283333333333335,4.4366666666666665,7.18,5.463333333333334,6.325833333333333,6.043333333333333,6.139166666666667,6.895,5.803333333333334,4.690833333333333,4.31,4.380833333333333,4.5441666666666665,4.725833333333333,8.7225,9.244166666666667,6.950833333333333,5.716666666666666,6.649166666666667,5.304545454545455,4.0475,3.279166666666667,3.1683333333333334,4.786666666666666,3.6775,5.6675,9.015833333333333,11.7675,5.255,3.751666666666667,5.39,5.245,3.7716666666666665,2.9,4.3133333333333335,4.815833333333333,4.783333333333333,8.78,12.159166666666666,6.246666666666666,6.7681818181818185,4.42,4.523333333333333,4.723333333333334,3.7883333333333336,3.5124999999999997,2.705,2.9791666666666665,3.56,5.141666666666667,8.37,7.223333333333334,5.802499999999999,6.460833333333333,9.676666666666668,4.254166666666666,4.1475,3.5191666666666666,5.368333333333333,5.2700000000000005,5.809166666666667,6.935,7.97,9.533333333333333,9.635,8.9625,5.713333333333334,5.913333333333334,5.800833333333333,5.44,4.477,5.445454545454545,4.4871428571428575,7.290909090909091,9.476666666666667,10.4025,9.150833333333333,7.060833333333334,7.854166666666667,9.755833333333333,12.665,18.803333333333335],\"yaxis\":\"y\",\"type\":\"scatter\"},{\"hovertemplate\":\"variable=y_pred_wfv\\u003cbr\\u003eindex=%{x}\\u003cbr\\u003ePM2.5=%{y}\\u003cextra\\u003e\\u003c\\u002fextra\\u003e\",\"legendgroup\":\"y_pred_wfv\",\"line\":{\"color\":\"#EF553B\",\"dash\":\"solid\"},\"marker\":{\"symbol\":\"circle\"},\"mode\":\"lines\",\"name\":\"y_pred_wfv\",\"orientation\":\"v\",\"showlegend\":true,\"x\":[\"2018-12-26T00:00:00+03:00\",\"2018-12-26T01:00:00+03:00\",\"2018-12-26T02:00:00+03:00\",\"2018-12-26T03:00:00+03:00\",\"2018-12-26T04:00:00+03:00\",\"2018-12-26T05:00:00+03:00\",\"2018-12-26T06:00:00+03:00\",\"2018-12-26T07:00:00+03:00\",\"2018-12-26T08:00:00+03:00\",\"2018-12-26T09:00:00+03:00\",\"2018-12-26T10:00:00+03:00\",\"2018-12-26T11:00:00+03:00\",\"2018-12-26T12:00:00+03:00\",\"2018-12-26T13:00:00+03:00\",\"2018-12-26T14:00:00+03:00\",\"2018-12-26T15:00:00+03:00\",\"2018-12-26T16:00:00+03:00\",\"2018-12-26T17:00:00+03:00\",\"2018-12-26T18:00:00+03:00\",\"2018-12-26T19:00:00+03:00\",\"2018-12-26T20:00:00+03:00\",\"2018-12-26T21:00:00+03:00\",\"2018-12-26T22:00:00+03:00\",\"2018-12-26T23:00:00+03:00\",\"2018-12-27T00:00:00+03:00\",\"2018-12-27T01:00:00+03:00\",\"2018-12-27T02:00:00+03:00\",\"2018-12-27T03:00:00+03:00\",\"2018-12-27T04:00:00+03:00\",\"2018-12-27T05:00:00+03:00\",\"2018-12-27T06:00:00+03:00\",\"2018-12-27T07:00:00+03:00\",\"2018-12-27T08:00:00+03:00\",\"2018-12-27T09:00:00+03:00\",\"2018-12-27T10:00:00+03:00\",\"2018-12-27T11:00:00+03:00\",\"2018-12-27T12:00:00+03:00\",\"2018-12-27T13:00:00+03:00\",\"2018-12-27T14:00:00+03:00\",\"2018-12-27T15:00:00+03:00\",\"2018-12-27T16:00:00+03:00\",\"2018-12-27T17:00:00+03:00\",\"2018-12-27T18:00:00+03:00\",\"2018-12-27T19:00:00+03:00\",\"2018-12-27T20:00:00+03:00\",\"2018-12-27T21:00:00+03:00\",\"2018-12-27T22:00:00+03:00\",\"2018-12-27T23:00:00+03:00\",\"2018-12-28T00:00:00+03:00\",\"2018-12-28T01:00:00+03:00\",\"2018-12-28T02:00:00+03:00\",\"2018-12-28T03:00:00+03:00\",\"2018-12-28T04:00:00+03:00\",\"2018-12-28T05:00:00+03:00\",\"2018-12-28T06:00:00+03:00\",\"2018-12-28T07:00:00+03:00\",\"2018-12-28T08:00:00+03:00\",\"2018-12-28T09:00:00+03:00\",\"2018-12-28T10:00:00+03:00\",\"2018-12-28T11:00:00+03:00\",\"2018-12-28T12:00:00+03:00\",\"2018-12-28T13:00:00+03:00\",\"2018-12-28T14:00:00+03:00\",\"2018-12-28T15:00:00+03:00\",\"2018-12-28T16:00:00+03:00\",\"2018-12-28T17:00:00+03:00\",\"2018-12-28T18:00:00+03:00\",\"2018-12-28T19:00:00+03:00\",\"2018-12-28T20:00:00+03:00\",\"2018-12-28T21:00:00+03:00\",\"2018-12-28T22:00:00+03:00\",\"2018-12-28T23:00:00+03:00\",\"2018-12-29T00:00:00+03:00\",\"2018-12-29T01:00:00+03:00\",\"2018-12-29T02:00:00+03:00\",\"2018-12-29T03:00:00+03:00\",\"2018-12-29T04:00:00+03:00\",\"2018-12-29T05:00:00+03:00\",\"2018-12-29T06:00:00+03:00\",\"2018-12-29T07:00:00+03:00\",\"2018-12-29T08:00:00+03:00\",\"2018-12-29T09:00:00+03:00\",\"2018-12-29T10:00:00+03:00\",\"2018-12-29T11:00:00+03:00\",\"2018-12-29T12:00:00+03:00\",\"2018-12-29T13:00:00+03:00\",\"2018-12-29T14:00:00+03:00\",\"2018-12-29T15:00:00+03:00\",\"2018-12-29T16:00:00+03:00\",\"2018-12-29T17:00:00+03:00\",\"2018-12-29T18:00:00+03:00\",\"2018-12-29T19:00:00+03:00\",\"2018-12-29T20:00:00+03:00\",\"2018-12-29T21:00:00+03:00\",\"2018-12-29T22:00:00+03:00\",\"2018-12-29T23:00:00+03:00\",\"2018-12-30T00:00:00+03:00\",\"2018-12-30T01:00:00+03:00\",\"2018-12-30T02:00:00+03:00\",\"2018-12-30T03:00:00+03:00\",\"2018-12-30T04:00:00+03:00\",\"2018-12-30T05:00:00+03:00\",\"2018-12-30T06:00:00+03:00\",\"2018-12-30T07:00:00+03:00\",\"2018-12-30T08:00:00+03:00\",\"2018-12-30T09:00:00+03:00\",\"2018-12-30T10:00:00+03:00\",\"2018-12-30T11:00:00+03:00\",\"2018-12-30T12:00:00+03:00\",\"2018-12-30T13:00:00+03:00\",\"2018-12-30T14:00:00+03:00\",\"2018-12-30T15:00:00+03:00\",\"2018-12-30T16:00:00+03:00\",\"2018-12-30T17:00:00+03:00\",\"2018-12-30T18:00:00+03:00\",\"2018-12-30T19:00:00+03:00\",\"2018-12-30T20:00:00+03:00\",\"2018-12-30T21:00:00+03:00\",\"2018-12-30T22:00:00+03:00\",\"2018-12-30T23:00:00+03:00\",\"2018-12-31T00:00:00+03:00\",\"2018-12-31T01:00:00+03:00\",\"2018-12-31T02:00:00+03:00\",\"2018-12-31T03:00:00+03:00\",\"2018-12-31T04:00:00+03:00\",\"2018-12-31T05:00:00+03:00\",\"2018-12-31T06:00:00+03:00\",\"2018-12-31T07:00:00+03:00\",\"2018-12-31T08:00:00+03:00\",\"2018-12-31T09:00:00+03:00\",\"2018-12-31T10:00:00+03:00\",\"2018-12-31T11:00:00+03:00\",\"2018-12-31T12:00:00+03:00\",\"2018-12-31T13:00:00+03:00\",\"2018-12-31T14:00:00+03:00\",\"2018-12-31T15:00:00+03:00\",\"2018-12-31T16:00:00+03:00\",\"2018-12-31T17:00:00+03:00\",\"2018-12-31T18:00:00+03:00\",\"2018-12-31T19:00:00+03:00\",\"2018-12-31T20:00:00+03:00\",\"2018-12-31T21:00:00+03:00\",\"2018-12-31T22:00:00+03:00\",\"2018-12-31T23:00:00+03:00\",\"2019-01-01T00:00:00+03:00\",\"2019-01-01T01:00:00+03:00\",\"2019-01-01T02:00:00+03:00\"],\"xaxis\":\"x\",\"y\":[6.717606382234198,6.652194153166832,6.180631450063712,6.010500441698374,6.102229429989014,6.366213097721233,7.334891968527749,8.85972685700222,10.856627021627641,10.841276830834845,8.043093300542964,8.095211669052937,7.587844865032626,7.083080303531315,7.435465753855031,8.35798987947985,8.323210171239086,8.238523896930396,9.062359838289659,9.897086260334326,10.07151690971139,10.671339770440563,10.178309583614778,9.93252509255354,10.32139682048204,9.849853804521059,9.6299519833422,9.825779515426921,10.1297506256858,11.025726907897736,13.495762848784478,14.321074635731776,12.630899721299985,12.255667732411647,10.426898125571247,9.622108291318707,8.784640979900686,7.8553710408364275,7.030693121445786,7.253740079224209,7.648775340369044,7.378849952192256,7.434615927121588,8.308747643706523,8.292707908874487,8.114550301508526,7.969711521915263,8.12719390643187,7.794302997329927,7.124894286287736,6.810153011892414,7.037314619795876,6.956352497881278,7.1574159310877645,7.467728716197915,8.588393957260982,7.297057124617518,6.905153267046735,6.68676920801126,8.931416662561237,8.091820550694328,7.007291497718766,5.732320096374101,5.367111827370225,4.942063294766195,4.409369568112223,4.847096487269293,6.01443785065752,7.676974656112244,6.738280818999536,7.340497075492118,6.982710535804603,6.601386461592313,6.591608033458545,6.095808104963817,5.319627888322812,5.311808161377909,5.7989913062124145,5.672759334997309,5.987733391912824,8.559105016548,9.23353779038874,7.786375633858689,7.154652308617186,7.03499082944515,5.692206849404791,4.656321915797957,4.572237517423801,4.699777367339202,5.568190120650867,5.567223043416837,6.878139822853807,8.928609069168358,10.146324872321193,6.484753766537115,5.5845918013609035,6.108691349145699,5.5353204727571645,4.239490365099546,4.592358334127782,5.533001149998798,5.847012054907328,6.591625781679904,9.064321547146314,10.93846914893906,7.020574791916973,7.082838864803253,5.650490906389251,5.182616806938302,4.525631211758422,5.219525987746991,4.868652483674984,4.370757853227402,5.565510998031644,5.991804610859406,6.8226394747544985,8.129122877156014,7.371358620005265,5.8841821955475,6.413344421503334,8.309935035984996,4.915091809218932,4.942190635703379,4.86693682069033,6.275264075855269,6.3390955977120385,7.462353543745965,7.993042473597625,8.438439460934244,8.340990650987418,9.133672707147493,8.229645018130066,6.312007475776232,6.273773816388054,5.97929345329559,5.791347487075102,5.353452953067057,6.9058628189942315,6.4450581231765725,7.840165077645186,9.35259023930135,9.889673279319942,8.76562282382849,7.364228091666291,7.791623086652443,7.865696772568399,10.259856231008897],\"yaxis\":\"y\",\"type\":\"scatter\"}],                        {\"template\":{\"data\":{\"histogram2dcontour\":[{\"type\":\"histogram2dcontour\",\"colorbar\":{\"outlinewidth\":0,\"ticks\":\"\"},\"colorscale\":[[0.0,\"#0d0887\"],[0.1111111111111111,\"#46039f\"],[0.2222222222222222,\"#7201a8\"],[0.3333333333333333,\"#9c179e\"],[0.4444444444444444,\"#bd3786\"],[0.5555555555555556,\"#d8576b\"],[0.6666666666666666,\"#ed7953\"],[0.7777777777777778,\"#fb9f3a\"],[0.8888888888888888,\"#fdca26\"],[1.0,\"#f0f921\"]]}],\"choropleth\":[{\"type\":\"choropleth\",\"colorbar\":{\"outlinewidth\":0,\"ticks\":\"\"}}],\"histogram2d\":[{\"type\":\"histogram2d\",\"colorbar\":{\"outlinewidth\":0,\"ticks\":\"\"},\"colorscale\":[[0.0,\"#0d0887\"],[0.1111111111111111,\"#46039f\"],[0.2222222222222222,\"#7201a8\"],[0.3333333333333333,\"#9c179e\"],[0.4444444444444444,\"#bd3786\"],[0.5555555555555556,\"#d8576b\"],[0.6666666666666666,\"#ed7953\"],[0.7777777777777778,\"#fb9f3a\"],[0.8888888888888888,\"#fdca26\"],[1.0,\"#f0f921\"]]}],\"heatmap\":[{\"type\":\"heatmap\",\"colorbar\":{\"outlinewidth\":0,\"ticks\":\"\"},\"colorscale\":[[0.0,\"#0d0887\"],[0.1111111111111111,\"#46039f\"],[0.2222222222222222,\"#7201a8\"],[0.3333333333333333,\"#9c179e\"],[0.4444444444444444,\"#bd3786\"],[0.5555555555555556,\"#d8576b\"],[0.6666666666666666,\"#ed7953\"],[0.7777777777777778,\"#fb9f3a\"],[0.8888888888888888,\"#fdca26\"],[1.0,\"#f0f921\"]]}],\"heatmapgl\":[{\"type\":\"heatmapgl\",\"colorbar\":{\"outlinewidth\":0,\"ticks\":\"\"},\"colorscale\":[[0.0,\"#0d0887\"],[0.1111111111111111,\"#46039f\"],[0.2222222222222222,\"#7201a8\"],[0.3333333333333333,\"#9c179e\"],[0.4444444444444444,\"#bd3786\"],[0.5555555555555556,\"#d8576b\"],[0.6666666666666666,\"#ed7953\"],[0.7777777777777778,\"#fb9f3a\"],[0.8888888888888888,\"#fdca26\"],[1.0,\"#f0f921\"]]}],\"contourcarpet\":[{\"type\":\"contourcarpet\",\"colorbar\":{\"outlinewidth\":0,\"ticks\":\"\"}}],\"contour\":[{\"type\":\"contour\",\"colorbar\":{\"outlinewidth\":0,\"ticks\":\"\"},\"colorscale\":[[0.0,\"#0d0887\"],[0.1111111111111111,\"#46039f\"],[0.2222222222222222,\"#7201a8\"],[0.3333333333333333,\"#9c179e\"],[0.4444444444444444,\"#bd3786\"],[0.5555555555555556,\"#d8576b\"],[0.6666666666666666,\"#ed7953\"],[0.7777777777777778,\"#fb9f3a\"],[0.8888888888888888,\"#fdca26\"],[1.0,\"#f0f921\"]]}],\"surface\":[{\"type\":\"surface\",\"colorbar\":{\"outlinewidth\":0,\"ticks\":\"\"},\"colorscale\":[[0.0,\"#0d0887\"],[0.1111111111111111,\"#46039f\"],[0.2222222222222222,\"#7201a8\"],[0.3333333333333333,\"#9c179e\"],[0.4444444444444444,\"#bd3786\"],[0.5555555555555556,\"#d8576b\"],[0.6666666666666666,\"#ed7953\"],[0.7777777777777778,\"#fb9f3a\"],[0.8888888888888888,\"#fdca26\"],[1.0,\"#f0f921\"]]}],\"mesh3d\":[{\"type\":\"mesh3d\",\"colorbar\":{\"outlinewidth\":0,\"ticks\":\"\"}}],\"scatter\":[{\"fillpattern\":{\"fillmode\":\"overlay\",\"size\":10,\"solidity\":0.2},\"type\":\"scatter\"}],\"parcoords\":[{\"type\":\"parcoords\",\"line\":{\"colorbar\":{\"outlinewidth\":0,\"ticks\":\"\"}}}],\"scatterpolargl\":[{\"type\":\"scatterpolargl\",\"marker\":{\"colorbar\":{\"outlinewidth\":0,\"ticks\":\"\"}}}],\"bar\":[{\"error_x\":{\"color\":\"#2a3f5f\"},\"error_y\":{\"color\":\"#2a3f5f\"},\"marker\":{\"line\":{\"color\":\"#E5ECF6\",\"width\":0.5},\"pattern\":{\"fillmode\":\"overlay\",\"size\":10,\"solidity\":0.2}},\"type\":\"bar\"}],\"scattergeo\":[{\"type\":\"scattergeo\",\"marker\":{\"colorbar\":{\"outlinewidth\":0,\"ticks\":\"\"}}}],\"scatterpolar\":[{\"type\":\"scatterpolar\",\"marker\":{\"colorbar\":{\"outlinewidth\":0,\"ticks\":\"\"}}}],\"histogram\":[{\"marker\":{\"pattern\":{\"fillmode\":\"overlay\",\"size\":10,\"solidity\":0.2}},\"type\":\"histogram\"}],\"scattergl\":[{\"type\":\"scattergl\",\"marker\":{\"colorbar\":{\"outlinewidth\":0,\"ticks\":\"\"}}}],\"scatter3d\":[{\"type\":\"scatter3d\",\"line\":{\"colorbar\":{\"outlinewidth\":0,\"ticks\":\"\"}},\"marker\":{\"colorbar\":{\"outlinewidth\":0,\"ticks\":\"\"}}}],\"scattermapbox\":[{\"type\":\"scattermapbox\",\"marker\":{\"colorbar\":{\"outlinewidth\":0,\"ticks\":\"\"}}}],\"scatterternary\":[{\"type\":\"scatterternary\",\"marker\":{\"colorbar\":{\"outlinewidth\":0,\"ticks\":\"\"}}}],\"scattercarpet\":[{\"type\":\"scattercarpet\",\"marker\":{\"colorbar\":{\"outlinewidth\":0,\"ticks\":\"\"}}}],\"carpet\":[{\"aaxis\":{\"endlinecolor\":\"#2a3f5f\",\"gridcolor\":\"white\",\"linecolor\":\"white\",\"minorgridcolor\":\"white\",\"startlinecolor\":\"#2a3f5f\"},\"baxis\":{\"endlinecolor\":\"#2a3f5f\",\"gridcolor\":\"white\",\"linecolor\":\"white\",\"minorgridcolor\":\"white\",\"startlinecolor\":\"#2a3f5f\"},\"type\":\"carpet\"}],\"table\":[{\"cells\":{\"fill\":{\"color\":\"#EBF0F8\"},\"line\":{\"color\":\"white\"}},\"header\":{\"fill\":{\"color\":\"#C8D4E3\"},\"line\":{\"color\":\"white\"}},\"type\":\"table\"}],\"barpolar\":[{\"marker\":{\"line\":{\"color\":\"#E5ECF6\",\"width\":0.5},\"pattern\":{\"fillmode\":\"overlay\",\"size\":10,\"solidity\":0.2}},\"type\":\"barpolar\"}],\"pie\":[{\"automargin\":true,\"type\":\"pie\"}]},\"layout\":{\"autotypenumbers\":\"strict\",\"colorway\":[\"#636efa\",\"#EF553B\",\"#00cc96\",\"#ab63fa\",\"#FFA15A\",\"#19d3f3\",\"#FF6692\",\"#B6E880\",\"#FF97FF\",\"#FECB52\"],\"font\":{\"color\":\"#2a3f5f\"},\"hovermode\":\"closest\",\"hoverlabel\":{\"align\":\"left\"},\"paper_bgcolor\":\"white\",\"plot_bgcolor\":\"#E5ECF6\",\"polar\":{\"bgcolor\":\"#E5ECF6\",\"angularaxis\":{\"gridcolor\":\"white\",\"linecolor\":\"white\",\"ticks\":\"\"},\"radialaxis\":{\"gridcolor\":\"white\",\"linecolor\":\"white\",\"ticks\":\"\"}},\"ternary\":{\"bgcolor\":\"#E5ECF6\",\"aaxis\":{\"gridcolor\":\"white\",\"linecolor\":\"white\",\"ticks\":\"\"},\"baxis\":{\"gridcolor\":\"white\",\"linecolor\":\"white\",\"ticks\":\"\"},\"caxis\":{\"gridcolor\":\"white\",\"linecolor\":\"white\",\"ticks\":\"\"}},\"coloraxis\":{\"colorbar\":{\"outlinewidth\":0,\"ticks\":\"\"}},\"colorscale\":{\"sequential\":[[0.0,\"#0d0887\"],[0.1111111111111111,\"#46039f\"],[0.2222222222222222,\"#7201a8\"],[0.3333333333333333,\"#9c179e\"],[0.4444444444444444,\"#bd3786\"],[0.5555555555555556,\"#d8576b\"],[0.6666666666666666,\"#ed7953\"],[0.7777777777777778,\"#fb9f3a\"],[0.8888888888888888,\"#fdca26\"],[1.0,\"#f0f921\"]],\"sequentialminus\":[[0.0,\"#0d0887\"],[0.1111111111111111,\"#46039f\"],[0.2222222222222222,\"#7201a8\"],[0.3333333333333333,\"#9c179e\"],[0.4444444444444444,\"#bd3786\"],[0.5555555555555556,\"#d8576b\"],[0.6666666666666666,\"#ed7953\"],[0.7777777777777778,\"#fb9f3a\"],[0.8888888888888888,\"#fdca26\"],[1.0,\"#f0f921\"]],\"diverging\":[[0,\"#8e0152\"],[0.1,\"#c51b7d\"],[0.2,\"#de77ae\"],[0.3,\"#f1b6da\"],[0.4,\"#fde0ef\"],[0.5,\"#f7f7f7\"],[0.6,\"#e6f5d0\"],[0.7,\"#b8e186\"],[0.8,\"#7fbc41\"],[0.9,\"#4d9221\"],[1,\"#276419\"]]},\"xaxis\":{\"gridcolor\":\"white\",\"linecolor\":\"white\",\"ticks\":\"\",\"title\":{\"standoff\":15},\"zerolinecolor\":\"white\",\"automargin\":true,\"zerolinewidth\":2},\"yaxis\":{\"gridcolor\":\"white\",\"linecolor\":\"white\",\"ticks\":\"\",\"title\":{\"standoff\":15},\"zerolinecolor\":\"white\",\"automargin\":true,\"zerolinewidth\":2},\"scene\":{\"xaxis\":{\"backgroundcolor\":\"#E5ECF6\",\"gridcolor\":\"white\",\"linecolor\":\"white\",\"showbackground\":true,\"ticks\":\"\",\"zerolinecolor\":\"white\",\"gridwidth\":2},\"yaxis\":{\"backgroundcolor\":\"#E5ECF6\",\"gridcolor\":\"white\",\"linecolor\":\"white\",\"showbackground\":true,\"ticks\":\"\",\"zerolinecolor\":\"white\",\"gridwidth\":2},\"zaxis\":{\"backgroundcolor\":\"#E5ECF6\",\"gridcolor\":\"white\",\"linecolor\":\"white\",\"showbackground\":true,\"ticks\":\"\",\"zerolinecolor\":\"white\",\"gridwidth\":2}},\"shapedefaults\":{\"line\":{\"color\":\"#2a3f5f\"}},\"annotationdefaults\":{\"arrowcolor\":\"#2a3f5f\",\"arrowhead\":0,\"arrowwidth\":1},\"geo\":{\"bgcolor\":\"white\",\"landcolor\":\"#E5ECF6\",\"subunitcolor\":\"white\",\"showland\":true,\"showlakes\":true,\"lakecolor\":\"white\"},\"title\":{\"x\":0.05},\"mapbox\":{\"style\":\"light\"}}},\"xaxis\":{\"anchor\":\"y\",\"domain\":[0.0,1.0],\"title\":{\"text\":\"index\"}},\"yaxis\":{\"anchor\":\"x\",\"domain\":[0.0,1.0],\"title\":{\"text\":\"PM2.5\"}},\"legend\":{\"title\":{\"text\":\"variable\"},\"tracegroupgap\":0},\"margin\":{\"t\":60}},                        {\"responsive\": true}                    ).then(function(){\n",
       "                            \n",
       "var gd = document.getElementById('83927242-08ce-4fb3-9c9d-952772ff264f');\n",
       "var x = new MutationObserver(function (mutations, observer) {{\n",
       "        var display = window.getComputedStyle(gd).display;\n",
       "        if (!display || display === 'none') {{\n",
       "            console.log([gd, 'removed!']);\n",
       "            Plotly.purge(gd);\n",
       "            observer.disconnect();\n",
       "        }}\n",
       "}});\n",
       "\n",
       "// Listen for the removal of the full notebook cells\n",
       "var notebookContainer = gd.closest('#notebook-container');\n",
       "if (notebookContainer) {{\n",
       "    x.observe(notebookContainer, {childList: true});\n",
       "}}\n",
       "\n",
       "// Listen for the clearing of the current output cell\n",
       "var outputEl = gd.closest('.output');\n",
       "if (outputEl) {{\n",
       "    x.observe(outputEl, {childList: true});\n",
       "}}\n",
       "\n",
       "                        })                };                });            </script>        </div>"
      ]
     },
     "metadata": {},
     "output_type": "display_data"
    }
   ],
   "source": [
    "df_pred_test =pd.DataFrame(\n",
    "    {\"y_test\":y_test,\"y_pred_wfv\":y_pred_wfv}\n",
    ")\n",
    "\n",
    "fig = px.line(df_pred_test,labels={\"value\":\"PM2.5\"})\n",
    "fig.show()"
   ]
  },
  {
   "cell_type": "markdown",
   "id": "7880901c",
   "metadata": {
    "deletable": false,
    "editable": false
   },
   "source": [
    "---\n",
    "Copyright 2023 WorldQuant University. This\n",
    "content is licensed solely for personal use. Redistribution or\n",
    "publication of this material is strictly prohibited.\n"
   ]
  }
 ],
 "metadata": {
  "execution": {
   "timeout": 600
  },
  "kernelspec": {
   "display_name": "Python 3 (ipykernel)",
   "language": "python",
   "name": "python3"
  },
  "language_info": {
   "codemirror_mode": {
    "name": "ipython",
    "version": 3
   },
   "file_extension": ".py",
   "mimetype": "text/x-python",
   "name": "python",
   "nbconvert_exporter": "python",
   "pygments_lexer": "ipython3",
   "version": "3.11.0"
  },
  "toc-autonumbering": true,
  "widgets": {
   "application/vnd.jupyter.widget-state+json": {
    "state": {},
    "version_major": 2,
    "version_minor": 0
   }
  }
 },
 "nbformat": 4,
 "nbformat_minor": 5
}
