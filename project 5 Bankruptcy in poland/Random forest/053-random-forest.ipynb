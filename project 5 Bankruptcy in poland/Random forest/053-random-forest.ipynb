{
 "cells": [
  {
   "cell_type": "markdown",
   "id": "7d1f126f-bd15-4c83-b5a2-b255823aecf1",
   "metadata": {
    "editable": true,
    "slideshow": {
     "slide_type": ""
    },
    "tags": []
   },
   "source": [
    "<font size=\"+3\"><strong>5.3. Ensemble Models: Random Forest</strong></font>"
   ]
  },
  {
   "cell_type": "markdown",
   "id": "376a47c5-c097-412a-9ee7-a65b7ed7b8e8",
   "metadata": {},
   "source": [
    "So far in this project, we've learned how to retrieve and decompress data, and how to manage imbalanced data to build a decision-tree model.\n",
    "\n",
    "In this lesson, we're going to expand our decision tree model into an entire forest (an example of something called an **ensemble model**); learn how to use a **grid search** to tune hyperparameters; and create a function that loads data and a pre-trained model, and uses that model to generate a Series of predictions."
   ]
  },
  {
   "cell_type": "code",
   "execution_count": 28,
   "id": "8e4a0490-5a15-456a-9925-804c62ec1c7b",
   "metadata": {},
   "outputs": [],
   "source": [
    "import gzip\n",
    "import json\n",
    "import pickle \n",
    "\n",
    "import matplotlib.pyplot as plt\n",
    "import pandas as pd\n",
    "from imblearn.over_sampling import RandomOverSampler\n",
    "from IPython.display import VimeoVideo\n",
    "from sklearn.ensemble import RandomForestClassifier\n",
    "from sklearn.impute import SimpleImputer\n",
    "from sklearn.metrics import ConfusionMatrixDisplay\n",
    "from sklearn.model_selection import GridSearchCV, cross_val_score, train_test_split\n",
    "from sklearn.pipeline import make_pipeline"
   ]
  },
  {
   "cell_type": "code",
   "execution_count": 29,
   "id": "cc28305a-cf2f-4af9-9d90-cf0facc9ead6",
   "metadata": {},
   "outputs": [
    {
     "data": {
      "text/html": [
       "\n",
       "        <iframe\n",
       "            width=\"600\"\n",
       "            height=\"300\"\n",
       "            src=\"https://player.vimeo.com/video/694695674?h=538b4d2725\"\n",
       "            frameborder=\"0\"\n",
       "            allowfullscreen\n",
       "            \n",
       "        ></iframe>\n",
       "        "
      ],
      "text/plain": [
       "<IPython.lib.display.VimeoVideo at 0x7001eda8c110>"
      ]
     },
     "execution_count": 29,
     "metadata": {},
     "output_type": "execute_result"
    }
   ],
   "source": [
    "VimeoVideo(\"694695674\", h=\"538b4d2725\", width=600)"
   ]
  },
  {
   "cell_type": "markdown",
   "id": "fd9c02a5-b79a-41d6-8371-1ca5948979d8",
   "metadata": {},
   "source": [
    "# Prepare Data"
   ]
  },
  {
   "cell_type": "markdown",
   "id": "794a1a5c-5927-46ae-b5f7-786f932bceba",
   "metadata": {},
   "source": [
    "As always, we'll begin by importing the dataset."
   ]
  },
  {
   "cell_type": "code",
   "execution_count": null,
   "id": "37c3f5e4-bb50-40e7-99d6-a9c03ae4e2cf",
   "metadata": {},
   "outputs": [],
   "source": []
  },
  {
   "cell_type": "markdown",
   "id": "7fc1f61c-c49b-4c96-a173-0c4f45430562",
   "metadata": {},
   "source": [
    "## Import"
   ]
  },
  {
   "cell_type": "markdown",
   "id": "22d9d776-4ab6-4cef-8f2a-ec58505bdf70",
   "metadata": {},
   "source": [
    "**Task 5.3.1:** Complete the `wrangle` function below using the code you developed in the  lesson 5.1. Then use it to import `poland-bankruptcy-data-2009.json.gz` into the DataFrame `df`.\n",
    "\n",
    "- [<span id='technique'>Write a function in <span id='tool'>Python</span></span>.](../%40textbook/02-python-advanced.ipynb#Functions)<span style='color: transparent; font-size:1%'>WQU WorldQuant University Applied Data Science Lab QQQQ</span>"
   ]
  },
  {
   "cell_type": "markdown",
   "id": "cafccb53-dc9f-4eaa-98c8-42357ba86eb0",
   "metadata": {
    "tags": []
   },
   "source": [
    "## Split"
   ]
  },
  {
   "cell_type": "markdown",
   "id": "b2ecbffd-7743-4102-8b84-bfbbdf98f601",
   "metadata": {},
   "source": [
    "**Task 5.3.2:** Create your feature matrix `X` and target vector `y`. Your target is `\"bankrupt\"`. \n",
    "\n",
    "- [What's a <span id='term'>feature matrix</span>?](../%40textbook/15-ml-regression.ipynb#Linear-Regression)\n",
    "- [What's a <span id='term'>target vector</span>?](../%40textbook/15-ml-regression.ipynb#Linear-Regression)\n",
    "- [<span id='technique'>Subset a DataFrame by selecting one or more columns in <span id='tool'>pandas</span></span>.](../%40textbook/04-pandas-advanced.ipynb#Subset-a-DataFrame-by-Selecting-One-or-More-Columns) \n",
    "- [<span id='technique'>Select a Series from a DataFrame in <span id='tool'>pandas</span></span>.](../%40textbook/04-pandas-advanced.ipynb#Combine-multiple-categories-in-a-Series) "
   ]
  },
  {
   "cell_type": "code",
   "execution_count": 30,
   "id": "4e66727c-3a16-4d87-80be-fb4c8210f52f",
   "metadata": {},
   "outputs": [],
   "source": [
    "def wrangle(filename):\n",
    "    with gzip.open(filename,\"r\") as f:\n",
    "        data=json.load(f)\n",
    "        df=pd.DataFrame.from_dict(data[\"data\"]).set_index(\"company_id\")\n",
    "    \n",
    " \n",
    "\n",
    "    return df"
   ]
  },
  {
   "cell_type": "code",
   "execution_count": 31,
   "id": "658c192b-a963-4843-ae4f-23e37de3fd15",
   "metadata": {},
   "outputs": [
    {
     "name": "stdout",
     "output_type": "stream",
     "text": [
      "(9977, 65)\n"
     ]
    },
    {
     "data": {
      "text/html": [
       "<div>\n",
       "<style scoped>\n",
       "    .dataframe tbody tr th:only-of-type {\n",
       "        vertical-align: middle;\n",
       "    }\n",
       "\n",
       "    .dataframe tbody tr th {\n",
       "        vertical-align: top;\n",
       "    }\n",
       "\n",
       "    .dataframe thead th {\n",
       "        text-align: right;\n",
       "    }\n",
       "</style>\n",
       "<table border=\"1\" class=\"dataframe\">\n",
       "  <thead>\n",
       "    <tr style=\"text-align: right;\">\n",
       "      <th></th>\n",
       "      <th>feat_1</th>\n",
       "      <th>feat_2</th>\n",
       "      <th>feat_3</th>\n",
       "      <th>feat_4</th>\n",
       "      <th>feat_5</th>\n",
       "      <th>feat_6</th>\n",
       "      <th>feat_7</th>\n",
       "      <th>feat_8</th>\n",
       "      <th>feat_9</th>\n",
       "      <th>feat_10</th>\n",
       "      <th>...</th>\n",
       "      <th>feat_56</th>\n",
       "      <th>feat_57</th>\n",
       "      <th>feat_58</th>\n",
       "      <th>feat_59</th>\n",
       "      <th>feat_60</th>\n",
       "      <th>feat_61</th>\n",
       "      <th>feat_62</th>\n",
       "      <th>feat_63</th>\n",
       "      <th>feat_64</th>\n",
       "      <th>bankrupt</th>\n",
       "    </tr>\n",
       "    <tr>\n",
       "      <th>company_id</th>\n",
       "      <th></th>\n",
       "      <th></th>\n",
       "      <th></th>\n",
       "      <th></th>\n",
       "      <th></th>\n",
       "      <th></th>\n",
       "      <th></th>\n",
       "      <th></th>\n",
       "      <th></th>\n",
       "      <th></th>\n",
       "      <th></th>\n",
       "      <th></th>\n",
       "      <th></th>\n",
       "      <th></th>\n",
       "      <th></th>\n",
       "      <th></th>\n",
       "      <th></th>\n",
       "      <th></th>\n",
       "      <th></th>\n",
       "      <th></th>\n",
       "      <th></th>\n",
       "    </tr>\n",
       "  </thead>\n",
       "  <tbody>\n",
       "    <tr>\n",
       "      <th>1</th>\n",
       "      <td>0.174190</td>\n",
       "      <td>0.41299</td>\n",
       "      <td>0.14371</td>\n",
       "      <td>1.3480</td>\n",
       "      <td>-28.9820</td>\n",
       "      <td>0.60383</td>\n",
       "      <td>0.219460</td>\n",
       "      <td>1.12250</td>\n",
       "      <td>1.1961</td>\n",
       "      <td>0.46359</td>\n",
       "      <td>...</td>\n",
       "      <td>0.163960</td>\n",
       "      <td>0.375740</td>\n",
       "      <td>0.83604</td>\n",
       "      <td>0.000007</td>\n",
       "      <td>9.7145</td>\n",
       "      <td>6.2813</td>\n",
       "      <td>84.291</td>\n",
       "      <td>4.3303</td>\n",
       "      <td>4.0341</td>\n",
       "      <td>False</td>\n",
       "    </tr>\n",
       "    <tr>\n",
       "      <th>2</th>\n",
       "      <td>0.146240</td>\n",
       "      <td>0.46038</td>\n",
       "      <td>0.28230</td>\n",
       "      <td>1.6294</td>\n",
       "      <td>2.5952</td>\n",
       "      <td>0.00000</td>\n",
       "      <td>0.171850</td>\n",
       "      <td>1.17210</td>\n",
       "      <td>1.6018</td>\n",
       "      <td>0.53962</td>\n",
       "      <td>...</td>\n",
       "      <td>0.027516</td>\n",
       "      <td>0.271000</td>\n",
       "      <td>0.90108</td>\n",
       "      <td>0.000000</td>\n",
       "      <td>5.9882</td>\n",
       "      <td>4.1103</td>\n",
       "      <td>102.190</td>\n",
       "      <td>3.5716</td>\n",
       "      <td>5.9500</td>\n",
       "      <td>False</td>\n",
       "    </tr>\n",
       "    <tr>\n",
       "      <th>3</th>\n",
       "      <td>0.000595</td>\n",
       "      <td>0.22612</td>\n",
       "      <td>0.48839</td>\n",
       "      <td>3.1599</td>\n",
       "      <td>84.8740</td>\n",
       "      <td>0.19114</td>\n",
       "      <td>0.004572</td>\n",
       "      <td>2.98810</td>\n",
       "      <td>1.0077</td>\n",
       "      <td>0.67566</td>\n",
       "      <td>...</td>\n",
       "      <td>0.007639</td>\n",
       "      <td>0.000881</td>\n",
       "      <td>0.99236</td>\n",
       "      <td>0.000000</td>\n",
       "      <td>6.7742</td>\n",
       "      <td>3.7922</td>\n",
       "      <td>64.846</td>\n",
       "      <td>5.6287</td>\n",
       "      <td>4.4581</td>\n",
       "      <td>False</td>\n",
       "    </tr>\n",
       "    <tr>\n",
       "      <th>5</th>\n",
       "      <td>0.188290</td>\n",
       "      <td>0.41504</td>\n",
       "      <td>0.34231</td>\n",
       "      <td>1.9279</td>\n",
       "      <td>-58.2740</td>\n",
       "      <td>0.00000</td>\n",
       "      <td>0.233580</td>\n",
       "      <td>1.40940</td>\n",
       "      <td>1.3393</td>\n",
       "      <td>0.58496</td>\n",
       "      <td>...</td>\n",
       "      <td>0.176480</td>\n",
       "      <td>0.321880</td>\n",
       "      <td>0.82635</td>\n",
       "      <td>0.073039</td>\n",
       "      <td>2.5912</td>\n",
       "      <td>7.0756</td>\n",
       "      <td>100.540</td>\n",
       "      <td>3.6303</td>\n",
       "      <td>4.6375</td>\n",
       "      <td>False</td>\n",
       "    </tr>\n",
       "    <tr>\n",
       "      <th>6</th>\n",
       "      <td>0.182060</td>\n",
       "      <td>0.55615</td>\n",
       "      <td>0.32191</td>\n",
       "      <td>1.6045</td>\n",
       "      <td>16.3140</td>\n",
       "      <td>0.00000</td>\n",
       "      <td>0.182060</td>\n",
       "      <td>0.79808</td>\n",
       "      <td>1.8126</td>\n",
       "      <td>0.44385</td>\n",
       "      <td>...</td>\n",
       "      <td>0.555770</td>\n",
       "      <td>0.410190</td>\n",
       "      <td>0.46957</td>\n",
       "      <td>0.029421</td>\n",
       "      <td>8.4553</td>\n",
       "      <td>3.3488</td>\n",
       "      <td>107.240</td>\n",
       "      <td>3.4036</td>\n",
       "      <td>12.4540</td>\n",
       "      <td>False</td>\n",
       "    </tr>\n",
       "  </tbody>\n",
       "</table>\n",
       "<p>5 rows × 65 columns</p>\n",
       "</div>"
      ],
      "text/plain": [
       "              feat_1   feat_2   feat_3  feat_4   feat_5   feat_6    feat_7  \\\n",
       "company_id                                                                   \n",
       "1           0.174190  0.41299  0.14371  1.3480 -28.9820  0.60383  0.219460   \n",
       "2           0.146240  0.46038  0.28230  1.6294   2.5952  0.00000  0.171850   \n",
       "3           0.000595  0.22612  0.48839  3.1599  84.8740  0.19114  0.004572   \n",
       "5           0.188290  0.41504  0.34231  1.9279 -58.2740  0.00000  0.233580   \n",
       "6           0.182060  0.55615  0.32191  1.6045  16.3140  0.00000  0.182060   \n",
       "\n",
       "             feat_8  feat_9  feat_10  ...   feat_56   feat_57  feat_58  \\\n",
       "company_id                            ...                                \n",
       "1           1.12250  1.1961  0.46359  ...  0.163960  0.375740  0.83604   \n",
       "2           1.17210  1.6018  0.53962  ...  0.027516  0.271000  0.90108   \n",
       "3           2.98810  1.0077  0.67566  ...  0.007639  0.000881  0.99236   \n",
       "5           1.40940  1.3393  0.58496  ...  0.176480  0.321880  0.82635   \n",
       "6           0.79808  1.8126  0.44385  ...  0.555770  0.410190  0.46957   \n",
       "\n",
       "             feat_59  feat_60  feat_61  feat_62  feat_63  feat_64  bankrupt  \n",
       "company_id                                                                   \n",
       "1           0.000007   9.7145   6.2813   84.291   4.3303   4.0341     False  \n",
       "2           0.000000   5.9882   4.1103  102.190   3.5716   5.9500     False  \n",
       "3           0.000000   6.7742   3.7922   64.846   5.6287   4.4581     False  \n",
       "5           0.073039   2.5912   7.0756  100.540   3.6303   4.6375     False  \n",
       "6           0.029421   8.4553   3.3488  107.240   3.4036  12.4540     False  \n",
       "\n",
       "[5 rows x 65 columns]"
      ]
     },
     "execution_count": 31,
     "metadata": {},
     "output_type": "execute_result"
    }
   ],
   "source": [
    "df =wrangle(\"data/poland-bankruptcy-data-2009.json.gz\")\n",
    "print(df.shape)\n",
    "df.head()"
   ]
  },
  {
   "cell_type": "code",
   "execution_count": 32,
   "id": "f1093cff-131c-496f-8f00-13d837774083",
   "metadata": {},
   "outputs": [],
   "source": [
    "target = \"bankrupt\"\n",
    "X =df.drop(columns=target)\n",
    "y =df[target]\n",
    "\n"
   ]
  },
  {
   "cell_type": "markdown",
   "id": "376f7aa4-1146-4b7f-932b-1834f953fe49",
   "metadata": {},
   "source": [
    "Since we're not working with time series data, we're going to randomly divide our dataset into training and test sets — just like we did in project 4."
   ]
  },
  {
   "cell_type": "markdown",
   "id": "bba7ebc0-5785-4e19-803b-3ab0a28c76ea",
   "metadata": {},
   "source": [
    "**Task 5.3.3:** Divide your data (`X` and `y`) into training and test sets using a randomized train-test split. Your test set should be 20% of your total data. And don't forget to set a `random_state` for reproducibility. \n",
    "\n",
    "- [<span id='technique'>Perform a randomized train-test split using <span id='tool'>scikit-learn</span></span>.](../%40textbook/14-ml-classification.ipynb#Randomized-Train-Test-split)"
   ]
  },
  {
   "cell_type": "code",
   "execution_count": 33,
   "id": "37be42f8-bf07-4e7d-921a-e6fe7f9e861f",
   "metadata": {},
   "outputs": [
    {
     "name": "stdout",
     "output_type": "stream",
     "text": [
      "X_train shape: (7981, 64)\n",
      "y_train shape: (7981,)\n",
      "X_test shape: (1996, 64)\n",
      "y_test shape: (1996,)\n"
     ]
    }
   ],
   "source": [
    "X_train, X_test, y_train, y_test =train_test_split(\n",
    "    X,y,test_size=0.2,random_state=42\n",
    ")\n",
    "\n",
    "print(\"X_train shape:\", X_train.shape)\n",
    "print(\"y_train shape:\", y_train.shape)\n",
    "print(\"X_test shape:\", X_test.shape)\n",
    "print(\"y_test shape:\", y_test.shape)"
   ]
  },
  {
   "cell_type": "markdown",
   "id": "083eb52a-35ee-424b-9594-8427651fc37f",
   "metadata": {},
   "source": [
    "You might have noticed that we didn't create a validation set, even though we're planning on tuning our model's hyperparameters in this lesson. That's because we're going to use cross-validation, which we'll talk about more later on."
   ]
  },
  {
   "cell_type": "markdown",
   "id": "9df75fb0-0c88-40ad-84df-685325039dd7",
   "metadata": {},
   "source": [
    "## Resample"
   ]
  },
  {
   "cell_type": "code",
   "execution_count": 34,
   "id": "9f5308b5-95d3-49b8-9845-392cc438b386",
   "metadata": {},
   "outputs": [
    {
     "data": {
      "text/html": [
       "\n",
       "        <iframe\n",
       "            width=\"600\"\n",
       "            height=\"300\"\n",
       "            src=\"https://player.vimeo.com/video/694695662?h=dc60d76861\"\n",
       "            frameborder=\"0\"\n",
       "            allowfullscreen\n",
       "            \n",
       "        ></iframe>\n",
       "        "
      ],
      "text/plain": [
       "<IPython.lib.display.VimeoVideo at 0x7001ed7c2c90>"
      ]
     },
     "execution_count": 34,
     "metadata": {},
     "output_type": "execute_result"
    }
   ],
   "source": [
    "VimeoVideo(\"694695662\", h=\"dc60d76861\", width=600)"
   ]
  },
  {
   "cell_type": "code",
   "execution_count": 35,
   "id": "3baa98b2-508a-4acd-a56f-8e8fc236ac1a",
   "metadata": {},
   "outputs": [
    {
     "data": {
      "text/plain": [
       "(15194, 64)"
      ]
     },
     "execution_count": 35,
     "metadata": {},
     "output_type": "execute_result"
    }
   ],
   "source": [
    "over_sampler=RandomOverSampler(random_state=42)\n",
    "X_train_over,y_train_over=over_sampler.fit_resample(X_train, y_train)\n",
    "X_train_over.shape"
   ]
  },
  {
   "cell_type": "markdown",
   "id": "ecb07cec-9400-4619-813b-92e34eb651ba",
   "metadata": {},
   "source": [
    "**Task 5.3.4:** Create a new feature matrix `X_train_over` and target vector `y_train_over` by performing random over-sampling on the training data.\n",
    "\n",
    "- [What is over-sampling?](../%40textbook/13-ml-data-pre-processing-and-production.ipynb#Over-sampling)\n",
    "- [Perform random over-sampling using imbalanced-learn.](../%40textbook/13-ml-data-pre-processing-and-production.ipynb#Over-sampling)"
   ]
  },
  {
   "cell_type": "markdown",
   "id": "08127742-3d7c-4f3a-95d8-a1af6d2ba88d",
   "metadata": {},
   "source": [
    "# Build Model"
   ]
  },
  {
   "cell_type": "code",
   "execution_count": null,
   "id": "6083ef33-e281-49cb-897a-0232ebdd5079",
   "metadata": {},
   "outputs": [],
   "source": []
  },
  {
   "cell_type": "markdown",
   "id": "99917563-9d78-4653-98d1-d1884722406c",
   "metadata": {},
   "source": [
    "Now that we have our data set up the right way, we can build the model. 🏗"
   ]
  },
  {
   "cell_type": "markdown",
   "id": "f03517a4-e9c7-46f9-ab95-f1ce65a67573",
   "metadata": {},
   "source": [
    "## Baseline"
   ]
  },
  {
   "cell_type": "markdown",
   "id": "7245db1e-6612-4952-8302-4b0fdfeb337a",
   "metadata": {},
   "source": [
    "**Task 5.3.5:** Calculate the baseline accuracy score for your model.\n",
    "\n",
    "- [What's <span id='tool'>accuracy score</span>?](../%40textbook/14-ml-classification.ipynb#Calculating-Accuracy-Score)\n",
    "- [Aggregate data in a Series using `value_counts` in pandas.](../%40textbook/04-pandas-advanced.ipynb#Working-with-value_counts-in-a-Series)"
   ]
  },
  {
   "cell_type": "code",
   "execution_count": 36,
   "id": "3a181afb-a78a-4e85-91b1-a07217bccba9",
   "metadata": {},
   "outputs": [
    {
     "data": {
      "text/plain": [
       "0.951885728605438"
      ]
     },
     "execution_count": 36,
     "metadata": {},
     "output_type": "execute_result"
    }
   ],
   "source": [
    "acc_baseline = y_train.value_counts(normalize=True).max()\n",
    "acc_baseline"
   ]
  },
  {
   "cell_type": "markdown",
   "id": "7fbd8830-6b46-43a3-ae06-91aaf2400571",
   "metadata": {},
   "source": [
    "## Iterate"
   ]
  },
  {
   "cell_type": "markdown",
   "id": "9b0f9f51-75ff-405c-975e-09a3133d9523",
   "metadata": {},
   "source": [
    "So far, we've built single models that predict a single outcome. That's definitely a useful way to predict the future, but what if the one model we built isn't the *right* one? If we could somehow use more than one model simultaneously, we'd have a more trustworthy prediction.\n",
    "\n",
    "**Ensemble models** work by building multiple models on random subsets of the same data, and then comparing their predictions to make a final prediction. Since we used a decision tree in the last lesson, we're going to create an ensemble of trees here. This type of model is called a **random forest**.\n",
    "\n",
    "We'll start by creating a pipeline to streamline our workflow."
   ]
  },
  {
   "cell_type": "code",
   "execution_count": 37,
   "id": "81530a24-952a-4c78-9d59-231529b6b3ea",
   "metadata": {},
   "outputs": [
    {
     "data": {
      "text/html": [
       "\n",
       "        <iframe\n",
       "            width=\"600\"\n",
       "            height=\"300\"\n",
       "            src=\"https://player.vimeo.com/video/694695643?h=32c3d5b1ed\"\n",
       "            frameborder=\"0\"\n",
       "            allowfullscreen\n",
       "            \n",
       "        ></iframe>\n",
       "        "
      ],
      "text/plain": [
       "<IPython.lib.display.VimeoVideo at 0x7001eda72110>"
      ]
     },
     "execution_count": 37,
     "metadata": {},
     "output_type": "execute_result"
    }
   ],
   "source": [
    "VimeoVideo(\"694695643\", h=\"32c3d5b1ed\", width=600)"
   ]
  },
  {
   "cell_type": "markdown",
   "id": "6229c9b5-f739-4a12-a12b-b227eb26674d",
   "metadata": {},
   "source": [
    "*Task 5.3.6:** Create a pipeline named `clf` (short for \"classifier\") that contains a `SimpleImputer` transformer and a `RandomForestClassifier` predictor.\n",
    "Keep the `random_state = 42` for `RandomForestClassifier` predictor.\n",
    "\n",
    "- [What's an ensemble model?](../%40textbook/14-ml-classification.ipynb#Classification-with-Ensemble-Models)\n",
    "- [What's a random forest model?](../%40textbook/14-ml-classification.ipynb#Random-Forest)"
   ]
  },
  {
   "cell_type": "code",
   "execution_count": 38,
   "id": "23d29542-cf2c-4e17-b43d-7d42a0a3a5d4",
   "metadata": {},
   "outputs": [
    {
     "data": {
      "text/html": [
       "<style>#sk-container-id-4 {color: black;}#sk-container-id-4 pre{padding: 0;}#sk-container-id-4 div.sk-toggleable {background-color: white;}#sk-container-id-4 label.sk-toggleable__label {cursor: pointer;display: block;width: 100%;margin-bottom: 0;padding: 0.3em;box-sizing: border-box;text-align: center;}#sk-container-id-4 label.sk-toggleable__label-arrow:before {content: \"▸\";float: left;margin-right: 0.25em;color: #696969;}#sk-container-id-4 label.sk-toggleable__label-arrow:hover:before {color: black;}#sk-container-id-4 div.sk-estimator:hover label.sk-toggleable__label-arrow:before {color: black;}#sk-container-id-4 div.sk-toggleable__content {max-height: 0;max-width: 0;overflow: hidden;text-align: left;background-color: #f0f8ff;}#sk-container-id-4 div.sk-toggleable__content pre {margin: 0.2em;color: black;border-radius: 0.25em;background-color: #f0f8ff;}#sk-container-id-4 input.sk-toggleable__control:checked~div.sk-toggleable__content {max-height: 200px;max-width: 100%;overflow: auto;}#sk-container-id-4 input.sk-toggleable__control:checked~label.sk-toggleable__label-arrow:before {content: \"▾\";}#sk-container-id-4 div.sk-estimator input.sk-toggleable__control:checked~label.sk-toggleable__label {background-color: #d4ebff;}#sk-container-id-4 div.sk-label input.sk-toggleable__control:checked~label.sk-toggleable__label {background-color: #d4ebff;}#sk-container-id-4 input.sk-hidden--visually {border: 0;clip: rect(1px 1px 1px 1px);clip: rect(1px, 1px, 1px, 1px);height: 1px;margin: -1px;overflow: hidden;padding: 0;position: absolute;width: 1px;}#sk-container-id-4 div.sk-estimator {font-family: monospace;background-color: #f0f8ff;border: 1px dotted black;border-radius: 0.25em;box-sizing: border-box;margin-bottom: 0.5em;}#sk-container-id-4 div.sk-estimator:hover {background-color: #d4ebff;}#sk-container-id-4 div.sk-parallel-item::after {content: \"\";width: 100%;border-bottom: 1px solid gray;flex-grow: 1;}#sk-container-id-4 div.sk-label:hover label.sk-toggleable__label {background-color: #d4ebff;}#sk-container-id-4 div.sk-serial::before {content: \"\";position: absolute;border-left: 1px solid gray;box-sizing: border-box;top: 0;bottom: 0;left: 50%;z-index: 0;}#sk-container-id-4 div.sk-serial {display: flex;flex-direction: column;align-items: center;background-color: white;padding-right: 0.2em;padding-left: 0.2em;position: relative;}#sk-container-id-4 div.sk-item {position: relative;z-index: 1;}#sk-container-id-4 div.sk-parallel {display: flex;align-items: stretch;justify-content: center;background-color: white;position: relative;}#sk-container-id-4 div.sk-item::before, #sk-container-id-4 div.sk-parallel-item::before {content: \"\";position: absolute;border-left: 1px solid gray;box-sizing: border-box;top: 0;bottom: 0;left: 50%;z-index: -1;}#sk-container-id-4 div.sk-parallel-item {display: flex;flex-direction: column;z-index: 1;position: relative;background-color: white;}#sk-container-id-4 div.sk-parallel-item:first-child::after {align-self: flex-end;width: 50%;}#sk-container-id-4 div.sk-parallel-item:last-child::after {align-self: flex-start;width: 50%;}#sk-container-id-4 div.sk-parallel-item:only-child::after {width: 0;}#sk-container-id-4 div.sk-dashed-wrapped {border: 1px dashed gray;margin: 0 0.4em 0.5em 0.4em;box-sizing: border-box;padding-bottom: 0.4em;background-color: white;}#sk-container-id-4 div.sk-label label {font-family: monospace;font-weight: bold;display: inline-block;line-height: 1.2em;}#sk-container-id-4 div.sk-label-container {text-align: center;}#sk-container-id-4 div.sk-container {/* jupyter's `normalize.less` sets `[hidden] { display: none; }` but bootstrap.min.css set `[hidden] { display: none !important; }` so we also need the `!important` here to be able to override the default hidden behavior on the sphinx rendered scikit-learn.org. See: https://github.com/scikit-learn/scikit-learn/issues/21755 */display: inline-block !important;position: relative;}#sk-container-id-4 div.sk-text-repr-fallback {display: none;}</style><div id=\"sk-container-id-4\" class=\"sk-top-container\"><div class=\"sk-text-repr-fallback\"><pre>Pipeline(steps=[(&#x27;simpleimputer&#x27;, SimpleImputer()),\n",
       "                (&#x27;randomforestclassifier&#x27;,\n",
       "                 RandomForestClassifier(random_state=42))])</pre><b>In a Jupyter environment, please rerun this cell to show the HTML representation or trust the notebook. <br />On GitHub, the HTML representation is unable to render, please try loading this page with nbviewer.org.</b></div><div class=\"sk-container\" hidden><div class=\"sk-item sk-dashed-wrapped\"><div class=\"sk-label-container\"><div class=\"sk-label sk-toggleable\"><input class=\"sk-toggleable__control sk-hidden--visually\" id=\"sk-estimator-id-12\" type=\"checkbox\" ><label for=\"sk-estimator-id-12\" class=\"sk-toggleable__label sk-toggleable__label-arrow\">Pipeline</label><div class=\"sk-toggleable__content\"><pre>Pipeline(steps=[(&#x27;simpleimputer&#x27;, SimpleImputer()),\n",
       "                (&#x27;randomforestclassifier&#x27;,\n",
       "                 RandomForestClassifier(random_state=42))])</pre></div></div></div><div class=\"sk-serial\"><div class=\"sk-item\"><div class=\"sk-estimator sk-toggleable\"><input class=\"sk-toggleable__control sk-hidden--visually\" id=\"sk-estimator-id-13\" type=\"checkbox\" ><label for=\"sk-estimator-id-13\" class=\"sk-toggleable__label sk-toggleable__label-arrow\">SimpleImputer</label><div class=\"sk-toggleable__content\"><pre>SimpleImputer()</pre></div></div></div><div class=\"sk-item\"><div class=\"sk-estimator sk-toggleable\"><input class=\"sk-toggleable__control sk-hidden--visually\" id=\"sk-estimator-id-14\" type=\"checkbox\" ><label for=\"sk-estimator-id-14\" class=\"sk-toggleable__label sk-toggleable__label-arrow\">RandomForestClassifier</label><div class=\"sk-toggleable__content\"><pre>RandomForestClassifier(random_state=42)</pre></div></div></div></div></div></div></div>"
      ],
      "text/plain": [
       "Pipeline(steps=[('simpleimputer', SimpleImputer()),\n",
       "                ('randomforestclassifier',\n",
       "                 RandomForestClassifier(random_state=42))])"
      ]
     },
     "execution_count": 38,
     "metadata": {},
     "output_type": "execute_result"
    }
   ],
   "source": [
    "clf=make_pipeline(\n",
    "    SimpleImputer(),RandomForestClassifier(random_state=42)\n",
    "    \n",
    ")\n",
    "clf\n"
   ]
  },
  {
   "cell_type": "markdown",
   "id": "376b73a6-18a0-4ad7-b501-fb08f08d8254",
   "metadata": {},
   "source": [
    "By default, the number of trees in our forest (`n_estimators`) is set to 100. That means when we train this classifier, we'll be fitting 100 trees. While it will take longer to train, it will hopefully lead to better performance.\n",
    "\n",
    "In order to get the best performance from our model, we need to tune its hyperparameter. But how can we do this if we haven't created a validation set? The answer is **cross-validation**. So, before we look at hyperparameters, let's see how cross-validation works with the classifier we just built."
   ]
  },
  {
   "cell_type": "code",
   "execution_count": 39,
   "id": "da86d743-198d-4890-8733-e0919168a87e",
   "metadata": {},
   "outputs": [
    {
     "data": {
      "text/html": [
       "\n",
       "        <iframe\n",
       "            width=\"600\"\n",
       "            height=\"300\"\n",
       "            src=\"https://player.vimeo.com/video/694695619?h=2c41dca371\"\n",
       "            frameborder=\"0\"\n",
       "            allowfullscreen\n",
       "            \n",
       "        ></iframe>\n",
       "        "
      ],
      "text/plain": [
       "<IPython.lib.display.VimeoVideo at 0x7001eda69810>"
      ]
     },
     "execution_count": 39,
     "metadata": {},
     "output_type": "execute_result"
    }
   ],
   "source": [
    "VimeoVideo(\"694695619\", h=\"2c41dca371\", width=600)"
   ]
  },
  {
   "cell_type": "markdown",
   "id": "ae4c6c98-5db2-4347-aa5b-020730a56bd6",
   "metadata": {},
   "source": [
    "**Task 5.3.7:** Perform cross-validation with your classifier, using the over-sampled training data. We want five folds, so set `cv` to 5. We also want to speed up training, to set `n_jobs` to -1.\n",
    "\n",
    "- [What's cross-validation?](../%40textbook/14-ml-classification.ipynb#Cross-Validation)\n",
    "- [Perform k-fold cross-validation on a model in scikit-learn.](../%40textbook/14-ml-classification.ipynb#Cross-Validation)"
   ]
  },
  {
   "cell_type": "code",
   "execution_count": 40,
   "id": "2c1a44f4-b2d2-4d5e-b426-d63bba2166a5",
   "metadata": {},
   "outputs": [
    {
     "name": "stdout",
     "output_type": "stream",
     "text": [
      "[0.99670944 0.99835472 0.99769661 0.9970385  0.99901251]\n"
     ]
    }
   ],
   "source": [
    "cv_acc_scores = cross_val_score(clf,X_train_over,y_train_over,cv=5,n_jobs=-1)\n",
    "print(cv_acc_scores)"
   ]
  },
  {
   "cell_type": "markdown",
   "id": "45c5be54-bd14-4b07-8d9b-abbe4d984e2d",
   "metadata": {},
   "source": [
    "That took kind of a long time, but we just trained 500 random forest classifiers (100 jobs x 5 folds). No wonder it takes so long!\n",
    "\n",
    "Pro tip: even though `cross_val_score` is useful for getting an idea of how cross-validation works, you'll rarely use it. Instead, most people include a `cv` argument when they do a hyperparameter search. "
   ]
  },
  {
   "cell_type": "markdown",
   "id": "40e6180f-51e4-42ad-9753-d2c39a73e7c8",
   "metadata": {},
   "source": [
    "Now that we have an idea of how cross-validation works, let's tune our model. The first step is creating a range of hyperparameters that we want to evaluate. "
   ]
  },
  {
   "cell_type": "code",
   "execution_count": 41,
   "id": "34d4abf2-dd15-4b65-acde-cee1c3b4a3e5",
   "metadata": {},
   "outputs": [
    {
     "data": {
      "text/html": [
       "\n",
       "        <iframe\n",
       "            width=\"600\"\n",
       "            height=\"300\"\n",
       "            src=\"https://player.vimeo.com/video/694695593?h=5143f0b63f\"\n",
       "            frameborder=\"0\"\n",
       "            allowfullscreen\n",
       "            \n",
       "        ></iframe>\n",
       "        "
      ],
      "text/plain": [
       "<IPython.lib.display.VimeoVideo at 0x70022412ded0>"
      ]
     },
     "execution_count": 41,
     "metadata": {},
     "output_type": "execute_result"
    }
   ],
   "source": [
    "VimeoVideo(\"694695593\", h=\"5143f0b63f\", width=600)"
   ]
  },
  {
   "cell_type": "markdown",
   "id": "4d7c6240-88cd-4a9a-b384-ad049861eff3",
   "metadata": {},
   "source": [
    "**Task 5.3.8:** Create a dictionary with the range of hyperparameters that we want to evaluate for our classifier. \n",
    "\n",
    "1. For the `SimpleImputer`, try both the `\"mean\"` and `\"median\"` strategies. \n",
    "2. For the `RandomForestClassifier`, try `max_depth` settings between 10 and 50, by steps of 10. \n",
    "3. Also for the `RandomForestClassifier`, try `n_estimators` settings between 25 and 100 by steps of 25.\n",
    "\n",
    "- [What's a dictionary?](../%40textbook/01-python-getting-started.ipynb#Python-Dictionaries)\n",
    "- [What's a hyperparameter?](../%40textbook/17-ts-core.ipynb#Hyperparameters)\n",
    "- [Create a range in Python](../%40textbook/18-ts-models.ipynb#Hyperparameters)\n",
    "- [Define a hyperparameter grid for model tuning in scikit-learn.](../%40textbook/14-ml-classification.ipynb#Hyperparameter-Tuning)"
   ]
  },
  {
   "cell_type": "code",
   "execution_count": 42,
   "id": "f5330f53-2ddf-4261-a17e-3ba7afc3faea",
   "metadata": {},
   "outputs": [
    {
     "data": {
      "text/plain": [
       "{'simpleimputer__strategy': ['mean', 'median'],\n",
       " 'randomforestclassifier__n_estimators': range(25, 100, 25),\n",
       " 'randomforestclassifier__max_depth': range(10, 50, 10)}"
      ]
     },
     "execution_count": 42,
     "metadata": {},
     "output_type": "execute_result"
    }
   ],
   "source": [
    "params = {\n",
    "    \"simpleimputer__strategy\": [\"mean\", \"median\"],\n",
    "    \"randomforestclassifier__n_estimators\": range(25, 100, 25),\n",
    "    \"randomforestclassifier__max_depth\": range(10, 50, 10)\n",
    "}\n",
    "params"
   ]
  },
  {
   "cell_type": "markdown",
   "id": "77360385-ab0f-4d0e-b3ca-3e4faace353c",
   "metadata": {},
   "source": [
    "Now that we have our hyperparameter grid, let's incorporate it into a **grid search**."
   ]
  },
  {
   "cell_type": "code",
   "execution_count": 43,
   "id": "93206456-d95b-4d13-8995-ff3acdfe323b",
   "metadata": {},
   "outputs": [
    {
     "data": {
      "text/html": [
       "\n",
       "        <iframe\n",
       "            width=\"600\"\n",
       "            height=\"300\"\n",
       "            src=\"https://player.vimeo.com/video/694695574?h=8588bf015f\"\n",
       "            frameborder=\"0\"\n",
       "            allowfullscreen\n",
       "            \n",
       "        ></iframe>\n",
       "        "
      ],
      "text/plain": [
       "<IPython.lib.display.VimeoVideo at 0x7001eda6af90>"
      ]
     },
     "execution_count": 43,
     "metadata": {},
     "output_type": "execute_result"
    }
   ],
   "source": [
    "VimeoVideo(\"694695574\", h=\"8588bf015f\", width=600)"
   ]
  },
  {
   "cell_type": "code",
   "execution_count": 44,
   "id": "01d0ef03-7c26-418e-bb42-471b1b2c8f90",
   "metadata": {},
   "outputs": [
    {
     "data": {
      "text/html": [
       "<style>#sk-container-id-5 {color: black;}#sk-container-id-5 pre{padding: 0;}#sk-container-id-5 div.sk-toggleable {background-color: white;}#sk-container-id-5 label.sk-toggleable__label {cursor: pointer;display: block;width: 100%;margin-bottom: 0;padding: 0.3em;box-sizing: border-box;text-align: center;}#sk-container-id-5 label.sk-toggleable__label-arrow:before {content: \"▸\";float: left;margin-right: 0.25em;color: #696969;}#sk-container-id-5 label.sk-toggleable__label-arrow:hover:before {color: black;}#sk-container-id-5 div.sk-estimator:hover label.sk-toggleable__label-arrow:before {color: black;}#sk-container-id-5 div.sk-toggleable__content {max-height: 0;max-width: 0;overflow: hidden;text-align: left;background-color: #f0f8ff;}#sk-container-id-5 div.sk-toggleable__content pre {margin: 0.2em;color: black;border-radius: 0.25em;background-color: #f0f8ff;}#sk-container-id-5 input.sk-toggleable__control:checked~div.sk-toggleable__content {max-height: 200px;max-width: 100%;overflow: auto;}#sk-container-id-5 input.sk-toggleable__control:checked~label.sk-toggleable__label-arrow:before {content: \"▾\";}#sk-container-id-5 div.sk-estimator input.sk-toggleable__control:checked~label.sk-toggleable__label {background-color: #d4ebff;}#sk-container-id-5 div.sk-label input.sk-toggleable__control:checked~label.sk-toggleable__label {background-color: #d4ebff;}#sk-container-id-5 input.sk-hidden--visually {border: 0;clip: rect(1px 1px 1px 1px);clip: rect(1px, 1px, 1px, 1px);height: 1px;margin: -1px;overflow: hidden;padding: 0;position: absolute;width: 1px;}#sk-container-id-5 div.sk-estimator {font-family: monospace;background-color: #f0f8ff;border: 1px dotted black;border-radius: 0.25em;box-sizing: border-box;margin-bottom: 0.5em;}#sk-container-id-5 div.sk-estimator:hover {background-color: #d4ebff;}#sk-container-id-5 div.sk-parallel-item::after {content: \"\";width: 100%;border-bottom: 1px solid gray;flex-grow: 1;}#sk-container-id-5 div.sk-label:hover label.sk-toggleable__label {background-color: #d4ebff;}#sk-container-id-5 div.sk-serial::before {content: \"\";position: absolute;border-left: 1px solid gray;box-sizing: border-box;top: 0;bottom: 0;left: 50%;z-index: 0;}#sk-container-id-5 div.sk-serial {display: flex;flex-direction: column;align-items: center;background-color: white;padding-right: 0.2em;padding-left: 0.2em;position: relative;}#sk-container-id-5 div.sk-item {position: relative;z-index: 1;}#sk-container-id-5 div.sk-parallel {display: flex;align-items: stretch;justify-content: center;background-color: white;position: relative;}#sk-container-id-5 div.sk-item::before, #sk-container-id-5 div.sk-parallel-item::before {content: \"\";position: absolute;border-left: 1px solid gray;box-sizing: border-box;top: 0;bottom: 0;left: 50%;z-index: -1;}#sk-container-id-5 div.sk-parallel-item {display: flex;flex-direction: column;z-index: 1;position: relative;background-color: white;}#sk-container-id-5 div.sk-parallel-item:first-child::after {align-self: flex-end;width: 50%;}#sk-container-id-5 div.sk-parallel-item:last-child::after {align-self: flex-start;width: 50%;}#sk-container-id-5 div.sk-parallel-item:only-child::after {width: 0;}#sk-container-id-5 div.sk-dashed-wrapped {border: 1px dashed gray;margin: 0 0.4em 0.5em 0.4em;box-sizing: border-box;padding-bottom: 0.4em;background-color: white;}#sk-container-id-5 div.sk-label label {font-family: monospace;font-weight: bold;display: inline-block;line-height: 1.2em;}#sk-container-id-5 div.sk-label-container {text-align: center;}#sk-container-id-5 div.sk-container {/* jupyter's `normalize.less` sets `[hidden] { display: none; }` but bootstrap.min.css set `[hidden] { display: none !important; }` so we also need the `!important` here to be able to override the default hidden behavior on the sphinx rendered scikit-learn.org. See: https://github.com/scikit-learn/scikit-learn/issues/21755 */display: inline-block !important;position: relative;}#sk-container-id-5 div.sk-text-repr-fallback {display: none;}</style><div id=\"sk-container-id-5\" class=\"sk-top-container\"><div class=\"sk-text-repr-fallback\"><pre>GridSearchCV(cv=4,\n",
       "             estimator=Pipeline(steps=[(&#x27;simpleimputer&#x27;, SimpleImputer()),\n",
       "                                       (&#x27;randomforestclassifier&#x27;,\n",
       "                                        RandomForestClassifier(random_state=42))]),\n",
       "             n_jobs=-1,\n",
       "             param_grid={&#x27;randomforestclassifier__max_depth&#x27;: range(10, 50, 10),\n",
       "                         &#x27;randomforestclassifier__n_estimators&#x27;: range(25, 100, 25),\n",
       "                         &#x27;simpleimputer__strategy&#x27;: [&#x27;mean&#x27;, &#x27;median&#x27;]},\n",
       "             verbose=1)</pre><b>In a Jupyter environment, please rerun this cell to show the HTML representation or trust the notebook. <br />On GitHub, the HTML representation is unable to render, please try loading this page with nbviewer.org.</b></div><div class=\"sk-container\" hidden><div class=\"sk-item sk-dashed-wrapped\"><div class=\"sk-label-container\"><div class=\"sk-label sk-toggleable\"><input class=\"sk-toggleable__control sk-hidden--visually\" id=\"sk-estimator-id-15\" type=\"checkbox\" ><label for=\"sk-estimator-id-15\" class=\"sk-toggleable__label sk-toggleable__label-arrow\">GridSearchCV</label><div class=\"sk-toggleable__content\"><pre>GridSearchCV(cv=4,\n",
       "             estimator=Pipeline(steps=[(&#x27;simpleimputer&#x27;, SimpleImputer()),\n",
       "                                       (&#x27;randomforestclassifier&#x27;,\n",
       "                                        RandomForestClassifier(random_state=42))]),\n",
       "             n_jobs=-1,\n",
       "             param_grid={&#x27;randomforestclassifier__max_depth&#x27;: range(10, 50, 10),\n",
       "                         &#x27;randomforestclassifier__n_estimators&#x27;: range(25, 100, 25),\n",
       "                         &#x27;simpleimputer__strategy&#x27;: [&#x27;mean&#x27;, &#x27;median&#x27;]},\n",
       "             verbose=1)</pre></div></div></div><div class=\"sk-parallel\"><div class=\"sk-parallel-item\"><div class=\"sk-item\"><div class=\"sk-label-container\"><div class=\"sk-label sk-toggleable\"><input class=\"sk-toggleable__control sk-hidden--visually\" id=\"sk-estimator-id-16\" type=\"checkbox\" ><label for=\"sk-estimator-id-16\" class=\"sk-toggleable__label sk-toggleable__label-arrow\">estimator: Pipeline</label><div class=\"sk-toggleable__content\"><pre>Pipeline(steps=[(&#x27;simpleimputer&#x27;, SimpleImputer()),\n",
       "                (&#x27;randomforestclassifier&#x27;,\n",
       "                 RandomForestClassifier(random_state=42))])</pre></div></div></div><div class=\"sk-serial\"><div class=\"sk-item\"><div class=\"sk-serial\"><div class=\"sk-item\"><div class=\"sk-estimator sk-toggleable\"><input class=\"sk-toggleable__control sk-hidden--visually\" id=\"sk-estimator-id-17\" type=\"checkbox\" ><label for=\"sk-estimator-id-17\" class=\"sk-toggleable__label sk-toggleable__label-arrow\">SimpleImputer</label><div class=\"sk-toggleable__content\"><pre>SimpleImputer()</pre></div></div></div><div class=\"sk-item\"><div class=\"sk-estimator sk-toggleable\"><input class=\"sk-toggleable__control sk-hidden--visually\" id=\"sk-estimator-id-18\" type=\"checkbox\" ><label for=\"sk-estimator-id-18\" class=\"sk-toggleable__label sk-toggleable__label-arrow\">RandomForestClassifier</label><div class=\"sk-toggleable__content\"><pre>RandomForestClassifier(random_state=42)</pre></div></div></div></div></div></div></div></div></div></div></div></div>"
      ],
      "text/plain": [
       "GridSearchCV(cv=4,\n",
       "             estimator=Pipeline(steps=[('simpleimputer', SimpleImputer()),\n",
       "                                       ('randomforestclassifier',\n",
       "                                        RandomForestClassifier(random_state=42))]),\n",
       "             n_jobs=-1,\n",
       "             param_grid={'randomforestclassifier__max_depth': range(10, 50, 10),\n",
       "                         'randomforestclassifier__n_estimators': range(25, 100, 25),\n",
       "                         'simpleimputer__strategy': ['mean', 'median']},\n",
       "             verbose=1)"
      ]
     },
     "execution_count": 44,
     "metadata": {},
     "output_type": "execute_result"
    }
   ],
   "source": [
    "\n",
    "model = GridSearchCV(\n",
    "    estimator=clf,\n",
    "    param_grid=params,\n",
    "    cv=4,\n",
    "    n_jobs=-1,\n",
    "    verbose=1\n",
    ")\n",
    "model"
   ]
  },
  {
   "cell_type": "markdown",
   "id": "2c25ceef-6e09-4453-b638-dfc0b691a1c6",
   "metadata": {},
   "source": [
    "**Task 5.3.9:** Create a `GridSearchCV` named `model` that includes your classifier and hyperparameter grid. Be sure to use the same arguments for `cv` and `n_jobs` that you used above, and set `verbose` to 1. \n",
    "\n",
    "- [What's cross-validation?](../%40textbook/14-ml-classification.ipynb#Cross-Validation)\n",
    "- [What's a grid search?](../%40textbook/14-ml-classification.ipynb#Grid-Search)\n",
    "- [Perform a hyperparameter grid search in scikit-learn.](../%40textbook/14-ml-classification.ipynb#Grid-Search)"
   ]
  },
  {
   "cell_type": "markdown",
   "id": "34093b4b-1c94-4c94-99a5-32c48f641322",
   "metadata": {},
   "source": [
    "Finally, now let's fit the model."
   ]
  },
  {
   "cell_type": "code",
   "execution_count": 45,
   "id": "e26e1038-e227-435b-945d-e5c1498f2d82",
   "metadata": {},
   "outputs": [
    {
     "data": {
      "text/html": [
       "\n",
       "        <iframe\n",
       "            width=\"600\"\n",
       "            height=\"300\"\n",
       "            src=\"https://player.vimeo.com/video/694695566?h=f4e9910a9e\"\n",
       "            frameborder=\"0\"\n",
       "            allowfullscreen\n",
       "            \n",
       "        ></iframe>\n",
       "        "
      ],
      "text/plain": [
       "<IPython.lib.display.VimeoVideo at 0x7001eda68190>"
      ]
     },
     "execution_count": 45,
     "metadata": {},
     "output_type": "execute_result"
    }
   ],
   "source": [
    "VimeoVideo(\"694695566\", h=\"f4e9910a9e\", width=600)"
   ]
  },
  {
   "cell_type": "markdown",
   "id": "0c701d28-dad6-4133-9438-70e554761c35",
   "metadata": {},
   "source": [
    "**Task 5.3.10:** Fit `model` to the over-sampled training data."
   ]
  },
  {
   "cell_type": "code",
   "execution_count": 46,
   "id": "d8214070-07af-4b6d-bd08-012fe05136c1",
   "metadata": {},
   "outputs": [
    {
     "name": "stdout",
     "output_type": "stream",
     "text": [
      "Fitting 4 folds for each of 24 candidates, totalling 96 fits\n"
     ]
    },
    {
     "data": {
      "text/html": [
       "<style>#sk-container-id-6 {color: black;}#sk-container-id-6 pre{padding: 0;}#sk-container-id-6 div.sk-toggleable {background-color: white;}#sk-container-id-6 label.sk-toggleable__label {cursor: pointer;display: block;width: 100%;margin-bottom: 0;padding: 0.3em;box-sizing: border-box;text-align: center;}#sk-container-id-6 label.sk-toggleable__label-arrow:before {content: \"▸\";float: left;margin-right: 0.25em;color: #696969;}#sk-container-id-6 label.sk-toggleable__label-arrow:hover:before {color: black;}#sk-container-id-6 div.sk-estimator:hover label.sk-toggleable__label-arrow:before {color: black;}#sk-container-id-6 div.sk-toggleable__content {max-height: 0;max-width: 0;overflow: hidden;text-align: left;background-color: #f0f8ff;}#sk-container-id-6 div.sk-toggleable__content pre {margin: 0.2em;color: black;border-radius: 0.25em;background-color: #f0f8ff;}#sk-container-id-6 input.sk-toggleable__control:checked~div.sk-toggleable__content {max-height: 200px;max-width: 100%;overflow: auto;}#sk-container-id-6 input.sk-toggleable__control:checked~label.sk-toggleable__label-arrow:before {content: \"▾\";}#sk-container-id-6 div.sk-estimator input.sk-toggleable__control:checked~label.sk-toggleable__label {background-color: #d4ebff;}#sk-container-id-6 div.sk-label input.sk-toggleable__control:checked~label.sk-toggleable__label {background-color: #d4ebff;}#sk-container-id-6 input.sk-hidden--visually {border: 0;clip: rect(1px 1px 1px 1px);clip: rect(1px, 1px, 1px, 1px);height: 1px;margin: -1px;overflow: hidden;padding: 0;position: absolute;width: 1px;}#sk-container-id-6 div.sk-estimator {font-family: monospace;background-color: #f0f8ff;border: 1px dotted black;border-radius: 0.25em;box-sizing: border-box;margin-bottom: 0.5em;}#sk-container-id-6 div.sk-estimator:hover {background-color: #d4ebff;}#sk-container-id-6 div.sk-parallel-item::after {content: \"\";width: 100%;border-bottom: 1px solid gray;flex-grow: 1;}#sk-container-id-6 div.sk-label:hover label.sk-toggleable__label {background-color: #d4ebff;}#sk-container-id-6 div.sk-serial::before {content: \"\";position: absolute;border-left: 1px solid gray;box-sizing: border-box;top: 0;bottom: 0;left: 50%;z-index: 0;}#sk-container-id-6 div.sk-serial {display: flex;flex-direction: column;align-items: center;background-color: white;padding-right: 0.2em;padding-left: 0.2em;position: relative;}#sk-container-id-6 div.sk-item {position: relative;z-index: 1;}#sk-container-id-6 div.sk-parallel {display: flex;align-items: stretch;justify-content: center;background-color: white;position: relative;}#sk-container-id-6 div.sk-item::before, #sk-container-id-6 div.sk-parallel-item::before {content: \"\";position: absolute;border-left: 1px solid gray;box-sizing: border-box;top: 0;bottom: 0;left: 50%;z-index: -1;}#sk-container-id-6 div.sk-parallel-item {display: flex;flex-direction: column;z-index: 1;position: relative;background-color: white;}#sk-container-id-6 div.sk-parallel-item:first-child::after {align-self: flex-end;width: 50%;}#sk-container-id-6 div.sk-parallel-item:last-child::after {align-self: flex-start;width: 50%;}#sk-container-id-6 div.sk-parallel-item:only-child::after {width: 0;}#sk-container-id-6 div.sk-dashed-wrapped {border: 1px dashed gray;margin: 0 0.4em 0.5em 0.4em;box-sizing: border-box;padding-bottom: 0.4em;background-color: white;}#sk-container-id-6 div.sk-label label {font-family: monospace;font-weight: bold;display: inline-block;line-height: 1.2em;}#sk-container-id-6 div.sk-label-container {text-align: center;}#sk-container-id-6 div.sk-container {/* jupyter's `normalize.less` sets `[hidden] { display: none; }` but bootstrap.min.css set `[hidden] { display: none !important; }` so we also need the `!important` here to be able to override the default hidden behavior on the sphinx rendered scikit-learn.org. See: https://github.com/scikit-learn/scikit-learn/issues/21755 */display: inline-block !important;position: relative;}#sk-container-id-6 div.sk-text-repr-fallback {display: none;}</style><div id=\"sk-container-id-6\" class=\"sk-top-container\"><div class=\"sk-text-repr-fallback\"><pre>GridSearchCV(cv=4,\n",
       "             estimator=Pipeline(steps=[(&#x27;simpleimputer&#x27;, SimpleImputer()),\n",
       "                                       (&#x27;randomforestclassifier&#x27;,\n",
       "                                        RandomForestClassifier(random_state=42))]),\n",
       "             n_jobs=-1,\n",
       "             param_grid={&#x27;randomforestclassifier__max_depth&#x27;: range(10, 50, 10),\n",
       "                         &#x27;randomforestclassifier__n_estimators&#x27;: range(25, 100, 25),\n",
       "                         &#x27;simpleimputer__strategy&#x27;: [&#x27;mean&#x27;, &#x27;median&#x27;]},\n",
       "             verbose=1)</pre><b>In a Jupyter environment, please rerun this cell to show the HTML representation or trust the notebook. <br />On GitHub, the HTML representation is unable to render, please try loading this page with nbviewer.org.</b></div><div class=\"sk-container\" hidden><div class=\"sk-item sk-dashed-wrapped\"><div class=\"sk-label-container\"><div class=\"sk-label sk-toggleable\"><input class=\"sk-toggleable__control sk-hidden--visually\" id=\"sk-estimator-id-19\" type=\"checkbox\" ><label for=\"sk-estimator-id-19\" class=\"sk-toggleable__label sk-toggleable__label-arrow\">GridSearchCV</label><div class=\"sk-toggleable__content\"><pre>GridSearchCV(cv=4,\n",
       "             estimator=Pipeline(steps=[(&#x27;simpleimputer&#x27;, SimpleImputer()),\n",
       "                                       (&#x27;randomforestclassifier&#x27;,\n",
       "                                        RandomForestClassifier(random_state=42))]),\n",
       "             n_jobs=-1,\n",
       "             param_grid={&#x27;randomforestclassifier__max_depth&#x27;: range(10, 50, 10),\n",
       "                         &#x27;randomforestclassifier__n_estimators&#x27;: range(25, 100, 25),\n",
       "                         &#x27;simpleimputer__strategy&#x27;: [&#x27;mean&#x27;, &#x27;median&#x27;]},\n",
       "             verbose=1)</pre></div></div></div><div class=\"sk-parallel\"><div class=\"sk-parallel-item\"><div class=\"sk-item\"><div class=\"sk-label-container\"><div class=\"sk-label sk-toggleable\"><input class=\"sk-toggleable__control sk-hidden--visually\" id=\"sk-estimator-id-20\" type=\"checkbox\" ><label for=\"sk-estimator-id-20\" class=\"sk-toggleable__label sk-toggleable__label-arrow\">estimator: Pipeline</label><div class=\"sk-toggleable__content\"><pre>Pipeline(steps=[(&#x27;simpleimputer&#x27;, SimpleImputer()),\n",
       "                (&#x27;randomforestclassifier&#x27;,\n",
       "                 RandomForestClassifier(random_state=42))])</pre></div></div></div><div class=\"sk-serial\"><div class=\"sk-item\"><div class=\"sk-serial\"><div class=\"sk-item\"><div class=\"sk-estimator sk-toggleable\"><input class=\"sk-toggleable__control sk-hidden--visually\" id=\"sk-estimator-id-21\" type=\"checkbox\" ><label for=\"sk-estimator-id-21\" class=\"sk-toggleable__label sk-toggleable__label-arrow\">SimpleImputer</label><div class=\"sk-toggleable__content\"><pre>SimpleImputer()</pre></div></div></div><div class=\"sk-item\"><div class=\"sk-estimator sk-toggleable\"><input class=\"sk-toggleable__control sk-hidden--visually\" id=\"sk-estimator-id-22\" type=\"checkbox\" ><label for=\"sk-estimator-id-22\" class=\"sk-toggleable__label sk-toggleable__label-arrow\">RandomForestClassifier</label><div class=\"sk-toggleable__content\"><pre>RandomForestClassifier(random_state=42)</pre></div></div></div></div></div></div></div></div></div></div></div></div>"
      ],
      "text/plain": [
       "GridSearchCV(cv=4,\n",
       "             estimator=Pipeline(steps=[('simpleimputer', SimpleImputer()),\n",
       "                                       ('randomforestclassifier',\n",
       "                                        RandomForestClassifier(random_state=42))]),\n",
       "             n_jobs=-1,\n",
       "             param_grid={'randomforestclassifier__max_depth': range(10, 50, 10),\n",
       "                         'randomforestclassifier__n_estimators': range(25, 100, 25),\n",
       "                         'simpleimputer__strategy': ['mean', 'median']},\n",
       "             verbose=1)"
      ]
     },
     "execution_count": 46,
     "metadata": {},
     "output_type": "execute_result"
    }
   ],
   "source": [
    "model.fit(X_train_over,y_train_over)"
   ]
  },
  {
   "cell_type": "markdown",
   "id": "4faafd99-fd3a-49d5-b002-0d88170aecc6",
   "metadata": {},
   "source": [
    "This will take some time to train, so let's take a moment to think about why. How many forests did we just test? 4 different `max_depth`s times 3 `n_estimator`s times 2 imputation strategies... that makes 24 forests. How many fits did we just do? 24 forests times 5 folds is 120. And remember that each forest is comprised of 25-75 trees, which works out to *at least* 3,000 trees. So it's computationally expensive! \n",
    "\n",
    "Okay, now that we've tested all those models, let's take a look at the results."
   ]
  },
  {
   "cell_type": "code",
   "execution_count": 47,
   "id": "121ea0ba-8bce-452d-ba85-c42e2b294490",
   "metadata": {},
   "outputs": [
    {
     "data": {
      "text/html": [
       "\n",
       "        <iframe\n",
       "            width=\"600\"\n",
       "            height=\"300\"\n",
       "            src=\"https://player.vimeo.com/video/694695546?h=4ae60129c4\"\n",
       "            frameborder=\"0\"\n",
       "            allowfullscreen\n",
       "            \n",
       "        ></iframe>\n",
       "        "
      ],
      "text/plain": [
       "<IPython.lib.display.VimeoVideo at 0x7001ec898390>"
      ]
     },
     "execution_count": 47,
     "metadata": {},
     "output_type": "execute_result"
    }
   ],
   "source": [
    "VimeoVideo(\"694695546\", h=\"4ae60129c4\", width=600)"
   ]
  },
  {
   "cell_type": "markdown",
   "id": "9cb4b8fb-3422-486e-9c00-bb24a685ad3c",
   "metadata": {},
   "source": [
    "**Task 5.3.11:** Extract the cross-validation results from `model` and load them into a DataFrame named `cv_results`.\n",
    "\n",
    "- [Get cross-validation results from a hyperparameter search in scikit-learn.](../%40textbook/14-ml-classification.ipynb#Grid-Search)"
   ]
  },
  {
   "cell_type": "markdown",
   "id": "ce855361-5586-476e-8701-dcafa941947d",
   "metadata": {},
   "source": [
    "In addition to the accuracy scores for all the different models we tried during our grid search, we can see how long it took each model to train. Let's take a closer look at how different hyperparameter settings affect training time. \n",
    "\n",
    "First, we'll look at `n_estimators`. Our grid search evaluated this hyperparameter for various `max_depth` settings, but let's only look at models where `max_depth` equals 10."
   ]
  },
  {
   "cell_type": "code",
   "execution_count": 55,
   "id": "b1ab3fda-7d93-4dde-b9cd-69ec0885fb49",
   "metadata": {},
   "outputs": [
    {
     "data": {
      "text/html": [
       "<div>\n",
       "<style scoped>\n",
       "    .dataframe tbody tr th:only-of-type {\n",
       "        vertical-align: middle;\n",
       "    }\n",
       "\n",
       "    .dataframe tbody tr th {\n",
       "        vertical-align: top;\n",
       "    }\n",
       "\n",
       "    .dataframe thead th {\n",
       "        text-align: right;\n",
       "    }\n",
       "</style>\n",
       "<table border=\"1\" class=\"dataframe\">\n",
       "  <thead>\n",
       "    <tr style=\"text-align: right;\">\n",
       "      <th></th>\n",
       "      <th>mean_fit_time</th>\n",
       "      <th>std_fit_time</th>\n",
       "      <th>mean_score_time</th>\n",
       "      <th>std_score_time</th>\n",
       "      <th>param_randomforestclassifier__max_depth</th>\n",
       "      <th>param_randomforestclassifier__n_estimators</th>\n",
       "      <th>param_simpleimputer__strategy</th>\n",
       "      <th>params</th>\n",
       "      <th>split0_test_score</th>\n",
       "      <th>split1_test_score</th>\n",
       "      <th>split2_test_score</th>\n",
       "      <th>split3_test_score</th>\n",
       "      <th>mean_test_score</th>\n",
       "      <th>std_test_score</th>\n",
       "      <th>rank_test_score</th>\n",
       "    </tr>\n",
       "  </thead>\n",
       "  <tbody>\n",
       "    <tr>\n",
       "      <th>0</th>\n",
       "      <td>1.129381</td>\n",
       "      <td>0.014046</td>\n",
       "      <td>0.013162</td>\n",
       "      <td>0.000215</td>\n",
       "      <td>10</td>\n",
       "      <td>25</td>\n",
       "      <td>mean</td>\n",
       "      <td>{'randomforestclassifier__max_depth': 10, 'ran...</td>\n",
       "      <td>0.978415</td>\n",
       "      <td>0.980258</td>\n",
       "      <td>0.977883</td>\n",
       "      <td>0.985255</td>\n",
       "      <td>0.980453</td>\n",
       "      <td>0.002909</td>\n",
       "      <td>21</td>\n",
       "    </tr>\n",
       "    <tr>\n",
       "      <th>1</th>\n",
       "      <td>1.221111</td>\n",
       "      <td>0.024424</td>\n",
       "      <td>0.014268</td>\n",
       "      <td>0.001619</td>\n",
       "      <td>10</td>\n",
       "      <td>25</td>\n",
       "      <td>median</td>\n",
       "      <td>{'randomforestclassifier__max_depth': 10, 'ran...</td>\n",
       "      <td>0.977626</td>\n",
       "      <td>0.973151</td>\n",
       "      <td>0.972617</td>\n",
       "      <td>0.973934</td>\n",
       "      <td>0.974332</td>\n",
       "      <td>0.001959</td>\n",
       "      <td>24</td>\n",
       "    </tr>\n",
       "    <tr>\n",
       "      <th>2</th>\n",
       "      <td>2.429053</td>\n",
       "      <td>0.197866</td>\n",
       "      <td>0.030375</td>\n",
       "      <td>0.010343</td>\n",
       "      <td>10</td>\n",
       "      <td>50</td>\n",
       "      <td>mean</td>\n",
       "      <td>{'randomforestclassifier__max_depth': 10, 'ran...</td>\n",
       "      <td>0.981048</td>\n",
       "      <td>0.978679</td>\n",
       "      <td>0.978146</td>\n",
       "      <td>0.985519</td>\n",
       "      <td>0.980848</td>\n",
       "      <td>0.002909</td>\n",
       "      <td>20</td>\n",
       "    </tr>\n",
       "    <tr>\n",
       "      <th>3</th>\n",
       "      <td>2.325534</td>\n",
       "      <td>0.013814</td>\n",
       "      <td>0.022846</td>\n",
       "      <td>0.000558</td>\n",
       "      <td>10</td>\n",
       "      <td>50</td>\n",
       "      <td>median</td>\n",
       "      <td>{'randomforestclassifier__max_depth': 10, 'ran...</td>\n",
       "      <td>0.980784</td>\n",
       "      <td>0.974204</td>\n",
       "      <td>0.976567</td>\n",
       "      <td>0.978146</td>\n",
       "      <td>0.977425</td>\n",
       "      <td>0.002394</td>\n",
       "      <td>23</td>\n",
       "    </tr>\n",
       "    <tr>\n",
       "      <th>4</th>\n",
       "      <td>3.402448</td>\n",
       "      <td>0.032034</td>\n",
       "      <td>0.031060</td>\n",
       "      <td>0.001134</td>\n",
       "      <td>10</td>\n",
       "      <td>75</td>\n",
       "      <td>mean</td>\n",
       "      <td>{'randomforestclassifier__max_depth': 10, 'ran...</td>\n",
       "      <td>0.983417</td>\n",
       "      <td>0.980258</td>\n",
       "      <td>0.977883</td>\n",
       "      <td>0.984729</td>\n",
       "      <td>0.981572</td>\n",
       "      <td>0.002679</td>\n",
       "      <td>19</td>\n",
       "    </tr>\n",
       "    <tr>\n",
       "      <th>5</th>\n",
       "      <td>3.469653</td>\n",
       "      <td>0.050840</td>\n",
       "      <td>0.031823</td>\n",
       "      <td>0.000380</td>\n",
       "      <td>10</td>\n",
       "      <td>75</td>\n",
       "      <td>median</td>\n",
       "      <td>{'randomforestclassifier__max_depth': 10, 'ran...</td>\n",
       "      <td>0.981837</td>\n",
       "      <td>0.976310</td>\n",
       "      <td>0.975513</td>\n",
       "      <td>0.979463</td>\n",
       "      <td>0.978281</td>\n",
       "      <td>0.002529</td>\n",
       "      <td>22</td>\n",
       "    </tr>\n",
       "    <tr>\n",
       "      <th>6</th>\n",
       "      <td>1.272705</td>\n",
       "      <td>0.026493</td>\n",
       "      <td>0.015639</td>\n",
       "      <td>0.000484</td>\n",
       "      <td>20</td>\n",
       "      <td>25</td>\n",
       "      <td>mean</td>\n",
       "      <td>{'randomforestclassifier__max_depth': 20, 'ran...</td>\n",
       "      <td>0.996315</td>\n",
       "      <td>0.995525</td>\n",
       "      <td>0.995261</td>\n",
       "      <td>0.997630</td>\n",
       "      <td>0.996183</td>\n",
       "      <td>0.000921</td>\n",
       "      <td>18</td>\n",
       "    </tr>\n",
       "    <tr>\n",
       "      <th>7</th>\n",
       "      <td>1.344780</td>\n",
       "      <td>0.014513</td>\n",
       "      <td>0.016878</td>\n",
       "      <td>0.002563</td>\n",
       "      <td>20</td>\n",
       "      <td>25</td>\n",
       "      <td>median</td>\n",
       "      <td>{'randomforestclassifier__max_depth': 20, 'ran...</td>\n",
       "      <td>0.995788</td>\n",
       "      <td>0.996052</td>\n",
       "      <td>0.996051</td>\n",
       "      <td>0.997367</td>\n",
       "      <td>0.996314</td>\n",
       "      <td>0.000617</td>\n",
       "      <td>16</td>\n",
       "    </tr>\n",
       "    <tr>\n",
       "      <th>8</th>\n",
       "      <td>2.551503</td>\n",
       "      <td>0.058338</td>\n",
       "      <td>0.026297</td>\n",
       "      <td>0.000392</td>\n",
       "      <td>20</td>\n",
       "      <td>50</td>\n",
       "      <td>mean</td>\n",
       "      <td>{'randomforestclassifier__max_depth': 20, 'ran...</td>\n",
       "      <td>0.996315</td>\n",
       "      <td>0.996315</td>\n",
       "      <td>0.995261</td>\n",
       "      <td>0.997104</td>\n",
       "      <td>0.996249</td>\n",
       "      <td>0.000655</td>\n",
       "      <td>17</td>\n",
       "    </tr>\n",
       "    <tr>\n",
       "      <th>9</th>\n",
       "      <td>2.619034</td>\n",
       "      <td>0.019159</td>\n",
       "      <td>0.026803</td>\n",
       "      <td>0.000638</td>\n",
       "      <td>20</td>\n",
       "      <td>50</td>\n",
       "      <td>median</td>\n",
       "      <td>{'randomforestclassifier__max_depth': 20, 'ran...</td>\n",
       "      <td>0.996052</td>\n",
       "      <td>0.997368</td>\n",
       "      <td>0.996314</td>\n",
       "      <td>0.997894</td>\n",
       "      <td>0.996907</td>\n",
       "      <td>0.000753</td>\n",
       "      <td>12</td>\n",
       "    </tr>\n",
       "  </tbody>\n",
       "</table>\n",
       "</div>"
      ],
      "text/plain": [
       "   mean_fit_time  std_fit_time  mean_score_time  std_score_time  \\\n",
       "0       1.129381      0.014046         0.013162        0.000215   \n",
       "1       1.221111      0.024424         0.014268        0.001619   \n",
       "2       2.429053      0.197866         0.030375        0.010343   \n",
       "3       2.325534      0.013814         0.022846        0.000558   \n",
       "4       3.402448      0.032034         0.031060        0.001134   \n",
       "5       3.469653      0.050840         0.031823        0.000380   \n",
       "6       1.272705      0.026493         0.015639        0.000484   \n",
       "7       1.344780      0.014513         0.016878        0.002563   \n",
       "8       2.551503      0.058338         0.026297        0.000392   \n",
       "9       2.619034      0.019159         0.026803        0.000638   \n",
       "\n",
       "  param_randomforestclassifier__max_depth  \\\n",
       "0                                      10   \n",
       "1                                      10   \n",
       "2                                      10   \n",
       "3                                      10   \n",
       "4                                      10   \n",
       "5                                      10   \n",
       "6                                      20   \n",
       "7                                      20   \n",
       "8                                      20   \n",
       "9                                      20   \n",
       "\n",
       "  param_randomforestclassifier__n_estimators param_simpleimputer__strategy  \\\n",
       "0                                         25                          mean   \n",
       "1                                         25                        median   \n",
       "2                                         50                          mean   \n",
       "3                                         50                        median   \n",
       "4                                         75                          mean   \n",
       "5                                         75                        median   \n",
       "6                                         25                          mean   \n",
       "7                                         25                        median   \n",
       "8                                         50                          mean   \n",
       "9                                         50                        median   \n",
       "\n",
       "                                              params  split0_test_score  \\\n",
       "0  {'randomforestclassifier__max_depth': 10, 'ran...           0.978415   \n",
       "1  {'randomforestclassifier__max_depth': 10, 'ran...           0.977626   \n",
       "2  {'randomforestclassifier__max_depth': 10, 'ran...           0.981048   \n",
       "3  {'randomforestclassifier__max_depth': 10, 'ran...           0.980784   \n",
       "4  {'randomforestclassifier__max_depth': 10, 'ran...           0.983417   \n",
       "5  {'randomforestclassifier__max_depth': 10, 'ran...           0.981837   \n",
       "6  {'randomforestclassifier__max_depth': 20, 'ran...           0.996315   \n",
       "7  {'randomforestclassifier__max_depth': 20, 'ran...           0.995788   \n",
       "8  {'randomforestclassifier__max_depth': 20, 'ran...           0.996315   \n",
       "9  {'randomforestclassifier__max_depth': 20, 'ran...           0.996052   \n",
       "\n",
       "   split1_test_score  split2_test_score  split3_test_score  mean_test_score  \\\n",
       "0           0.980258           0.977883           0.985255         0.980453   \n",
       "1           0.973151           0.972617           0.973934         0.974332   \n",
       "2           0.978679           0.978146           0.985519         0.980848   \n",
       "3           0.974204           0.976567           0.978146         0.977425   \n",
       "4           0.980258           0.977883           0.984729         0.981572   \n",
       "5           0.976310           0.975513           0.979463         0.978281   \n",
       "6           0.995525           0.995261           0.997630         0.996183   \n",
       "7           0.996052           0.996051           0.997367         0.996314   \n",
       "8           0.996315           0.995261           0.997104         0.996249   \n",
       "9           0.997368           0.996314           0.997894         0.996907   \n",
       "\n",
       "   std_test_score  rank_test_score  \n",
       "0        0.002909               21  \n",
       "1        0.001959               24  \n",
       "2        0.002909               20  \n",
       "3        0.002394               23  \n",
       "4        0.002679               19  \n",
       "5        0.002529               22  \n",
       "6        0.000921               18  \n",
       "7        0.000617               16  \n",
       "8        0.000655               17  \n",
       "9        0.000753               12  "
      ]
     },
     "execution_count": 55,
     "metadata": {},
     "output_type": "execute_result"
    }
   ],
   "source": [
    "cv_results=pd.DataFrame(model.cv_results_)\n",
    "cv_results.head(10)"
   ]
  },
  {
   "cell_type": "code",
   "execution_count": 56,
   "id": "66bb3596-4577-42a9-92c1-38d428dbc980",
   "metadata": {},
   "outputs": [
    {
     "data": {
      "text/html": [
       "<div>\n",
       "<style scoped>\n",
       "    .dataframe tbody tr th:only-of-type {\n",
       "        vertical-align: middle;\n",
       "    }\n",
       "\n",
       "    .dataframe tbody tr th {\n",
       "        vertical-align: top;\n",
       "    }\n",
       "\n",
       "    .dataframe thead th {\n",
       "        text-align: right;\n",
       "    }\n",
       "</style>\n",
       "<table border=\"1\" class=\"dataframe\">\n",
       "  <thead>\n",
       "    <tr style=\"text-align: right;\">\n",
       "      <th></th>\n",
       "      <th>mean_fit_time</th>\n",
       "      <th>std_fit_time</th>\n",
       "      <th>mean_score_time</th>\n",
       "      <th>std_score_time</th>\n",
       "      <th>param_randomforestclassifier__max_depth</th>\n",
       "      <th>param_randomforestclassifier__n_estimators</th>\n",
       "      <th>param_simpleimputer__strategy</th>\n",
       "      <th>params</th>\n",
       "      <th>split0_test_score</th>\n",
       "      <th>split1_test_score</th>\n",
       "      <th>split2_test_score</th>\n",
       "      <th>split3_test_score</th>\n",
       "      <th>mean_test_score</th>\n",
       "      <th>std_test_score</th>\n",
       "      <th>rank_test_score</th>\n",
       "    </tr>\n",
       "  </thead>\n",
       "  <tbody>\n",
       "    <tr>\n",
       "      <th>0</th>\n",
       "      <td>1.129381</td>\n",
       "      <td>0.014046</td>\n",
       "      <td>0.013162</td>\n",
       "      <td>0.000215</td>\n",
       "      <td>10</td>\n",
       "      <td>25</td>\n",
       "      <td>mean</td>\n",
       "      <td>{'randomforestclassifier__max_depth': 10, 'ran...</td>\n",
       "      <td>0.978415</td>\n",
       "      <td>0.980258</td>\n",
       "      <td>0.977883</td>\n",
       "      <td>0.985255</td>\n",
       "      <td>0.980453</td>\n",
       "      <td>0.002909</td>\n",
       "      <td>21</td>\n",
       "    </tr>\n",
       "    <tr>\n",
       "      <th>1</th>\n",
       "      <td>1.221111</td>\n",
       "      <td>0.024424</td>\n",
       "      <td>0.014268</td>\n",
       "      <td>0.001619</td>\n",
       "      <td>10</td>\n",
       "      <td>25</td>\n",
       "      <td>median</td>\n",
       "      <td>{'randomforestclassifier__max_depth': 10, 'ran...</td>\n",
       "      <td>0.977626</td>\n",
       "      <td>0.973151</td>\n",
       "      <td>0.972617</td>\n",
       "      <td>0.973934</td>\n",
       "      <td>0.974332</td>\n",
       "      <td>0.001959</td>\n",
       "      <td>24</td>\n",
       "    </tr>\n",
       "    <tr>\n",
       "      <th>2</th>\n",
       "      <td>2.429053</td>\n",
       "      <td>0.197866</td>\n",
       "      <td>0.030375</td>\n",
       "      <td>0.010343</td>\n",
       "      <td>10</td>\n",
       "      <td>50</td>\n",
       "      <td>mean</td>\n",
       "      <td>{'randomforestclassifier__max_depth': 10, 'ran...</td>\n",
       "      <td>0.981048</td>\n",
       "      <td>0.978679</td>\n",
       "      <td>0.978146</td>\n",
       "      <td>0.985519</td>\n",
       "      <td>0.980848</td>\n",
       "      <td>0.002909</td>\n",
       "      <td>20</td>\n",
       "    </tr>\n",
       "    <tr>\n",
       "      <th>3</th>\n",
       "      <td>2.325534</td>\n",
       "      <td>0.013814</td>\n",
       "      <td>0.022846</td>\n",
       "      <td>0.000558</td>\n",
       "      <td>10</td>\n",
       "      <td>50</td>\n",
       "      <td>median</td>\n",
       "      <td>{'randomforestclassifier__max_depth': 10, 'ran...</td>\n",
       "      <td>0.980784</td>\n",
       "      <td>0.974204</td>\n",
       "      <td>0.976567</td>\n",
       "      <td>0.978146</td>\n",
       "      <td>0.977425</td>\n",
       "      <td>0.002394</td>\n",
       "      <td>23</td>\n",
       "    </tr>\n",
       "    <tr>\n",
       "      <th>4</th>\n",
       "      <td>3.402448</td>\n",
       "      <td>0.032034</td>\n",
       "      <td>0.031060</td>\n",
       "      <td>0.001134</td>\n",
       "      <td>10</td>\n",
       "      <td>75</td>\n",
       "      <td>mean</td>\n",
       "      <td>{'randomforestclassifier__max_depth': 10, 'ran...</td>\n",
       "      <td>0.983417</td>\n",
       "      <td>0.980258</td>\n",
       "      <td>0.977883</td>\n",
       "      <td>0.984729</td>\n",
       "      <td>0.981572</td>\n",
       "      <td>0.002679</td>\n",
       "      <td>19</td>\n",
       "    </tr>\n",
       "    <tr>\n",
       "      <th>5</th>\n",
       "      <td>3.469653</td>\n",
       "      <td>0.050840</td>\n",
       "      <td>0.031823</td>\n",
       "      <td>0.000380</td>\n",
       "      <td>10</td>\n",
       "      <td>75</td>\n",
       "      <td>median</td>\n",
       "      <td>{'randomforestclassifier__max_depth': 10, 'ran...</td>\n",
       "      <td>0.981837</td>\n",
       "      <td>0.976310</td>\n",
       "      <td>0.975513</td>\n",
       "      <td>0.979463</td>\n",
       "      <td>0.978281</td>\n",
       "      <td>0.002529</td>\n",
       "      <td>22</td>\n",
       "    </tr>\n",
       "  </tbody>\n",
       "</table>\n",
       "</div>"
      ],
      "text/plain": [
       "   mean_fit_time  std_fit_time  mean_score_time  std_score_time  \\\n",
       "0       1.129381      0.014046         0.013162        0.000215   \n",
       "1       1.221111      0.024424         0.014268        0.001619   \n",
       "2       2.429053      0.197866         0.030375        0.010343   \n",
       "3       2.325534      0.013814         0.022846        0.000558   \n",
       "4       3.402448      0.032034         0.031060        0.001134   \n",
       "5       3.469653      0.050840         0.031823        0.000380   \n",
       "\n",
       "  param_randomforestclassifier__max_depth  \\\n",
       "0                                      10   \n",
       "1                                      10   \n",
       "2                                      10   \n",
       "3                                      10   \n",
       "4                                      10   \n",
       "5                                      10   \n",
       "\n",
       "  param_randomforestclassifier__n_estimators param_simpleimputer__strategy  \\\n",
       "0                                         25                          mean   \n",
       "1                                         25                        median   \n",
       "2                                         50                          mean   \n",
       "3                                         50                        median   \n",
       "4                                         75                          mean   \n",
       "5                                         75                        median   \n",
       "\n",
       "                                              params  split0_test_score  \\\n",
       "0  {'randomforestclassifier__max_depth': 10, 'ran...           0.978415   \n",
       "1  {'randomforestclassifier__max_depth': 10, 'ran...           0.977626   \n",
       "2  {'randomforestclassifier__max_depth': 10, 'ran...           0.981048   \n",
       "3  {'randomforestclassifier__max_depth': 10, 'ran...           0.980784   \n",
       "4  {'randomforestclassifier__max_depth': 10, 'ran...           0.983417   \n",
       "5  {'randomforestclassifier__max_depth': 10, 'ran...           0.981837   \n",
       "\n",
       "   split1_test_score  split2_test_score  split3_test_score  mean_test_score  \\\n",
       "0           0.980258           0.977883           0.985255         0.980453   \n",
       "1           0.973151           0.972617           0.973934         0.974332   \n",
       "2           0.978679           0.978146           0.985519         0.980848   \n",
       "3           0.974204           0.976567           0.978146         0.977425   \n",
       "4           0.980258           0.977883           0.984729         0.981572   \n",
       "5           0.976310           0.975513           0.979463         0.978281   \n",
       "\n",
       "   std_test_score  rank_test_score  \n",
       "0        0.002909               21  \n",
       "1        0.001959               24  \n",
       "2        0.002909               20  \n",
       "3        0.002394               23  \n",
       "4        0.002679               19  \n",
       "5        0.002529               22  "
      ]
     },
     "execution_count": 56,
     "metadata": {},
     "output_type": "execute_result"
    }
   ],
   "source": [
    "mask=cv_results[\"param_randomforestclassifier__max_depth\"]==10\n",
    "cv_results[mask]"
   ]
  },
  {
   "cell_type": "code",
   "execution_count": 50,
   "id": "ad9ea59f-4479-47c9-bd88-5ac324150a8a",
   "metadata": {},
   "outputs": [
    {
     "data": {
      "text/html": [
       "\n",
       "        <iframe\n",
       "            width=\"600\"\n",
       "            height=\"300\"\n",
       "            src=\"https://player.vimeo.com/video/694695537?h=e460435664\"\n",
       "            frameborder=\"0\"\n",
       "            allowfullscreen\n",
       "            \n",
       "        ></iframe>\n",
       "        "
      ],
      "text/plain": [
       "<IPython.lib.display.VimeoVideo at 0x7001eda5be90>"
      ]
     },
     "execution_count": 50,
     "metadata": {},
     "output_type": "execute_result"
    }
   ],
   "source": [
    "VimeoVideo(\"694695537\", h=\"e460435664\", width=600)"
   ]
  },
  {
   "cell_type": "markdown",
   "id": "0c189c09-8a8c-474d-8f26-ea4175fde382",
   "metadata": {},
   "source": [
    "**Task 5.3.12:** Create a mask for `cv_results` for rows where `\"param_randomforestclassifier__max_depth\"` equals 10. Then plot `\"param_randomforestclassifier__n_estimators\"` on the x-axis and `\"mean_fit_time\"` on the y-axis. Don't forget to label your axes and include a title. \n",
    "\n",
    "- [Subset a DataFrame with a mask using pandas.](../%40textbook/04-pandas-advanced.ipynb)\n",
    "- [Create a line plot in Matplotlib.](../%40textbook/06-visualization-matplotlib.ipynb)"
   ]
  },
  {
   "cell_type": "code",
   "execution_count": 57,
   "id": "a34c23f8-79aa-41e3-b140-39df4a61c7e7",
   "metadata": {},
   "outputs": [
    {
     "data": {
      "image/png": "[encoded data removed]",
      "text/plain": [
       "<Figure size 640x480 with 1 Axes>"
      ]
     },
     "metadata": {},
     "output_type": "display_data"
    }
   ],
   "source": [
    "# Create mask\n",
    "mask=cv_results[\"param_randomforestclassifier__max_depth\"]==10\n",
    "# Plot fit time vs n_estimators\n",
    "plt.plot(\n",
    "    cv_results[mask][\"param_randomforestclassifier__n_estimators\"],\n",
    "    cv_results[mask][\"mean_fit_time\"]\n",
    ")\n",
    "# Label axes\n",
    "plt.xlabel(\"Number of Estimators\")\n",
    "plt.ylabel(\"Mean Fit Time [seconds]\")\n",
    "plt.title(\"Training Time vs Estimators (max_depth=10)\");"
   ]
  },
  {
   "cell_type": "markdown",
   "id": "9e6bf12e-b7c0-4e67-9181-f74e18a199f0",
   "metadata": {},
   "source": [
    "Next, we'll look at `max_depth`. Here, we'll also limit our data to rows where `n_estimators` equals 25."
   ]
  },
  {
   "cell_type": "code",
   "execution_count": 52,
   "id": "f87c4c61-d6b8-476c-86bd-5404b63b8372",
   "metadata": {},
   "outputs": [
    {
     "data": {
      "text/html": [
       "\n",
       "        <iframe\n",
       "            width=\"600\"\n",
       "            height=\"300\"\n",
       "            src=\"https://player.vimeo.com/video/694695525?h=99f2dfc9eb\"\n",
       "            frameborder=\"0\"\n",
       "            allowfullscreen\n",
       "            \n",
       "        ></iframe>\n",
       "        "
      ],
      "text/plain": [
       "<IPython.lib.display.VimeoVideo at 0x7001ef1f8510>"
      ]
     },
     "execution_count": 52,
     "metadata": {},
     "output_type": "execute_result"
    }
   ],
   "source": [
    "VimeoVideo(\"694695525\", h=\"99f2dfc9eb\", width=600)"
   ]
  },
  {
   "cell_type": "markdown",
   "id": "6aec1af3-6701-452c-a149-fa67904fec79",
   "metadata": {},
   "source": [
    "**Task 5.3.13:** Create a mask for `cv_results` for rows where `\"param_randomforestclassifier__n_estimators\"` equals 25. Then plot `\"param_randomforestclassifier__max_depth\"` on the x-axis and `\"mean_fit_time\"` on the y-axis. Don't forget to label your axes and include a title. \n",
    "\n",
    "- [Subset a DataFrame with a mask using pandas.](../%40textbook/04-pandas-advanced.ipynb)\n",
    "- [Create a line plot in Matplotlib.](../%40textbook/06-visualization-matplotlib.ipynb)"
   ]
  },
  {
   "cell_type": "code",
   "execution_count": 58,
   "id": "c68f27d4-ca7a-4572-b29f-98e884802d56",
   "metadata": {},
   "outputs": [
    {
     "data": {
      "image/png": "[encoded data removed]",
      "text/plain": [
       "<Figure size 640x480 with 1 Axes>"
      ]
     },
     "metadata": {},
     "output_type": "display_data"
    }
   ],
   "source": [
    "# Create mask\n",
    "\n",
    "mask = cv_results[\"param_randomforestclassifier__n_estimators\"]==25\n",
    "# Plot fit time vs max_depth\n",
    "plt.plot(\n",
    "    cv_results[mask][\"param_randomforestclassifier__max_depth\"],\n",
    "    cv_results[mask][\"mean_fit_time\"]\n",
    ")\n",
    "\n",
    "# Label axes\n",
    "plt.xlabel(\"Max Depth\")\n",
    "plt.ylabel(\"Mean Fit Time [seconds]\")\n",
    "plt.title(\"Training Time vs Max Depth (n_estimators=25)\");"
   ]
  },
  {
   "cell_type": "markdown",
   "id": "fea4fdf4-0b13-4b5f-8287-f10445ccc3a6",
   "metadata": {},
   "source": [
    "There's a general upwards trend, but we see a lot of up-and-down here. That's because for each max depth, grid search tries two different imputation strategies: mean and median. Median is a lot faster to calculate, so that speeds up training time. \n",
    "\n",
    "Finally, let's look at the hyperparameters that led to the best performance. "
   ]
  },
  {
   "cell_type": "code",
   "execution_count": 25,
   "id": "b9681033-537f-4438-b67a-0290419a4dad",
   "metadata": {},
   "outputs": [
    {
     "data": {
      "text/html": [
       "\n",
       "        <iframe\n",
       "            width=\"600\"\n",
       "            height=\"300\"\n",
       "            src=\"https://player.vimeo.com/video/694695505?h=f98f660ce1\"\n",
       "            frameborder=\"0\"\n",
       "            allowfullscreen\n",
       "            \n",
       "        ></iframe>\n",
       "        "
      ],
      "text/plain": [
       "<IPython.lib.display.VimeoVideo at 0x7001ed7b1650>"
      ]
     },
     "execution_count": 25,
     "metadata": {},
     "output_type": "execute_result"
    }
   ],
   "source": [
    "VimeoVideo(\"694695505\", h=\"f98f660ce1\", width=600)"
   ]
  },
  {
   "cell_type": "markdown",
   "id": "dcfe1215-0bd9-42b7-ba5f-081b6cc05dcb",
   "metadata": {},
   "source": [
    "**Task 5.3.14:** Extract the best hyperparameters from `model`.\n",
    "\n",
    "- [Get settings from a hyperparameter search in scikit-learn.](../%40textbook/14-ml-classification.ipynb#Cross-Validation)"
   ]
  },
  {
   "cell_type": "code",
   "execution_count": 61,
   "id": "a2962383-7d9e-4ac0-81b5-78c934e0d05c",
   "metadata": {},
   "outputs": [
    {
     "data": {
      "text/plain": [
       "array([False, False, False, ...,  True,  True,  True])"
      ]
     },
     "execution_count": 61,
     "metadata": {},
     "output_type": "execute_result"
    }
   ],
   "source": [
    "model.predict(X_train_over)"
   ]
  },
  {
   "cell_type": "code",
   "execution_count": 59,
   "id": "282a14d4-dddf-4042-b18e-229b46ce5e1b",
   "metadata": {},
   "outputs": [
    {
     "data": {
      "text/plain": [
       "{'randomforestclassifier__max_depth': 30,\n",
       " 'randomforestclassifier__n_estimators': 50,\n",
       " 'simpleimputer__strategy': 'mean'}"
      ]
     },
     "execution_count": 59,
     "metadata": {},
     "output_type": "execute_result"
    }
   ],
   "source": [
    "# Extract best hyperparameters\n",
    "model.best_params_"
   ]
  },
  {
   "cell_type": "markdown",
   "id": "acf32ded-07fb-4452-a439-ac94055ba3b0",
   "metadata": {},
   "source": [
    "Note that we don't need to build and train a new model with these settings. Now that the grid search is complete, when we use `model.predict()`, it will serve up predictions using the best model — something that we'll do at the end of this lesson."
   ]
  },
  {
   "cell_type": "markdown",
   "id": "3aaaaa92-edfe-4e33-b7e8-aa3f076ed00a",
   "metadata": {},
   "source": [
    "## Evaluate"
   ]
  },
  {
   "cell_type": "markdown",
   "id": "087b3534-2488-4b78-bdd0-dfd441b558f9",
   "metadata": {},
   "source": [
    "All right: The moment of truth. Let's see how our model performs."
   ]
  },
  {
   "cell_type": "markdown",
   "id": "a805626d-6ad2-456b-86cc-3cc2c0b4f756",
   "metadata": {},
   "source": [
    "**Task 5.3.15:** Calculate the training and test accuracy scores for `model`. \n",
    "\n",
    "- [<span id='technique'>Calculate the accuracy score for a model in <span id='term'>scikit-learn</span></span>.](../%40textbook/14-ml-classification.ipynb#Calculating-Accuracy-Score)"
   ]
  },
  {
   "cell_type": "code",
   "execution_count": 64,
   "id": "c20b2755-83b4-4b06-a5a0-ba73ff92e108",
   "metadata": {},
   "outputs": [
    {
     "name": "stdout",
     "output_type": "stream",
     "text": [
      "Training Accuracy: 1.0\n",
      "Test Accuracy: 0.9614\n"
     ]
    }
   ],
   "source": [
    "acc_train =model.score(X_train,y_train)\n",
    "acc_test =model.score(X_test,y_test)\n",
    "\n",
    "print(\"Training Accuracy:\", round(acc_train, 4))\n",
    "print(\"Test Accuracy:\", round(acc_test, 4))"
   ]
  },
  {
   "cell_type": "markdown",
   "id": "c36a4347-0dfa-431e-8a02-de12eacde35b",
   "metadata": {},
   "source": [
    "We beat the baseline! Just barely, but we beat it. "
   ]
  },
  {
   "cell_type": "markdown",
   "id": "36e54aae-4580-483d-bbb5-d8b70dd25572",
   "metadata": {},
   "source": [
    "Next, we're going to use a confusion matrix to see how our model performs. To better understand the values we'll see in the matrix, let's first count how many observations in our test set belong to the positive and negative classes. "
   ]
  },
  {
   "cell_type": "code",
   "execution_count": 65,
   "id": "dfa2b41c-02a0-4a36-8a99-9e515b211d3f",
   "metadata": {},
   "outputs": [
    {
     "data": {
      "text/plain": [
       "False    1913\n",
       "True       83\n",
       "Name: bankrupt, dtype: int64"
      ]
     },
     "execution_count": 65,
     "metadata": {},
     "output_type": "execute_result"
    }
   ],
   "source": [
    "y_test.value_counts()"
   ]
  },
  {
   "cell_type": "code",
   "execution_count": 62,
   "id": "19597e4f-1db4-4e5f-a273-df994676ae5d",
   "metadata": {},
   "outputs": [
    {
     "data": {
      "text/html": [
       "\n",
       "        <iframe\n",
       "            width=\"600\"\n",
       "            height=\"300\"\n",
       "            src=\"https://player.vimeo.com/video/694695486?h=1d6ac2bf77\"\n",
       "            frameborder=\"0\"\n",
       "            allowfullscreen\n",
       "            \n",
       "        ></iframe>\n",
       "        "
      ],
      "text/plain": [
       "<IPython.lib.display.VimeoVideo at 0x7001ed7aa910>"
      ]
     },
     "execution_count": 62,
     "metadata": {},
     "output_type": "execute_result"
    }
   ],
   "source": [
    "VimeoVideo(\"694695486\", h=\"1d6ac2bf77\", width=600)"
   ]
  },
  {
   "cell_type": "markdown",
   "id": "8552562a-c27a-462f-b99b-637c2e7d2da7",
   "metadata": {},
   "source": [
    "**Task 5.3.16:** Plot a confusion matrix that shows how your best model performs on your test set. \n",
    "\n",
    "- [What's a confusion matrix?](../%40textbook/14-ml-classification.ipynb#Confusion-Matrix)\n",
    "- [Create a confusion matrix using scikit-learn.](../%40textbook/14-ml-classification.ipynb#Confusion-Matrix) "
   ]
  },
  {
   "cell_type": "code",
   "execution_count": 66,
   "id": "5d5cb2c9-d296-4363-b26c-240cc71f51a3",
   "metadata": {},
   "outputs": [
    {
     "data": {
      "text/plain": [
       "<sklearn.metrics._plot.confusion_matrix.ConfusionMatrixDisplay at 0x7001ed8598d0>"
      ]
     },
     "execution_count": 66,
     "metadata": {},
     "output_type": "execute_result"
    },
    {
     "data": {
      "image/png": "[encoded data removed]",
      "text/plain": [
       "<Figure size 640x480 with 2 Axes>"
      ]
     },
     "metadata": {},
     "output_type": "display_data"
    }
   ],
   "source": [
    "# Plot confusion matrix\n",
    "ConfusionMatrixDisplay.from_estimator(model,X_test,y_test)"
   ]
  },
  {
   "cell_type": "markdown",
   "id": "967aca43-c5a3-47fd-b814-54c905897c0f",
   "metadata": {},
   "source": [
    "Notice the relationship between the numbers in this matrix with the count you did the previous task. If you sum the values in the bottom row, you get the total number of positive observations in `y_test` ($72 + 11 = 83$). And the top row sum to the number of negative observations ($1903 + 10 = 1913$)."
   ]
  },
  {
   "cell_type": "markdown",
   "id": "faac53ee-1a0e-423b-b68e-e85cce11bfc9",
   "metadata": {},
   "source": [
    "# Communicate"
   ]
  },
  {
   "cell_type": "code",
   "execution_count": 67,
   "id": "dcc8a047-c831-4f31-bc75-8d8b785e8bf4",
   "metadata": {},
   "outputs": [
    {
     "data": {
      "text/html": [
       "\n",
       "        <iframe\n",
       "            width=\"600\"\n",
       "            height=\"300\"\n",
       "            src=\"https://player.vimeo.com/video/698358615?h=3fd4b2186a\"\n",
       "            frameborder=\"0\"\n",
       "            allowfullscreen\n",
       "            \n",
       "        ></iframe>\n",
       "        "
      ],
      "text/plain": [
       "<IPython.lib.display.VimeoVideo at 0x7001ecd73850>"
      ]
     },
     "execution_count": 67,
     "metadata": {},
     "output_type": "execute_result"
    }
   ],
   "source": [
    "VimeoVideo(\"698358615\", h=\"3fd4b2186a\", width=600)"
   ]
  },
  {
   "cell_type": "markdown",
   "id": "e867677d-1700-499d-8a92-c1d620510d1d",
   "metadata": {},
   "source": [
    "**Task 5.3.17:** Create a horizontal bar chart with the 10 most important features for your model. "
   ]
  },
  {
   "cell_type": "code",
   "execution_count": 72,
   "id": "6a803d93-9b7c-4529-999b-326144b17fbd",
   "metadata": {},
   "outputs": [
    {
     "data": {
      "image/png": "[encoded data removed]",
      "text/plain": [
       "<Figure size 640x480 with 1 Axes>"
      ]
     },
     "metadata": {},
     "output_type": "display_data"
    }
   ],
   "source": [
    "# Get feature names from training data\n",
    "features =X_train_over.columns\n",
    "# Extract importances from model\n",
    "importances = model.best_estimator_.named_steps[\"randomforestclassifier\"].feature_importances_\n",
    "# Create a series with feature names and importances\n",
    "feat_imp =pd.Series(importances,index=features).sort_values()\n",
    "# Plot 10 most important features\n",
    "\n",
    "feat_imp.tail(10).plot(kind=\"barh\")\n",
    "plt.xlabel(\"Gini Importance\")\n",
    "plt.ylabel(\"Feature\")\n",
    "plt.title(\"Feature Importance\");"
   ]
  },
  {
   "cell_type": "markdown",
   "id": "5b0471e4-ac32-4b45-85ba-d7169757293e",
   "metadata": {},
   "source": [
    "The only thing left now is to save your model so that it can be reused."
   ]
  },
  {
   "cell_type": "code",
   "execution_count": 73,
   "id": "41330d0b-96b1-4985-bcd8-e75635e2719e",
   "metadata": {},
   "outputs": [
    {
     "data": {
      "text/html": [
       "\n",
       "        <iframe\n",
       "            width=\"600\"\n",
       "            height=\"300\"\n",
       "            src=\"https://player.vimeo.com/video/694695478?h=a13bdacb55\"\n",
       "            frameborder=\"0\"\n",
       "            allowfullscreen\n",
       "            \n",
       "        ></iframe>\n",
       "        "
      ],
      "text/plain": [
       "<IPython.lib.display.VimeoVideo at 0x7001ed58a390>"
      ]
     },
     "execution_count": 73,
     "metadata": {},
     "output_type": "execute_result"
    }
   ],
   "source": [
    "VimeoVideo(\"694695478\", h=\"a13bdacb55\", width=600)"
   ]
  },
  {
   "cell_type": "markdown",
   "id": "7cf82a6b-81b7-402e-97e0-247b48e2af27",
   "metadata": {},
   "source": [
    "**Task 5.3.18:** Using a context manager, save your best-performing model to a a file named `\"model-5-3.pkl\"`. \n",
    "\n",
    "- [What's serialization?](../%40textbook/03-pandas-getting-started.ipynb#Pickle-Files)\n",
    "- [Store a Python object as a serialized file using pickle.](../%40textbook/03-pandas-getting-started.ipynb#Pickle-Files) "
   ]
  },
  {
   "cell_type": "code",
   "execution_count": 76,
   "id": "3038e7b4-e125-4315-8764-4259907bd362",
   "metadata": {},
   "outputs": [],
   "source": [
    "# Save model\n",
    "with open(\"model-5-3.pkl\",\"wb\") as f:\n",
    "    pickle.dump(model,f)\n"
   ]
  },
  {
   "cell_type": "code",
   "execution_count": 77,
   "id": "a633e34a-8827-4d7f-b3d0-7155363b0837",
   "metadata": {},
   "outputs": [
    {
     "data": {
      "text/html": [
       "\n",
       "        <iframe\n",
       "            width=\"600\"\n",
       "            height=\"300\"\n",
       "            src=\"https://player.vimeo.com/video/694695451?h=fc96dd8d1f\"\n",
       "            frameborder=\"0\"\n",
       "            allowfullscreen\n",
       "            \n",
       "        ></iframe>\n",
       "        "
      ],
      "text/plain": [
       "<IPython.lib.display.VimeoVideo at 0x7001ed233c90>"
      ]
     },
     "execution_count": 77,
     "metadata": {},
     "output_type": "execute_result"
    }
   ],
   "source": [
    "VimeoVideo(\"694695451\", h=\"fc96dd8d1f\", width=600)"
   ]
  },
  {
   "cell_type": "markdown",
   "id": "8b6f4286-8f3f-449f-bf52-39d3fe02eefb",
   "metadata": {},
   "source": [
    "**Task 5.3.19:** Create a function `make_predictions`. It should take two arguments: the path of a JSON file that contains test data and the path of a serialized model. The function should load and clean the data using the `wrangle` function you created, load the model, generate an array of predictions, and convert that array into a Series. (The Series should have the name `\"bankrupt\"` and the same index labels as the test data.) Finally, the function should return its predictions as a Series. \n",
    "\n",
    "- [What's a function?](../%40textbook/02-python-advanced.ipynb#Functions)\n",
    "- [Load a serialized file](../%40textbook/03-pandas-getting-started.ipynb#Pickle-Files)\n",
    "- [What's a Series?](../%40textbook/05-pandas-summary-statistics.ipynb#Series)\n",
    "- [Create a Series in pandas](../%40textbook/03-pandas-getting-started.ipynb#Working-with-Columns)"
   ]
  },
  {
   "cell_type": "code",
   "execution_count": 78,
   "id": "1ca88012-3462-429c-a5f4-d7cf9af9c54c",
   "metadata": {},
   "outputs": [],
   "source": [
    "def make_predictions(data_filepath, model_filepath):\n",
    "    # Wrangle JSON file\n",
    "    X_test =wrangle(data_filepath)\n",
    "    # Load model\n",
    "    with open(\"model-5-3.pkl\",\"rb\") as f:\n",
    "        model=pickle.load(f)\n",
    "    \n",
    "    # Generate predictions\n",
    "    y_test_pred =model.predict(X_test)\n",
    "    # Put predictions into Series with name \"bankrupt\", and same index as X_test\n",
    "    y_test_pred =pd.Series(y_test_pred,index=X_test.index,name=\"bankrupt\")\n",
    "    return y_test_pred"
   ]
  },
  {
   "cell_type": "code",
   "execution_count": 81,
   "id": "662a4e31-0f61-4b3a-be66-ddbf69cfd622",
   "metadata": {},
   "outputs": [
    {
     "data": {
      "text/html": [
       "\n",
       "        <iframe\n",
       "            width=\"600\"\n",
       "            height=\"300\"\n",
       "            src=\"https://player.vimeo.com/video/694695426?h=f75588d43a\"\n",
       "            frameborder=\"0\"\n",
       "            allowfullscreen\n",
       "            \n",
       "        ></iframe>\n",
       "        "
      ],
      "text/plain": [
       "<IPython.lib.display.VimeoVideo at 0x7001ecbff910>"
      ]
     },
     "execution_count": 81,
     "metadata": {},
     "output_type": "execute_result"
    }
   ],
   "source": [
    "VimeoVideo(\"694695426\", h=\"f75588d43a\", width=600)"
   ]
  },
  {
   "cell_type": "markdown",
   "id": "456ba113-e075-427c-8f3a-ffb9b6975c7b",
   "metadata": {},
   "source": [
    "**Task 5.3.20:** Use the code below to check your `make_predictions` function. Once you're satisfied with the result, click on the check the activity button on the left side of the panel."
   ]
  },
  {
   "cell_type": "code",
   "execution_count": 79,
   "id": "c668b57d-93e0-4f64-857e-60b4e0b07b67",
   "metadata": {},
   "outputs": [
    {
     "name": "stdout",
     "output_type": "stream",
     "text": [
      "predictions shape: (526,)\n"
     ]
    },
    {
     "data": {
      "text/plain": [
       "company_id\n",
       "4     False\n",
       "32    False\n",
       "34    False\n",
       "36    False\n",
       "40    False\n",
       "Name: bankrupt, dtype: bool"
      ]
     },
     "execution_count": 79,
     "metadata": {},
     "output_type": "execute_result"
    }
   ],
   "source": [
    "y_test_pred = make_predictions(\n",
    "    data_filepath=\"data/poland-bankruptcy-data-2009-mvp-features.json.gz\",\n",
    "    model_filepath=\"model-5-3.pkl\",\n",
    ")\n",
    "\n",
    "print(\"predictions shape:\", y_test_pred.shape)\n",
    "y_test_pred.head()"
   ]
  },
  {
   "cell_type": "markdown",
   "id": "4a4e70bf",
   "metadata": {
    "deletable": false,
    "editable": false
   },
   "source": [
    "---\n",
    "Copyright 2023 WorldQuant University. This\n",
    "content is licensed solely for personal use. Redistribution or\n",
    "publication of this material is strictly prohibited.\n"
   ]
  }
 ],
 "metadata": {
  "kernelspec": {
   "display_name": "Python 3 (ipykernel)",
   "language": "python",
   "name": "python3"
  },
  "language_info": {
   "codemirror_mode": {
    "name": "ipython",
    "version": 3
   },
   "file_extension": ".py",
   "mimetype": "text/x-python",
   "name": "python",
   "nbconvert_exporter": "python",
   "pygments_lexer": "ipython3",
   "version": "3.11.0"
  },
  "widgets": {
   "application/vnd.jupyter.widget-state+json": {
    "state": {},
    "version_major": 2,
    "version_minor": 0
   }
  }
 },
 "nbformat": 4,
 "nbformat_minor": 5
}
