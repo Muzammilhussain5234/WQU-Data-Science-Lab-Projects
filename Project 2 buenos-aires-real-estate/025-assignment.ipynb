{
 "cells": [
  {
   "cell_type": "markdown",
   "id": "ae4915db-8035-4c92-b3c7-64a9053573d7",
   "metadata": {
    "editable": true,
    "slideshow": {
     "slide_type": ""
    },
    "tags": []
   },
   "source": [
    "<font size=\"+3\"><strong>2.5. Predicting Apartment Prices in Mexico City 🇲🇽</strong></font>"
   ]
  },
  {
   "cell_type": "code",
   "execution_count": null,
   "id": "24b9800e-3a72-4b08-af3d-65da4d226b69",
   "metadata": {
    "tags": []
   },
   "outputs": [],
   "source": [
    "\n",
    "\n"
   ]
  },
  {
   "cell_type": "markdown",
   "id": "e7b2f0fe-fdcf-4c4e-8243-de6bd3f3bffc",
   "metadata": {},
   "source": [
    "In this assignment, you'll decide which libraries you need to complete the tasks. You can import them in the cell below. 👇"
   ]
  },
  {
   "cell_type": "code",
   "execution_count": 131,
   "id": "0cd1db04-5733-4a88-8216-210aa4b19c2d",
   "metadata": {},
   "outputs": [],
   "source": [
    "import warnings\n",
    "import plotly.express as px \n",
    "\n",
    "\n",
    "from glob import glob\n",
    "import matplotlib.pyplot as plt\n",
    "from sklearn.compose import ColumnTransformer\n",
    "import pandas as pd\n",
    "import seaborn as sns\n",
    "from category_encoders import OneHotEncoder\n",
    "from IPython.display import VimeoVideo\n",
    "from ipywidgets import Dropdown, FloatSlider, IntSlider, interact\n",
    "from sklearn.impute import SimpleImputer\n",
    "from sklearn.linear_model import LinearRegression, Ridge  # noqa F401\n",
    "from sklearn.metrics import mean_absolute_error\n",
    "from sklearn.pipeline import make_pipeline\n",
    "from sklearn.utils.validation import check_is_fitted\n",
    "warnings.simplefilter(action=\"ignore\", category=FutureWarning)"
   ]
  },
  {
   "cell_type": "markdown",
   "id": "79e44a81-1eef-4bc6-8151-1a86d5844fb4",
   "metadata": {},
   "source": [
    "# Prepare Data"
   ]
  },
  {
   "cell_type": "markdown",
   "id": "99c6bc6c-50d9-4e5c-9289-a6ef21d43bfd",
   "metadata": {},
   "source": [
    "## Import"
   ]
  },
  {
   "cell_type": "markdown",
   "id": "3b3dccdb-08cc-4e5b-bd8a-509114410864",
   "metadata": {},
   "source": [
    "**Task 2.5.1**\n",
    "\n",
    "<div class=\"alert alert-block alert-info\">\n",
    "<b>Tip:</b> Don't try to satisfy all the criteria in the first version of your <code>wrangle</code> function. Instead, work iteratively. Start with the first criteria, test it out with one of the Mexico CSV files in the <code>data/</code> directory, and submit it to the grader for feedback. Then add the next criteria.</div>"
   ]
  },
  {
   "cell_type": "code",
   "execution_count": 75,
   "id": "8a585163-e2a9-4b46-8cf7-24ff8b00f0c0",
   "metadata": {},
   "outputs": [],
   "source": [
    "def wrangle(filepath):\n",
    "    \n",
    "    df = pd.read_csv(filepath)\n",
    "    mask_ba=df[\"place_with_parent_names\"].str.contains(\"Distrito Federal\")\n",
    "    mask_apt=df[\"property_type\"]==\"apartment\"\n",
    "    mask_price=df[\"price_aprox_usd\"]<100000\n",
    "    \n",
    "    df=df[mask_ba & mask_apt & mask_price]\n",
    "    low,high=df[\"surface_covered_in_m2\"].quantile([0.1,0.9])\n",
    "    mask_area=df[\"surface_covered_in_m2\"].between(low,high)\n",
    "    df=df[mask_area]\n",
    "    df[[\"lat\",\"lon\"]]=df[\"lat-lon\"].str.split(\",\",expand=True).astype(float)\n",
    "    df.drop(columns=\"lat-lon\",inplace=True)\n",
    "    df[\"borough\"]=df[\"place_with_parent_names\"].str.split(\"|\",expand=True)[1]\n",
    "    df.drop(columns=\"place_with_parent_names\",inplace=True)\n",
    "    df.drop(columns=[\"floor\",\"price_usd_per_m2\",\"rooms\",\"expenses\",\"surface_total_in_m2\"],inplace=True)\n",
    "    df.drop(columns=[\"properati_url\",\"property_type\",\"operation\",\"price\",\"currency\",\"price_per_m2\",\"price_aprox_local_currency\"],inplace=True)\n",
    "\n",
    "    return df \n",
    "    "
   ]
  },
  {
   "cell_type": "code",
   "execution_count": 90,
   "id": "345d00ac-9305-493b-8bbd-57aa9761f7ac",
   "metadata": {
    "tags": []
   },
   "outputs": [
    {
     "name": "stdout",
     "output_type": "stream",
     "text": [
      "<class 'pandas.core.frame.DataFrame'>\n",
      "Int64Index: 1101 entries, 11 to 4605\n",
      "Data columns (total 5 columns):\n",
      " #   Column                 Non-Null Count  Dtype  \n",
      "---  ------                 --------------  -----  \n",
      " 0   price_aprox_usd        1101 non-null   float64\n",
      " 1   surface_covered_in_m2  1101 non-null   float64\n",
      " 2   lat                    1041 non-null   float64\n",
      " 3   lon                    1041 non-null   float64\n",
      " 4   borough                1101 non-null   object \n",
      "dtypes: float64(4), object(1)\n",
      "memory usage: 51.6+ KB\n"
     ]
    }
   ],
   "source": [
    "# Use this cell to test your wrangle function on the file `mexico-city-real-estate-1.csv`\n",
    "frame1=wrangle('data/mexico-city-real-estate-1.csv')\n",
    "frame1.info()\n"
   ]
  },
  {
   "cell_type": "markdown",
   "id": "f47ef1c8-b073-47a1-beba-028cd71500a6",
   "metadata": {},
   "source": [
    "**Task 2.5.2** "
   ]
  },
  {
   "cell_type": "code",
   "execution_count": 143,
   "id": "db087948-57b5-4feb-931c-a51830b96b03",
   "metadata": {},
   "outputs": [
    {
     "name": "stdout",
     "output_type": "stream",
     "text": [
      "<class 'pandas.core.frame.DataFrame'>\n",
      "RangeIndex: 5473 entries, 0 to 5472\n",
      "Data columns (total 5 columns):\n",
      " #   Column                 Non-Null Count  Dtype  \n",
      "---  ------                 --------------  -----  \n",
      " 0   price_aprox_usd        5473 non-null   float64\n",
      " 1   surface_covered_in_m2  5473 non-null   float64\n",
      " 2   lat                    5149 non-null   float64\n",
      " 3   lon                    5149 non-null   float64\n",
      " 4   borough                5473 non-null   object \n",
      "dtypes: float64(4), object(1)\n",
      "memory usage: 213.9+ KB\n",
      "None\n",
      "<class 'pandas.core.frame.DataFrame'>\n",
      "RangeIndex: 5473 entries, 0 to 5472\n",
      "Data columns (total 5 columns):\n",
      " #   Column                 Non-Null Count  Dtype  \n",
      "---  ------                 --------------  -----  \n",
      " 0   price_aprox_usd        5473 non-null   float64\n",
      " 1   surface_covered_in_m2  5473 non-null   float64\n",
      " 2   lat                    5149 non-null   float64\n",
      " 3   lon                    5149 non-null   float64\n",
      " 4   borough                5473 non-null   object \n",
      "dtypes: float64(4), object(1)\n",
      "memory usage: 213.9+ KB\n",
      "None\n"
     ]
    },
    {
     "data": {
      "text/html": [
       "<div>\n",
       "<style scoped>\n",
       "    .dataframe tbody tr th:only-of-type {\n",
       "        vertical-align: middle;\n",
       "    }\n",
       "\n",
       "    .dataframe tbody tr th {\n",
       "        vertical-align: top;\n",
       "    }\n",
       "\n",
       "    .dataframe thead th {\n",
       "        text-align: right;\n",
       "    }\n",
       "</style>\n",
       "<table border=\"1\" class=\"dataframe\">\n",
       "  <thead>\n",
       "    <tr style=\"text-align: right;\">\n",
       "      <th></th>\n",
       "      <th>price_aprox_usd</th>\n",
       "      <th>surface_covered_in_m2</th>\n",
       "      <th>lat</th>\n",
       "      <th>lon</th>\n",
       "      <th>borough</th>\n",
       "    </tr>\n",
       "  </thead>\n",
       "  <tbody>\n",
       "    <tr>\n",
       "      <th>0</th>\n",
       "      <td>94022.66</td>\n",
       "      <td>57.0</td>\n",
       "      <td>23.634501</td>\n",
       "      <td>-102.552788</td>\n",
       "      <td>Benito Juárez</td>\n",
       "    </tr>\n",
       "    <tr>\n",
       "      <th>1</th>\n",
       "      <td>70880.12</td>\n",
       "      <td>56.0</td>\n",
       "      <td>19.402413</td>\n",
       "      <td>-99.095391</td>\n",
       "      <td>Iztacalco</td>\n",
       "    </tr>\n",
       "    <tr>\n",
       "      <th>2</th>\n",
       "      <td>68228.99</td>\n",
       "      <td>80.0</td>\n",
       "      <td>19.357820</td>\n",
       "      <td>-99.149406</td>\n",
       "      <td>Benito Juárez</td>\n",
       "    </tr>\n",
       "    <tr>\n",
       "      <th>3</th>\n",
       "      <td>24235.78</td>\n",
       "      <td>60.0</td>\n",
       "      <td>19.504985</td>\n",
       "      <td>-99.208557</td>\n",
       "      <td>Azcapotzalco</td>\n",
       "    </tr>\n",
       "    <tr>\n",
       "      <th>4</th>\n",
       "      <td>94140.20</td>\n",
       "      <td>50.0</td>\n",
       "      <td>19.354219</td>\n",
       "      <td>-99.126244</td>\n",
       "      <td>Coyoacán</td>\n",
       "    </tr>\n",
       "  </tbody>\n",
       "</table>\n",
       "</div>"
      ],
      "text/plain": [
       "   price_aprox_usd  surface_covered_in_m2        lat         lon  \\\n",
       "0         94022.66                   57.0  23.634501 -102.552788   \n",
       "1         70880.12                   56.0  19.402413  -99.095391   \n",
       "2         68228.99                   80.0  19.357820  -99.149406   \n",
       "3         24235.78                   60.0  19.504985  -99.208557   \n",
       "4         94140.20                   50.0  19.354219  -99.126244   \n",
       "\n",
       "         borough  \n",
       "0  Benito Juárez  \n",
       "1      Iztacalco  \n",
       "2  Benito Juárez  \n",
       "3   Azcapotzalco  \n",
       "4       Coyoacán  "
      ]
     },
     "execution_count": 143,
     "metadata": {},
     "output_type": "execute_result"
    }
   ],
   "source": [
    "files = sorted(glob(\"data/mexico-city-real-estate-*.csv\"))\n",
    "\n",
    "files = sorted(glob(\"data/mexico-city-real-estate-*.csv\"))\n",
    "df = pd.concat([wrangle(i) for i in files]).reset_index(drop=True)\n",
    "print(df.info())\n",
    "df.head()\n",
    "\n",
    "print(df.info())\n",
    "df.head()"
   ]
  },
  {
   "cell_type": "code",
   "execution_count": 86,
   "id": "1c74d960-8c0a-46b5-a644-454a8db60b66",
   "metadata": {},
   "outputs": [
    {
     "data": {
      "text/html": [
       "<div>\n",
       "<style scoped>\n",
       "    .dataframe tbody tr th:only-of-type {\n",
       "        vertical-align: middle;\n",
       "    }\n",
       "\n",
       "    .dataframe tbody tr th {\n",
       "        vertical-align: top;\n",
       "    }\n",
       "\n",
       "    .dataframe thead th {\n",
       "        text-align: right;\n",
       "    }\n",
       "</style>\n",
       "<table border=\"1\" class=\"dataframe\">\n",
       "  <thead>\n",
       "    <tr style=\"text-align: right;\">\n",
       "      <th></th>\n",
       "      <th>price_aprox_usd</th>\n",
       "      <th>surface_covered_in_m2</th>\n",
       "      <th>lat</th>\n",
       "      <th>lon</th>\n",
       "      <th>borough</th>\n",
       "    </tr>\n",
       "  </thead>\n",
       "  <tbody>\n",
       "    <tr>\n",
       "      <th>1</th>\n",
       "      <td>82737.39</td>\n",
       "      <td>75.0</td>\n",
       "      <td>19.362690</td>\n",
       "      <td>-99.150565</td>\n",
       "      <td>Benito Juárez</td>\n",
       "    </tr>\n",
       "    <tr>\n",
       "      <th>3</th>\n",
       "      <td>72197.60</td>\n",
       "      <td>62.0</td>\n",
       "      <td>19.291345</td>\n",
       "      <td>-99.124312</td>\n",
       "      <td>Tlalpan</td>\n",
       "    </tr>\n",
       "    <tr>\n",
       "      <th>4</th>\n",
       "      <td>44277.72</td>\n",
       "      <td>85.0</td>\n",
       "      <td>19.354987</td>\n",
       "      <td>-99.061709</td>\n",
       "      <td>Iztapalapa</td>\n",
       "    </tr>\n",
       "    <tr>\n",
       "      <th>13</th>\n",
       "      <td>60589.45</td>\n",
       "      <td>52.0</td>\n",
       "      <td>19.469681</td>\n",
       "      <td>-99.086136</td>\n",
       "      <td>Gustavo A. Madero</td>\n",
       "    </tr>\n",
       "    <tr>\n",
       "      <th>18</th>\n",
       "      <td>47429.08</td>\n",
       "      <td>53.0</td>\n",
       "      <td>19.443592</td>\n",
       "      <td>-99.121407</td>\n",
       "      <td>Venustiano Carranza</td>\n",
       "    </tr>\n",
       "  </tbody>\n",
       "</table>\n",
       "</div>"
      ],
      "text/plain": [
       "    price_aprox_usd  surface_covered_in_m2        lat        lon  \\\n",
       "1          82737.39                   75.0  19.362690 -99.150565   \n",
       "3          72197.60                   62.0  19.291345 -99.124312   \n",
       "4          44277.72                   85.0  19.354987 -99.061709   \n",
       "13         60589.45                   52.0  19.469681 -99.086136   \n",
       "18         47429.08                   53.0  19.443592 -99.121407   \n",
       "\n",
       "                borough  \n",
       "1         Benito Juárez  \n",
       "3               Tlalpan  \n",
       "4            Iztapalapa  \n",
       "13    Gustavo A. Madero  \n",
       "18  Venustiano Carranza  "
      ]
     },
     "execution_count": 86,
     "metadata": {},
     "output_type": "execute_result"
    }
   ],
   "source": [
    "\n"
   ]
  },
  {
   "cell_type": "markdown",
   "id": "5ddea2e2-0b77-4115-9659-90508261c8f7",
   "metadata": {},
   "source": [
    "**Task 2.5.3**"
   ]
  },
  {
   "cell_type": "markdown",
   "id": "de2683ec-8324-4f60-b4ec-fcb316770512",
   "metadata": {},
   "source": [
    "## Explore"
   ]
  },
  {
   "cell_type": "markdown",
   "id": "f2811333-79a6-4708-8f05-c39e42efa804",
   "metadata": {},
   "source": [
    "<div class=\"alert alert-info\" role=\"alert\">\n",
    "  <strong>Slight Code Change</strong>\n",
    "\n",
    "In the following task, you'll notice a small change in how plots are created compared to what you saw in the lessons.\n",
    "While the lessons use the global matplotlib method like <code>plt.plot(...)</code>, in this task, you are expected to use the object-oriented (OOP) API instead.\n",
    "This means creating your plots using <code>fig, ax = plt.subplots()</code> and then calling plotting methods on the <code>ax</code> object, such as <code>ax.plot(...)</code>, <code>ax.hist(...)</code>, or <code>ax.scatter(...)</code>.\n",
    "\n",
    "If you're using pandas’ or seaborn’s built-in plotting methods (like <code>df.plot()</code> or <code>sns.lineplot()</code>), make sure to pass the <code>ax=ax</code> argument so that the plot is rendered on the correct axes.\n",
    "\n",
    "This approach is considered best practice and will be used consistently across all graded tasks that involve matplotlib.\n",
    "</div>\n"
   ]
  },
  {
   "cell_type": "markdown",
   "id": "c49a4444-adb3-4193-b8d8-db7596c441e1",
   "metadata": {},
   "source": [
    "**Task 2.5.4**"
   ]
  },
  {
   "cell_type": "code",
   "execution_count": 123,
   "id": "61ffe4f7-17bf-4ad7-9c22-45c041baa4a8",
   "metadata": {},
   "outputs": [
    {
     "data": {
      "text/plain": [
       "Text(0.5, 1.0, 'Distribution of Apartment Prices')"
      ]
     },
     "execution_count": 123,
     "metadata": {},
     "output_type": "execute_result"
    },
    {
     "data": {
      "image/png": "[encoded data removed]",
      "text/plain": [
       "<Figure size 640x480 with 1 Axes>"
      ]
     },
     "metadata": {},
     "output_type": "display_data"
    }
   ],
   "source": [
    "fig, ax = plt.subplots() \n",
    "\n",
    "# Plot the histogram on the axes object\n",
    "ax.hist(x=df[\"price_aprox_usd\"]) \n",
    "\n",
    "# Label axes using the axes \n",
    "ax.set_xlabel(\"Price [$]\")\n",
    "ax.set_ylabel(\"Count\")\n",
    "\n",
    "\n",
    "# Add title \n",
    "ax.set_title(\"Distribution of Apartment Prices\")"
   ]
  },
  {
   "cell_type": "markdown",
   "id": "3e4f18dc-04f3-451a-a772-0d605fb1b5a2",
   "metadata": {},
   "source": [
    "**Task 2.5.5**"
   ]
  },
  {
   "cell_type": "code",
   "execution_count": 128,
   "id": "148d1a3f-37f7-4f6e-95b4-f7c725d95a66",
   "metadata": {},
   "outputs": [
    {
     "data": {
      "text/plain": [
       "Text(0.5, 1.0, 'Mexico City: Price vs. Area')"
      ]
     },
     "execution_count": 128,
     "metadata": {},
     "output_type": "execute_result"
    },
    {
     "data": {
      "image/png": "[encoded data removed]",
      "text/plain": [
       "<Figure size 640x480 with 1 Axes>"
      ]
     },
     "metadata": {},
     "output_type": "display_data"
    }
   ],
   "source": [
    "fig, ax = plt.subplots() \n",
    "\n",
    "# Create the scatter plot on the axes object\n",
    "ax.scatter(x=df[\"surface_covered_in_m2\"], y=df[\"price_aprox_usd\"])\n",
    "\n",
    "\n",
    "# Label axes \n",
    "ax.set_xlabel(\"Area [sq meters]\")\n",
    "ax.set_ylabel(\"Price [USD]\")\n",
    "\n",
    "#  Add title \n",
    "ax.set_title(\"Mexico City: Price vs. Area\")"
   ]
  },
  {
   "cell_type": "markdown",
   "id": "5670726a-411e-42d5-832f-d522d5b44a50",
   "metadata": {},
   "source": [
    "Do you see a relationship between price and area in the data? How is this similar to or different from the Buenos Aires dataset?<span style='color: transparent; font-size:1%'>WQU WorldQuant University Applied Data Science Lab QQQQ</span>"
   ]
  },
  {
   "cell_type": "markdown",
   "id": "095bc111-55a9-40c2-b322-4ab50c617750",
   "metadata": {},
   "source": [
    "**Task 2.5.6** **(UNGRADED)** Create a Mapbox scatter plot that shows the location of the apartments in your dataset and represent their price using color. \n",
    "\n",
    "What areas of the city seem to have higher real estate prices?"
   ]
  },
  {
   "cell_type": "code",
   "execution_count": null,
   "id": "d07fc514-897c-4399-87e1-97c930bf8a66",
   "metadata": {},
   "outputs": [],
   "source": [
    "# Plot Mapbox location and price\n",
    "\n",
    "fig = px.scatter_mapbox(\n",
    "    df,\n",
    "    lat=\"lat\",\n",
    "    lon=\"lon\",\n",
    "    width=800,\n",
    "    height=600,\n",
    "    color=\"price_aprox_usd\",\n",
    ")\n",
    "\n",
    "\n",
    "fig.show()"
   ]
  },
  {
   "cell_type": "code",
   "execution_count": 144,
   "id": "80293f3c-c7ab-4872-9985-79d63631cdb5",
   "metadata": {},
   "outputs": [
    {
     "data": {
      "text/html": [
       "<div>\n",
       "<style scoped>\n",
       "    .dataframe tbody tr th:only-of-type {\n",
       "        vertical-align: middle;\n",
       "    }\n",
       "\n",
       "    .dataframe tbody tr th {\n",
       "        vertical-align: top;\n",
       "    }\n",
       "\n",
       "    .dataframe thead th {\n",
       "        text-align: right;\n",
       "    }\n",
       "</style>\n",
       "<table border=\"1\" class=\"dataframe\">\n",
       "  <thead>\n",
       "    <tr style=\"text-align: right;\">\n",
       "      <th></th>\n",
       "      <th>price_aprox_usd</th>\n",
       "      <th>surface_covered_in_m2</th>\n",
       "      <th>lat</th>\n",
       "      <th>lon</th>\n",
       "      <th>borough</th>\n",
       "    </tr>\n",
       "  </thead>\n",
       "  <tbody>\n",
       "    <tr>\n",
       "      <th>0</th>\n",
       "      <td>94022.66</td>\n",
       "      <td>57.0</td>\n",
       "      <td>23.634501</td>\n",
       "      <td>-102.552788</td>\n",
       "      <td>Benito Juárez</td>\n",
       "    </tr>\n",
       "    <tr>\n",
       "      <th>1</th>\n",
       "      <td>70880.12</td>\n",
       "      <td>56.0</td>\n",
       "      <td>19.402413</td>\n",
       "      <td>-99.095391</td>\n",
       "      <td>Iztacalco</td>\n",
       "    </tr>\n",
       "    <tr>\n",
       "      <th>2</th>\n",
       "      <td>68228.99</td>\n",
       "      <td>80.0</td>\n",
       "      <td>19.357820</td>\n",
       "      <td>-99.149406</td>\n",
       "      <td>Benito Juárez</td>\n",
       "    </tr>\n",
       "    <tr>\n",
       "      <th>3</th>\n",
       "      <td>24235.78</td>\n",
       "      <td>60.0</td>\n",
       "      <td>19.504985</td>\n",
       "      <td>-99.208557</td>\n",
       "      <td>Azcapotzalco</td>\n",
       "    </tr>\n",
       "    <tr>\n",
       "      <th>4</th>\n",
       "      <td>94140.20</td>\n",
       "      <td>50.0</td>\n",
       "      <td>19.354219</td>\n",
       "      <td>-99.126244</td>\n",
       "      <td>Coyoacán</td>\n",
       "    </tr>\n",
       "  </tbody>\n",
       "</table>\n",
       "</div>"
      ],
      "text/plain": [
       "   price_aprox_usd  surface_covered_in_m2        lat         lon  \\\n",
       "0         94022.66                   57.0  23.634501 -102.552788   \n",
       "1         70880.12                   56.0  19.402413  -99.095391   \n",
       "2         68228.99                   80.0  19.357820  -99.149406   \n",
       "3         24235.78                   60.0  19.504985  -99.208557   \n",
       "4         94140.20                   50.0  19.354219  -99.126244   \n",
       "\n",
       "         borough  \n",
       "0  Benito Juárez  \n",
       "1      Iztacalco  \n",
       "2  Benito Juárez  \n",
       "3   Azcapotzalco  \n",
       "4       Coyoacán  "
      ]
     },
     "execution_count": 144,
     "metadata": {},
     "output_type": "execute_result"
    }
   ],
   "source": [
    "df.head()"
   ]
  },
  {
   "cell_type": "markdown",
   "id": "1d9f5ee7-348c-407b-a8ce-b4a79f7a0cc4",
   "metadata": {},
   "source": [
    "## Split"
   ]
  },
  {
   "cell_type": "markdown",
   "id": "f943c3ec-c299-4941-996c-4ea4a21a14f5",
   "metadata": {},
   "source": [
    "**Task 2.5.7**"
   ]
  },
  {
   "cell_type": "code",
   "execution_count": 150,
   "id": "eac77c6c-b0e3-4d84-af72-f75270c11187",
   "metadata": {},
   "outputs": [
    {
     "data": {
      "text/plain": [
       "(5473, 4)"
      ]
     },
     "execution_count": 150,
     "metadata": {},
     "output_type": "execute_result"
    }
   ],
   "source": [
    "# Split data into feature matrix `X_train` and target vector `y_train`.\n",
    "target = \"price_aprox_usd\"\n",
    "\n",
    "target = 'price_aprox_usd'\n",
    "y_train = df[target]  # Target vector\n",
    "\n",
    "X_train = df.drop(columns=[target])  # Feature matrix\n",
    "\n",
    "\n",
    "y_train = df[\"price_aprox_usd\"]\n",
    "X_train = df.drop(columns=[\"price_aprox_usd\"])\n",
    "X_train.shape\n",
    "y_train.shape"
   ]
  },
  {
   "cell_type": "markdown",
   "id": "df817f6c-ca21-49d0-be84-7af163041ca5",
   "metadata": {},
   "source": [
    "# Build Model"
   ]
  },
  {
   "cell_type": "markdown",
   "id": "2ddaad75-ef9c-49c0-a963-4348483e7201",
   "metadata": {},
   "source": [
    "## Baseline"
   ]
  },
  {
   "cell_type": "markdown",
   "id": "6cdda106-0d7a-426d-aa9d-94ed60702c32",
   "metadata": {},
   "source": [
    "**Task 2.5.8**"
   ]
  },
  {
   "cell_type": "code",
   "execution_count": 154,
   "id": "3a998470-7558-4c2a-8681-ea76d9b2ae16",
   "metadata": {},
   "outputs": [
    {
     "name": "stdout",
     "output_type": "stream",
     "text": [
      "Mean apt price: 54246.53\n",
      "Baseline MAE: 17239.94\n"
     ]
    }
   ],
   "source": [
    "y_mean =y_train.mean()\n",
    "y_pred_baseline =[y_mean]*len(y_train)\n",
    "baseline_mae =mean_absolute_error(y_train,y_pred_baseline)\n",
    "print(\"Mean apt price:\", round(y_mean,2))\n",
    "print(\"Baseline MAE:\", round(baseline_mae,2))"
   ]
  },
  {
   "cell_type": "markdown",
   "id": "0b5e8c7d-dbd3-4405-a048-475a0150578b",
   "metadata": {},
   "source": [
    "## Iterate"
   ]
  },
  {
   "cell_type": "markdown",
   "id": "d43cc258-e24e-4231-8638-7b80df4636dc",
   "metadata": {},
   "source": [
    "**Task 2.5.9**"
   ]
  },
  {
   "cell_type": "code",
   "execution_count": 184,
   "id": "a2055448-7694-42a3-94ed-051a5c7b45fd",
   "metadata": {},
   "outputs": [
    {
     "data": {
      "text/html": [
       "<style>#sk-container-id-3 {color: black;}#sk-container-id-3 pre{padding: 0;}#sk-container-id-3 div.sk-toggleable {background-color: white;}#sk-container-id-3 label.sk-toggleable__label {cursor: pointer;display: block;width: 100%;margin-bottom: 0;padding: 0.3em;box-sizing: border-box;text-align: center;}#sk-container-id-3 label.sk-toggleable__label-arrow:before {content: \"▸\";float: left;margin-right: 0.25em;color: #696969;}#sk-container-id-3 label.sk-toggleable__label-arrow:hover:before {color: black;}#sk-container-id-3 div.sk-estimator:hover label.sk-toggleable__label-arrow:before {color: black;}#sk-container-id-3 div.sk-toggleable__content {max-height: 0;max-width: 0;overflow: hidden;text-align: left;background-color: #f0f8ff;}#sk-container-id-3 div.sk-toggleable__content pre {margin: 0.2em;color: black;border-radius: 0.25em;background-color: #f0f8ff;}#sk-container-id-3 input.sk-toggleable__control:checked~div.sk-toggleable__content {max-height: 200px;max-width: 100%;overflow: auto;}#sk-container-id-3 input.sk-toggleable__control:checked~label.sk-toggleable__label-arrow:before {content: \"▾\";}#sk-container-id-3 div.sk-estimator input.sk-toggleable__control:checked~label.sk-toggleable__label {background-color: #d4ebff;}#sk-container-id-3 div.sk-label input.sk-toggleable__control:checked~label.sk-toggleable__label {background-color: #d4ebff;}#sk-container-id-3 input.sk-hidden--visually {border: 0;clip: rect(1px 1px 1px 1px);clip: rect(1px, 1px, 1px, 1px);height: 1px;margin: -1px;overflow: hidden;padding: 0;position: absolute;width: 1px;}#sk-container-id-3 div.sk-estimator {font-family: monospace;background-color: #f0f8ff;border: 1px dotted black;border-radius: 0.25em;box-sizing: border-box;margin-bottom: 0.5em;}#sk-container-id-3 div.sk-estimator:hover {background-color: #d4ebff;}#sk-container-id-3 div.sk-parallel-item::after {content: \"\";width: 100%;border-bottom: 1px solid gray;flex-grow: 1;}#sk-container-id-3 div.sk-label:hover label.sk-toggleable__label {background-color: #d4ebff;}#sk-container-id-3 div.sk-serial::before {content: \"\";position: absolute;border-left: 1px solid gray;box-sizing: border-box;top: 0;bottom: 0;left: 50%;z-index: 0;}#sk-container-id-3 div.sk-serial {display: flex;flex-direction: column;align-items: center;background-color: white;padding-right: 0.2em;padding-left: 0.2em;position: relative;}#sk-container-id-3 div.sk-item {position: relative;z-index: 1;}#sk-container-id-3 div.sk-parallel {display: flex;align-items: stretch;justify-content: center;background-color: white;position: relative;}#sk-container-id-3 div.sk-item::before, #sk-container-id-3 div.sk-parallel-item::before {content: \"\";position: absolute;border-left: 1px solid gray;box-sizing: border-box;top: 0;bottom: 0;left: 50%;z-index: -1;}#sk-container-id-3 div.sk-parallel-item {display: flex;flex-direction: column;z-index: 1;position: relative;background-color: white;}#sk-container-id-3 div.sk-parallel-item:first-child::after {align-self: flex-end;width: 50%;}#sk-container-id-3 div.sk-parallel-item:last-child::after {align-self: flex-start;width: 50%;}#sk-container-id-3 div.sk-parallel-item:only-child::after {width: 0;}#sk-container-id-3 div.sk-dashed-wrapped {border: 1px dashed gray;margin: 0 0.4em 0.5em 0.4em;box-sizing: border-box;padding-bottom: 0.4em;background-color: white;}#sk-container-id-3 div.sk-label label {font-family: monospace;font-weight: bold;display: inline-block;line-height: 1.2em;}#sk-container-id-3 div.sk-label-container {text-align: center;}#sk-container-id-3 div.sk-container {/* jupyter's `normalize.less` sets `[hidden] { display: none; }` but bootstrap.min.css set `[hidden] { display: none !important; }` so we also need the `!important` here to be able to override the default hidden behavior on the sphinx rendered scikit-learn.org. See: https://github.com/scikit-learn/scikit-learn/issues/21755 */display: inline-block !important;position: relative;}#sk-container-id-3 div.sk-text-repr-fallback {display: none;}</style><div id=\"sk-container-id-3\" class=\"sk-top-container\"><div class=\"sk-text-repr-fallback\"><pre>Pipeline(steps=[(&#x27;onehotencoder&#x27;,\n",
       "                 OneHotEncoder(cols=[&#x27;borough&#x27;], use_cat_names=True)),\n",
       "                (&#x27;simpleimputer&#x27;, SimpleImputer()), (&#x27;ridge&#x27;, Ridge())])</pre><b>In a Jupyter environment, please rerun this cell to show the HTML representation or trust the notebook. <br />On GitHub, the HTML representation is unable to render, please try loading this page with nbviewer.org.</b></div><div class=\"sk-container\" hidden><div class=\"sk-item sk-dashed-wrapped\"><div class=\"sk-label-container\"><div class=\"sk-label sk-toggleable\"><input class=\"sk-toggleable__control sk-hidden--visually\" id=\"sk-estimator-id-9\" type=\"checkbox\" ><label for=\"sk-estimator-id-9\" class=\"sk-toggleable__label sk-toggleable__label-arrow\">Pipeline</label><div class=\"sk-toggleable__content\"><pre>Pipeline(steps=[(&#x27;onehotencoder&#x27;,\n",
       "                 OneHotEncoder(cols=[&#x27;borough&#x27;], use_cat_names=True)),\n",
       "                (&#x27;simpleimputer&#x27;, SimpleImputer()), (&#x27;ridge&#x27;, Ridge())])</pre></div></div></div><div class=\"sk-serial\"><div class=\"sk-item\"><div class=\"sk-estimator sk-toggleable\"><input class=\"sk-toggleable__control sk-hidden--visually\" id=\"sk-estimator-id-10\" type=\"checkbox\" ><label for=\"sk-estimator-id-10\" class=\"sk-toggleable__label sk-toggleable__label-arrow\">OneHotEncoder</label><div class=\"sk-toggleable__content\"><pre>OneHotEncoder(cols=[&#x27;borough&#x27;], use_cat_names=True)</pre></div></div></div><div class=\"sk-item\"><div class=\"sk-estimator sk-toggleable\"><input class=\"sk-toggleable__control sk-hidden--visually\" id=\"sk-estimator-id-11\" type=\"checkbox\" ><label for=\"sk-estimator-id-11\" class=\"sk-toggleable__label sk-toggleable__label-arrow\">SimpleImputer</label><div class=\"sk-toggleable__content\"><pre>SimpleImputer()</pre></div></div></div><div class=\"sk-item\"><div class=\"sk-estimator sk-toggleable\"><input class=\"sk-toggleable__control sk-hidden--visually\" id=\"sk-estimator-id-12\" type=\"checkbox\" ><label for=\"sk-estimator-id-12\" class=\"sk-toggleable__label sk-toggleable__label-arrow\">Ridge</label><div class=\"sk-toggleable__content\"><pre>Ridge()</pre></div></div></div></div></div></div></div>"
      ],
      "text/plain": [
       "Pipeline(steps=[('onehotencoder',\n",
       "                 OneHotEncoder(cols=['borough'], use_cat_names=True)),\n",
       "                ('simpleimputer', SimpleImputer()), ('ridge', Ridge())])"
      ]
     },
     "execution_count": 184,
     "metadata": {},
     "output_type": "execute_result"
    }
   ],
   "source": [
    "# Build Model\n",
    "model=make_pipeline(\n",
    "    OneHotEncoder(use_cat_names=True),\n",
    "    SimpleImputer(),\n",
    "    Ridge()\n",
    "    \n",
    ")\n",
    "# Fit model\n",
    "model.fit(X_train,y_train)\n"
   ]
  },
  {
   "cell_type": "markdown",
   "id": "432b2c22-9c54-4326-84a7-0f34d99ff193",
   "metadata": {},
   "source": [
    "## Evaluate"
   ]
  },
  {
   "cell_type": "markdown",
   "id": "157be0ad-80c4-4b2a-9b44-60ffd2dd9c84",
   "metadata": {},
   "source": [
    "**Task 2.5.10**"
   ]
  },
  {
   "cell_type": "markdown",
   "id": "d71a31f5-3f69-4c4f-9541-62d9a9e0e2c4",
   "metadata": {},
   "source": [
    "<div class=\"alert alert-block alert-info\">\n",
    "<b>Tip:</b> Make sure the <code>X_train</code> you used to train your model has the same column order as <code>X_test</code>. Otherwise, it may hurt your model's performance.\n",
    "</div>"
   ]
  },
  {
   "cell_type": "code",
   "execution_count": 180,
   "id": "9fcb2d73-9c22-4e0c-b6d0-02318981c3d0",
   "metadata": {},
   "outputs": [
    {
     "name": "stdout",
     "output_type": "stream",
     "text": [
      "<class 'pandas.core.frame.DataFrame'>\n",
      "RangeIndex: 1041 entries, 0 to 1040\n",
      "Data columns (total 4 columns):\n",
      " #   Column                 Non-Null Count  Dtype  \n",
      "---  ------                 --------------  -----  \n",
      " 0   surface_covered_in_m2  1041 non-null   float64\n",
      " 1   lat                    986 non-null    float64\n",
      " 2   lon                    986 non-null    float64\n",
      " 3   borough                1041 non-null   object \n",
      "dtypes: float64(3), object(1)\n",
      "memory usage: 32.7+ KB\n",
      "None\n"
     ]
    },
    {
     "data": {
      "text/html": [
       "<div>\n",
       "<style scoped>\n",
       "    .dataframe tbody tr th:only-of-type {\n",
       "        vertical-align: middle;\n",
       "    }\n",
       "\n",
       "    .dataframe tbody tr th {\n",
       "        vertical-align: top;\n",
       "    }\n",
       "\n",
       "    .dataframe thead th {\n",
       "        text-align: right;\n",
       "    }\n",
       "</style>\n",
       "<table border=\"1\" class=\"dataframe\">\n",
       "  <thead>\n",
       "    <tr style=\"text-align: right;\">\n",
       "      <th></th>\n",
       "      <th>surface_covered_in_m2</th>\n",
       "      <th>lat</th>\n",
       "      <th>lon</th>\n",
       "      <th>borough</th>\n",
       "    </tr>\n",
       "  </thead>\n",
       "  <tbody>\n",
       "    <tr>\n",
       "      <th>0</th>\n",
       "      <td>60.0</td>\n",
       "      <td>19.493185</td>\n",
       "      <td>-99.205755</td>\n",
       "      <td>Azcapotzalco</td>\n",
       "    </tr>\n",
       "    <tr>\n",
       "      <th>1</th>\n",
       "      <td>55.0</td>\n",
       "      <td>19.307247</td>\n",
       "      <td>-99.166700</td>\n",
       "      <td>Coyoacán</td>\n",
       "    </tr>\n",
       "    <tr>\n",
       "      <th>2</th>\n",
       "      <td>50.0</td>\n",
       "      <td>19.363469</td>\n",
       "      <td>-99.010141</td>\n",
       "      <td>Iztapalapa</td>\n",
       "    </tr>\n",
       "    <tr>\n",
       "      <th>3</th>\n",
       "      <td>60.0</td>\n",
       "      <td>19.474655</td>\n",
       "      <td>-99.189277</td>\n",
       "      <td>Azcapotzalco</td>\n",
       "    </tr>\n",
       "    <tr>\n",
       "      <th>4</th>\n",
       "      <td>74.0</td>\n",
       "      <td>19.394628</td>\n",
       "      <td>-99.143842</td>\n",
       "      <td>Benito Juárez</td>\n",
       "    </tr>\n",
       "  </tbody>\n",
       "</table>\n",
       "</div>"
      ],
      "text/plain": [
       "   surface_covered_in_m2        lat        lon        borough\n",
       "0                   60.0  19.493185 -99.205755   Azcapotzalco\n",
       "1                   55.0  19.307247 -99.166700       Coyoacán\n",
       "2                   50.0  19.363469 -99.010141     Iztapalapa\n",
       "3                   60.0  19.474655 -99.189277   Azcapotzalco\n",
       "4                   74.0  19.394628 -99.143842  Benito Juárez"
      ]
     },
     "execution_count": 180,
     "metadata": {},
     "output_type": "execute_result"
    }
   ],
   "source": [
    "X_test =pd.read_csv(\"data/mexico-city-test-features.csv\")\n",
    "print(X_test.info())\n",
    "X_test.head()"
   ]
  },
  {
   "cell_type": "markdown",
   "id": "a7dfeb49-87ba-4eac-9502-b2851a8f3da9",
   "metadata": {},
   "source": [
    "**Task 2.5.11**"
   ]
  },
  {
   "cell_type": "code",
   "execution_count": 181,
   "id": "ff1f3096-cab7-4ef6-8f18-d64fe5fc6a6f",
   "metadata": {},
   "outputs": [
    {
     "data": {
      "text/plain": [
       "0    53538.366480\n",
       "1    53171.988369\n",
       "2    34263.884179\n",
       "3    53488.425607\n",
       "4    68738.924884\n",
       "dtype: float64"
      ]
     },
     "execution_count": 181,
     "metadata": {},
     "output_type": "execute_result"
    }
   ],
   "source": [
    "y_test_pred =y_pred_test = pd.Series(model.predict(X_test).squeeze())\n",
    "y_test_pred.head()"
   ]
  },
  {
   "cell_type": "markdown",
   "id": "61a510f1-d69d-40ba-838d-208d1cda2275",
   "metadata": {},
   "source": [
    "# Communicate Results"
   ]
  },
  {
   "cell_type": "markdown",
   "id": "087e1df2-8025-4f95-b3b0-3071ff4aebd3",
   "metadata": {},
   "source": [
    "**Task 2.5.12** "
   ]
  },
  {
   "cell_type": "code",
   "execution_count": 163,
   "id": "ee491b91-5e60-4ca2-9d1e-bfd99f483ca2",
   "metadata": {},
   "outputs": [],
   "source": []
  },
  {
   "cell_type": "code",
   "execution_count": 187,
   "id": "8c52a764-6041-4765-bf99-5c330d567e5e",
   "metadata": {},
   "outputs": [
    {
     "data": {
      "text/plain": [
       "surface_covered_in_m2               291.654156\n",
       "lat                                 478.901375\n",
       "lon                               -2492.221814\n",
       "borough_Benito Juárez             13778.188880\n",
       "borough_Iztacalco                   405.403127\n",
       "borough_Azcapotzalco               2459.288646\n",
       "borough_Coyoacán                   3737.561001\n",
       "borough_Álvaro Obregón             3275.121061\n",
       "borough_Iztapalapa               -13349.017448\n",
       "borough_Cuauhtémoc                 -350.531990\n",
       "borough_Tláhuac                  -14166.869486\n",
       "borough_Miguel Hidalgo             1977.314718\n",
       "borough_Venustiano Carranza       -5609.918629\n",
       "borough_Tlalpan                   10319.429804\n",
       "borough_Gustavo A. Madero         -6637.429757\n",
       "borough_Xochimilco                  929.857400\n",
       "borough_La Magdalena Contreras    -5925.666450\n",
       "borough_Cuajimalpa de Morelos      9157.269123\n",
       "dtype: float64"
      ]
     },
     "execution_count": 187,
     "metadata": {},
     "output_type": "execute_result"
    }
   ],
   "source": [
    "coefficients =model.named_steps[\"ridge\"].coef_\n",
    "\n",
    "features = model.named_steps[\"onehotencoder\"].get_feature_names_out()\n",
    "\n",
    "feat_imp = pd.Series(coefficients, index=features)\n",
    "feat_imp"
   ]
  },
  {
   "cell_type": "markdown",
   "id": "34eab663-5a3d-4e33-afef-7871c8023c21",
   "metadata": {},
   "source": [
    "**Task 2.5.13**"
   ]
  },
  {
   "cell_type": "code",
   "execution_count": 196,
   "id": "647012e4-15de-4efc-bd04-397b43ea7e80",
   "metadata": {},
   "outputs": [
    {
     "data": {
      "text/plain": [
       "Text(0.5, 1.0, 'Feature Importances for Apartment Price')"
      ]
     },
     "execution_count": 196,
     "metadata": {},
     "output_type": "execute_result"
    },
    {
     "data": {
      "image/png": "[encoded data removed]",
      "text/plain": [
       "<Figure size 640x480 with 1 Axes>"
      ]
     },
     "metadata": {},
     "output_type": "display_data"
    },
    {
     "data": {
      "image/png": "[encoded data removed]",
      "text/plain": [
       "<Figure size 640x480 with 1 Axes>"
      ]
     },
     "metadata": {},
     "output_type": "display_data"
    }
   ],
   "source": [
    "fig, ax = plt.subplots()\n",
    "\n",
    "# Create the horizontal bar plot on the axes object\n",
    "top_features = feat_imp.sort_values(key=abs).tail(10)\n",
    "fig, ax = plt.subplots()\n",
    "top_features.plot(kind=\"barh\", ax=ax)\n",
    "\n",
    "\n",
    "#  Label axes \n",
    "ax.set_xlabel(\"Importance [USD]\") \n",
    "ax.set_ylabel(\"Feature\")\n",
    "\n",
    "# Add title \n",
    "ax.set_title(\"Feature Importances for Apartment Price\")"
   ]
  },
  {
   "cell_type": "markdown",
   "id": "3049a42c",
   "metadata": {
    "deletable": false,
    "editable": false
   },
   "source": [
    "---\n",
    "Copyright 2024 WorldQuant University. This\n",
    "content is licensed solely for personal use. Redistribution or\n",
    "publication of this material is strictly prohibited.\n"
   ]
  },
  {
   "cell_type": "code",
   "execution_count": null,
   "id": "7049c98a-f140-4187-b6c9-c94b938fdaed",
   "metadata": {},
   "outputs": [],
   "source": []
  }
 ],
 "metadata": {
  "kernelspec": {
   "display_name": "Python 3 (ipykernel)",
   "language": "python",
   "name": "python3"
  },
  "language_info": {
   "codemirror_mode": {
    "name": "ipython",
    "version": 3
   },
   "file_extension": ".py",
   "mimetype": "text/x-python",
   "name": "python",
   "nbconvert_exporter": "python",
   "pygments_lexer": "ipython3",
   "version": "3.11.0"
  },
  "widgets": {
   "application/vnd.jupyter.widget-state+json": {
    "state": {},
    "version_major": 2,
    "version_minor": 0
   }
  }
 },
 "nbformat": 4,
 "nbformat_minor": 5
}
