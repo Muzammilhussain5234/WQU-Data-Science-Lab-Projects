{
 "cells": [
  {
   "cell_type": "markdown",
   "id": "ef8ba206",
   "metadata": {},
   "source": [
    "<font size=\"+3\"><strong>2.3. Predicting Price with Neighborhood</strong></font>"
   ]
  },
  {
   "cell_type": "code",
   "execution_count": 1,
   "id": "d4432892",
   "metadata": {},
   "outputs": [],
   "source": [
    "import warnings\n",
    "from glob import glob\n",
    "\n",
    "import matplotlib.pyplot as plt\n",
    "import numpy as np\n",
    "import pandas as pd\n",
    "from category_encoders import OneHotEncoder\n",
    "from IPython.display import VimeoVideo\n",
    "from sklearn.linear_model import LinearRegression, Ridge  # noqa F401\n",
    "from sklearn.metrics import mean_absolute_error\n",
    "from sklearn.pipeline import make_pipeline\n",
    "from sklearn.utils.validation import check_is_fitted\n",
    "\n",
    "warnings.simplefilter(action=\"ignore\", category=FutureWarning)"
   ]
  },
  {
   "cell_type": "markdown",
   "id": "6d20436c",
   "metadata": {},
   "source": [
    "In the last lesson, we created a model that used location — represented by latitude and longitude — to predict price. In this lesson, we're going to use a different representation for location: neighborhood. "
   ]
  },
  {
   "cell_type": "code",
   "execution_count": null,
   "id": "9146209d",
   "metadata": {},
   "outputs": [],
   "source": [
    "VimeoVideo(\"656790491\", h=\"6325554e55\", width=600)"
   ]
  },
  {
   "cell_type": "markdown",
   "id": "b67175f7",
   "metadata": {},
   "source": [
    "# Prepare Data"
   ]
  },
  {
   "cell_type": "markdown",
   "id": "68d1a9b7",
   "metadata": {},
   "source": [
    "## Import"
   ]
  },
  {
   "cell_type": "code",
   "execution_count": null,
   "id": "54deb7f2",
   "metadata": {},
   "outputs": [],
   "source": [
    "def wrangle(filepath):\n",
    "    # Read CSV file\n",
    "    df = pd.read_csv(filepath)\n",
    "\n",
    "    # Subset data: Apartments in \"Capital Federal\", less than 400,000\n",
    "    mask_ba = df[\"place_with_parent_names\"].str.contains(\"Capital Federal\")\n",
    "    mask_apt = df[\"property_type\"] == \"apartment\"\n",
    "    mask_price = df[\"price_aprox_usd\"] < 400_000\n",
    "    df = df[mask_ba & mask_apt & mask_price]\n",
    "\n",
    "    # Subset data: Remove outliers for \"surface_covered_in_m2\"\n",
    "    low, high = df[\"surface_covered_in_m2\"].quantile([0.1, 0.9])\n",
    "    mask_area = df[\"surface_covered_in_m2\"].between(low, high)\n",
    "    df = df[mask_area]\n",
    "\n",
    "    # Split \"lat-lon\" column\n",
    "    df[[\"lat\", \"lon\"]] = df[\"lat-lon\"].str.split(\",\", expand=True).astype(float)\n",
    "    df.drop(columns=\"lat-lon\", inplace=True)\n",
    "    df[\"neighborhood\"]=df[\"place_with_parent_names\"].str.split(\"|\",expand=True)[3]\n",
    "    df.drop(columns=\"place_with_parent_names\",inplace=True)\n",
    "\n",
    "    \n",
    "\n",
    "    return df"
   ]
  },
  {
   "cell_type": "markdown",
   "id": "d87ee217",
   "metadata": {},
   "source": [
    "In the last lesson, we used our `wrangle` function to import two CSV files as DataFrames. But what if we had hundreds of CSV files to import? Wrangling them one-by-one wouldn't be an option. So let's start with a technique for reading several CSV files into a single DataFrame. \n",
    "\n",
    "The first step is to gather the names of all the files we want to import. We can do this using pattern matching. <span style='color: transparent; font-size:1%'>WQU WorldQuant University Applied Data Science Lab QQQQ</span>"
   ]
  },
  {
   "cell_type": "code",
   "execution_count": 8,
   "id": "a1620f59",
   "metadata": {},
   "outputs": [
    {
     "data": {
      "text/html": [
       "\n",
       "        <iframe\n",
       "            width=\"600\"\n",
       "            height=\"300\"\n",
       "            src=\"https://player.vimeo.com/video/656790237?h=1502e3765a\"\n",
       "            frameborder=\"0\"\n",
       "            allowfullscreen\n",
       "            \n",
       "        ></iframe>\n",
       "        "
      ],
      "text/plain": [
       "<IPython.lib.display.VimeoVideo at 0x7c5dc9711750>"
      ]
     },
     "execution_count": 8,
     "metadata": {},
     "output_type": "execute_result"
    }
   ],
   "source": [
    "VimeoVideo(\"656790237\", h=\"1502e3765a\", width=600)"
   ]
  },
  {
   "cell_type": "markdown",
   "id": "530d564f",
   "metadata": {},
   "source": [
    "**Task 2.3.1:** Use [`glob`](https://docs.python.org/3/library/glob.html#glob.glob) to create a list that contains the filenames for all the Buenos Aires real estate CSV files in the `data` directory. Assign this list to the variable name `files`.\n",
    "\n",
    "- [<span id='technique'>Assemble a list of path names that match a pattern in <span id='tool'>glob.](../%40textbook/02-python-advanced.ipynb#Working-with-strings-)"
   ]
  },
  {
   "cell_type": "code",
   "execution_count": 9,
   "id": "e9bbce0f",
   "metadata": {},
   "outputs": [
    {
     "data": {
      "text/plain": [
       "['data/buenos-aires-real-estate-1.csv',\n",
       " 'data/buenos-aires-real-estate-5.csv',\n",
       " 'data/buenos-aires-real-estate-3.csv',\n",
       " 'data/buenos-aires-real-estate-4.csv',\n",
       " 'data/buenos-aires-real-estate-2.csv']"
      ]
     },
     "execution_count": 9,
     "metadata": {},
     "output_type": "execute_result"
    }
   ],
   "source": [
    "files =glob(\"data/buenos-aires-real-estate-*.csv\")\n",
    "files"
   ]
  },
  {
   "cell_type": "code",
   "execution_count": 10,
   "id": "205cface",
   "metadata": {},
   "outputs": [],
   "source": [
    "# Check your work\n",
    "assert len(files) == 5, f\"`files` should contain 5 items, not {len(files)}\""
   ]
  },
  {
   "cell_type": "markdown",
   "id": "986c0edf",
   "metadata": {},
   "source": [
    "The next step is to read each of the CSVs in `files` into a DataFrame, and put all of those DataFrames into a list. What's a good way to iterate through `files` so we can do this? A `for` loop!"
   ]
  },
  {
   "cell_type": "code",
   "execution_count": 11,
   "id": "432fd39f",
   "metadata": {},
   "outputs": [
    {
     "data": {
      "text/html": [
       "\n",
       "        <iframe\n",
       "            width=\"600\"\n",
       "            height=\"300\"\n",
       "            src=\"https://player.vimeo.com/video/656789768?h=3b8f3bca0b\"\n",
       "            frameborder=\"0\"\n",
       "            allowfullscreen\n",
       "            \n",
       "        ></iframe>\n",
       "        "
      ],
      "text/plain": [
       "<IPython.lib.display.VimeoVideo at 0x7c5dc9724ed0>"
      ]
     },
     "execution_count": 11,
     "metadata": {},
     "output_type": "execute_result"
    }
   ],
   "source": [
    "VimeoVideo(\"656789768\", h=\"3b8f3bca0b\", width=600)"
   ]
  },
  {
   "cell_type": "markdown",
   "id": "81e899f9",
   "metadata": {},
   "source": [
    "**Task 2.3.2:** Use your `wrangle` function in a `for` loop to create a list named `frames`. The list should the cleaned DataFrames created from the CSV filenames your collected in `files`.\n",
    "\n",
    "- [What's a <span id='term'>for loop</span>?](../%40textbook/01-python-getting-started.ipynb#Python-for-Loops)\n",
    "- [<span id='technique'>Write a for loop in <span id='tool'>Python.](../%40textbook/01-python-getting-started.ipynb#Working-with-for-Loops)"
   ]
  },
  {
   "cell_type": "code",
   "execution_count": 12,
   "id": "4b9e7959",
   "metadata": {},
   "outputs": [
    {
     "name": "stdout",
     "output_type": "stream",
     "text": [
      "     operation property_type      price currency  price_aprox_local_currency  \\\n",
      "4         sell     apartment   129000.0      USD                  1955949.60   \n",
      "9         sell     apartment    87000.0      USD                  1319128.80   \n",
      "29        sell     apartment   118000.0      USD                  1789163.20   \n",
      "40        sell     apartment    57000.0      USD                   864256.80   \n",
      "41        sell     apartment    90000.0      USD                  1364616.00   \n",
      "...        ...           ...        ...      ...                         ...   \n",
      "8589      sell     apartment  1118100.0      ARS                  1114996.65   \n",
      "8590      sell     apartment   119000.0      USD                  1804325.60   \n",
      "8593      sell     apartment    62000.0      USD                   940068.80   \n",
      "8601      sell     apartment   125000.0      USD                  1895300.00   \n",
      "8604      sell     apartment    78000.0      USD                  1182667.20   \n",
      "\n",
      "      price_aprox_usd  surface_total_in_m2  surface_covered_in_m2  \\\n",
      "4           129000.00                 76.0                   70.0   \n",
      "9            87000.00                 48.0                   42.0   \n",
      "29          118000.00                  NaN                   54.0   \n",
      "40           57000.00                 42.0                   42.0   \n",
      "41           90000.00                 57.0                   50.0   \n",
      "...               ...                  ...                    ...   \n",
      "8589         73536.95                 49.0                   42.0   \n",
      "8590        119000.00                 46.0                   41.0   \n",
      "8593         62000.00                  NaN                   43.0   \n",
      "8601        125000.00                  NaN                   70.0   \n",
      "8604         78000.00                 52.0                   52.0   \n",
      "\n",
      "      price_usd_per_m2  price_per_m2  floor  rooms expenses  \\\n",
      "4          1697.368421   1842.857143    NaN    NaN      NaN   \n",
      "9          1812.500000   2071.428571    NaN    NaN      NaN   \n",
      "29                 NaN   2185.185185    NaN    2.0      NaN   \n",
      "40         1357.142857   1357.142857    5.0    2.0      364   \n",
      "41         1578.947368   1800.000000    NaN    3.0      450   \n",
      "...                ...           ...    ...    ...      ...   \n",
      "8589       1500.754082  26621.428571    3.0    1.0      NaN   \n",
      "8590       2586.956522   2902.439024    NaN    NaN      NaN   \n",
      "8593               NaN   1441.860465    NaN    2.0      NaN   \n",
      "8601               NaN   1785.714286    2.0    3.0      NaN   \n",
      "8604       1500.000000   1500.000000    NaN    NaN      NaN   \n",
      "\n",
      "                                          properati_url        lat        lon  \\\n",
      "4     http://chacarita.properati.com.ar/10qlv_venta_... -34.584651 -58.454693   \n",
      "9     http://villa-luro.properati.com.ar/12m82_venta... -34.638979 -58.500115   \n",
      "29    http://caballito.properati.com.ar/11wqh_venta_... -34.615847 -58.459957   \n",
      "40    http://constitucion.properati.com.ar/k2f0_vent... -34.625222 -58.382382   \n",
      "41    http://once.properati.com.ar/suwa_venta_depart... -34.610610 -58.412511   \n",
      "...                                                 ...        ...        ...   \n",
      "8589  http://barracas.properati.com.ar/npf1_venta_de... -34.631591 -58.370191   \n",
      "8590  http://almagro.properati.com.ar/ea4d_venta_dep... -34.604555 -58.418206   \n",
      "8593  http://barracas.properati.com.ar/oc61_venta_de... -34.624002 -58.390588   \n",
      "8601  http://san-nicolas.properati.com.ar/1004t_vent... -34.601455 -58.378132   \n",
      "8604  http://boedo.properati.com.ar/eh9b_venta_depar...        NaN        NaN   \n",
      "\n",
      "      neighborhood  \n",
      "4        Chacarita  \n",
      "9       Villa Luro  \n",
      "29       Caballito  \n",
      "40    Constitución  \n",
      "41            Once  \n",
      "...            ...  \n",
      "8589      Barracas  \n",
      "8590       Almagro  \n",
      "8593      Barracas  \n",
      "8601   San Nicolás  \n",
      "8604         Boedo  \n",
      "\n",
      "[1343 rows x 17 columns]\n",
      "     operation property_type     price currency  price_aprox_local_currency  \\\n",
      "3         sell     apartment  112000.0      USD                  1698188.80   \n",
      "9         sell     apartment   76500.0      USD                  1159923.60   \n",
      "18        sell     apartment   90000.0      USD                  1364616.00   \n",
      "20        sell     apartment  159900.0      USD                  2424467.76   \n",
      "21        sell     apartment  123875.0      USD                  1878242.30   \n",
      "...        ...           ...       ...      ...                         ...   \n",
      "8566      sell     apartment  290000.0      USD                  4397096.00   \n",
      "8573      sell     apartment  150000.0      USD                  2274360.00   \n",
      "8577      sell     apartment   65000.0      USD                   985556.00   \n",
      "8578      sell     apartment   91440.0      USD                  1386449.85   \n",
      "8597      sell     apartment   89000.0      USD                  1349453.60   \n",
      "\n",
      "      price_aprox_usd  surface_total_in_m2  surface_covered_in_m2  \\\n",
      "3            112000.0                  NaN                   60.0   \n",
      "9             76500.0                  0.0                   36.0   \n",
      "18            90000.0                100.0                  100.0   \n",
      "20           159900.0                 82.0                   77.0   \n",
      "21           123875.0                 79.0                   50.0   \n",
      "...               ...                  ...                    ...   \n",
      "8566         290000.0                 93.0                   83.0   \n",
      "8573         150000.0                 92.0                   45.0   \n",
      "8577          65000.0                 42.0                   42.0   \n",
      "8578          91440.0                  NaN                   48.0   \n",
      "8597          89000.0                 59.0                   46.0   \n",
      "\n",
      "      price_usd_per_m2  price_per_m2  floor  rooms  expenses  \\\n",
      "3                  NaN   1866.666667    1.0    2.0       NaN   \n",
      "9                  NaN   2125.000000    NaN    2.0    1000.0   \n",
      "18          900.000000    900.000000    NaN    3.0       NaN   \n",
      "20         1950.000000   2076.623377    NaN    3.0       NaN   \n",
      "21         1568.037975   2477.500000    NaN    2.0       NaN   \n",
      "...                ...           ...    ...    ...       ...   \n",
      "8566       3118.279570   3493.975904    NaN    4.0       NaN   \n",
      "8573       1630.434783   3333.333333    NaN    1.0    1000.0   \n",
      "8577       1547.619048   1547.619048    NaN    2.0    1000.0   \n",
      "8578               NaN   1905.000000    6.0    2.0       NaN   \n",
      "8597       1508.474576   1934.782609    NaN    1.0    3708.0   \n",
      "\n",
      "                                          properati_url        lat        lon  \\\n",
      "3     http://belgrano.properati.com.ar/116pr_venta_d... -34.564676 -58.455720   \n",
      "9     http://caballito.properati.com.ar/12ksf_venta_... -34.618830 -58.437779   \n",
      "18    http://belgrano.properati.com.ar/zouu_venta_de... -34.577168 -58.538654   \n",
      "20    http://colegiales.properati.com.ar/zpcd_venta_... -34.571526 -58.455637   \n",
      "21    http://colegiales.properati.com.ar/12sbf_venta... -34.578688 -58.457358   \n",
      "...                                                 ...        ...        ...   \n",
      "8566  http://liniers.properati.com.ar/t11h_venta_dep... -34.639528 -58.519666   \n",
      "8573  http://palermo.properati.com.ar/zowv_venta_dep... -34.597825 -58.416439   \n",
      "8577  http://mataderos.properati.com.ar/11zcp_venta_... -34.652233 -58.490739   \n",
      "8578  http://mataderos.properati.com.ar/xlo5_venta_d... -34.648761 -58.500180   \n",
      "8597  http://monserrat.properati.com.ar/zucb_venta_d... -34.620384 -58.387360   \n",
      "\n",
      "     neighborhood  \n",
      "3        Belgrano  \n",
      "9       Caballito  \n",
      "18       Belgrano  \n",
      "20     Colegiales  \n",
      "21     Colegiales  \n",
      "...           ...  \n",
      "8566      Liniers  \n",
      "8573      Palermo  \n",
      "8577    Mataderos  \n",
      "8578    Mataderos  \n",
      "8597    Monserrat  \n",
      "\n",
      "[1331 rows x 17 columns]\n",
      "     operation property_type     price currency  price_aprox_local_currency  \\\n",
      "7         sell     apartment  120000.0      USD                  1819488.00   \n",
      "20        sell     apartment   89000.0      USD                  1349453.60   \n",
      "21        sell     apartment  183495.0      USD                  2782224.58   \n",
      "41        sell     apartment   95000.0      USD                  1440428.00   \n",
      "43        sell     apartment   95000.0      USD                  1440428.00   \n",
      "...        ...           ...       ...      ...                         ...   \n",
      "8574      sell     apartment  145000.0      USD                  2198548.00   \n",
      "8577      sell     apartment  149000.0      USD                  2259197.60   \n",
      "8582      sell     apartment  118000.0      USD                  1789163.20   \n",
      "8593      sell     apartment   77800.0      USD                  1179634.72   \n",
      "8605      sell     apartment  159000.0      USD                  2410821.60   \n",
      "\n",
      "      price_aprox_usd  surface_total_in_m2  surface_covered_in_m2  \\\n",
      "7            120000.0                  NaN                   55.0   \n",
      "20            89000.0                  NaN                   37.0   \n",
      "21           183495.0                 92.0                   57.0   \n",
      "41            95000.0                 53.0                   47.0   \n",
      "43            95000.0                  0.0                   35.0   \n",
      "...               ...                  ...                    ...   \n",
      "8574         145000.0                 50.0                   50.0   \n",
      "8577         149000.0                 53.0                   50.0   \n",
      "8582         118000.0                 40.0                   40.0   \n",
      "8593          77800.0                  NaN                   36.0   \n",
      "8605         159000.0                 68.0                   68.0   \n",
      "\n",
      "      price_usd_per_m2  price_per_m2  floor  rooms  expenses  \\\n",
      "7                  NaN   2181.818182    NaN    2.0       NaN   \n",
      "20                 NaN   2405.405405    7.0    2.0       NaN   \n",
      "21         1994.510870   3219.210526    NaN    2.0       NaN   \n",
      "41         1792.452830   2021.276596    NaN    2.0       NaN   \n",
      "43                 NaN   2714.285714    NaN    1.0       NaN   \n",
      "...                ...           ...    ...    ...       ...   \n",
      "8574       2900.000000   2900.000000    NaN    NaN       NaN   \n",
      "8577       2811.320755   2980.000000    NaN    NaN       NaN   \n",
      "8582       2950.000000   2950.000000    NaN    2.0    1790.0   \n",
      "8593               NaN   2161.111111    NaN    2.0       NaN   \n",
      "8605       2338.235294   2338.235294    NaN    3.0       NaN   \n",
      "\n",
      "                                          properati_url        lat        lon  \\\n",
      "7     http://villa-general-mitre.properati.com.ar/xx... -34.616004 -58.470506   \n",
      "20    http://palermo.properati.com.ar/ya5i_venta_dep... -34.584712 -58.444927   \n",
      "21    http://saavedra.properati.com.ar/12izq_venta_d... -34.554652 -58.493644   \n",
      "41    http://villa-del-parque.properati.com.ar/wy0n_... -34.610581 -58.479625   \n",
      "43    http://belgrano.properati.com.ar/xw9a_venta_de... -34.558227 -58.458357   \n",
      "...                                                 ...        ...        ...   \n",
      "8574  http://belgrano.properati.com.ar/e4x0_venta_de... -34.553534 -58.436914   \n",
      "8577  http://recoleta.properati.com.ar/11a35_venta_d... -34.583538 -58.405318   \n",
      "8582  http://belgrano.properati.com.ar/zugq_venta_de... -34.568917 -58.457627   \n",
      "8593  http://san-cristobal.properati.com.ar/1164k_ve... -34.622790 -58.394566   \n",
      "8605  http://belgrano.properati.com.ar/xbwm_venta_de... -34.565152 -58.452266   \n",
      "\n",
      "             neighborhood  \n",
      "7     Villa General Mitre  \n",
      "20                Palermo  \n",
      "21               Saavedra  \n",
      "41       Villa del Parque  \n",
      "43               Belgrano  \n",
      "...                   ...  \n",
      "8574             Belgrano  \n",
      "8577             Recoleta  \n",
      "8582             Belgrano  \n",
      "8593        San Cristobal  \n",
      "8605             Belgrano  \n",
      "\n",
      "[1288 rows x 17 columns]\n",
      "     operation property_type      price currency  price_aprox_local_currency  \\\n",
      "14        sell     apartment    59000.0      USD                   894581.60   \n",
      "19        sell     apartment    78900.0      USD                  1196313.36   \n",
      "20        sell     apartment   240000.0      USD                  3638976.00   \n",
      "23        sell     apartment    75000.0      USD                  1137180.00   \n",
      "24        sell     apartment   110000.0      USD                  1667864.00   \n",
      "...        ...           ...        ...      ...                         ...   \n",
      "8594      sell     apartment   227000.0      USD                  3441864.80   \n",
      "8600      sell     apartment    85267.0      USD                  1292852.36   \n",
      "8601      sell     apartment  1200000.0      ARS                  1196669.37   \n",
      "8602      sell     apartment   240000.0      USD                  3638976.00   \n",
      "8603      sell     apartment   844779.0      ARS                   842434.31   \n",
      "\n",
      "      price_aprox_usd  surface_total_in_m2  surface_covered_in_m2  \\\n",
      "14           59000.00                  0.0                   40.0   \n",
      "19           78900.00                 43.0                   38.0   \n",
      "20          240000.00                 97.0                   88.0   \n",
      "23           75000.00                  NaN                   34.0   \n",
      "24          110000.00                  NaN                   46.0   \n",
      "...               ...                  ...                    ...   \n",
      "8594        227000.00                126.0                   84.0   \n",
      "8600         85267.00                 40.0                   38.0   \n",
      "8601         78923.48                  NaN                   50.0   \n",
      "8602        240000.00                 55.0                   44.0   \n",
      "8603         55560.75                  0.0                   38.0   \n",
      "\n",
      "      price_usd_per_m2  price_per_m2  floor  rooms  expenses  \\\n",
      "14                 NaN   1475.000000    NaN    2.0       NaN   \n",
      "19         1834.883721   2076.315789    1.0    1.0    1600.0   \n",
      "20         2474.226804   2727.272727    NaN    4.0       NaN   \n",
      "23                 NaN   2205.882353    4.0    2.0       NaN   \n",
      "24                 NaN   2391.304348    2.0    2.0       NaN   \n",
      "...                ...           ...    ...    ...       ...   \n",
      "8594       1801.587302   2702.380952    NaN    4.0    3200.0   \n",
      "8600       2131.675000   2243.868421    NaN    1.0       NaN   \n",
      "8601               NaN  24000.000000    NaN    2.0       NaN   \n",
      "8602       4363.636364   5454.545455    NaN    2.0       NaN   \n",
      "8603               NaN  22231.026316    NaN    1.0       NaN   \n",
      "\n",
      "                                          properati_url        lat        lon  \\\n",
      "14    http://paternal.properati.com.ar/12t3j_venta_d... -34.604069 -58.460209   \n",
      "19    http://congreso.properati.com.ar/12j7y_venta_d... -34.620026 -58.388467   \n",
      "20    http://agronomia.properati.com.ar/10vec_venta_... -34.599857 -58.489002   \n",
      "23    http://balvanera.properati.com.ar/10vnl_venta_... -34.612338 -58.401328   \n",
      "24    http://parque-chas.properati.com.ar/yc23_venta... -34.586160 -58.475633   \n",
      "...                                                 ...        ...        ...   \n",
      "8594  http://villa-general-mitre.properati.com.ar/vi... -34.614835 -58.466307   \n",
      "8600  http://san-telmo.properati.com.ar/vayv_venta_d... -34.623335 -58.374838   \n",
      "8601  http://barracas.properati.com.ar/11bzh_venta_d... -34.631213 -58.371545   \n",
      "8602  http://palermo.properati.com.ar/ounv_venta_dep... -34.562500 -58.458333   \n",
      "8603  http://villa-luro.properati.com.ar/sj8e_venta_... -34.644475 -58.495944   \n",
      "\n",
      "             neighborhood  \n",
      "14               Paternal  \n",
      "19               Congreso  \n",
      "20              Agronomía  \n",
      "23              Balvanera  \n",
      "24            Parque Chas  \n",
      "...                   ...  \n",
      "8594  Villa General Mitre  \n",
      "8600            San Telmo  \n",
      "8601             Barracas  \n",
      "8602              Palermo  \n",
      "8603           Villa Luro  \n",
      "\n",
      "[1305 rows x 17 columns]\n",
      "     operation property_type      price currency  price_aprox_local_currency  \\\n",
      "2         sell     apartment   215000.0      USD                  3259916.00   \n",
      "9         sell     apartment   341550.0      USD                  5178717.72   \n",
      "12        sell     apartment  1386000.0      ARS                  1382153.13   \n",
      "13        sell     apartment   105000.0      USD                  1592052.00   \n",
      "17        sell     apartment    89681.0      USD                  1359779.19   \n",
      "...        ...           ...        ...      ...                         ...   \n",
      "8553      sell     apartment   112000.0      USD                  1698188.80   \n",
      "8563      sell     apartment   145000.0      USD                  2198548.00   \n",
      "8572      sell     apartment   180000.0      USD                  2729232.00   \n",
      "8582      sell     apartment   119500.0      USD                  1811906.80   \n",
      "8585      sell     apartment  4045624.0      ARS                  4034395.31   \n",
      "\n",
      "      price_aprox_usd  surface_total_in_m2  surface_covered_in_m2  \\\n",
      "2           215000.00                 40.0                   35.0   \n",
      "9           341550.00                  NaN                   90.0   \n",
      "12           91156.62                 39.0                   33.0   \n",
      "13          105000.00                  NaN                   33.0   \n",
      "17           89681.00                 46.0                   39.0   \n",
      "...               ...                  ...                    ...   \n",
      "8553        112000.00                  NaN                   38.0   \n",
      "8563        145000.00                  NaN                   40.0   \n",
      "8572        180000.00                 65.0                   60.0   \n",
      "8582        119500.00                 44.0                   40.0   \n",
      "8585        266078.94                 87.0                   77.0   \n",
      "\n",
      "      price_usd_per_m2  price_per_m2  floor  rooms  expenses  \\\n",
      "2          5375.000000   6142.857143    NaN    1.0    3500.0   \n",
      "9                  NaN   3795.000000    8.0    2.0       NaN   \n",
      "12         2337.349231  42000.000000    NaN    NaN       NaN   \n",
      "13                 NaN   3181.818182    1.0    1.0       NaN   \n",
      "17         1949.586957   2299.512821    NaN    1.0    1500.0   \n",
      "...                ...           ...    ...    ...       ...   \n",
      "8553               NaN   2947.368421    NaN    2.0       NaN   \n",
      "8563               NaN   3625.000000    1.0    2.0       NaN   \n",
      "8572       2769.230769   3000.000000    NaN    3.0    3500.0   \n",
      "8582       2715.909091   2987.500000    NaN    2.0       NaN   \n",
      "8585       3058.378621  52540.571429    NaN    3.0       NaN   \n",
      "\n",
      "                                          properati_url        lat        lon  \\\n",
      "2     http://recoleta.properati.com.ar/12j4v_venta_d... -34.588993 -58.400133   \n",
      "9     http://recoleta.properati.com.ar/100t0_venta_d... -34.588044 -58.398066   \n",
      "12    http://monserrat.properati.com.ar/t05l_venta_d... -34.623320 -58.397461   \n",
      "13    http://belgrano.properati.com.ar/zsd5_venta_de... -34.553897 -58.451939   \n",
      "17    http://villa-del-parque.properati.com.ar/12q2f... -34.628813 -58.472230   \n",
      "...                                                 ...        ...        ...   \n",
      "8553  http://caballito.properati.com.ar/12d47_venta_... -34.626138 -58.440472   \n",
      "8563  http://palermo.properati.com.ar/10st9_venta_de... -34.590708 -58.415568   \n",
      "8572  http://nunez.properati.com.ar/zoia_venta_depar... -34.537851 -58.470731   \n",
      "8582  http://villa-crespo.properati.com.ar/10auv_ven... -34.596715 -58.444045   \n",
      "8585  http://colegiales.properati.com.ar/10nb4_venta... -34.574537 -58.455439   \n",
      "\n",
      "          neighborhood  \n",
      "2             Recoleta  \n",
      "9             Recoleta  \n",
      "12           Monserrat  \n",
      "13            Belgrano  \n",
      "17    Villa del Parque  \n",
      "...                ...  \n",
      "8553         Caballito  \n",
      "8563           Palermo  \n",
      "8572             Nuñez  \n",
      "8582      Villa Crespo  \n",
      "8585        Colegiales  \n",
      "\n",
      "[1315 rows x 17 columns]\n"
     ]
    }
   ],
   "source": [
    "frames = []\n",
    "for i in files:\n",
    "    df=wrangle(i)\n",
    "    print(df)\n",
    "    frames.append(df)\n"
   ]
  },
  {
   "cell_type": "code",
   "execution_count": null,
   "id": "aa18f6a3-4e85-46fe-9638-e5a1f12001aa",
   "metadata": {},
   "outputs": [],
   "source": []
  },
  {
   "cell_type": "code",
   "execution_count": 13,
   "id": "2a0c5c58",
   "metadata": {},
   "outputs": [],
   "source": [
    "# Check your work\n",
    "assert len(frames) == 5, f\"`frames` should contain 5 items, not {len(frames)}\"\n",
    "assert all(\n",
    "    [isinstance(frame, pd.DataFrame) for frame in frames]\n",
    "), \"The items in `frames` should all be DataFrames.\""
   ]
  },
  {
   "cell_type": "markdown",
   "id": "291a783c",
   "metadata": {},
   "source": [
    "The final step is to use pandas to combine all the DataFrames in `frames`. "
   ]
  },
  {
   "cell_type": "code",
   "execution_count": 14,
   "id": "f674cd98",
   "metadata": {},
   "outputs": [
    {
     "data": {
      "text/html": [
       "\n",
       "        <iframe\n",
       "            width=\"600\"\n",
       "            height=\"300\"\n",
       "            src=\"https://player.vimeo.com/video/656789700?h=57adef4afe\"\n",
       "            frameborder=\"0\"\n",
       "            allowfullscreen\n",
       "            \n",
       "        ></iframe>\n",
       "        "
      ],
      "text/plain": [
       "<IPython.lib.display.VimeoVideo at 0x7c5dc831ac10>"
      ]
     },
     "execution_count": 14,
     "metadata": {},
     "output_type": "execute_result"
    }
   ],
   "source": [
    "VimeoVideo(\"656789700\", h=\"57adef4afe\", width=600)"
   ]
  },
  {
   "cell_type": "markdown",
   "id": "9a3c80f7",
   "metadata": {},
   "source": [
    "**Task 2.3.3:** Use [`pd.concat`](https://pandas.pydata.org/docs/reference/api/pandas.concat.html) to concatenate the items in `frames` into a single DataFrame `df`. Make sure you set the `ignore_index` argument to `True`.\n",
    "\n",
    "- [<span id='technique'>Concatenate two or more DataFrames using <span id='tool'>pandas.](../%40textbook/03-pandas-getting-started.ipynb#Concatenating-DataFrames)"
   ]
  },
  {
   "cell_type": "code",
   "execution_count": 15,
   "id": "c612ace6",
   "metadata": {},
   "outputs": [
    {
     "data": {
      "text/html": [
       "<div>\n",
       "<style scoped>\n",
       "    .dataframe tbody tr th:only-of-type {\n",
       "        vertical-align: middle;\n",
       "    }\n",
       "\n",
       "    .dataframe tbody tr th {\n",
       "        vertical-align: top;\n",
       "    }\n",
       "\n",
       "    .dataframe thead th {\n",
       "        text-align: right;\n",
       "    }\n",
       "</style>\n",
       "<table border=\"1\" class=\"dataframe\">\n",
       "  <thead>\n",
       "    <tr style=\"text-align: right;\">\n",
       "      <th></th>\n",
       "      <th>operation</th>\n",
       "      <th>property_type</th>\n",
       "      <th>price</th>\n",
       "      <th>currency</th>\n",
       "      <th>price_aprox_local_currency</th>\n",
       "      <th>price_aprox_usd</th>\n",
       "      <th>surface_total_in_m2</th>\n",
       "      <th>surface_covered_in_m2</th>\n",
       "      <th>price_usd_per_m2</th>\n",
       "      <th>price_per_m2</th>\n",
       "      <th>floor</th>\n",
       "      <th>rooms</th>\n",
       "      <th>expenses</th>\n",
       "      <th>properati_url</th>\n",
       "      <th>lat</th>\n",
       "      <th>lon</th>\n",
       "      <th>neighborhood</th>\n",
       "    </tr>\n",
       "  </thead>\n",
       "  <tbody>\n",
       "    <tr>\n",
       "      <th>0</th>\n",
       "      <td>sell</td>\n",
       "      <td>apartment</td>\n",
       "      <td>129000.0</td>\n",
       "      <td>USD</td>\n",
       "      <td>1955949.6</td>\n",
       "      <td>129000.0</td>\n",
       "      <td>76.0</td>\n",
       "      <td>70.0</td>\n",
       "      <td>1697.368421</td>\n",
       "      <td>1842.857143</td>\n",
       "      <td>NaN</td>\n",
       "      <td>NaN</td>\n",
       "      <td>NaN</td>\n",
       "      <td>http://chacarita.properati.com.ar/10qlv_venta_...</td>\n",
       "      <td>-34.584651</td>\n",
       "      <td>-58.454693</td>\n",
       "      <td>Chacarita</td>\n",
       "    </tr>\n",
       "    <tr>\n",
       "      <th>1</th>\n",
       "      <td>sell</td>\n",
       "      <td>apartment</td>\n",
       "      <td>87000.0</td>\n",
       "      <td>USD</td>\n",
       "      <td>1319128.8</td>\n",
       "      <td>87000.0</td>\n",
       "      <td>48.0</td>\n",
       "      <td>42.0</td>\n",
       "      <td>1812.500000</td>\n",
       "      <td>2071.428571</td>\n",
       "      <td>NaN</td>\n",
       "      <td>NaN</td>\n",
       "      <td>NaN</td>\n",
       "      <td>http://villa-luro.properati.com.ar/12m82_venta...</td>\n",
       "      <td>-34.638979</td>\n",
       "      <td>-58.500115</td>\n",
       "      <td>Villa Luro</td>\n",
       "    </tr>\n",
       "    <tr>\n",
       "      <th>2</th>\n",
       "      <td>sell</td>\n",
       "      <td>apartment</td>\n",
       "      <td>118000.0</td>\n",
       "      <td>USD</td>\n",
       "      <td>1789163.2</td>\n",
       "      <td>118000.0</td>\n",
       "      <td>NaN</td>\n",
       "      <td>54.0</td>\n",
       "      <td>NaN</td>\n",
       "      <td>2185.185185</td>\n",
       "      <td>NaN</td>\n",
       "      <td>2.0</td>\n",
       "      <td>NaN</td>\n",
       "      <td>http://caballito.properati.com.ar/11wqh_venta_...</td>\n",
       "      <td>-34.615847</td>\n",
       "      <td>-58.459957</td>\n",
       "      <td>Caballito</td>\n",
       "    </tr>\n",
       "    <tr>\n",
       "      <th>3</th>\n",
       "      <td>sell</td>\n",
       "      <td>apartment</td>\n",
       "      <td>57000.0</td>\n",
       "      <td>USD</td>\n",
       "      <td>864256.8</td>\n",
       "      <td>57000.0</td>\n",
       "      <td>42.0</td>\n",
       "      <td>42.0</td>\n",
       "      <td>1357.142857</td>\n",
       "      <td>1357.142857</td>\n",
       "      <td>5.0</td>\n",
       "      <td>2.0</td>\n",
       "      <td>364</td>\n",
       "      <td>http://constitucion.properati.com.ar/k2f0_vent...</td>\n",
       "      <td>-34.625222</td>\n",
       "      <td>-58.382382</td>\n",
       "      <td>Constitución</td>\n",
       "    </tr>\n",
       "    <tr>\n",
       "      <th>4</th>\n",
       "      <td>sell</td>\n",
       "      <td>apartment</td>\n",
       "      <td>90000.0</td>\n",
       "      <td>USD</td>\n",
       "      <td>1364616.0</td>\n",
       "      <td>90000.0</td>\n",
       "      <td>57.0</td>\n",
       "      <td>50.0</td>\n",
       "      <td>1578.947368</td>\n",
       "      <td>1800.000000</td>\n",
       "      <td>NaN</td>\n",
       "      <td>3.0</td>\n",
       "      <td>450</td>\n",
       "      <td>http://once.properati.com.ar/suwa_venta_depart...</td>\n",
       "      <td>-34.610610</td>\n",
       "      <td>-58.412511</td>\n",
       "      <td>Once</td>\n",
       "    </tr>\n",
       "  </tbody>\n",
       "</table>\n",
       "</div>"
      ],
      "text/plain": [
       "  operation property_type     price currency  price_aprox_local_currency  \\\n",
       "0      sell     apartment  129000.0      USD                   1955949.6   \n",
       "1      sell     apartment   87000.0      USD                   1319128.8   \n",
       "2      sell     apartment  118000.0      USD                   1789163.2   \n",
       "3      sell     apartment   57000.0      USD                    864256.8   \n",
       "4      sell     apartment   90000.0      USD                   1364616.0   \n",
       "\n",
       "   price_aprox_usd  surface_total_in_m2  surface_covered_in_m2  \\\n",
       "0         129000.0                 76.0                   70.0   \n",
       "1          87000.0                 48.0                   42.0   \n",
       "2         118000.0                  NaN                   54.0   \n",
       "3          57000.0                 42.0                   42.0   \n",
       "4          90000.0                 57.0                   50.0   \n",
       "\n",
       "   price_usd_per_m2  price_per_m2  floor  rooms expenses  \\\n",
       "0       1697.368421   1842.857143    NaN    NaN      NaN   \n",
       "1       1812.500000   2071.428571    NaN    NaN      NaN   \n",
       "2               NaN   2185.185185    NaN    2.0      NaN   \n",
       "3       1357.142857   1357.142857    5.0    2.0      364   \n",
       "4       1578.947368   1800.000000    NaN    3.0      450   \n",
       "\n",
       "                                       properati_url        lat        lon  \\\n",
       "0  http://chacarita.properati.com.ar/10qlv_venta_... -34.584651 -58.454693   \n",
       "1  http://villa-luro.properati.com.ar/12m82_venta... -34.638979 -58.500115   \n",
       "2  http://caballito.properati.com.ar/11wqh_venta_... -34.615847 -58.459957   \n",
       "3  http://constitucion.properati.com.ar/k2f0_vent... -34.625222 -58.382382   \n",
       "4  http://once.properati.com.ar/suwa_venta_depart... -34.610610 -58.412511   \n",
       "\n",
       "   neighborhood  \n",
       "0     Chacarita  \n",
       "1    Villa Luro  \n",
       "2     Caballito  \n",
       "3  Constitución  \n",
       "4          Once  "
      ]
     },
     "execution_count": 15,
     "metadata": {},
     "output_type": "execute_result"
    }
   ],
   "source": [
    "df =pd.concat(frames,ignore_index=True)\n",
    "df.head()\n"
   ]
  },
  {
   "cell_type": "code",
   "execution_count": 16,
   "id": "f9497ad4",
   "metadata": {},
   "outputs": [],
   "source": [
    "# Check your work\n",
    "assert len(df) == 6582, f\"`df` is the wrong size: {len(df)}.\""
   ]
  },
  {
   "cell_type": "markdown",
   "id": "e57ed531",
   "metadata": {},
   "source": [
    "Excellent work! You can now clean and combine as many CSV files as your computer can handle. You're well on your way to working with big data. 📈"
   ]
  },
  {
   "cell_type": "markdown",
   "id": "7cb8eead",
   "metadata": {},
   "source": [
    "## Explore"
   ]
  },
  {
   "cell_type": "markdown",
   "id": "2a79655d",
   "metadata": {},
   "source": [
    "Looking through the output from the `df.head()` call above, there's a little bit more cleaning we need to do before we can work with the neighborhood information in this dataset. The good news is that, because we're using a `wrangle` function, we only need to change the function to re-clean all of our CSV files. This is why functions are so useful."
   ]
  },
  {
   "cell_type": "code",
   "execution_count": 17,
   "id": "e44dc8ea",
   "metadata": {},
   "outputs": [
    {
     "data": {
      "text/html": [
       "\n",
       "        <iframe\n",
       "            width=\"600\"\n",
       "            height=\"300\"\n",
       "            src=\"https://player.vimeo.com/video/656791659?h=581201dc92\"\n",
       "            frameborder=\"0\"\n",
       "            allowfullscreen\n",
       "            \n",
       "        ></iframe>\n",
       "        "
      ],
      "text/plain": [
       "<IPython.lib.display.VimeoVideo at 0x7c5dc8312710>"
      ]
     },
     "execution_count": 17,
     "metadata": {},
     "output_type": "execute_result"
    }
   ],
   "source": [
    "VimeoVideo(\"656791659\", h=\"581201dc92\", width=600)"
   ]
  },
  {
   "cell_type": "markdown",
   "id": "ef5ab044",
   "metadata": {},
   "source": [
    "**Task 2.3.4:** Modify your `wrangle` function to create a new feature `\"neighborhood\"`. You can find the neighborhood for each property in the `\"place_with_parent_names\"` column. For example, a property with the place name `\"|Argentina|Capital Federal|Palermo|\"` is located in the neighborhood is `\"Palermo\"`. Also, your function should drop the `\"place_with_parent_names\"` column.\n",
    "\n",
    "Be sure to rerun all the cells above before you continue.\n",
    "\n",
    "- [<span id='technique'>Split the strings in one column to create another using <span id='tool'>pandas.](../%40textbook/03-pandas-getting-started.ipynb#Splitting-Strings)"
   ]
  },
  {
   "cell_type": "code",
   "execution_count": 18,
   "id": "eb025b06-2f95-474a-9d07-169dab6fc16c",
   "metadata": {},
   "outputs": [
    {
     "data": {
      "text/html": [
       "<div>\n",
       "<style scoped>\n",
       "    .dataframe tbody tr th:only-of-type {\n",
       "        vertical-align: middle;\n",
       "    }\n",
       "\n",
       "    .dataframe tbody tr th {\n",
       "        vertical-align: top;\n",
       "    }\n",
       "\n",
       "    .dataframe thead th {\n",
       "        text-align: right;\n",
       "    }\n",
       "</style>\n",
       "<table border=\"1\" class=\"dataframe\">\n",
       "  <thead>\n",
       "    <tr style=\"text-align: right;\">\n",
       "      <th></th>\n",
       "      <th>operation</th>\n",
       "      <th>property_type</th>\n",
       "      <th>price</th>\n",
       "      <th>currency</th>\n",
       "      <th>price_aprox_local_currency</th>\n",
       "      <th>price_aprox_usd</th>\n",
       "      <th>surface_total_in_m2</th>\n",
       "      <th>surface_covered_in_m2</th>\n",
       "      <th>price_usd_per_m2</th>\n",
       "      <th>price_per_m2</th>\n",
       "      <th>floor</th>\n",
       "      <th>rooms</th>\n",
       "      <th>expenses</th>\n",
       "      <th>properati_url</th>\n",
       "      <th>lat</th>\n",
       "      <th>lon</th>\n",
       "      <th>neighborhood</th>\n",
       "    </tr>\n",
       "  </thead>\n",
       "  <tbody>\n",
       "    <tr>\n",
       "      <th>0</th>\n",
       "      <td>sell</td>\n",
       "      <td>apartment</td>\n",
       "      <td>129000.0</td>\n",
       "      <td>USD</td>\n",
       "      <td>1955949.6</td>\n",
       "      <td>129000.0</td>\n",
       "      <td>76.0</td>\n",
       "      <td>70.0</td>\n",
       "      <td>1697.368421</td>\n",
       "      <td>1842.857143</td>\n",
       "      <td>NaN</td>\n",
       "      <td>NaN</td>\n",
       "      <td>NaN</td>\n",
       "      <td>http://chacarita.properati.com.ar/10qlv_venta_...</td>\n",
       "      <td>-34.584651</td>\n",
       "      <td>-58.454693</td>\n",
       "      <td>Chacarita</td>\n",
       "    </tr>\n",
       "    <tr>\n",
       "      <th>1</th>\n",
       "      <td>sell</td>\n",
       "      <td>apartment</td>\n",
       "      <td>87000.0</td>\n",
       "      <td>USD</td>\n",
       "      <td>1319128.8</td>\n",
       "      <td>87000.0</td>\n",
       "      <td>48.0</td>\n",
       "      <td>42.0</td>\n",
       "      <td>1812.500000</td>\n",
       "      <td>2071.428571</td>\n",
       "      <td>NaN</td>\n",
       "      <td>NaN</td>\n",
       "      <td>NaN</td>\n",
       "      <td>http://villa-luro.properati.com.ar/12m82_venta...</td>\n",
       "      <td>-34.638979</td>\n",
       "      <td>-58.500115</td>\n",
       "      <td>Villa Luro</td>\n",
       "    </tr>\n",
       "    <tr>\n",
       "      <th>2</th>\n",
       "      <td>sell</td>\n",
       "      <td>apartment</td>\n",
       "      <td>118000.0</td>\n",
       "      <td>USD</td>\n",
       "      <td>1789163.2</td>\n",
       "      <td>118000.0</td>\n",
       "      <td>NaN</td>\n",
       "      <td>54.0</td>\n",
       "      <td>NaN</td>\n",
       "      <td>2185.185185</td>\n",
       "      <td>NaN</td>\n",
       "      <td>2.0</td>\n",
       "      <td>NaN</td>\n",
       "      <td>http://caballito.properati.com.ar/11wqh_venta_...</td>\n",
       "      <td>-34.615847</td>\n",
       "      <td>-58.459957</td>\n",
       "      <td>Caballito</td>\n",
       "    </tr>\n",
       "    <tr>\n",
       "      <th>3</th>\n",
       "      <td>sell</td>\n",
       "      <td>apartment</td>\n",
       "      <td>57000.0</td>\n",
       "      <td>USD</td>\n",
       "      <td>864256.8</td>\n",
       "      <td>57000.0</td>\n",
       "      <td>42.0</td>\n",
       "      <td>42.0</td>\n",
       "      <td>1357.142857</td>\n",
       "      <td>1357.142857</td>\n",
       "      <td>5.0</td>\n",
       "      <td>2.0</td>\n",
       "      <td>364</td>\n",
       "      <td>http://constitucion.properati.com.ar/k2f0_vent...</td>\n",
       "      <td>-34.625222</td>\n",
       "      <td>-58.382382</td>\n",
       "      <td>Constitución</td>\n",
       "    </tr>\n",
       "    <tr>\n",
       "      <th>4</th>\n",
       "      <td>sell</td>\n",
       "      <td>apartment</td>\n",
       "      <td>90000.0</td>\n",
       "      <td>USD</td>\n",
       "      <td>1364616.0</td>\n",
       "      <td>90000.0</td>\n",
       "      <td>57.0</td>\n",
       "      <td>50.0</td>\n",
       "      <td>1578.947368</td>\n",
       "      <td>1800.000000</td>\n",
       "      <td>NaN</td>\n",
       "      <td>3.0</td>\n",
       "      <td>450</td>\n",
       "      <td>http://once.properati.com.ar/suwa_venta_depart...</td>\n",
       "      <td>-34.610610</td>\n",
       "      <td>-58.412511</td>\n",
       "      <td>Once</td>\n",
       "    </tr>\n",
       "  </tbody>\n",
       "</table>\n",
       "</div>"
      ],
      "text/plain": [
       "  operation property_type     price currency  price_aprox_local_currency  \\\n",
       "0      sell     apartment  129000.0      USD                   1955949.6   \n",
       "1      sell     apartment   87000.0      USD                   1319128.8   \n",
       "2      sell     apartment  118000.0      USD                   1789163.2   \n",
       "3      sell     apartment   57000.0      USD                    864256.8   \n",
       "4      sell     apartment   90000.0      USD                   1364616.0   \n",
       "\n",
       "   price_aprox_usd  surface_total_in_m2  surface_covered_in_m2  \\\n",
       "0         129000.0                 76.0                   70.0   \n",
       "1          87000.0                 48.0                   42.0   \n",
       "2         118000.0                  NaN                   54.0   \n",
       "3          57000.0                 42.0                   42.0   \n",
       "4          90000.0                 57.0                   50.0   \n",
       "\n",
       "   price_usd_per_m2  price_per_m2  floor  rooms expenses  \\\n",
       "0       1697.368421   1842.857143    NaN    NaN      NaN   \n",
       "1       1812.500000   2071.428571    NaN    NaN      NaN   \n",
       "2               NaN   2185.185185    NaN    2.0      NaN   \n",
       "3       1357.142857   1357.142857    5.0    2.0      364   \n",
       "4       1578.947368   1800.000000    NaN    3.0      450   \n",
       "\n",
       "                                       properati_url        lat        lon  \\\n",
       "0  http://chacarita.properati.com.ar/10qlv_venta_... -34.584651 -58.454693   \n",
       "1  http://villa-luro.properati.com.ar/12m82_venta... -34.638979 -58.500115   \n",
       "2  http://caballito.properati.com.ar/11wqh_venta_... -34.615847 -58.459957   \n",
       "3  http://constitucion.properati.com.ar/k2f0_vent... -34.625222 -58.382382   \n",
       "4  http://once.properati.com.ar/suwa_venta_depart... -34.610610 -58.412511   \n",
       "\n",
       "   neighborhood  \n",
       "0     Chacarita  \n",
       "1    Villa Luro  \n",
       "2     Caballito  \n",
       "3  Constitución  \n",
       "4          Once  "
      ]
     },
     "execution_count": 18,
     "metadata": {},
     "output_type": "execute_result"
    }
   ],
   "source": [
    "df.head()"
   ]
  },
  {
   "cell_type": "code",
   "execution_count": 19,
   "id": "a723ec6c",
   "metadata": {},
   "outputs": [],
   "source": [
    "# Check your work\n",
    "assert df.shape == (6582, 17), f\"`df` is the wrong size: {df.shape}.\"\n",
    "assert (\n",
    "    \"place_with_parent_names\" not in df\n",
    "), 'Remember to remove the `\"place_with_parent_names\"` column.'"
   ]
  },
  {
   "cell_type": "markdown",
   "id": "fdaeb0ac",
   "metadata": {},
   "source": [
    "## Split"
   ]
  },
  {
   "cell_type": "markdown",
   "id": "2c34aed7",
   "metadata": {},
   "source": [
    "At this point, you should feel more comfortable with the splitting data, so we're going to condense the whole process down to one task. "
   ]
  },
  {
   "cell_type": "code",
   "execution_count": 20,
   "id": "3cb39e4d",
   "metadata": {},
   "outputs": [
    {
     "data": {
      "text/html": [
       "\n",
       "        <iframe\n",
       "            width=\"600\"\n",
       "            height=\"300\"\n",
       "            src=\"https://player.vimeo.com/video/656791577?h=0ceb5341f8\"\n",
       "            frameborder=\"0\"\n",
       "            allowfullscreen\n",
       "            \n",
       "        ></iframe>\n",
       "        "
      ],
      "text/plain": [
       "<IPython.lib.display.VimeoVideo at 0x7c5dc88f29d0>"
      ]
     },
     "execution_count": 20,
     "metadata": {},
     "output_type": "execute_result"
    }
   ],
   "source": [
    "VimeoVideo(\"656791577\", h=\"0ceb5341f8\", width=600)"
   ]
  },
  {
   "cell_type": "markdown",
   "id": "d50a1d70",
   "metadata": {},
   "source": [
    "**Task 2.3.5:** Create your feature matrix `X_train` and target vector `y_train`. `X_train` should contain one feature: `\"neighborhood\"`. Your target is `\"price_aprox_usd\"`. \n",
    "\n",
    "- [What's a <span id='term'>feature matrix?](../%40textbook/15-ml-regression.ipynb#Linear-Regression)\n",
    "- [What's a <span id='term'>target vector?](../%40textbook/15-ml-regression.ipynb#Linear-Regression)\n",
    "- [<span id='technique'>Subset a DataFrame by selecting one or more columns in <span id='tool'>pandas.](../%40textbook/04-pandas-advanced.ipynb#Subset-a-DataFrame-by-Selecting-One-or-More-Columns) \n",
    "- [<span id='technique'>Select a Series from a DataFrame in <span id='tool'>pandas.](../%40textbook/04-pandas-advanced.ipynb#Select-a-Series-from-a-DataFrame) "
   ]
  },
  {
   "cell_type": "code",
   "execution_count": 21,
   "id": "1da605f7",
   "metadata": {},
   "outputs": [],
   "source": [
    "target = [\"price_aprox_usd\"]\n",
    "features = [\"neighborhood\"]\n",
    "y_train =df[target]\n",
    "X_train=df[features]\n",
    "\n"
   ]
  },
  {
   "cell_type": "code",
   "execution_count": 22,
   "id": "8e64e0d1",
   "metadata": {},
   "outputs": [
    {
     "ename": "AssertionError",
     "evalue": "`y_train` is the wrong size: (6582, 1).",
     "output_type": "error",
     "traceback": [
      "\u001b[0;31m---------------------------------------------------------------------------\u001b[0m",
      "\u001b[0;31mAssertionError\u001b[0m                            Traceback (most recent call last)",
      "Cell \u001b[0;32mIn[22], line 3\u001b[0m\n\u001b[1;32m      1\u001b[0m \u001b[38;5;66;03m# Check your work\u001b[39;00m\n\u001b[1;32m      2\u001b[0m \u001b[38;5;28;01massert\u001b[39;00m X_train\u001b[38;5;241m.\u001b[39mshape \u001b[38;5;241m==\u001b[39m (\u001b[38;5;241m6582\u001b[39m, \u001b[38;5;241m1\u001b[39m), \u001b[38;5;124mf\u001b[39m\u001b[38;5;124m\"\u001b[39m\u001b[38;5;124m`X_train` is the wrong size: \u001b[39m\u001b[38;5;132;01m{\u001b[39;00mX_train\u001b[38;5;241m.\u001b[39mshape\u001b[38;5;132;01m}\u001b[39;00m\u001b[38;5;124m.\u001b[39m\u001b[38;5;124m\"\u001b[39m\n\u001b[0;32m----> 3\u001b[0m \u001b[38;5;28;01massert\u001b[39;00m y_train\u001b[38;5;241m.\u001b[39mshape \u001b[38;5;241m==\u001b[39m (\u001b[38;5;241m6582\u001b[39m,), \u001b[38;5;124mf\u001b[39m\u001b[38;5;124m\"\u001b[39m\u001b[38;5;124m`y_train` is the wrong size: \u001b[39m\u001b[38;5;132;01m{\u001b[39;00my_train\u001b[38;5;241m.\u001b[39mshape\u001b[38;5;132;01m}\u001b[39;00m\u001b[38;5;124m.\u001b[39m\u001b[38;5;124m\"\u001b[39m\n",
      "\u001b[0;31mAssertionError\u001b[0m: `y_train` is the wrong size: (6582, 1)."
     ]
    }
   ],
   "source": [
    "# Check your work\n",
    "assert X_train.shape == (6582, 1), f\"`X_train` is the wrong size: {X_train.shape}.\"\n",
    "assert y_train.shape == (6582,), f\"`y_train` is the wrong size: {y_train.shape}.\""
   ]
  },
  {
   "cell_type": "markdown",
   "id": "a3a23c81",
   "metadata": {
    "tags": []
   },
   "source": [
    "# Build Model"
   ]
  },
  {
   "cell_type": "markdown",
   "id": "66e1de7e",
   "metadata": {},
   "source": [
    "## Baseline"
   ]
  },
  {
   "cell_type": "markdown",
   "id": "45ea45bb",
   "metadata": {},
   "source": [
    "Let's also condense the code we use to establish our baseline. "
   ]
  },
  {
   "cell_type": "code",
   "execution_count": null,
   "id": "327fc35e",
   "metadata": {},
   "outputs": [],
   "source": [
    "VimeoVideo(\"656791443\", h=\"120a740cc3\", width=600)"
   ]
  },
  {
   "cell_type": "markdown",
   "id": "e2c70806",
   "metadata": {},
   "source": [
    "**Task 2.3.6:** Calculate the baseline mean absolute error for your model.\n",
    "\n",
    "- [<span id='term'>What's a performance metric?](../%40textbook/12-ml-core.ipynb#Performance-Metrics)\n",
    "- [<span id='term'>What's mean absolute error?](../%40textbook/12-ml-core.ipynb#Performance-Metrics)\n",
    "- [<span id='technique'>Calculate summary statistics for a DataFrame or Series in <span id='tool'>pandas.](../%40textbook/05-pandas-summary-statistics.ipynb#Working-with-Summary-Statistics)\n",
    "- [<span id='technique'>Calculate the mean absolute error for a list of predictions in <span id='tool'>scikit-learn.](../%40textbook/15-ml-regression.ipynb#Calculating-the-Mean-Absolute-Error-for-a-List-of-Predictions)"
   ]
  },
  {
   "cell_type": "code",
   "execution_count": null,
   "id": "765d04c6",
   "metadata": {},
   "outputs": [],
   "source": [
    "y_mean = y_train.mean()\n",
    "y_pred_baseline = [y_mean] * len(y_train)\n",
    "\n",
    "print(\"Mean apt price:\", y_mean)\n",
    "print(\"Baseline MAE:\", mean_absolute_error(y_train, y_pred_baseline))"
   ]
  },
  {
   "cell_type": "markdown",
   "id": "98bcf348",
   "metadata": {},
   "source": [
    "The mean apartment price and baseline MAE should be similar but not identical to last lesson. The numbers will change since we're working with more data."
   ]
  },
  {
   "cell_type": "markdown",
   "id": "d9821da5",
   "metadata": {},
   "source": [
    "## Iterate"
   ]
  },
  {
   "cell_type": "markdown",
   "id": "de7be972",
   "metadata": {},
   "source": [
    "If you try to fit a `LinearRegression` predictor to your training data at this point, you'll get an error that looks like this:\n",
    "\n",
    "```\n",
    "ValueError: could not convert string to float\n",
    "```\n",
    "\n",
    "What does this mean? When you fit a linear regression model, you're asking scikit-learn to perform a mathematical operation. The problem is that our training set contains neighborhood information in non-numerical form. In order to create our model we need to **encode** that information so that it's represented numerically. The good news is that there are lots of transformers that can do this. Here, we'll use the one from the [Category Encoders](https://contrib.scikit-learn.org/category_encoders/index.html) library, called a [`OneHotEncoder`](https://contrib.scikit-learn.org/category_encoders/onehot.html).\n",
    "\n",
    "Before we build include this transformer in our pipeline, let's explore how it works. "
   ]
  },
  {
   "cell_type": "code",
   "execution_count": null,
   "id": "f21cf386",
   "metadata": {},
   "outputs": [],
   "source": [
    "VimeoVideo(\"656792790\", h=\"4097efb40d\", width=600)"
   ]
  },
  {
   "cell_type": "markdown",
   "id": "65f8b5bc",
   "metadata": {},
   "source": [
    "**Task 2.3.7:** First, instantiate a `OneHotEncoder` named `ohe`. Make sure to set the `use_cat_names` argument to `True`. Next, fit your transformer to the feature matrix `X_train`. Finally, use your encoder to transform the feature matrix `X_train`, and assign the transformed data to the variable `XT_train`.\n",
    "\n",
    "- [What's <span id='term'>one-hot encoding?](../%40textbook/13-ml-data-pre-processing-and-production.ipynb#One-Hot-Encoding)\n",
    "- [<span id='technique'>Instantiate a transformer in <span id='tool'>scikit-learn.](../%40textbook/13-ml-data-pre-processing-and-production.ipynb#One-Hot-Encoding)\n",
    "- [<span id='technique'>Fit a transformer to training data in <span id='tool'>scikit-learn.](../%40textbook/13-ml-data-pre-processing-and-production.ipynb#One-Hot-Encoding)\n",
    "- [<span id='technique'>Transform data using a transformer in <span id='tool'>scikit-learn.](../%40textbook/13-ml-data-pre-processing-and-production.ipynb#One-Hot-Encoding)"
   ]
  },
  {
   "cell_type": "code",
   "execution_count": null,
   "id": "bf53657e",
   "metadata": {},
   "outputs": [],
   "source": [
    "ohe = OneHotEncoder(use_cat_names=True)\n",
    "ohe.fit(X_train)\n",
    "XT_train =ohe.transform(X_train)\n",
    "print(XT_train.shape)\n",
    "XT_train.head()"
   ]
  },
  {
   "cell_type": "code",
   "execution_count": null,
   "id": "5a2cb518",
   "metadata": {},
   "outputs": [],
   "source": [
    "# Check your work\n",
    "assert XT_train.shape == (6582, 57), f\"`XT_train` is the wrong shape: {XT_train.shape}\""
   ]
  },
  {
   "cell_type": "markdown",
   "id": "24726732",
   "metadata": {},
   "source": [
    "Now that we have an idea for how the `OneHotEncoder` works, let's bring it into our pipeline."
   ]
  },
  {
   "cell_type": "code",
   "execution_count": null,
   "id": "0c6b31cb",
   "metadata": {},
   "outputs": [],
   "source": [
    "VimeoVideo(\"656792622\", h=\"0b9d189e8f\", width=600)"
   ]
  },
  {
   "cell_type": "markdown",
   "id": "451d4ff7",
   "metadata": {},
   "source": [
    "**Task 2.3.8:** Create a pipeline named `model` that contains a `OneHotEncoder` transformer and a `LinearRegression` predictor. Then fit your model to the training data. \n",
    "\n",
    "- [What's a <span id='term'>pipeline?](../%40textbook/13-ml-data-pre-processing-and-production.ipynb#scikit-learn-in-Production)\n",
    "- [<span id='technique'>Create a pipeline in <span id='tool'>scikit-learn.](../%40textbook/13-ml-data-pre-processing-and-production.ipynb#Creating-a-Pipeline-in-scikit-learn)"
   ]
  },
  {
   "cell_type": "code",
   "execution_count": null,
   "id": "a99cd335-0413-43cf-833a-22618e327fc3",
   "metadata": {},
   "outputs": [],
   "source": [
    "model = make_pipeline(\n",
    "    OneHotEncoder(use_cat_names=True),\n",
    "    Ridge()\n",
    ")\n",
    "\n",
    "model.fit(X_train,y_train)\n"
   ]
  },
  {
   "cell_type": "code",
   "execution_count": null,
   "id": "4ded7d02",
   "metadata": {},
   "outputs": [],
   "source": [
    "# Check your work\n",
    "check_is_fitted(model[-1])"
   ]
  },
  {
   "cell_type": "markdown",
   "id": "037f0729",
   "metadata": {},
   "source": [
    "Wow, you just built a model with two transformers and a predictor! When you started this course, did you think you'd be able to do something like that? 😁"
   ]
  },
  {
   "cell_type": "markdown",
   "id": "86dcd980",
   "metadata": {},
   "source": [
    "## Evaluate"
   ]
  },
  {
   "cell_type": "markdown",
   "id": "b0b181df",
   "metadata": {},
   "source": [
    "Regardless of how you build your model, the evaluation step stays the same. Let's see how our model performs with the training set."
   ]
  },
  {
   "cell_type": "code",
   "execution_count": null,
   "id": "d3936246",
   "metadata": {},
   "outputs": [],
   "source": [
    "VimeoVideo(\"656792525\", h=\"09edc1c3d6\", width=600)"
   ]
  },
  {
   "cell_type": "markdown",
   "id": "270bf5cf",
   "metadata": {},
   "source": [
    "**Task 2.3.9:** First, create a list of predictions for the observations in your feature matrix `X_train`. Name this list `y_pred_training`. Then calculate the training mean absolute error for your predictions in `y_pred_training` as compared to the true targets in `y_train`.\n",
    "\n",
    "- [<span id='technique'>Generate predictions using a trained model in <span id='tool'>scikit-learn.](../%40textbook/15-ml-regression.ipynb#Generating-Predictions-Using-a-Trained-Model)\n",
    "- [<span id='technique'>Calculate the mean absolute error for a list of predictions in <span id='tool'>scikit-learn.](../%40textbook/15-ml-regression.ipynb#Calculating-the-Mean-Absolute-Error-for-a-List-of-Predictions)"
   ]
  },
  {
   "cell_type": "code",
   "execution_count": null,
   "id": "cd4ecf5e",
   "metadata": {},
   "outputs": [],
   "source": [
    "y_pred_training = model.predict(X_train)\n",
    "mae_training = mean_absolute_error(y_train,y_pred_training)\n",
    "print(\"Training MAE:\", round(mae_training, 2))"
   ]
  },
  {
   "cell_type": "markdown",
   "id": "75e7ebce",
   "metadata": {
    "tags": []
   },
   "source": [
    "Now let's check our test performance. "
   ]
  },
  {
   "cell_type": "markdown",
   "id": "60e4e72f",
   "metadata": {
    "tags": []
   },
   "source": [
    "**Task 2.3.10:** Run the code below to import your test data `buenos-aires-test-features.csv` into a DataFrame and generate a Series of predictions using your model.  After the code runs successfully, click on the  **Check Activity** button to verify your predictions.\n",
    "\n",
    "- [What's generalizability?](../%40textbook/12-ml-core.ipynb#Generalization)\n",
    "- [<span id='technique'>Generate predictions using a trained model in <span id='tool'>scikit-learn.](../%40textbook/15-ml-regression.ipynb#Generating-Predictions-Using-a-Trained-Model)\n",
    "- [<span id='technique'>Calculate the mean absolute error for a list of predictions in <span id='tool'>scikit-learn.](../%40textbook/15-ml-regression.ipynb#Calculating-the-Mean-Absolute-Error-for-a-List-of-Predictions)"
   ]
  },
  {
   "cell_type": "code",
   "execution_count": null,
   "id": "f61223a5",
   "metadata": {},
   "outputs": [],
   "source": [
    "X_test = pd.read_csv(\"data/buenos-aires-test-features.csv\")[features]\n",
    "y_pred_test = pd.Series(model.predict(X_test))\n",
    "y_pred_test.head()\n"
   ]
  },
  {
   "cell_type": "markdown",
   "id": "2681cc11",
   "metadata": {},
   "source": [
    "# Communicate Results"
   ]
  },
  {
   "cell_type": "markdown",
   "id": "0b82e7e3",
   "metadata": {},
   "source": [
    "If we write out the equation for our model, it'll be too big to fit on the screen. That's because, when we used the `OneHotEncoder` to encode the neighborhood data, we created a much wider DataFrame, and each column/feature has it's own coefficient in our model's equation.\n",
    "\n",
    "<center><img src=\"../images/proj-2.006.png\" alt=\"Equation: y = β0 + β1 x1 + β2 x2 + ... + β59 x59 + β60 x60 \" style=\"width: 800px;\"/></center>\n",
    "\n",
    "This is important to keep in mind for two reasons. First, it means that this is a **high-dimensional** model. Instead of a 2D or 3D plot, we'd need a 58-dimensional plot to represent it, which is impossible! Second, it means that we'll need to extract and represent the information for our equation a little differently than before. Let's start by getting our intercept and coefficient."
   ]
  },
  {
   "cell_type": "code",
   "execution_count": null,
   "id": "78ec7b45",
   "metadata": {},
   "outputs": [],
   "source": [
    "VimeoVideo(\"656793909\", h=\"fca67856b4\", width=600)"
   ]
  },
  {
   "cell_type": "markdown",
   "id": "46df135e",
   "metadata": {},
   "source": [
    "**Task 2.3.11:** Extract the intercept and coefficients for your model. \n",
    "\n",
    "- [What's an <span id='term'>intercept</span> in a linear model?](../%40textbook/12-ml-core.ipynb#Model-Types)\n",
    "- [What's a <span id='term'>coefficient</span> in a linear model?](../%40textbook/12-ml-core.ipynb#Model-Types)\n",
    "- [<span id='technique'>Access an object in a pipeline in <span id='tool'>scikit-learn.](../%40textbook/13-ml-data-pre-processing-and-production.ipynb#Accessing-an-Object-in-a-Pipeline)"
   ]
  },
  {
   "cell_type": "code",
   "execution_count": null,
   "id": "e486c091",
   "metadata": {},
   "outputs": [],
   "source": [
    "intercept = model.named_steps['ridge'].intercept_\n",
    "coefficients =model.named_steps['ridge'].coef_\n",
    "\n",
    "print(\"coefficients len:\", len(coefficients))\n",
    "print(coefficients[:5])"
   ]
  },
  {
   "cell_type": "code",
   "execution_count": null,
   "id": "26e522c7",
   "metadata": {},
   "outputs": [],
   "source": [
    "# Check your work\n",
    "assert isinstance(\n",
    "    intercept, float\n",
    "), f\"`intercept` should be a `float`, not {type(intercept)}.\"\n",
    "assert isinstance(\n",
    "    coefficients, np.ndarray\n",
    "), f\"`coefficients` should be a `float`, not {type(coefficients)}.\"\n",
    "assert coefficients.shape == (\n",
    "    57,\n",
    "), f\"`coefficients` is wrong shape: {coefficients.shape}.\""
   ]
  },
  {
   "cell_type": "markdown",
   "id": "eec40989",
   "metadata": {},
   "source": [
    "We have the values of our coefficients, but how do we know which features they belong to? We'll need to get that information by going into the part of our pipeline that did the encoding."
   ]
  },
  {
   "cell_type": "code",
   "execution_count": null,
   "id": "06ee62ca",
   "metadata": {},
   "outputs": [],
   "source": [
    "VimeoVideo(\"656793812\", h=\"810161b84e\", width=600)"
   ]
  },
  {
   "cell_type": "markdown",
   "id": "1b4ff85e",
   "metadata": {},
   "source": [
    "**Task 2.3.12:** Extract the feature names of your encoded data from the `OneHotEncoder` in your model.\n",
    "\n",
    "- [Access an object in a pipeline in scikit-learn.](../%40textbook/13-ml-data-pre-processing-and-production.ipynb#Accessing-an-Object-in-a-Pipeline)"
   ]
  },
  {
   "cell_type": "code",
   "execution_count": null,
   "id": "d77cb327",
   "metadata": {
    "tags": []
   },
   "outputs": [],
   "source": [
    "feature_names = model.named_steps['onehotencoder'].get_feature_names_out()\n",
    "print(\"features len:\", len(feature_names))\n",
    "print(feature_names[:5])  # First five feature names"
   ]
  },
  {
   "cell_type": "code",
   "execution_count": null,
   "id": "9cef78fe",
   "metadata": {
    "tags": []
   },
   "outputs": [],
   "source": [
    "# Check your work\n",
    "assert isinstance(\n",
    "    feature_names, np.ndarray\n",
    "), f\"`features` should be a `list`, not {type(feature_names)}.\"\n",
    "assert len(feature_names) == len(\n",
    "    coefficients\n",
    "), \"You should have the same number of features and coefficients.\""
   ]
  },
  {
   "cell_type": "markdown",
   "id": "c3816ad6",
   "metadata": {},
   "source": [
    "We have coefficients and feature names, and now we need to put them together. For that, we'll use a Series."
   ]
  },
  {
   "cell_type": "code",
   "execution_count": null,
   "id": "70d49aa4",
   "metadata": {},
   "outputs": [],
   "source": [
    "VimeoVideo(\"656793718\", h=\"1e2a1e1de8\", width=600)"
   ]
  },
  {
   "cell_type": "markdown",
   "id": "bac7f9ec",
   "metadata": {},
   "source": [
    "**Task 2.3.13:** Create a pandas Series named `feat_imp` where the index is your `features` and the values are your `coefficients`.\n",
    "\n",
    "- [<span id='technique'>Create a Series in <span id='tool'>pandas.](../%40textbook/03-pandas-getting-started.ipynb#Working-with-Columns)"
   ]
  },
  {
   "cell_type": "code",
   "execution_count": null,
   "id": "a0448045",
   "metadata": {},
   "outputs": [],
   "source": [
    "feat_imp = pd.Series(coefficients,index=feature_names)\n",
    "feat_imp.head()"
   ]
  },
  {
   "cell_type": "code",
   "execution_count": null,
   "id": "b3f63b0b",
   "metadata": {},
   "outputs": [],
   "source": [
    "# Check your work\n",
    "assert isinstance(\n",
    "    feat_imp, pd.Series\n",
    "), f\"`feat_imp` should be a `float`, not {type(feat_imp)}.\"\n",
    "assert feat_imp.shape == (57,), f\"`feat_imp` is wrong shape: {feat_imp.shape}.\"\n",
    "assert all(\n",
    "    a == b for a, b in zip(sorted(feature_names), sorted(feat_imp.index))\n",
    "), \"The index of `feat_imp` should be identical to `features`.\""
   ]
  },
  {
   "cell_type": "markdown",
   "id": "ccc4d519",
   "metadata": {},
   "source": [
    "To be clear, it's definitely not a good idea to show this long equation to an audience, but let's print it out just to check our work. Since there are so many terms to print, we'll use a `for` loop."
   ]
  },
  {
   "cell_type": "code",
   "execution_count": null,
   "id": "17988bf1",
   "metadata": {},
   "outputs": [],
   "source": [
    "VimeoVideo(\"656797021\", h=\"dc90e6dac3\", width=600)"
   ]
  },
  {
   "cell_type": "markdown",
   "id": "59f0d7ae",
   "metadata": {},
   "source": [
    "**Task 2.3.14:** Run the cell below to print the equation that your model has determined for predicting apartment price based on longitude and latitude.\n",
    "\n",
    "- [What's an f-string?](../%40textbook/02-python-advanced.ipynb#Working-with-f-strings-)"
   ]
  },
  {
   "cell_type": "code",
   "execution_count": null,
   "id": "f11600f4",
   "metadata": {},
   "outputs": [],
   "source": [
    "print(f\"price = {intercept.round(2)}\")\n",
    "for f, c in feat_imp.items():\n",
    "    print(f\"+ ({round(c, 2)} * {f})\")"
   ]
  },
  {
   "cell_type": "markdown",
   "id": "bae436d0",
   "metadata": {},
   "source": [
    "<div class=\"alert alert-block alert-warning\">\n",
    "<b>Warning:</b> In the first lesson for this project, we said that you shouldn't make any changes to your model after you see your test metrics. That's still true. However, we're breaking that rule here so that we can discuss overfitting. In future lessons, you'll learn how to protect against overfitting without checking your test set.\n",
    "</div>"
   ]
  },
  {
   "cell_type": "code",
   "execution_count": null,
   "id": "632a5619",
   "metadata": {},
   "outputs": [],
   "source": [
    "VimeoVideo(\"656799309\", h=\"a7130deb64\", width=600)"
   ]
  },
  {
   "cell_type": "markdown",
   "id": "b705f389",
   "metadata": {},
   "source": [
    "**Task 2.3.15:** Scroll up, change the predictor in your model to `Ridge`, and retrain it. Then evaluate the model's training and test performance. Do you still have an overfitting problem? If not, extract the intercept and coefficients again (you'll need to change your code a little bit) and regenerate the model's equation. Does it look different than before?\n",
    "\n",
    "- [What's overfitting?](../%40textbook/15-ml-regression.ipynb#Ridge-Regression)\n",
    "- [What's regularization?](../%40textbook/15-ml-regression.ipynb#Ridge-Regression)\n",
    "- [What's ridge regression?](../%40textbook/15-ml-regression.ipynb#Ridge-Regression)"
   ]
  },
  {
   "cell_type": "code",
   "execution_count": null,
   "id": "06272b41",
   "metadata": {},
   "outputs": [],
   "source": [
    "# Check your work\n",
    "assert isinstance(\n",
    "    model[-1], Ridge\n",
    "), \"Did you retrain your model using a `Ridge` predictor?\""
   ]
  },
  {
   "cell_type": "markdown",
   "id": "db2bd2da",
   "metadata": {},
   "source": [
    "We're back on track with our model, so let's create a visualization that will help a non-technical audience understand what the most important features for our model in predicting apartment price. "
   ]
  },
  {
   "cell_type": "code",
   "execution_count": null,
   "id": "b9202c1c",
   "metadata": {},
   "outputs": [],
   "source": [
    "VimeoVideo(\"656798530\", h=\"9a9350eff1\", width=600)"
   ]
  },
  {
   "cell_type": "markdown",
   "id": "c9ff41ef",
   "metadata": {},
   "source": [
    "**Task 2.3.16:** Create a horizontal bar chart that shows the top 15 coefficients for your model, based on their absolute value.\n",
    "\n",
    "- [What's a <span id='term'>bar chart</span>?](../%40textbook/07-visualization-pandas.ipynb#Bar-Charts)\n",
    "- [<span id='technique'>Create a bar chart using <span id='tool'>pandas</span></span>.](../%40textbook/07-visualization-pandas.ipynb#Bar-Charts)"
   ]
  },
  {
   "cell_type": "code",
   "execution_count": null,
   "id": "f2e71f6d",
   "metadata": {},
   "outputs": [],
   "source": [
    "feat_imp.sort_values(key=abs).tail(15).plot(kind=\"barh\")\n",
    "plt.xlabel(\"importance[Usd]\")\n",
    "plt.ylabel(\"feature\")\n",
    "plt.title(\"feature importance for apartment price\")"
   ]
  },
  {
   "cell_type": "markdown",
   "id": "876644dc",
   "metadata": {},
   "source": [
    "Looking at this bar chart, we can see that the poshest neighborhoods in Buenos Aires like [Puerto Madero](https://en.wikipedia.org/wiki/Puerto_Madero) and [Recoleta](https://en.wikipedia.org/wiki/Recoleta,_Buenos_Aires) increase the predicted price of an apartment, while more working-class neighborhoods like [Villa Soldati](https://en.wikipedia.org/wiki/Villa_Soldati) and [Villa Lugano](https://en.wikipedia.org/wiki/Villa_Lugano) decrease the predicted price. \n",
    "\n",
    "Just for fun, check out [this song](https://www.youtube.com/watch?v=RGlunBDvsaw) by Kevin Johansen about Puerto Madero. 🎶"
   ]
  },
  {
   "cell_type": "markdown",
   "id": "1929951e",
   "metadata": {
    "deletable": false,
    "editable": false
   },
   "source": [
    "---\n",
    "Copyright 2023 WorldQuant University. This\n",
    "content is licensed solely for personal use. Redistribution or\n",
    "publication of this material is strictly prohibited.\n"
   ]
  }
 ],
 "metadata": {
  "kernelspec": {
   "display_name": "Python 3 (ipykernel)",
   "language": "python",
   "name": "python3"
  },
  "language_info": {
   "codemirror_mode": {
    "name": "ipython",
    "version": 3
   },
   "file_extension": ".py",
   "mimetype": "text/x-python",
   "name": "python",
   "nbconvert_exporter": "python",
   "pygments_lexer": "ipython3",
   "version": "3.11.0"
  },
  "toc-autonumbering": false,
  "toc-showcode": false,
  "toc-showmarkdowntxt": false,
  "toc-showtags": false,
  "widgets": {
   "application/vnd.jupyter.widget-state+json": {
    "state": {},
    "version_major": 2,
    "version_minor": 0
   }
  }
 },
 "nbformat": 4,
 "nbformat_minor": 5
}
