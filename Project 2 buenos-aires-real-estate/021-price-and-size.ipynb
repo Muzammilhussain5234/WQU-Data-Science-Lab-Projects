{
 "cells": [
  {
   "cell_type": "markdown",
   "id": "6fc026a9",
   "metadata": {},
   "source": [
    "<font size=\"+3\"><strong>2.1. Predicting Price with Size</strong></font>"
   ]
  },
  {
   "cell_type": "code",
   "execution_count": 1,
   "id": "6da6913c",
   "metadata": {},
   "outputs": [],
   "source": [
    "import warnings\n",
    "\n",
    "import matplotlib.pyplot as plt\n",
    "import pandas as pd\n",
    "from IPython.display import VimeoVideo\n",
    "from sklearn.linear_model import LinearRegression\n",
    "from sklearn.metrics import mean_absolute_error\n",
    "from sklearn.utils.validation import check_is_fitted\n",
    "\n",
    "warnings.simplefilter(action=\"ignore\", category=FutureWarning)"
   ]
  },
  {
   "cell_type": "markdown",
   "id": "a0873866",
   "metadata": {},
   "source": [
    "In this project, you're working for a client who wants to create a model that can predict the price of apartments in the city of Buenos Aires — with a focus on apartments that cost less than $400,000 USD.<span style='color: transparent; font-size:1%'>WQU WorldQuant University Applied Data Science Lab QQQQ</span>"
   ]
  },
  {
   "cell_type": "code",
   "execution_count": 2,
   "id": "53b814ae",
   "metadata": {},
   "outputs": [
    {
     "data": {
      "text/html": [
       "\n",
       "        <iframe\n",
       "            width=\"600\"\n",
       "            height=\"300\"\n",
       "            src=\"https://player.vimeo.com/video/656704385?h=abf81d298d\"\n",
       "            frameborder=\"0\"\n",
       "            allowfullscreen\n",
       "            \n",
       "        ></iframe>\n",
       "        "
      ],
      "text/plain": [
       "<IPython.lib.display.VimeoVideo at 0x6ffbf7ef3710>"
      ]
     },
     "execution_count": 2,
     "metadata": {},
     "output_type": "execute_result"
    }
   ],
   "source": [
    "VimeoVideo(\"656704385\", h=\"abf81d298d\", width=600)"
   ]
  },
  {
   "cell_type": "markdown",
   "id": "721808d2",
   "metadata": {
    "tags": []
   },
   "source": [
    "# Prepare Data"
   ]
  },
  {
   "cell_type": "markdown",
   "id": "26647161",
   "metadata": {},
   "source": [
    "## Import"
   ]
  },
  {
   "cell_type": "markdown",
   "id": "909f4bbe",
   "metadata": {},
   "source": [
    "In the previous project, we cleaned our data files one-by-one. This isn't an issue when you're working with just three files, but imagine if you had several hundred! One way to automate the data importing and cleaning process is by writing a **function**. This will make sure that all our data undergoes the same process, and that our analysis is easily reproducible — something that's very important in science in general and data science in particular. "
   ]
  },
  {
   "cell_type": "code",
   "execution_count": 3,
   "id": "d8cd8737",
   "metadata": {},
   "outputs": [
    {
     "data": {
      "text/html": [
       "\n",
       "        <iframe\n",
       "            width=\"600\"\n",
       "            height=\"300\"\n",
       "            src=\"https://player.vimeo.com/video/656703362?h=bae256298f\"\n",
       "            frameborder=\"0\"\n",
       "            allowfullscreen\n",
       "            \n",
       "        ></iframe>\n",
       "        "
      ],
      "text/plain": [
       "<IPython.lib.display.VimeoVideo at 0x6ffbf19ac250>"
      ]
     },
     "execution_count": 3,
     "metadata": {},
     "output_type": "execute_result"
    }
   ],
   "source": [
    "VimeoVideo(\"656703362\", h=\"bae256298f\", width=600)"
   ]
  },
  {
   "cell_type": "markdown",
   "id": "9f162d7d",
   "metadata": {},
   "source": [
    "**Task 2.1.1:** Write a function named `wrangle` that takes a file path as an argument and returns a DataFrame.\n",
    "\n",
    "- [What's a function?](../%40textbook/02-python-advanced.ipynb#Functions)\n",
    "- [Write a function in Python.](../%40textbook/02-python-advanced.ipynb#Functions) "
   ]
  },
  {
   "cell_type": "code",
   "execution_count": 4,
   "id": "d0427fb8",
   "metadata": {},
   "outputs": [],
   "source": [
    "def wrangle(filepath):\n",
    "    df=pd.read_csv(filepath)\n",
    "    mask_ba = df[\"place_with_parent_names\"].str.contains(\"Capital Federal\", na=False)\n",
    "    mask_apt =df[\"property_type\"]==\"apartment\"\n",
    "  \n",
    "    mask_cst =df[\"price_aprox_usd\"]<400000\n",
    "   \n",
    "    df=df[mask_ba & mask_apt & mask_cst ]\n",
    "    low,high=df[\"surface_covered_in_m2\"].quantile([0.1,0.9])\n",
    "    mask_area=df[\"surface_covered_in_m2\"].between(low,high)\n",
    "    df = df[mask_area]\n",
    "    return df"
   ]
  },
  {
   "cell_type": "markdown",
   "id": "4fd8aa57",
   "metadata": {},
   "source": [
    "Now that we have a function written, let's test it out on one of the CSV files we'll use in this project. "
   ]
  },
  {
   "cell_type": "code",
   "execution_count": 5,
   "id": "4e017b5a",
   "metadata": {
    "scrolled": true
   },
   "outputs": [
    {
     "data": {
      "text/html": [
       "\n",
       "        <iframe\n",
       "            width=\"600\"\n",
       "            height=\"300\"\n",
       "            src=\"https://player.vimeo.com/video/656701336?h=c3a3e9bc16\"\n",
       "            frameborder=\"0\"\n",
       "            allowfullscreen\n",
       "            \n",
       "        ></iframe>\n",
       "        "
      ],
      "text/plain": [
       "<IPython.lib.display.VimeoVideo at 0x6ffbf19ba790>"
      ]
     },
     "execution_count": 5,
     "metadata": {},
     "output_type": "execute_result"
    }
   ],
   "source": [
    "VimeoVideo(\"656701336\", h=\"c3a3e9bc16\", width=600)"
   ]
  },
  {
   "cell_type": "markdown",
   "id": "a927184a",
   "metadata": {},
   "source": [
    "**Task 2.1.2:** Use your `wrangle` function to create a DataFrame `df` from the CSV file `data/buenos-aires-real-estate-1.csv`."
   ]
  },
  {
   "cell_type": "code",
   "execution_count": 6,
   "id": "80b5b6e0",
   "metadata": {},
   "outputs": [
    {
     "name": "stdout",
     "output_type": "stream",
     "text": [
      "df shape: (1343, 16)\n"
     ]
    },
    {
     "data": {
      "text/html": [
       "<div>\n",
       "<style scoped>\n",
       "    .dataframe tbody tr th:only-of-type {\n",
       "        vertical-align: middle;\n",
       "    }\n",
       "\n",
       "    .dataframe tbody tr th {\n",
       "        vertical-align: top;\n",
       "    }\n",
       "\n",
       "    .dataframe thead th {\n",
       "        text-align: right;\n",
       "    }\n",
       "</style>\n",
       "<table border=\"1\" class=\"dataframe\">\n",
       "  <thead>\n",
       "    <tr style=\"text-align: right;\">\n",
       "      <th></th>\n",
       "      <th>operation</th>\n",
       "      <th>property_type</th>\n",
       "      <th>place_with_parent_names</th>\n",
       "      <th>lat-lon</th>\n",
       "      <th>price</th>\n",
       "      <th>currency</th>\n",
       "      <th>price_aprox_local_currency</th>\n",
       "      <th>price_aprox_usd</th>\n",
       "      <th>surface_total_in_m2</th>\n",
       "      <th>surface_covered_in_m2</th>\n",
       "      <th>price_usd_per_m2</th>\n",
       "      <th>price_per_m2</th>\n",
       "      <th>floor</th>\n",
       "      <th>rooms</th>\n",
       "      <th>expenses</th>\n",
       "      <th>properati_url</th>\n",
       "    </tr>\n",
       "  </thead>\n",
       "  <tbody>\n",
       "    <tr>\n",
       "      <th>4</th>\n",
       "      <td>sell</td>\n",
       "      <td>apartment</td>\n",
       "      <td>|Argentina|Capital Federal|Chacarita|</td>\n",
       "      <td>-34.5846508988,-58.4546932614</td>\n",
       "      <td>129000.0</td>\n",
       "      <td>USD</td>\n",
       "      <td>1955949.60</td>\n",
       "      <td>129000.00</td>\n",
       "      <td>76.0</td>\n",
       "      <td>70.0</td>\n",
       "      <td>1697.368421</td>\n",
       "      <td>1842.857143</td>\n",
       "      <td>NaN</td>\n",
       "      <td>NaN</td>\n",
       "      <td>NaN</td>\n",
       "      <td>http://chacarita.properati.com.ar/10qlv_venta_...</td>\n",
       "    </tr>\n",
       "    <tr>\n",
       "      <th>9</th>\n",
       "      <td>sell</td>\n",
       "      <td>apartment</td>\n",
       "      <td>|Argentina|Capital Federal|Villa Luro|</td>\n",
       "      <td>-34.6389789,-58.500115</td>\n",
       "      <td>87000.0</td>\n",
       "      <td>USD</td>\n",
       "      <td>1319128.80</td>\n",
       "      <td>87000.00</td>\n",
       "      <td>48.0</td>\n",
       "      <td>42.0</td>\n",
       "      <td>1812.500000</td>\n",
       "      <td>2071.428571</td>\n",
       "      <td>NaN</td>\n",
       "      <td>NaN</td>\n",
       "      <td>NaN</td>\n",
       "      <td>http://villa-luro.properati.com.ar/12m82_venta...</td>\n",
       "    </tr>\n",
       "    <tr>\n",
       "      <th>29</th>\n",
       "      <td>sell</td>\n",
       "      <td>apartment</td>\n",
       "      <td>|Argentina|Capital Federal|Caballito|</td>\n",
       "      <td>-34.615847,-58.459957</td>\n",
       "      <td>118000.0</td>\n",
       "      <td>USD</td>\n",
       "      <td>1789163.20</td>\n",
       "      <td>118000.00</td>\n",
       "      <td>NaN</td>\n",
       "      <td>54.0</td>\n",
       "      <td>NaN</td>\n",
       "      <td>2185.185185</td>\n",
       "      <td>NaN</td>\n",
       "      <td>2.0</td>\n",
       "      <td>NaN</td>\n",
       "      <td>http://caballito.properati.com.ar/11wqh_venta_...</td>\n",
       "    </tr>\n",
       "    <tr>\n",
       "      <th>40</th>\n",
       "      <td>sell</td>\n",
       "      <td>apartment</td>\n",
       "      <td>|Argentina|Capital Federal|Constitución|</td>\n",
       "      <td>-34.6252219,-58.3823825</td>\n",
       "      <td>57000.0</td>\n",
       "      <td>USD</td>\n",
       "      <td>864256.80</td>\n",
       "      <td>57000.00</td>\n",
       "      <td>42.0</td>\n",
       "      <td>42.0</td>\n",
       "      <td>1357.142857</td>\n",
       "      <td>1357.142857</td>\n",
       "      <td>5.0</td>\n",
       "      <td>2.0</td>\n",
       "      <td>364</td>\n",
       "      <td>http://constitucion.properati.com.ar/k2f0_vent...</td>\n",
       "    </tr>\n",
       "    <tr>\n",
       "      <th>41</th>\n",
       "      <td>sell</td>\n",
       "      <td>apartment</td>\n",
       "      <td>|Argentina|Capital Federal|Once|</td>\n",
       "      <td>-34.6106102,-58.4125107</td>\n",
       "      <td>90000.0</td>\n",
       "      <td>USD</td>\n",
       "      <td>1364616.00</td>\n",
       "      <td>90000.00</td>\n",
       "      <td>57.0</td>\n",
       "      <td>50.0</td>\n",
       "      <td>1578.947368</td>\n",
       "      <td>1800.000000</td>\n",
       "      <td>NaN</td>\n",
       "      <td>3.0</td>\n",
       "      <td>450</td>\n",
       "      <td>http://once.properati.com.ar/suwa_venta_depart...</td>\n",
       "    </tr>\n",
       "    <tr>\n",
       "      <th>...</th>\n",
       "      <td>...</td>\n",
       "      <td>...</td>\n",
       "      <td>...</td>\n",
       "      <td>...</td>\n",
       "      <td>...</td>\n",
       "      <td>...</td>\n",
       "      <td>...</td>\n",
       "      <td>...</td>\n",
       "      <td>...</td>\n",
       "      <td>...</td>\n",
       "      <td>...</td>\n",
       "      <td>...</td>\n",
       "      <td>...</td>\n",
       "      <td>...</td>\n",
       "      <td>...</td>\n",
       "      <td>...</td>\n",
       "    </tr>\n",
       "    <tr>\n",
       "      <th>8589</th>\n",
       "      <td>sell</td>\n",
       "      <td>apartment</td>\n",
       "      <td>|Argentina|Capital Federal|Barracas|</td>\n",
       "      <td>-34.631591,-58.370191</td>\n",
       "      <td>1118100.0</td>\n",
       "      <td>ARS</td>\n",
       "      <td>1114996.65</td>\n",
       "      <td>73536.95</td>\n",
       "      <td>49.0</td>\n",
       "      <td>42.0</td>\n",
       "      <td>1500.754082</td>\n",
       "      <td>26621.428571</td>\n",
       "      <td>3.0</td>\n",
       "      <td>1.0</td>\n",
       "      <td>NaN</td>\n",
       "      <td>http://barracas.properati.com.ar/npf1_venta_de...</td>\n",
       "    </tr>\n",
       "    <tr>\n",
       "      <th>8590</th>\n",
       "      <td>sell</td>\n",
       "      <td>apartment</td>\n",
       "      <td>|Argentina|Capital Federal|Almagro|</td>\n",
       "      <td>-34.6045547,-58.4182063</td>\n",
       "      <td>119000.0</td>\n",
       "      <td>USD</td>\n",
       "      <td>1804325.60</td>\n",
       "      <td>119000.00</td>\n",
       "      <td>46.0</td>\n",
       "      <td>41.0</td>\n",
       "      <td>2586.956522</td>\n",
       "      <td>2902.439024</td>\n",
       "      <td>NaN</td>\n",
       "      <td>NaN</td>\n",
       "      <td>NaN</td>\n",
       "      <td>http://almagro.properati.com.ar/ea4d_venta_dep...</td>\n",
       "    </tr>\n",
       "    <tr>\n",
       "      <th>8593</th>\n",
       "      <td>sell</td>\n",
       "      <td>apartment</td>\n",
       "      <td>|Argentina|Capital Federal|Barracas|</td>\n",
       "      <td>-34.6240024,-58.3905883</td>\n",
       "      <td>62000.0</td>\n",
       "      <td>USD</td>\n",
       "      <td>940068.80</td>\n",
       "      <td>62000.00</td>\n",
       "      <td>NaN</td>\n",
       "      <td>43.0</td>\n",
       "      <td>NaN</td>\n",
       "      <td>1441.860465</td>\n",
       "      <td>NaN</td>\n",
       "      <td>2.0</td>\n",
       "      <td>NaN</td>\n",
       "      <td>http://barracas.properati.com.ar/oc61_venta_de...</td>\n",
       "    </tr>\n",
       "    <tr>\n",
       "      <th>8601</th>\n",
       "      <td>sell</td>\n",
       "      <td>apartment</td>\n",
       "      <td>|Argentina|Capital Federal|San Nicolás|</td>\n",
       "      <td>-34.601455,-58.378132</td>\n",
       "      <td>125000.0</td>\n",
       "      <td>USD</td>\n",
       "      <td>1895300.00</td>\n",
       "      <td>125000.00</td>\n",
       "      <td>NaN</td>\n",
       "      <td>70.0</td>\n",
       "      <td>NaN</td>\n",
       "      <td>1785.714286</td>\n",
       "      <td>2.0</td>\n",
       "      <td>3.0</td>\n",
       "      <td>NaN</td>\n",
       "      <td>http://san-nicolas.properati.com.ar/1004t_vent...</td>\n",
       "    </tr>\n",
       "    <tr>\n",
       "      <th>8604</th>\n",
       "      <td>sell</td>\n",
       "      <td>apartment</td>\n",
       "      <td>|Argentina|Capital Federal|Boedo|</td>\n",
       "      <td>NaN</td>\n",
       "      <td>78000.0</td>\n",
       "      <td>USD</td>\n",
       "      <td>1182667.20</td>\n",
       "      <td>78000.00</td>\n",
       "      <td>52.0</td>\n",
       "      <td>52.0</td>\n",
       "      <td>1500.000000</td>\n",
       "      <td>1500.000000</td>\n",
       "      <td>NaN</td>\n",
       "      <td>NaN</td>\n",
       "      <td>NaN</td>\n",
       "      <td>http://boedo.properati.com.ar/eh9b_venta_depar...</td>\n",
       "    </tr>\n",
       "  </tbody>\n",
       "</table>\n",
       "<p>1343 rows × 16 columns</p>\n",
       "</div>"
      ],
      "text/plain": [
       "     operation property_type                   place_with_parent_names  \\\n",
       "4         sell     apartment     |Argentina|Capital Federal|Chacarita|   \n",
       "9         sell     apartment    |Argentina|Capital Federal|Villa Luro|   \n",
       "29        sell     apartment     |Argentina|Capital Federal|Caballito|   \n",
       "40        sell     apartment  |Argentina|Capital Federal|Constitución|   \n",
       "41        sell     apartment          |Argentina|Capital Federal|Once|   \n",
       "...        ...           ...                                       ...   \n",
       "8589      sell     apartment      |Argentina|Capital Federal|Barracas|   \n",
       "8590      sell     apartment       |Argentina|Capital Federal|Almagro|   \n",
       "8593      sell     apartment      |Argentina|Capital Federal|Barracas|   \n",
       "8601      sell     apartment   |Argentina|Capital Federal|San Nicolás|   \n",
       "8604      sell     apartment         |Argentina|Capital Federal|Boedo|   \n",
       "\n",
       "                            lat-lon      price currency  \\\n",
       "4     -34.5846508988,-58.4546932614   129000.0      USD   \n",
       "9            -34.6389789,-58.500115    87000.0      USD   \n",
       "29            -34.615847,-58.459957   118000.0      USD   \n",
       "40          -34.6252219,-58.3823825    57000.0      USD   \n",
       "41          -34.6106102,-58.4125107    90000.0      USD   \n",
       "...                             ...        ...      ...   \n",
       "8589          -34.631591,-58.370191  1118100.0      ARS   \n",
       "8590        -34.6045547,-58.4182063   119000.0      USD   \n",
       "8593        -34.6240024,-58.3905883    62000.0      USD   \n",
       "8601          -34.601455,-58.378132   125000.0      USD   \n",
       "8604                            NaN    78000.0      USD   \n",
       "\n",
       "      price_aprox_local_currency  price_aprox_usd  surface_total_in_m2  \\\n",
       "4                     1955949.60        129000.00                 76.0   \n",
       "9                     1319128.80         87000.00                 48.0   \n",
       "29                    1789163.20        118000.00                  NaN   \n",
       "40                     864256.80         57000.00                 42.0   \n",
       "41                    1364616.00         90000.00                 57.0   \n",
       "...                          ...              ...                  ...   \n",
       "8589                  1114996.65         73536.95                 49.0   \n",
       "8590                  1804325.60        119000.00                 46.0   \n",
       "8593                   940068.80         62000.00                  NaN   \n",
       "8601                  1895300.00        125000.00                  NaN   \n",
       "8604                  1182667.20         78000.00                 52.0   \n",
       "\n",
       "      surface_covered_in_m2  price_usd_per_m2  price_per_m2  floor  rooms  \\\n",
       "4                      70.0       1697.368421   1842.857143    NaN    NaN   \n",
       "9                      42.0       1812.500000   2071.428571    NaN    NaN   \n",
       "29                     54.0               NaN   2185.185185    NaN    2.0   \n",
       "40                     42.0       1357.142857   1357.142857    5.0    2.0   \n",
       "41                     50.0       1578.947368   1800.000000    NaN    3.0   \n",
       "...                     ...               ...           ...    ...    ...   \n",
       "8589                   42.0       1500.754082  26621.428571    3.0    1.0   \n",
       "8590                   41.0       2586.956522   2902.439024    NaN    NaN   \n",
       "8593                   43.0               NaN   1441.860465    NaN    2.0   \n",
       "8601                   70.0               NaN   1785.714286    2.0    3.0   \n",
       "8604                   52.0       1500.000000   1500.000000    NaN    NaN   \n",
       "\n",
       "     expenses                                      properati_url  \n",
       "4         NaN  http://chacarita.properati.com.ar/10qlv_venta_...  \n",
       "9         NaN  http://villa-luro.properati.com.ar/12m82_venta...  \n",
       "29        NaN  http://caballito.properati.com.ar/11wqh_venta_...  \n",
       "40        364  http://constitucion.properati.com.ar/k2f0_vent...  \n",
       "41        450  http://once.properati.com.ar/suwa_venta_depart...  \n",
       "...       ...                                                ...  \n",
       "8589      NaN  http://barracas.properati.com.ar/npf1_venta_de...  \n",
       "8590      NaN  http://almagro.properati.com.ar/ea4d_venta_dep...  \n",
       "8593      NaN  http://barracas.properati.com.ar/oc61_venta_de...  \n",
       "8601      NaN  http://san-nicolas.properati.com.ar/1004t_vent...  \n",
       "8604      NaN  http://boedo.properati.com.ar/eh9b_venta_depar...  \n",
       "\n",
       "[1343 rows x 16 columns]"
      ]
     },
     "execution_count": 6,
     "metadata": {},
     "output_type": "execute_result"
    }
   ],
   "source": [
    "df = wrangle(\"data/buenos-aires-real-estate-1.csv\")\n",
    "print(\"df shape:\", df.shape)\n",
    "df.head()\n",
    "wrangle(\"data/buenos-aires-real-estate-1.csv\")"
   ]
  },
  {
   "cell_type": "markdown",
   "id": "7c0234cb",
   "metadata": {},
   "source": [
    "At this point, your DataFrame `df` should have no more than 8,606 observations."
   ]
  },
  {
   "cell_type": "code",
   "execution_count": 7,
   "id": "3c3b534c",
   "metadata": {},
   "outputs": [],
   "source": [
    "# Check your work\n",
    "assert (\n",
    "    len(df) <= 8606\n",
    "), f\"`df` should have no more than 8606 observations, not {len(df)}.\""
   ]
  },
  {
   "cell_type": "markdown",
   "id": "df57f2b6",
   "metadata": {},
   "source": [
    "For this project, we want to build a model for apartments in Buenos Aires proper (`\"Capital Federal\"`) that cost less than \\$400,000. Looking at the first five rows of our DataFrame, we can already see that there properties that fall outside those parameters. So our first cleaning task is to remove those observations from our dataset. Since we're using a function to import and clean our data, we'll need to make changes there. "
   ]
  },
  {
   "cell_type": "code",
   "execution_count": 8,
   "id": "773b4c13",
   "metadata": {
    "scrolled": true
   },
   "outputs": [
    {
     "data": {
      "text/html": [
       "\n",
       "        <iframe\n",
       "            width=\"600\"\n",
       "            height=\"300\"\n",
       "            src=\"https://player.vimeo.com/video/656697884?h=95081c955c\"\n",
       "            frameborder=\"0\"\n",
       "            allowfullscreen\n",
       "            \n",
       "        ></iframe>\n",
       "        "
      ],
      "text/plain": [
       "<IPython.lib.display.VimeoVideo at 0x6ffbf19c24d0>"
      ]
     },
     "execution_count": 8,
     "metadata": {},
     "output_type": "execute_result"
    }
   ],
   "source": [
    "VimeoVideo(\"656697884\", h=\"95081c955c\", width=600)"
   ]
  },
  {
   "cell_type": "markdown",
   "id": "c7201fda",
   "metadata": {},
   "source": [
    "**Task 2.1.3:** Add to your `wrangle` function so that the DataFrame it returns only includes apartments in Buenos Aires (`\"Capital Federal\"`) that cost less than $400,000 USD. Then recreate `df` from `data/buenos-aires-real-estate-1.csv` by re-running the cells above. \n",
    "\n",
    "- [Subset a DataFrame with a mask using pandas.](../%40textbook/04-pandas-advanced.ipynb#Subsetting-with-Masks)\n",
    "\n",
    "To check your work, `df` should no have no more than 1,781 observations."
   ]
  },
  {
   "cell_type": "code",
   "execution_count": 9,
   "id": "7b027f28",
   "metadata": {},
   "outputs": [
    {
     "data": {
      "text/html": [
       "<div>\n",
       "<style scoped>\n",
       "    .dataframe tbody tr th:only-of-type {\n",
       "        vertical-align: middle;\n",
       "    }\n",
       "\n",
       "    .dataframe tbody tr th {\n",
       "        vertical-align: top;\n",
       "    }\n",
       "\n",
       "    .dataframe thead th {\n",
       "        text-align: right;\n",
       "    }\n",
       "</style>\n",
       "<table border=\"1\" class=\"dataframe\">\n",
       "  <thead>\n",
       "    <tr style=\"text-align: right;\">\n",
       "      <th></th>\n",
       "      <th>operation</th>\n",
       "      <th>property_type</th>\n",
       "      <th>place_with_parent_names</th>\n",
       "      <th>lat-lon</th>\n",
       "      <th>price</th>\n",
       "      <th>currency</th>\n",
       "      <th>price_aprox_local_currency</th>\n",
       "      <th>price_aprox_usd</th>\n",
       "      <th>surface_total_in_m2</th>\n",
       "      <th>surface_covered_in_m2</th>\n",
       "      <th>price_usd_per_m2</th>\n",
       "      <th>price_per_m2</th>\n",
       "      <th>floor</th>\n",
       "      <th>rooms</th>\n",
       "      <th>expenses</th>\n",
       "      <th>properati_url</th>\n",
       "    </tr>\n",
       "  </thead>\n",
       "  <tbody>\n",
       "    <tr>\n",
       "      <th>4</th>\n",
       "      <td>sell</td>\n",
       "      <td>apartment</td>\n",
       "      <td>|Argentina|Capital Federal|Chacarita|</td>\n",
       "      <td>-34.5846508988,-58.4546932614</td>\n",
       "      <td>129000.0</td>\n",
       "      <td>USD</td>\n",
       "      <td>1955949.60</td>\n",
       "      <td>129000.00</td>\n",
       "      <td>76.0</td>\n",
       "      <td>70.0</td>\n",
       "      <td>1697.368421</td>\n",
       "      <td>1842.857143</td>\n",
       "      <td>NaN</td>\n",
       "      <td>NaN</td>\n",
       "      <td>NaN</td>\n",
       "      <td>http://chacarita.properati.com.ar/10qlv_venta_...</td>\n",
       "    </tr>\n",
       "    <tr>\n",
       "      <th>9</th>\n",
       "      <td>sell</td>\n",
       "      <td>apartment</td>\n",
       "      <td>|Argentina|Capital Federal|Villa Luro|</td>\n",
       "      <td>-34.6389789,-58.500115</td>\n",
       "      <td>87000.0</td>\n",
       "      <td>USD</td>\n",
       "      <td>1319128.80</td>\n",
       "      <td>87000.00</td>\n",
       "      <td>48.0</td>\n",
       "      <td>42.0</td>\n",
       "      <td>1812.500000</td>\n",
       "      <td>2071.428571</td>\n",
       "      <td>NaN</td>\n",
       "      <td>NaN</td>\n",
       "      <td>NaN</td>\n",
       "      <td>http://villa-luro.properati.com.ar/12m82_venta...</td>\n",
       "    </tr>\n",
       "    <tr>\n",
       "      <th>29</th>\n",
       "      <td>sell</td>\n",
       "      <td>apartment</td>\n",
       "      <td>|Argentina|Capital Federal|Caballito|</td>\n",
       "      <td>-34.615847,-58.459957</td>\n",
       "      <td>118000.0</td>\n",
       "      <td>USD</td>\n",
       "      <td>1789163.20</td>\n",
       "      <td>118000.00</td>\n",
       "      <td>NaN</td>\n",
       "      <td>54.0</td>\n",
       "      <td>NaN</td>\n",
       "      <td>2185.185185</td>\n",
       "      <td>NaN</td>\n",
       "      <td>2.0</td>\n",
       "      <td>NaN</td>\n",
       "      <td>http://caballito.properati.com.ar/11wqh_venta_...</td>\n",
       "    </tr>\n",
       "    <tr>\n",
       "      <th>40</th>\n",
       "      <td>sell</td>\n",
       "      <td>apartment</td>\n",
       "      <td>|Argentina|Capital Federal|Constitución|</td>\n",
       "      <td>-34.6252219,-58.3823825</td>\n",
       "      <td>57000.0</td>\n",
       "      <td>USD</td>\n",
       "      <td>864256.80</td>\n",
       "      <td>57000.00</td>\n",
       "      <td>42.0</td>\n",
       "      <td>42.0</td>\n",
       "      <td>1357.142857</td>\n",
       "      <td>1357.142857</td>\n",
       "      <td>5.0</td>\n",
       "      <td>2.0</td>\n",
       "      <td>364</td>\n",
       "      <td>http://constitucion.properati.com.ar/k2f0_vent...</td>\n",
       "    </tr>\n",
       "    <tr>\n",
       "      <th>41</th>\n",
       "      <td>sell</td>\n",
       "      <td>apartment</td>\n",
       "      <td>|Argentina|Capital Federal|Once|</td>\n",
       "      <td>-34.6106102,-58.4125107</td>\n",
       "      <td>90000.0</td>\n",
       "      <td>USD</td>\n",
       "      <td>1364616.00</td>\n",
       "      <td>90000.00</td>\n",
       "      <td>57.0</td>\n",
       "      <td>50.0</td>\n",
       "      <td>1578.947368</td>\n",
       "      <td>1800.000000</td>\n",
       "      <td>NaN</td>\n",
       "      <td>3.0</td>\n",
       "      <td>450</td>\n",
       "      <td>http://once.properati.com.ar/suwa_venta_depart...</td>\n",
       "    </tr>\n",
       "    <tr>\n",
       "      <th>...</th>\n",
       "      <td>...</td>\n",
       "      <td>...</td>\n",
       "      <td>...</td>\n",
       "      <td>...</td>\n",
       "      <td>...</td>\n",
       "      <td>...</td>\n",
       "      <td>...</td>\n",
       "      <td>...</td>\n",
       "      <td>...</td>\n",
       "      <td>...</td>\n",
       "      <td>...</td>\n",
       "      <td>...</td>\n",
       "      <td>...</td>\n",
       "      <td>...</td>\n",
       "      <td>...</td>\n",
       "      <td>...</td>\n",
       "    </tr>\n",
       "    <tr>\n",
       "      <th>8589</th>\n",
       "      <td>sell</td>\n",
       "      <td>apartment</td>\n",
       "      <td>|Argentina|Capital Federal|Barracas|</td>\n",
       "      <td>-34.631591,-58.370191</td>\n",
       "      <td>1118100.0</td>\n",
       "      <td>ARS</td>\n",
       "      <td>1114996.65</td>\n",
       "      <td>73536.95</td>\n",
       "      <td>49.0</td>\n",
       "      <td>42.0</td>\n",
       "      <td>1500.754082</td>\n",
       "      <td>26621.428571</td>\n",
       "      <td>3.0</td>\n",
       "      <td>1.0</td>\n",
       "      <td>NaN</td>\n",
       "      <td>http://barracas.properati.com.ar/npf1_venta_de...</td>\n",
       "    </tr>\n",
       "    <tr>\n",
       "      <th>8590</th>\n",
       "      <td>sell</td>\n",
       "      <td>apartment</td>\n",
       "      <td>|Argentina|Capital Federal|Almagro|</td>\n",
       "      <td>-34.6045547,-58.4182063</td>\n",
       "      <td>119000.0</td>\n",
       "      <td>USD</td>\n",
       "      <td>1804325.60</td>\n",
       "      <td>119000.00</td>\n",
       "      <td>46.0</td>\n",
       "      <td>41.0</td>\n",
       "      <td>2586.956522</td>\n",
       "      <td>2902.439024</td>\n",
       "      <td>NaN</td>\n",
       "      <td>NaN</td>\n",
       "      <td>NaN</td>\n",
       "      <td>http://almagro.properati.com.ar/ea4d_venta_dep...</td>\n",
       "    </tr>\n",
       "    <tr>\n",
       "      <th>8593</th>\n",
       "      <td>sell</td>\n",
       "      <td>apartment</td>\n",
       "      <td>|Argentina|Capital Federal|Barracas|</td>\n",
       "      <td>-34.6240024,-58.3905883</td>\n",
       "      <td>62000.0</td>\n",
       "      <td>USD</td>\n",
       "      <td>940068.80</td>\n",
       "      <td>62000.00</td>\n",
       "      <td>NaN</td>\n",
       "      <td>43.0</td>\n",
       "      <td>NaN</td>\n",
       "      <td>1441.860465</td>\n",
       "      <td>NaN</td>\n",
       "      <td>2.0</td>\n",
       "      <td>NaN</td>\n",
       "      <td>http://barracas.properati.com.ar/oc61_venta_de...</td>\n",
       "    </tr>\n",
       "    <tr>\n",
       "      <th>8601</th>\n",
       "      <td>sell</td>\n",
       "      <td>apartment</td>\n",
       "      <td>|Argentina|Capital Federal|San Nicolás|</td>\n",
       "      <td>-34.601455,-58.378132</td>\n",
       "      <td>125000.0</td>\n",
       "      <td>USD</td>\n",
       "      <td>1895300.00</td>\n",
       "      <td>125000.00</td>\n",
       "      <td>NaN</td>\n",
       "      <td>70.0</td>\n",
       "      <td>NaN</td>\n",
       "      <td>1785.714286</td>\n",
       "      <td>2.0</td>\n",
       "      <td>3.0</td>\n",
       "      <td>NaN</td>\n",
       "      <td>http://san-nicolas.properati.com.ar/1004t_vent...</td>\n",
       "    </tr>\n",
       "    <tr>\n",
       "      <th>8604</th>\n",
       "      <td>sell</td>\n",
       "      <td>apartment</td>\n",
       "      <td>|Argentina|Capital Federal|Boedo|</td>\n",
       "      <td>NaN</td>\n",
       "      <td>78000.0</td>\n",
       "      <td>USD</td>\n",
       "      <td>1182667.20</td>\n",
       "      <td>78000.00</td>\n",
       "      <td>52.0</td>\n",
       "      <td>52.0</td>\n",
       "      <td>1500.000000</td>\n",
       "      <td>1500.000000</td>\n",
       "      <td>NaN</td>\n",
       "      <td>NaN</td>\n",
       "      <td>NaN</td>\n",
       "      <td>http://boedo.properati.com.ar/eh9b_venta_depar...</td>\n",
       "    </tr>\n",
       "  </tbody>\n",
       "</table>\n",
       "<p>1343 rows × 16 columns</p>\n",
       "</div>"
      ],
      "text/plain": [
       "     operation property_type                   place_with_parent_names  \\\n",
       "4         sell     apartment     |Argentina|Capital Federal|Chacarita|   \n",
       "9         sell     apartment    |Argentina|Capital Federal|Villa Luro|   \n",
       "29        sell     apartment     |Argentina|Capital Federal|Caballito|   \n",
       "40        sell     apartment  |Argentina|Capital Federal|Constitución|   \n",
       "41        sell     apartment          |Argentina|Capital Federal|Once|   \n",
       "...        ...           ...                                       ...   \n",
       "8589      sell     apartment      |Argentina|Capital Federal|Barracas|   \n",
       "8590      sell     apartment       |Argentina|Capital Federal|Almagro|   \n",
       "8593      sell     apartment      |Argentina|Capital Federal|Barracas|   \n",
       "8601      sell     apartment   |Argentina|Capital Federal|San Nicolás|   \n",
       "8604      sell     apartment         |Argentina|Capital Federal|Boedo|   \n",
       "\n",
       "                            lat-lon      price currency  \\\n",
       "4     -34.5846508988,-58.4546932614   129000.0      USD   \n",
       "9            -34.6389789,-58.500115    87000.0      USD   \n",
       "29            -34.615847,-58.459957   118000.0      USD   \n",
       "40          -34.6252219,-58.3823825    57000.0      USD   \n",
       "41          -34.6106102,-58.4125107    90000.0      USD   \n",
       "...                             ...        ...      ...   \n",
       "8589          -34.631591,-58.370191  1118100.0      ARS   \n",
       "8590        -34.6045547,-58.4182063   119000.0      USD   \n",
       "8593        -34.6240024,-58.3905883    62000.0      USD   \n",
       "8601          -34.601455,-58.378132   125000.0      USD   \n",
       "8604                            NaN    78000.0      USD   \n",
       "\n",
       "      price_aprox_local_currency  price_aprox_usd  surface_total_in_m2  \\\n",
       "4                     1955949.60        129000.00                 76.0   \n",
       "9                     1319128.80         87000.00                 48.0   \n",
       "29                    1789163.20        118000.00                  NaN   \n",
       "40                     864256.80         57000.00                 42.0   \n",
       "41                    1364616.00         90000.00                 57.0   \n",
       "...                          ...              ...                  ...   \n",
       "8589                  1114996.65         73536.95                 49.0   \n",
       "8590                  1804325.60        119000.00                 46.0   \n",
       "8593                   940068.80         62000.00                  NaN   \n",
       "8601                  1895300.00        125000.00                  NaN   \n",
       "8604                  1182667.20         78000.00                 52.0   \n",
       "\n",
       "      surface_covered_in_m2  price_usd_per_m2  price_per_m2  floor  rooms  \\\n",
       "4                      70.0       1697.368421   1842.857143    NaN    NaN   \n",
       "9                      42.0       1812.500000   2071.428571    NaN    NaN   \n",
       "29                     54.0               NaN   2185.185185    NaN    2.0   \n",
       "40                     42.0       1357.142857   1357.142857    5.0    2.0   \n",
       "41                     50.0       1578.947368   1800.000000    NaN    3.0   \n",
       "...                     ...               ...           ...    ...    ...   \n",
       "8589                   42.0       1500.754082  26621.428571    3.0    1.0   \n",
       "8590                   41.0       2586.956522   2902.439024    NaN    NaN   \n",
       "8593                   43.0               NaN   1441.860465    NaN    2.0   \n",
       "8601                   70.0               NaN   1785.714286    2.0    3.0   \n",
       "8604                   52.0       1500.000000   1500.000000    NaN    NaN   \n",
       "\n",
       "     expenses                                      properati_url  \n",
       "4         NaN  http://chacarita.properati.com.ar/10qlv_venta_...  \n",
       "9         NaN  http://villa-luro.properati.com.ar/12m82_venta...  \n",
       "29        NaN  http://caballito.properati.com.ar/11wqh_venta_...  \n",
       "40        364  http://constitucion.properati.com.ar/k2f0_vent...  \n",
       "41        450  http://once.properati.com.ar/suwa_venta_depart...  \n",
       "...       ...                                                ...  \n",
       "8589      NaN  http://barracas.properati.com.ar/npf1_venta_de...  \n",
       "8590      NaN  http://almagro.properati.com.ar/ea4d_venta_dep...  \n",
       "8593      NaN  http://barracas.properati.com.ar/oc61_venta_de...  \n",
       "8601      NaN  http://san-nicolas.properati.com.ar/1004t_vent...  \n",
       "8604      NaN  http://boedo.properati.com.ar/eh9b_venta_depar...  \n",
       "\n",
       "[1343 rows x 16 columns]"
      ]
     },
     "execution_count": 9,
     "metadata": {},
     "output_type": "execute_result"
    }
   ],
   "source": [
    "# Check your work\n",
    "mask_cst =df[\"price_aprox_usd\"]>400000\n",
    "df[mask_cst]\n",
    "df=wrangle(\"data/buenos-aires-real-estate-1.csv\")  \n",
    "df"
   ]
  },
  {
   "cell_type": "markdown",
   "id": "7fa75f9c",
   "metadata": {},
   "source": [
    "## Explore"
   ]
  },
  {
   "cell_type": "markdown",
   "id": "ed42b7d1",
   "metadata": {},
   "source": [
    "We saw in the previous project that property size is an important factor in determining price. With that in mind, let's look at the distribution of apartment sizes in our dataset. "
   ]
  },
  {
   "cell_type": "code",
   "execution_count": 10,
   "id": "30058c6d",
   "metadata": {},
   "outputs": [
    {
     "data": {
      "text/html": [
       "\n",
       "        <iframe\n",
       "            width=\"600\"\n",
       "            height=\"300\"\n",
       "            src=\"https://player.vimeo.com/video/656697539?h=9e0a4673f0\"\n",
       "            frameborder=\"0\"\n",
       "            allowfullscreen\n",
       "            \n",
       "        ></iframe>\n",
       "        "
      ],
      "text/plain": [
       "<IPython.lib.display.VimeoVideo at 0x6ffbf0763050>"
      ]
     },
     "execution_count": 10,
     "metadata": {},
     "output_type": "execute_result"
    }
   ],
   "source": [
    "VimeoVideo(\"656697539\", h=\"9e0a4673f0\", width=600)"
   ]
  },
  {
   "cell_type": "markdown",
   "id": "fc433523",
   "metadata": {},
   "source": [
    "**Task 2.1.4:** Create a histogram of `\"surface_covered_in_m2\"`. Make sure that the x-axis has the label `\"Area [sq meters]\"` and the plot has the title `\"Distribution of Apartment Sizes\"`.\n",
    "\n",
    "- [What's a histogram?](../%40textbook/06-visualization-matplotlib.ipynb#Histograms)\n",
    "- [Create a histogram using Matplotlib.](../%40textbook/06-visualization-matplotlib.ipynb#Histograms)"
   ]
  },
  {
   "cell_type": "code",
   "execution_count": 11,
   "id": "e0e51618",
   "metadata": {},
   "outputs": [
    {
     "data": {
      "text/plain": [
       "Text(0.5, 1.0, 'Distribution of Apartment Sizes')"
      ]
     },
     "execution_count": 11,
     "metadata": {},
     "output_type": "execute_result"
    },
    {
     "data": {
      "image/png": "[encoded data removed]",
      "text/plain": [
       "<Figure size 640x480 with 1 Axes>"
      ]
     },
     "metadata": {},
     "output_type": "display_data"
    }
   ],
   "source": [
    "plt.hist(df[\"surface_covered_in_m2\"])\n",
    "plt.xlabel(\"Area [sq meters]\")\n",
    "plt.title(\"Distribution of Apartment Sizes\")"
   ]
  },
  {
   "cell_type": "markdown",
   "id": "a8639060",
   "metadata": {},
   "source": [
    "Yikes! When you see a histogram like the one above, it suggests that there are outliers in your dataset. This can affect model performance — especially in the sorts of linear models we'll learn about in this project. To confirm, let's look at the summary statistics for the `\"surface_covered_in_m2\"` feature. "
   ]
  },
  {
   "cell_type": "code",
   "execution_count": 12,
   "id": "0629e5dd",
   "metadata": {},
   "outputs": [
    {
     "data": {
      "text/html": [
       "\n",
       "        <iframe\n",
       "            width=\"600\"\n",
       "            height=\"300\"\n",
       "            src=\"https://player.vimeo.com/video/656697049?h=649a69e5a2\"\n",
       "            frameborder=\"0\"\n",
       "            allowfullscreen\n",
       "            \n",
       "        ></iframe>\n",
       "        "
      ],
      "text/plain": [
       "<IPython.lib.display.VimeoVideo at 0x6ffbf19ba1d0>"
      ]
     },
     "execution_count": 12,
     "metadata": {},
     "output_type": "execute_result"
    }
   ],
   "source": [
    "VimeoVideo(\"656697049\", h=\"649a69e5a2\", width=600)"
   ]
  },
  {
   "cell_type": "markdown",
   "id": "d1fbdb84",
   "metadata": {},
   "source": [
    "**Task 2.1.5:** Calculate the summary statistics for `df` using the [`describe`](https://pandas.pydata.org/pandas-docs/stable/reference/api/pandas.DataFrame.describe.html) method. \n",
    "\n",
    "- [<span id='term'>What's skewed data?](../%40textbook/05-pandas-summary-statistics.ipynb#Skewed-Distributions)\n",
    "- [<span id='technique'>Print the summary statistics for a DataFrame using <span id='tool'>pandas.](../%40textbook/05-pandas-summary-statistics.ipynb#Working-with-Summary-Statistics)"
   ]
  },
  {
   "cell_type": "code",
   "execution_count": 13,
   "id": "1f55b0a6",
   "metadata": {},
   "outputs": [
    {
     "data": {
      "text/html": [
       "<div>\n",
       "<style scoped>\n",
       "    .dataframe tbody tr th:only-of-type {\n",
       "        vertical-align: middle;\n",
       "    }\n",
       "\n",
       "    .dataframe tbody tr th {\n",
       "        vertical-align: top;\n",
       "    }\n",
       "\n",
       "    .dataframe thead th {\n",
       "        text-align: right;\n",
       "    }\n",
       "</style>\n",
       "<table border=\"1\" class=\"dataframe\">\n",
       "  <thead>\n",
       "    <tr style=\"text-align: right;\">\n",
       "      <th></th>\n",
       "      <th>price</th>\n",
       "      <th>price_aprox_local_currency</th>\n",
       "      <th>price_aprox_usd</th>\n",
       "      <th>surface_total_in_m2</th>\n",
       "      <th>surface_covered_in_m2</th>\n",
       "      <th>price_usd_per_m2</th>\n",
       "      <th>price_per_m2</th>\n",
       "      <th>floor</th>\n",
       "      <th>rooms</th>\n",
       "    </tr>\n",
       "  </thead>\n",
       "  <tbody>\n",
       "    <tr>\n",
       "      <th>count</th>\n",
       "      <td>1.343000e+03</td>\n",
       "      <td>1.343000e+03</td>\n",
       "      <td>1343.000000</td>\n",
       "      <td>965.000000</td>\n",
       "      <td>1343.000000</td>\n",
       "      <td>927.000000</td>\n",
       "      <td>1343.000000</td>\n",
       "      <td>379.000000</td>\n",
       "      <td>1078.000000</td>\n",
       "    </tr>\n",
       "    <tr>\n",
       "      <th>mean</th>\n",
       "      <td>2.204582e+05</td>\n",
       "      <td>2.054927e+06</td>\n",
       "      <td>135527.838719</td>\n",
       "      <td>59.883938</td>\n",
       "      <td>55.076694</td>\n",
       "      <td>2244.163063</td>\n",
       "      <td>4285.479770</td>\n",
       "      <td>11.155673</td>\n",
       "      <td>2.364564</td>\n",
       "    </tr>\n",
       "    <tr>\n",
       "      <th>std</th>\n",
       "      <td>4.151182e+05</td>\n",
       "      <td>9.033095e+05</td>\n",
       "      <td>59575.630208</td>\n",
       "      <td>26.621969</td>\n",
       "      <td>18.160427</td>\n",
       "      <td>639.740608</td>\n",
       "      <td>7987.685558</td>\n",
       "      <td>50.138692</td>\n",
       "      <td>0.902759</td>\n",
       "    </tr>\n",
       "    <tr>\n",
       "      <th>min</th>\n",
       "      <td>2.727900e+04</td>\n",
       "      <td>4.136151e+05</td>\n",
       "      <td>27279.000000</td>\n",
       "      <td>0.000000</td>\n",
       "      <td>31.000000</td>\n",
       "      <td>513.513514</td>\n",
       "      <td>808.148936</td>\n",
       "      <td>1.000000</td>\n",
       "      <td>1.000000</td>\n",
       "    </tr>\n",
       "    <tr>\n",
       "      <th>25%</th>\n",
       "      <td>9.325000e+04</td>\n",
       "      <td>1.394941e+06</td>\n",
       "      <td>92000.000000</td>\n",
       "      <td>42.000000</td>\n",
       "      <td>40.000000</td>\n",
       "      <td>1826.505017</td>\n",
       "      <td>1975.872093</td>\n",
       "      <td>2.000000</td>\n",
       "      <td>2.000000</td>\n",
       "    </tr>\n",
       "    <tr>\n",
       "      <th>50%</th>\n",
       "      <td>1.259000e+05</td>\n",
       "      <td>1.819935e+06</td>\n",
       "      <td>120029.460000</td>\n",
       "      <td>55.000000</td>\n",
       "      <td>50.000000</td>\n",
       "      <td>2141.519231</td>\n",
       "      <td>2411.764706</td>\n",
       "      <td>4.000000</td>\n",
       "      <td>2.000000</td>\n",
       "    </tr>\n",
       "    <tr>\n",
       "      <th>75%</th>\n",
       "      <td>1.750000e+05</td>\n",
       "      <td>2.425984e+06</td>\n",
       "      <td>160000.000000</td>\n",
       "      <td>75.000000</td>\n",
       "      <td>68.500000</td>\n",
       "      <td>2578.183144</td>\n",
       "      <td>2964.814815</td>\n",
       "      <td>7.000000</td>\n",
       "      <td>3.000000</td>\n",
       "    </tr>\n",
       "    <tr>\n",
       "      <th>max</th>\n",
       "      <td>5.487000e+06</td>\n",
       "      <td>5.989148e+06</td>\n",
       "      <td>395000.000000</td>\n",
       "      <td>229.000000</td>\n",
       "      <td>100.000000</td>\n",
       "      <td>5777.777778</td>\n",
       "      <td>57156.250000</td>\n",
       "      <td>616.000000</td>\n",
       "      <td>6.000000</td>\n",
       "    </tr>\n",
       "  </tbody>\n",
       "</table>\n",
       "</div>"
      ],
      "text/plain": [
       "              price  price_aprox_local_currency  price_aprox_usd  \\\n",
       "count  1.343000e+03                1.343000e+03      1343.000000   \n",
       "mean   2.204582e+05                2.054927e+06    135527.838719   \n",
       "std    4.151182e+05                9.033095e+05     59575.630208   \n",
       "min    2.727900e+04                4.136151e+05     27279.000000   \n",
       "25%    9.325000e+04                1.394941e+06     92000.000000   \n",
       "50%    1.259000e+05                1.819935e+06    120029.460000   \n",
       "75%    1.750000e+05                2.425984e+06    160000.000000   \n",
       "max    5.487000e+06                5.989148e+06    395000.000000   \n",
       "\n",
       "       surface_total_in_m2  surface_covered_in_m2  price_usd_per_m2  \\\n",
       "count           965.000000            1343.000000        927.000000   \n",
       "mean             59.883938              55.076694       2244.163063   \n",
       "std              26.621969              18.160427        639.740608   \n",
       "min               0.000000              31.000000        513.513514   \n",
       "25%              42.000000              40.000000       1826.505017   \n",
       "50%              55.000000              50.000000       2141.519231   \n",
       "75%              75.000000              68.500000       2578.183144   \n",
       "max             229.000000             100.000000       5777.777778   \n",
       "\n",
       "       price_per_m2       floor        rooms  \n",
       "count   1343.000000  379.000000  1078.000000  \n",
       "mean    4285.479770   11.155673     2.364564  \n",
       "std     7987.685558   50.138692     0.902759  \n",
       "min      808.148936    1.000000     1.000000  \n",
       "25%     1975.872093    2.000000     2.000000  \n",
       "50%     2411.764706    4.000000     2.000000  \n",
       "75%     2964.814815    7.000000     3.000000  \n",
       "max    57156.250000  616.000000     6.000000  "
      ]
     },
     "execution_count": 13,
     "metadata": {},
     "output_type": "execute_result"
    }
   ],
   "source": [
    "df.describe()"
   ]
  },
  {
   "cell_type": "markdown",
   "id": "633da206",
   "metadata": {},
   "source": [
    "The statistics above confirm what we suspected. While most of the apartments in our dataset are smaller that 73 square meters, there are some that are several thousand square meters. The best thing to do is to change our `wrangle` function and remove them from the dataset. "
   ]
  },
  {
   "cell_type": "code",
   "execution_count": 14,
   "id": "539dcc4a",
   "metadata": {},
   "outputs": [
    {
     "data": {
      "text/html": [
       "\n",
       "        <iframe\n",
       "            width=\"600\"\n",
       "            height=\"300\"\n",
       "            src=\"https://player.vimeo.com/video/656696370?h=a809e66bb8\"\n",
       "            frameborder=\"0\"\n",
       "            allowfullscreen\n",
       "            \n",
       "        ></iframe>\n",
       "        "
      ],
      "text/plain": [
       "<IPython.lib.display.VimeoVideo at 0x6ffbf0776650>"
      ]
     },
     "execution_count": 14,
     "metadata": {},
     "output_type": "execute_result"
    }
   ],
   "source": [
    "VimeoVideo(\"656696370\", h=\"a809e66bb8\", width=600)"
   ]
  },
  {
   "cell_type": "code",
   "execution_count": 15,
   "id": "60c69080-b9bb-4db4-a2a8-8bf8ccb94b9b",
   "metadata": {},
   "outputs": [
    {
     "data": {
      "text/plain": [
       "4       True\n",
       "9       True\n",
       "29      True\n",
       "40      True\n",
       "41      True\n",
       "        ... \n",
       "8589    True\n",
       "8590    True\n",
       "8593    True\n",
       "8601    True\n",
       "8604    True\n",
       "Name: surface_covered_in_m2, Length: 1343, dtype: bool"
      ]
     },
     "execution_count": 15,
     "metadata": {},
     "output_type": "execute_result"
    }
   ],
   "source": [
    "low,high=df[\"surface_covered_in_m2\"].quantile([0.1,0.9])\n",
    "mask_area=df[\"surface_covered_in_m2\"].between(low,high)\n",
    "mask_area"
   ]
  },
  {
   "cell_type": "markdown",
   "id": "2ae86920",
   "metadata": {},
   "source": [
    "**Task 2.1.6:** Add to your wrangle function so that it removes observations that are outliers in the `\"surface_covered_in_m2\"` column. Specifically, all observations should fall between the `0.1` and `0.9` quantiles for `\"surface_covered_in_m2\"`.\n",
    "\n",
    "- [What's a quantile?](../%40textbook/05-pandas-summary-statistics.ipynb#Calculate-the-Quantiles-for-a-Series)\n",
    "- [Calculate the quantiles for a Series in pandas.](../%40textbook/05-pandas-summary-statistics.ipynb#Calculate-the-Quantiles-for-a-Series)\n",
    "- [Subset a DataFrame with a mask using pandas.](../%40textbook/04-pandas-advanced.ipynb#Subsetting-with-Masks)\n",
    "\n",
    "When you're done, don't forget to rerun all the cells above. Note how your histogram changes now that there are no outliers. At this point, `df` should have no more than 1,343 observations."
   ]
  },
  {
   "cell_type": "markdown",
   "id": "f9ab16f6",
   "metadata": {},
   "source": [
    "<div class=\"alert alert-info\" role=\"alert\">\n",
    "    <p><b>Tip:</b> One of the DS Lab students, Fatma Fuad El Sheibany, wrote an <a href=\"https://learn.wqu.edu/forum-posts/6308afef620321001d81d0ee\">excellent forum post</a> on how the order in which you apply masks can affect your data. Check it out!</p>\n",
    "</div>"
   ]
  },
  {
   "cell_type": "code",
   "execution_count": 16,
   "id": "a46ff8e2",
   "metadata": {},
   "outputs": [],
   "source": [
    "# Check your work\n",
    "df=wrangle(\"data/buenos-aires-real-estate-1.csv\")  \n",
    "df\n",
    "\n",
    "assert len(df) <= 1343"
   ]
  },
  {
   "cell_type": "markdown",
   "id": "ece99137",
   "metadata": {},
   "source": [
    "Now that our dataset is free of outliers, it's time to start exploring the relationship between apartment size and price. Let's use one of the tools we learned in the last project."
   ]
  },
  {
   "cell_type": "code",
   "execution_count": 17,
   "id": "f9545424",
   "metadata": {},
   "outputs": [
    {
     "data": {
      "text/html": [
       "\n",
       "        <iframe\n",
       "            width=\"600\"\n",
       "            height=\"300\"\n",
       "            src=\"https://player.vimeo.com/video/656696079?h=80b4e6ce8e\"\n",
       "            frameborder=\"0\"\n",
       "            allowfullscreen\n",
       "            \n",
       "        ></iframe>\n",
       "        "
      ],
      "text/plain": [
       "<IPython.lib.display.VimeoVideo at 0x6ffbf078a790>"
      ]
     },
     "execution_count": 17,
     "metadata": {},
     "output_type": "execute_result"
    }
   ],
   "source": [
    "VimeoVideo(\"656696079\", h=\"80b4e6ce8e\", width=600)"
   ]
  },
  {
   "cell_type": "markdown",
   "id": "1f4011b3",
   "metadata": {},
   "source": [
    "**Task 2.1.7:** Create a scatter plot that shows price (`\"price_aprox_usd\"`) vs area (`\"surface_covered_in_m2\"`) in our dataset. Make sure to label your x-axis `\"Area [sq meters]\"` and your y-axis `\"Price [USD]\"`.\n",
    "\n",
    "- [What's a scatter plot?](../%40textbook/06-visualization-matplotlib.ipynb#Scatter-Plots)\n",
    "- [Create a scatter plot using Matplotlib.](../%40textbook/06-visualization-matplotlib.ipynb#Scatter-Plots)"
   ]
  },
  {
   "cell_type": "code",
   "execution_count": 18,
   "id": "2470e0cb",
   "metadata": {},
   "outputs": [
    {
     "data": {
      "text/plain": [
       "Text(0.5, 1.0, 'buenos price vs area')"
      ]
     },
     "execution_count": 18,
     "metadata": {},
     "output_type": "execute_result"
    },
    {
     "data": {
      "image/png": "[encoded data removed]",
      "text/plain": [
       "<Figure size 640x480 with 1 Axes>"
      ]
     },
     "metadata": {},
     "output_type": "display_data"
    }
   ],
   "source": [
    "plt.scatter(x=df[\"surface_covered_in_m2\"],y=df[\"price_aprox_usd\"])\n",
    "plt.xlabel(\"Area [sq meters]\")\n",
    "plt.ylabel(\"Price [USD]\")\n",
    "plt.title(\"buenos price vs area\")"
   ]
  },
  {
   "cell_type": "markdown",
   "id": "17d09795",
   "metadata": {},
   "source": [
    "This plot suggests that there's a moderate positive correlation between apartment price and size. This means that if  thing we want to predict is price, size will be a good feature to include. "
   ]
  },
  {
   "cell_type": "code",
   "execution_count": 19,
   "id": "8b21d23d",
   "metadata": {},
   "outputs": [
    {
     "data": {
      "text/html": [
       "\n",
       "        <iframe\n",
       "            width=\"600\"\n",
       "            height=\"300\"\n",
       "            src=\"https://player.vimeo.com/video/656749759?h=095ad450ac\"\n",
       "            frameborder=\"0\"\n",
       "            allowfullscreen\n",
       "            \n",
       "        ></iframe>\n",
       "        "
      ],
      "text/plain": [
       "<IPython.lib.display.VimeoVideo at 0x6ffbf1709110>"
      ]
     },
     "execution_count": 19,
     "metadata": {},
     "output_type": "execute_result"
    }
   ],
   "source": [
    "VimeoVideo(\"656749759\", h=\"095ad450ac\", width=600)"
   ]
  },
  {
   "cell_type": "markdown",
   "id": "825a1d51",
   "metadata": {},
   "source": [
    "## Split"
   ]
  },
  {
   "cell_type": "markdown",
   "id": "ac2baf2d",
   "metadata": {},
   "source": [
    "A key part in any model-building project is separating your **target** (the thing you want to predict) from your **features** (the information your model will use to make its predictions). Since this is our first model, we'll use just one feature: apartment size."
   ]
  },
  {
   "cell_type": "code",
   "execution_count": 20,
   "id": "41d3fe8c",
   "metadata": {},
   "outputs": [
    {
     "data": {
      "text/html": [
       "\n",
       "        <iframe\n",
       "            width=\"600\"\n",
       "            height=\"300\"\n",
       "            src=\"https://player.vimeo.com/video/656688282?h=84ef8e90b3\"\n",
       "            frameborder=\"0\"\n",
       "            allowfullscreen\n",
       "            \n",
       "        ></iframe>\n",
       "        "
      ],
      "text/plain": [
       "<IPython.lib.display.VimeoVideo at 0x6ffbf16d2190>"
      ]
     },
     "execution_count": 20,
     "metadata": {},
     "output_type": "execute_result"
    }
   ],
   "source": [
    "VimeoVideo(\"656688282\", h=\"84ef8e90b3\", width=600)"
   ]
  },
  {
   "cell_type": "markdown",
   "id": "3c7ef7c3",
   "metadata": {},
   "source": [
    "**Task 2.1.8:** Create the feature matrix named `X_train`, which you'll use to train your model. It should contain one feature only: `[\"surface_covered_in_m2\"]`. Remember that your feature matrix should always be two-dimensional. \n",
    "\n",
    "- [What's a feature matrix?](../%40textbook/15-ml-regression.ipynb#Linear-Regression)\n",
    "- [Create a DataFrame from a Series in pandas.](../%40textbook/04-pandas-advanced.ipynb#Select-a-Series-from-a-DataFrame) "
   ]
  },
  {
   "cell_type": "code",
   "execution_count": 21,
   "id": "22514d68",
   "metadata": {},
   "outputs": [
    {
     "data": {
      "text/html": [
       "<div>\n",
       "<style scoped>\n",
       "    .dataframe tbody tr th:only-of-type {\n",
       "        vertical-align: middle;\n",
       "    }\n",
       "\n",
       "    .dataframe tbody tr th {\n",
       "        vertical-align: top;\n",
       "    }\n",
       "\n",
       "    .dataframe thead th {\n",
       "        text-align: right;\n",
       "    }\n",
       "</style>\n",
       "<table border=\"1\" class=\"dataframe\">\n",
       "  <thead>\n",
       "    <tr style=\"text-align: right;\">\n",
       "      <th></th>\n",
       "      <th>surface_covered_in_m2</th>\n",
       "    </tr>\n",
       "  </thead>\n",
       "  <tbody>\n",
       "    <tr>\n",
       "      <th>4</th>\n",
       "      <td>70.0</td>\n",
       "    </tr>\n",
       "    <tr>\n",
       "      <th>9</th>\n",
       "      <td>42.0</td>\n",
       "    </tr>\n",
       "    <tr>\n",
       "      <th>29</th>\n",
       "      <td>54.0</td>\n",
       "    </tr>\n",
       "    <tr>\n",
       "      <th>40</th>\n",
       "      <td>42.0</td>\n",
       "    </tr>\n",
       "    <tr>\n",
       "      <th>41</th>\n",
       "      <td>50.0</td>\n",
       "    </tr>\n",
       "    <tr>\n",
       "      <th>...</th>\n",
       "      <td>...</td>\n",
       "    </tr>\n",
       "    <tr>\n",
       "      <th>8589</th>\n",
       "      <td>42.0</td>\n",
       "    </tr>\n",
       "    <tr>\n",
       "      <th>8590</th>\n",
       "      <td>41.0</td>\n",
       "    </tr>\n",
       "    <tr>\n",
       "      <th>8593</th>\n",
       "      <td>43.0</td>\n",
       "    </tr>\n",
       "    <tr>\n",
       "      <th>8601</th>\n",
       "      <td>70.0</td>\n",
       "    </tr>\n",
       "    <tr>\n",
       "      <th>8604</th>\n",
       "      <td>52.0</td>\n",
       "    </tr>\n",
       "  </tbody>\n",
       "</table>\n",
       "<p>1343 rows × 1 columns</p>\n",
       "</div>"
      ],
      "text/plain": [
       "      surface_covered_in_m2\n",
       "4                      70.0\n",
       "9                      42.0\n",
       "29                     54.0\n",
       "40                     42.0\n",
       "41                     50.0\n",
       "...                     ...\n",
       "8589                   42.0\n",
       "8590                   41.0\n",
       "8593                   43.0\n",
       "8601                   70.0\n",
       "8604                   52.0\n",
       "\n",
       "[1343 rows x 1 columns]"
      ]
     },
     "execution_count": 21,
     "metadata": {},
     "output_type": "execute_result"
    }
   ],
   "source": [
    "features = [\"surface_covered_in_m2\"]\n",
    "X_train =df[features]\n",
    "X_train"
   ]
  },
  {
   "cell_type": "code",
   "execution_count": 22,
   "id": "d25f795c",
   "metadata": {},
   "outputs": [],
   "source": [
    "# Check your work\n",
    "assert X_train.shape == (\n",
    "    1343,\n",
    "    1,\n",
    "), f\"The shape of `X_train` should be (1343, 1), not {X_train.shape}.\""
   ]
  },
  {
   "cell_type": "markdown",
   "id": "f66e3953",
   "metadata": {},
   "source": [
    "Now that we have a features, the next step is to create a target. (By the way, you may have noticed that we're adding a `_train` tag to the variable names for our feature matrix and target vector. This is to remind us that this is the data we'll use to *train* our model, and not the data we'll use to *test* it.)"
   ]
  },
  {
   "cell_type": "code",
   "execution_count": 23,
   "id": "cef29fdd",
   "metadata": {},
   "outputs": [
    {
     "data": {
      "text/html": [
       "\n",
       "        <iframe\n",
       "            width=\"600\"\n",
       "            height=\"300\"\n",
       "            src=\"https://player.vimeo.com/video/656688065?h=c391dae2e6\"\n",
       "            frameborder=\"0\"\n",
       "            allowfullscreen\n",
       "            \n",
       "        ></iframe>\n",
       "        "
      ],
      "text/plain": [
       "<IPython.lib.display.VimeoVideo at 0x6ffbf19f21d0>"
      ]
     },
     "execution_count": 23,
     "metadata": {},
     "output_type": "execute_result"
    }
   ],
   "source": [
    "VimeoVideo(\"656688065\", h=\"c391dae2e6\", width=600)"
   ]
  },
  {
   "cell_type": "markdown",
   "id": "787f6ce2",
   "metadata": {},
   "source": [
    "**Task 2.1.9:** Create the target vector named `y_train`, which you'll use to train your model. Your target should be `\"price_aprox_usd\"`. Remember that, in most cases, your target vector should be one-dimensional. \n",
    "\n",
    "- [What's a target vector?](../%40textbook/15-ml-regression.ipynb#Linear-Regression)\n",
    "- [Select a Series from a DataFrame in pandas.](../%40textbook/04-pandas-advanced.ipynb#Select-a-Series-from-a-DataFrame) "
   ]
  },
  {
   "cell_type": "code",
   "execution_count": 24,
   "id": "a4e6da6a",
   "metadata": {},
   "outputs": [],
   "source": [
    "target = \"price_aprox_usd\"\n",
    "y_train = df[target]"
   ]
  },
  {
   "cell_type": "code",
   "execution_count": 25,
   "id": "c1db3817",
   "metadata": {},
   "outputs": [],
   "source": [
    "# Check your work\n",
    "assert y_train.shape == (1343,)"
   ]
  },
  {
   "cell_type": "markdown",
   "id": "fd6897a3",
   "metadata": {},
   "source": [
    "# Build Model"
   ]
  },
  {
   "cell_type": "markdown",
   "id": "b74fb416",
   "metadata": {},
   "source": [
    "## Baseline"
   ]
  },
  {
   "cell_type": "markdown",
   "id": "9ad436e4",
   "metadata": {},
   "source": [
    "The first step in building a model is baselining. To do this, ask yourself how you will know if the model you build is performing well?\" One way to think about this is to see how a \"dumb\" model would perform on the same data. Some people also call this a naïve or baseline model, but it's always a model makes only one prediction — in this case, it predicts the same price regardless of an apartment's size. So let's start by figuring out what our baseline model's prediction should be. "
   ]
  },
  {
   "cell_type": "code",
   "execution_count": 26,
   "id": "c0ff7502",
   "metadata": {},
   "outputs": [
    {
     "data": {
      "text/html": [
       "\n",
       "        <iframe\n",
       "            width=\"600\"\n",
       "            height=\"300\"\n",
       "            src=\"https://player.vimeo.com/video/656687537?h=67df9f3bd7\"\n",
       "            frameborder=\"0\"\n",
       "            allowfullscreen\n",
       "            \n",
       "        ></iframe>\n",
       "        "
      ],
      "text/plain": [
       "<IPython.lib.display.VimeoVideo at 0x6ffbf16c5550>"
      ]
     },
     "execution_count": 26,
     "metadata": {},
     "output_type": "execute_result"
    }
   ],
   "source": [
    "VimeoVideo(\"656687537\", h=\"67df9f3bd7\", width=600)"
   ]
  },
  {
   "cell_type": "markdown",
   "id": "8184d850",
   "metadata": {},
   "source": [
    "**Task 2.1.10:** Calculate the mean of your target vector `y_train` and assign it to the variable `y_mean`.\n",
    "\n",
    "- [What's a regression problem?](../%40textbook/15-ml-regression.ipynb#Linear-Regression)\n",
    "- [Calculate summary statistics for a DataFrame or Series in pandas.](../%40textbook/05-pandas-summary-statistics.ipynb#Working-with-Summary-Statistics)"
   ]
  },
  {
   "cell_type": "code",
   "execution_count": 27,
   "id": "64eab7cd",
   "metadata": {},
   "outputs": [
    {
     "data": {
      "text/plain": [
       "135527.83871928515"
      ]
     },
     "execution_count": 27,
     "metadata": {},
     "output_type": "execute_result"
    }
   ],
   "source": [
    "y_mean =y_train.mean()\n",
    "y_mean"
   ]
  },
  {
   "cell_type": "markdown",
   "id": "40e17b24",
   "metadata": {},
   "source": [
    "Now that we have the one prediction that our dumb model will always make, we need to generate a list that repeats the prediction for every observation in our dataset. "
   ]
  },
  {
   "cell_type": "code",
   "execution_count": 28,
   "id": "5023f5d8",
   "metadata": {},
   "outputs": [
    {
     "data": {
      "text/html": [
       "\n",
       "        <iframe\n",
       "            width=\"600\"\n",
       "            height=\"300\"\n",
       "            src=\"https://player.vimeo.com/video/656687259?h=684b40ef32\"\n",
       "            frameborder=\"0\"\n",
       "            allowfullscreen\n",
       "            \n",
       "        ></iframe>\n",
       "        "
      ],
      "text/plain": [
       "<IPython.lib.display.VimeoVideo at 0x6ffc24fe9650>"
      ]
     },
     "execution_count": 28,
     "metadata": {},
     "output_type": "execute_result"
    }
   ],
   "source": [
    "VimeoVideo(\"656687259\", h=\"684b40ef32\", width=600)"
   ]
  },
  {
   "cell_type": "markdown",
   "id": "f3d2f08a",
   "metadata": {},
   "source": [
    "**Task 2.1.11:** Create a list named `y_pred_baseline` that contains the value of `y_mean` repeated so that it's the same length at `y`.\n",
    "\n",
    "- [Calculate the length of a list in Python.](../%40textbook/02-python-advanced.ipynb#Functions)"
   ]
  },
  {
   "cell_type": "code",
   "execution_count": 29,
   "id": "30873a2f",
   "metadata": {},
   "outputs": [
    {
     "data": {
      "text/plain": [
       "1343"
      ]
     },
     "execution_count": 29,
     "metadata": {},
     "output_type": "execute_result"
    }
   ],
   "source": [
    "y_pred_baseline =[y_mean]*len(y_train)\n",
    "len(y_pred_baseline)\n"
   ]
  },
  {
   "cell_type": "markdown",
   "id": "d8ee9078",
   "metadata": {},
   "source": [
    "So how does our baseline model perform? One way to evaluate it is by plotting it on top of the scatter plot we made above. "
   ]
  },
  {
   "cell_type": "code",
   "execution_count": 30,
   "id": "798e4fd1",
   "metadata": {},
   "outputs": [
    {
     "data": {
      "text/html": [
       "\n",
       "        <iframe\n",
       "            width=\"600\"\n",
       "            height=\"300\"\n",
       "            src=\"https://player.vimeo.com/video/656686948?h=2dbbdccfa4\"\n",
       "            frameborder=\"0\"\n",
       "            allowfullscreen\n",
       "            \n",
       "        ></iframe>\n",
       "        "
      ],
      "text/plain": [
       "<IPython.lib.display.VimeoVideo at 0x6ffbf16e2150>"
      ]
     },
     "execution_count": 30,
     "metadata": {},
     "output_type": "execute_result"
    }
   ],
   "source": [
    "VimeoVideo(\"656686948\", h=\"2dbbdccfa4\", width=600)"
   ]
  },
  {
   "cell_type": "markdown",
   "id": "fac098a8",
   "metadata": {},
   "source": [
    "**Task 2.1.12:** Add a line to the plot below that shows the relationship between the observations `X_train` and our dumb model's predictions `y_pred_baseline`. Be sure that the line color is orange, and that it has the label `\"Baseline Model\"`.\n",
    "\n",
    "- [What's a line plot?](../%40textbook/07-visualization-pandas.ipynb#Line-Plots)\n",
    "- [Create a line plot in Matplotlib.](../%40textbook/07-visualization-pandas.ipynb#Line-Plots)"
   ]
  },
  {
   "cell_type": "code",
   "execution_count": 31,
   "id": "ca6fa0b4",
   "metadata": {},
   "outputs": [
    {
     "data": {
      "image/png": "[encoded data removed]",
      "text/plain": [
       "<Figure size 640x480 with 1 Axes>"
      ]
     },
     "metadata": {},
     "output_type": "display_data"
    }
   ],
   "source": [
    "plt.plot(X_train.values, y_pred_baseline, color=\"orange\", label=\"Baseline model\", linewidth=5)\n",
    "plt.scatter(X_train, y_train)\n",
    "plt.xlabel(\"Area [sq meters]\")\n",
    "plt.ylabel(\"Price [USD]\")\n",
    "plt.title(\"Buenos Aires: Price vs. Area\")\n",
    "plt.legend()\n",
    "plt.show()\n",
    "\n"
   ]
  },
  {
   "cell_type": "markdown",
   "id": "37da8380",
   "metadata": {},
   "source": [
    "Looking at this visualization, it seems like our baseline model doesn't really follow the trend in the data. But, as a data scientist, you can't depend only on a subjective plot to evaluate a model. You need an exact, mathematically calculate **performance metric**. There are lots of performance metrics, but the one we'll use here is the **mean absolute error**.  "
   ]
  },
  {
   "cell_type": "code",
   "execution_count": 32,
   "id": "5aa96a31",
   "metadata": {},
   "outputs": [
    {
     "data": {
      "text/html": [
       "\n",
       "        <iframe\n",
       "            width=\"600\"\n",
       "            height=\"300\"\n",
       "            src=\"https://player.vimeo.com/video/656686010?h=214406a99f\"\n",
       "            frameborder=\"0\"\n",
       "            allowfullscreen\n",
       "            \n",
       "        ></iframe>\n",
       "        "
      ],
      "text/plain": [
       "<IPython.lib.display.VimeoVideo at 0x6ffbf169dd10>"
      ]
     },
     "execution_count": 32,
     "metadata": {},
     "output_type": "execute_result"
    }
   ],
   "source": [
    "VimeoVideo(\"656686010\", h=\"214406a99f\", width=600)"
   ]
  },
  {
   "cell_type": "markdown",
   "id": "fd722149",
   "metadata": {},
   "source": [
    "**Task 2.1.13:** Calculate the baseline mean absolute error for your predictions in `y_pred_baseline` as compared to the true targets in `y`.\n",
    "\n",
    "- [What's a performance metric?](../%40textbook/12-ml-core.ipynb#Performance-Metrics)\n",
    "- [What's mean absolute error?](../%40textbook/12-ml-core.ipynb#Performance-Metrics)\n",
    "- [Calculate the mean absolute error for a list of predictions in scikit-learn.](../%40textbook/15-ml-regression.ipynb#Calculating-the-Mean-Absolute-Error-for-a-List-of-Predictions)"
   ]
  },
  {
   "cell_type": "code",
   "execution_count": 33,
   "id": "651318d9",
   "metadata": {},
   "outputs": [
    {
     "name": "stdout",
     "output_type": "stream",
     "text": [
      "Mean apt price 135527.84\n",
      "Baseline MAE: 45199.46\n"
     ]
    }
   ],
   "source": [
    "mae_baseline =mean_absolute_error(y_train,y_pred_baseline)\n",
    "\n",
    "print(\"Mean apt price\", round(y_mean, 2))\n",
    "print(\"Baseline MAE:\", round(mae_baseline, 2))"
   ]
  },
  {
   "cell_type": "markdown",
   "id": "2d546921",
   "metadata": {},
   "source": [
    "What does this information tell us? If we always predicted that an apartment price is \\\\$135,527.84, our predictions would be off by an average of \\\\$45,199.46. It also tells us that our model needs to have mean absolute error below \\\\$45,199.46 in order to be useful. "
   ]
  },
  {
   "cell_type": "markdown",
   "id": "2cd50631",
   "metadata": {},
   "source": [
    "## Iterate"
   ]
  },
  {
   "cell_type": "markdown",
   "id": "625e5a2d",
   "metadata": {},
   "source": [
    "The next step in building a model is iterating. This involves building a model, training it, evaluating it, and then repeating the process until you're happy with the model's performance. Even though the model we're building is linear, the iteration process rarely follows a straight line. Be prepared for trying new things, hitting dead-ends, and waiting around while your computer does long computations to train your model. ☕️ Let's get started! \n",
    "\n",
    "The first thing we need to do is create our model — in this case, one that uses linear regression.  "
   ]
  },
  {
   "cell_type": "code",
   "execution_count": 34,
   "id": "81882e6b",
   "metadata": {},
   "outputs": [
    {
     "data": {
      "text/html": [
       "\n",
       "        <iframe\n",
       "            width=\"600\"\n",
       "            height=\"300\"\n",
       "            src=\"https://player.vimeo.com/video/656685822?h=6b6bce7f3c\"\n",
       "            frameborder=\"0\"\n",
       "            allowfullscreen\n",
       "            \n",
       "        ></iframe>\n",
       "        "
      ],
      "text/plain": [
       "<IPython.lib.display.VimeoVideo at 0x6ffbf19b9610>"
      ]
     },
     "execution_count": 34,
     "metadata": {},
     "output_type": "execute_result"
    }
   ],
   "source": [
    "VimeoVideo(\"656685822\", h=\"6b6bce7f3c\", width=600)"
   ]
  },
  {
   "cell_type": "markdown",
   "id": "495087bd",
   "metadata": {},
   "source": [
    "**Task 2.1.14:** Instantiate a [`LinearRegression`](https://scikit-learn.org/stable/modules/generated/sklearn.linear_model.LinearRegression.html) model named `model`.\n",
    "\n",
    "- [What's linear regression?](../%40textbook/12-ml-core.ipynb#Model-Types)\n",
    "- [What's a cost function?](../%40textbook/12-ml-core.ipynb#Cost-Functions)\n",
    "- [Instantiate a predictor in scikit-learn.](../%40textbook/15-ml-regression.ipynb#Fitting-a-Model-to-Training-Data)"
   ]
  },
  {
   "cell_type": "code",
   "execution_count": 35,
   "id": "9a034875",
   "metadata": {},
   "outputs": [],
   "source": [
    "model =LinearRegression()"
   ]
  },
  {
   "cell_type": "code",
   "execution_count": 36,
   "id": "cff067fc",
   "metadata": {},
   "outputs": [],
   "source": [
    "# Check your work\n",
    "assert isinstance(model, LinearRegression)"
   ]
  },
  {
   "cell_type": "markdown",
   "id": "ad1274bf",
   "metadata": {},
   "source": [
    "The second thing we need to do is use our data to train our model. Another way to say this is fit our model to the training data. "
   ]
  },
  {
   "cell_type": "code",
   "execution_count": 37,
   "id": "4f2d623b",
   "metadata": {},
   "outputs": [
    {
     "data": {
      "text/html": [
       "\n",
       "        <iframe\n",
       "            width=\"600\"\n",
       "            height=\"300\"\n",
       "            src=\"https://player.vimeo.com/video/656685645?h=444e6e49e7\"\n",
       "            frameborder=\"0\"\n",
       "            allowfullscreen\n",
       "            \n",
       "        ></iframe>\n",
       "        "
      ],
      "text/plain": [
       "<IPython.lib.display.VimeoVideo at 0x6ffbf1317910>"
      ]
     },
     "execution_count": 37,
     "metadata": {},
     "output_type": "execute_result"
    }
   ],
   "source": [
    "VimeoVideo(\"656685645\", h=\"444e6e49e7\", width=600)"
   ]
  },
  {
   "cell_type": "markdown",
   "id": "b391df27",
   "metadata": {},
   "source": [
    "**Task 2.1.15:** Fit your model to the data, `X_train` and `y_train`.\n",
    "\n",
    "- [Fit a model to training data in scikit-learn.](../%40textbook/15-ml-regression.ipynb#Fitting-a-Model-to-Training-Data)"
   ]
  },
  {
   "cell_type": "code",
   "execution_count": 38,
   "id": "01a8447c",
   "metadata": {},
   "outputs": [
    {
     "data": {
      "text/html": [
       "<style>#sk-container-id-1 {color: black;}#sk-container-id-1 pre{padding: 0;}#sk-container-id-1 div.sk-toggleable {background-color: white;}#sk-container-id-1 label.sk-toggleable__label {cursor: pointer;display: block;width: 100%;margin-bottom: 0;padding: 0.3em;box-sizing: border-box;text-align: center;}#sk-container-id-1 label.sk-toggleable__label-arrow:before {content: \"▸\";float: left;margin-right: 0.25em;color: #696969;}#sk-container-id-1 label.sk-toggleable__label-arrow:hover:before {color: black;}#sk-container-id-1 div.sk-estimator:hover label.sk-toggleable__label-arrow:before {color: black;}#sk-container-id-1 div.sk-toggleable__content {max-height: 0;max-width: 0;overflow: hidden;text-align: left;background-color: #f0f8ff;}#sk-container-id-1 div.sk-toggleable__content pre {margin: 0.2em;color: black;border-radius: 0.25em;background-color: #f0f8ff;}#sk-container-id-1 input.sk-toggleable__control:checked~div.sk-toggleable__content {max-height: 200px;max-width: 100%;overflow: auto;}#sk-container-id-1 input.sk-toggleable__control:checked~label.sk-toggleable__label-arrow:before {content: \"▾\";}#sk-container-id-1 div.sk-estimator input.sk-toggleable__control:checked~label.sk-toggleable__label {background-color: #d4ebff;}#sk-container-id-1 div.sk-label input.sk-toggleable__control:checked~label.sk-toggleable__label {background-color: #d4ebff;}#sk-container-id-1 input.sk-hidden--visually {border: 0;clip: rect(1px 1px 1px 1px);clip: rect(1px, 1px, 1px, 1px);height: 1px;margin: -1px;overflow: hidden;padding: 0;position: absolute;width: 1px;}#sk-container-id-1 div.sk-estimator {font-family: monospace;background-color: #f0f8ff;border: 1px dotted black;border-radius: 0.25em;box-sizing: border-box;margin-bottom: 0.5em;}#sk-container-id-1 div.sk-estimator:hover {background-color: #d4ebff;}#sk-container-id-1 div.sk-parallel-item::after {content: \"\";width: 100%;border-bottom: 1px solid gray;flex-grow: 1;}#sk-container-id-1 div.sk-label:hover label.sk-toggleable__label {background-color: #d4ebff;}#sk-container-id-1 div.sk-serial::before {content: \"\";position: absolute;border-left: 1px solid gray;box-sizing: border-box;top: 0;bottom: 0;left: 50%;z-index: 0;}#sk-container-id-1 div.sk-serial {display: flex;flex-direction: column;align-items: center;background-color: white;padding-right: 0.2em;padding-left: 0.2em;position: relative;}#sk-container-id-1 div.sk-item {position: relative;z-index: 1;}#sk-container-id-1 div.sk-parallel {display: flex;align-items: stretch;justify-content: center;background-color: white;position: relative;}#sk-container-id-1 div.sk-item::before, #sk-container-id-1 div.sk-parallel-item::before {content: \"\";position: absolute;border-left: 1px solid gray;box-sizing: border-box;top: 0;bottom: 0;left: 50%;z-index: -1;}#sk-container-id-1 div.sk-parallel-item {display: flex;flex-direction: column;z-index: 1;position: relative;background-color: white;}#sk-container-id-1 div.sk-parallel-item:first-child::after {align-self: flex-end;width: 50%;}#sk-container-id-1 div.sk-parallel-item:last-child::after {align-self: flex-start;width: 50%;}#sk-container-id-1 div.sk-parallel-item:only-child::after {width: 0;}#sk-container-id-1 div.sk-dashed-wrapped {border: 1px dashed gray;margin: 0 0.4em 0.5em 0.4em;box-sizing: border-box;padding-bottom: 0.4em;background-color: white;}#sk-container-id-1 div.sk-label label {font-family: monospace;font-weight: bold;display: inline-block;line-height: 1.2em;}#sk-container-id-1 div.sk-label-container {text-align: center;}#sk-container-id-1 div.sk-container {/* jupyter's `normalize.less` sets `[hidden] { display: none; }` but bootstrap.min.css set `[hidden] { display: none !important; }` so we also need the `!important` here to be able to override the default hidden behavior on the sphinx rendered scikit-learn.org. See: https://github.com/scikit-learn/scikit-learn/issues/21755 */display: inline-block !important;position: relative;}#sk-container-id-1 div.sk-text-repr-fallback {display: none;}</style><div id=\"sk-container-id-1\" class=\"sk-top-container\"><div class=\"sk-text-repr-fallback\"><pre>LinearRegression()</pre><b>In a Jupyter environment, please rerun this cell to show the HTML representation or trust the notebook. <br />On GitHub, the HTML representation is unable to render, please try loading this page with nbviewer.org.</b></div><div class=\"sk-container\" hidden><div class=\"sk-item\"><div class=\"sk-estimator sk-toggleable\"><input class=\"sk-toggleable__control sk-hidden--visually\" id=\"sk-estimator-id-1\" type=\"checkbox\" checked><label for=\"sk-estimator-id-1\" class=\"sk-toggleable__label sk-toggleable__label-arrow\">LinearRegression</label><div class=\"sk-toggleable__content\"><pre>LinearRegression()</pre></div></div></div></div></div>"
      ],
      "text/plain": [
       "LinearRegression()"
      ]
     },
     "execution_count": 38,
     "metadata": {},
     "output_type": "execute_result"
    }
   ],
   "source": [
    "model.fit(X_train,y_train)"
   ]
  },
  {
   "cell_type": "code",
   "execution_count": 39,
   "id": "808c3ae9",
   "metadata": {},
   "outputs": [],
   "source": [
    "# Check your work\n",
    "check_is_fitted(model)"
   ]
  },
  {
   "cell_type": "markdown",
   "id": "50aba058",
   "metadata": {},
   "source": [
    "## Evaluate"
   ]
  },
  {
   "cell_type": "markdown",
   "id": "0b55cb5c",
   "metadata": {},
   "source": [
    "The final step is to evaluate our model. In order to do that, we'll start by seeing how well it performs when making predictions for data that it saw during training. So let's have it predict the price for the houses in our training set."
   ]
  },
  {
   "cell_type": "code",
   "execution_count": 40,
   "id": "6f3ac9cc",
   "metadata": {},
   "outputs": [
    {
     "data": {
      "text/html": [
       "\n",
       "        <iframe\n",
       "            width=\"600\"\n",
       "            height=\"300\"\n",
       "            src=\"https://player.vimeo.com/video/656685380?h=3b79fe2cdb\"\n",
       "            frameborder=\"0\"\n",
       "            allowfullscreen\n",
       "            \n",
       "        ></iframe>\n",
       "        "
      ],
      "text/plain": [
       "<IPython.lib.display.VimeoVideo at 0x6ffbf1325410>"
      ]
     },
     "execution_count": 40,
     "metadata": {},
     "output_type": "execute_result"
    }
   ],
   "source": [
    "VimeoVideo(\"656685380\", h=\"3b79fe2cdb\", width=600)"
   ]
  },
  {
   "cell_type": "markdown",
   "id": "2bbda937",
   "metadata": {},
   "source": [
    "**Task 2.1.16:** Using your model's [`predict`](https://scikit-learn.org/stable/modules/generated/sklearn.linear_model.LinearRegression.html#sklearn.linear_model.LinearRegression.predict) method, create a list of predictions for the observations in your feature matrix `X_train`. Name this array `y_pred_training`. \n",
    "\n",
    "- [Generate predictions using a trained model in scikit-learn.](../%40textbook/15-ml-regression.ipynb#Generating-Predictions-Using-a-Trained-Model)"
   ]
  },
  {
   "cell_type": "code",
   "execution_count": 41,
   "id": "ecccb986",
   "metadata": {},
   "outputs": [
    {
     "data": {
      "text/plain": [
       "array([169151.87330223, 106064.44707446, 133101.91545779, 106064.44707446,\n",
       "       124089.42599668])"
      ]
     },
     "execution_count": 41,
     "metadata": {},
     "output_type": "execute_result"
    }
   ],
   "source": [
    "y_pred_training =model.predict(X_train)\n",
    "y_pred_training[:5]"
   ]
  },
  {
   "cell_type": "code",
   "execution_count": 42,
   "id": "f1b1d566",
   "metadata": {},
   "outputs": [],
   "source": [
    "# Check your work\n",
    "assert (\n",
    "    len(y_pred_training) == 1343\n",
    "), f\"There should be 1343 predictions in `y_pred_training`, not {len(y_pred_training)}.\""
   ]
  },
  {
   "cell_type": "markdown",
   "id": "4d01d63e",
   "metadata": {},
   "source": [
    "Now that we have predictions, we'll use them to assess our model's performance with the training data. We'll use the same metric we used to evaluate our baseline model: mean absolute error. "
   ]
  },
  {
   "cell_type": "code",
   "execution_count": 43,
   "id": "e34e53c5",
   "metadata": {},
   "outputs": [
    {
     "data": {
      "text/html": [
       "\n",
       "        <iframe\n",
       "            width=\"600\"\n",
       "            height=\"300\"\n",
       "            src=\"https://player.vimeo.com/video/656685229?h=b668f12bc1\"\n",
       "            frameborder=\"0\"\n",
       "            allowfullscreen\n",
       "            \n",
       "        ></iframe>\n",
       "        "
      ],
      "text/plain": [
       "<IPython.lib.display.VimeoVideo at 0x6ffbf1326650>"
      ]
     },
     "execution_count": 43,
     "metadata": {},
     "output_type": "execute_result"
    }
   ],
   "source": [
    "VimeoVideo(\"656685229\", h=\"b668f12bc1\", width=600)"
   ]
  },
  {
   "cell_type": "markdown",
   "id": "864712dc",
   "metadata": {},
   "source": [
    "**Task 2.1.17:** Calculate your training mean absolute error for your predictions in `y_pred_training` as compared to the true targets in `y_train`.\n",
    "\n",
    "- [Calculate the mean absolute error for a list of predictions in scikit-learn.](../%40textbook/15-ml-regression.ipynb#Calculating-the-Mean-Absolute-Error-for-a-List-of-Predictions)"
   ]
  },
  {
   "cell_type": "code",
   "execution_count": 44,
   "id": "f09b61ac",
   "metadata": {},
   "outputs": [
    {
     "name": "stdout",
     "output_type": "stream",
     "text": [
      "Training MAE: 31248.26\n"
     ]
    }
   ],
   "source": [
    "mae_training =mean_absolute_error(y_train,y_pred_training)\n",
    "print(\"Training MAE:\", round(mae_training, 2))"
   ]
  },
  {
   "cell_type": "markdown",
   "id": "cd44bdbe",
   "metadata": {},
   "source": [
    "Good news: Our model beat the baseline by over \\$10,000! That's a good indicator that it will be helpful in predicting apartment prices. But the real test is how the model performs on data that it hasn't seen before, data that we call the **test set**. In the future, you'll create your own test set before you train your model, but here we'll use one that's pre-made, and we'll evaluate the model using the WQU auto-grader. "
   ]
  },
  {
   "cell_type": "markdown",
   "id": "21f388af",
   "metadata": {},
   "source": [
    "**Task 2.1.18:** Run the code below to import your test data `buenos-aires-test-features.csv` into a DataFrame and generate a Series of predictions using your model.  After the code runs successfully, click the **Check Activity** button on the left pane to verify your predictions.\n",
    "\n",
    "- [What's generalizability?](../%40textbook/12-ml-core.ipynb#Generalization)\n",
    "- [Generate predictions using a trained model in scikit-learn.](../%40textbook/15-ml-regression.ipynb#Generating-Predictions-Using-a-Trained-Model)\n",
    "- [Calculate the mean absolute error for a list of predictions in scikit-learn.](../%40textbook/15-ml-regression.ipynb#Calculating-the-Mean-Absolute-Error-for-a-List-of-Predictions)\n",
    "\n",
    "<div class=\"alert alert-block alert-info\">\n",
    "<b>Tip:</b> Make sure the <code>X_train</code> you used to train your model has the same column order as <code>X_test</code>. Otherwise, it may hurt your model's performance.\n",
    "</div>"
   ]
  },
  {
   "cell_type": "code",
   "execution_count": 45,
   "id": "cead7386",
   "metadata": {},
   "outputs": [
    {
     "data": {
      "text/plain": [
       "0    117330.058901\n",
       "1    135355.037823\n",
       "2     88039.468152\n",
       "3     88039.468152\n",
       "4    106064.447074\n",
       "dtype: float64"
      ]
     },
     "execution_count": 45,
     "metadata": {},
     "output_type": "execute_result"
    }
   ],
   "source": [
    "X_test = pd.read_csv(\"data/buenos-aires-test-features.csv\")[features]\n",
    "y_pred_test = pd.Series(model.predict(X_test))\n",
    "y_pred_test.head()"
   ]
  },
  {
   "cell_type": "markdown",
   "id": "1e670903",
   "metadata": {},
   "source": [
    "Ideally, you want your test performance metrics to be the same as its training performance metrics. In practice, test metrics tend to be a little worse (this means a larger number in the case of mean absolute error). But as long as the training and test performance are close to each other, you can be confident that your model will generalize well. \n",
    "\n",
    "<div class=\"alert alert-block alert-warning\">\n",
    "<p><b>Warning:</b> During the iteration phase, you can change and retrain your model as many times as you want. You can also check the model's training performance repeatedly. But once you evaluate its test performance, you can't make any more changes. \n",
    "    \n",
    "<p>A test only counts if neither the model nor the data scientist has seen the data before. If you check your test metrics and then make changes to the model, you can introduce biases into the model that compromise its generalizability. \n",
    "</div>"
   ]
  },
  {
   "cell_type": "markdown",
   "id": "0edc7105",
   "metadata": {},
   "source": [
    "# Communicate Results"
   ]
  },
  {
   "cell_type": "markdown",
   "id": "8093ba72",
   "metadata": {},
   "source": [
    "Once your model is built and tested, it's time to share it with others. If you're presenting to simple linear model to a technical audience, they might appreciate an equation. When we created our baseline model, we represented it as a line. The equation for a line like this is usually written as:\n",
    "\n",
    "<center><img src=\"../images/proj-2.003.png\" alt=\"Equation: y = m*x + b\" style=\"width: 400px;\"/></center>\n",
    "\n",
    "Since data scientists often work with more complicated linear models, they prefer to write the equation as:\n",
    "\n",
    "<center><img src=\"../images/proj-2.004.png\" alt=\"Equation: y = beta 0 + beta 1 * x\" style=\"width: 400px;\"/></center>\n",
    "\n",
    "Regardless of how we write the equation, we need to find the values that our model has determined for the intercept and and coefficient. Fortunately, all trained models in scikit-learn store this information in the model itself. Let's start with the intercept."
   ]
  },
  {
   "cell_type": "code",
   "execution_count": 46,
   "id": "28d44a86",
   "metadata": {},
   "outputs": [
    {
     "data": {
      "text/html": [
       "\n",
       "        <iframe\n",
       "            width=\"600\"\n",
       "            height=\"300\"\n",
       "            src=\"https://player.vimeo.com/video/656684478?h=87d29a2ba6\"\n",
       "            frameborder=\"0\"\n",
       "            allowfullscreen\n",
       "            \n",
       "        ></iframe>\n",
       "        "
      ],
      "text/plain": [
       "<IPython.lib.display.VimeoVideo at 0x6ffbf1327e50>"
      ]
     },
     "execution_count": 46,
     "metadata": {},
     "output_type": "execute_result"
    }
   ],
   "source": [
    "VimeoVideo(\"656684478\", h=\"87d29a2ba6\", width=600)"
   ]
  },
  {
   "cell_type": "markdown",
   "id": "617ed7af",
   "metadata": {},
   "source": [
    "**Task 2.1.19:** Extract the intercept from your model, and assign it to the variable `intercept`. \n",
    "\n",
    "- [What's an intercept in a linear model?](../%40textbook/12-ml-core.ipynb#Model-Types)\n",
    "- [Access an attribute of a trained model in scikit-learn.](../%40textbook/15-ml-regression.ipynb#Access-an-Attribute-of-a-Trained-Model)"
   ]
  },
  {
   "cell_type": "code",
   "execution_count": 47,
   "id": "2b02d6f4",
   "metadata": {},
   "outputs": [
    {
     "name": "stdout",
     "output_type": "stream",
     "text": [
      "Model Intercept: 11433.307732797926\n"
     ]
    }
   ],
   "source": [
    "intercept =model.intercept_\n",
    "print(\"Model Intercept:\", intercept)\n",
    "assert any([isinstance(intercept, int), isinstance(intercept, float)])"
   ]
  },
  {
   "cell_type": "markdown",
   "id": "ae00a6e6",
   "metadata": {},
   "source": [
    "Next comes the coefficient. We'll extract it in a very similar way."
   ]
  },
  {
   "cell_type": "code",
   "execution_count": 48,
   "id": "568f23b5",
   "metadata": {},
   "outputs": [
    {
     "data": {
      "text/html": [
       "\n",
       "        <iframe\n",
       "            width=\"600\"\n",
       "            height=\"300\"\n",
       "            src=\"https://player.vimeo.com/video/656684245?h=f96cf91211\"\n",
       "            frameborder=\"0\"\n",
       "            allowfullscreen\n",
       "            \n",
       "        ></iframe>\n",
       "        "
      ],
      "text/plain": [
       "<IPython.lib.display.VimeoVideo at 0x6ffbf1338750>"
      ]
     },
     "execution_count": 48,
     "metadata": {},
     "output_type": "execute_result"
    }
   ],
   "source": [
    "VimeoVideo(\"656684245\", h=\"f96cf91211\", width=600)"
   ]
  },
  {
   "cell_type": "markdown",
   "id": "ae75b40f",
   "metadata": {},
   "source": [
    "**Task 2.1.20:** Extract the coefficient associated `\"surface_covered_in_m2\"` in your model, and assign it to the variable `coefficient`.\n",
    "\n",
    "- [What's a coefficient in a linear model?](../%40textbook/12-ml-core.ipynb#Model-Types)\n",
    "- [Access an attribute of a trained model in scikit-learn.](../%40textbook/15-ml-regression.ipynb#Access-an-Attribute-of-a-Trained-Model)"
   ]
  },
  {
   "cell_type": "code",
   "execution_count": 49,
   "id": "e78c79e6",
   "metadata": {},
   "outputs": [
    {
     "name": "stdout",
     "output_type": "stream",
     "text": [
      "Model coefficient for \"surface_covered_in_m2\": 2253.12\n"
     ]
    }
   ],
   "source": [
    "coefficient =round(model.coef_[0],2)\n",
    "print('Model coefficient for \"surface_covered_in_m2\":', coefficient)\n",
    "assert any([isinstance(coefficient, int), isinstance(coefficient, float)])"
   ]
  },
  {
   "cell_type": "markdown",
   "id": "658d1f42",
   "metadata": {},
   "source": [
    "Now that we have our `intercept` and `coefficient`, we need to insert them into a string that we can print out the complete equation."
   ]
  },
  {
   "cell_type": "code",
   "execution_count": 50,
   "id": "323491a1",
   "metadata": {},
   "outputs": [
    {
     "data": {
      "text/html": [
       "\n",
       "        <iframe\n",
       "            width=\"600\"\n",
       "            height=\"300\"\n",
       "            src=\"https://player.vimeo.com/video/656684037?h=f30c2b4dfc\"\n",
       "            frameborder=\"0\"\n",
       "            allowfullscreen\n",
       "            \n",
       "        ></iframe>\n",
       "        "
      ],
      "text/plain": [
       "<IPython.lib.display.VimeoVideo at 0x6ffbf1339b90>"
      ]
     },
     "execution_count": 50,
     "metadata": {},
     "output_type": "execute_result"
    }
   ],
   "source": [
    "VimeoVideo(\"656684037\", h=\"f30c2b4dfc\", width=600)"
   ]
  },
  {
   "cell_type": "markdown",
   "id": "d08b4a2d",
   "metadata": {},
   "source": [
    "**Task 2.1.21:** Complete the code below and run the cell to print the equation that your model has determined for predicting apartment price based on size.\n",
    "\n",
    "- [What's an f-string?](../%40textbook/02-python-advanced.ipynb#Working-with-f-strings-)"
   ]
  },
  {
   "cell_type": "code",
   "execution_count": 51,
   "id": "5a322c2d",
   "metadata": {},
   "outputs": [
    {
     "name": "stdout",
     "output_type": "stream",
     "text": [
      "apartment_price = 11433.307732797926 + 2253.12 * surface_covered\n"
     ]
    }
   ],
   "source": [
    "print(f\"apartment_price = {intercept} + {coefficient} * surface_covered\") "
   ]
  },
  {
   "cell_type": "markdown",
   "id": "deaefc9d",
   "metadata": {},
   "source": [
    "Equation might work for some technical audiences, but visualization or generally much more effective communication tool — especially for non-technical audiences. So let's use the scatter plot we made at the beginning of this lesson and plot the line that that are equation would make."
   ]
  },
  {
   "cell_type": "code",
   "execution_count": 52,
   "id": "16674710",
   "metadata": {},
   "outputs": [
    {
     "data": {
      "text/html": [
       "\n",
       "        <iframe\n",
       "            width=\"600\"\n",
       "            height=\"300\"\n",
       "            src=\"https://player.vimeo.com/video/656683862?h=886904448d\"\n",
       "            frameborder=\"0\"\n",
       "            allowfullscreen\n",
       "            \n",
       "        ></iframe>\n",
       "        "
      ],
      "text/plain": [
       "<IPython.lib.display.VimeoVideo at 0x6ffbf1339b50>"
      ]
     },
     "execution_count": 52,
     "metadata": {},
     "output_type": "execute_result"
    }
   ],
   "source": [
    "VimeoVideo(\"656683862\", h=\"886904448d\", width=600)"
   ]
  },
  {
   "cell_type": "markdown",
   "id": "5f78302a",
   "metadata": {},
   "source": [
    "**Task 2.1.22:** Add a line to the plot below that shows the relationship between the observations in `X_train` and your model's predictions `y_pred_training`. Be sure that the line color is red, and that it has the label `\"Linear Model\"`.\n",
    "\n",
    "- [What's a line plot?](../%40textbook/07-visualization-pandas.ipynb#Line-Plots)\n",
    "- [Create a line plot in pandas.](../%40textbook/07-visualization-pandas.ipynb#Line-Plots)"
   ]
  },
  {
   "cell_type": "code",
   "execution_count": null,
   "id": "104243d5",
   "metadata": {},
   "outputs": [],
   "source": [
    "# Add a line to the plot\n",
    "plt.plot(X_train.values,model.predict(X_train),color=\"burlywood\",label=\"linear model\" )\n",
    "\n",
    "plt.scatter(X_train, y_train)\n",
    "plt.xlabel(\"surface covered [sq meters]\")\n",
    "plt.ylabel(\"price [usd]\")\n",
    "plt.legend();"
   ]
  },
  {
   "cell_type": "markdown",
   "id": "1e6905db",
   "metadata": {
    "deletable": false,
    "editable": false
   },
   "source": [
    "---\n",
    "Copyright 2023 WorldQuant University. This\n",
    "content is licensed solely for personal use. Redistribution or\n",
    "publication of this material is strictly prohibited.\n"
   ]
  }
 ],
 "metadata": {
  "kernelspec": {
   "display_name": "Python 3 (ipykernel)",
   "language": "python",
   "name": "python3"
  },
  "language_info": {
   "codemirror_mode": {
    "name": "ipython",
    "version": 3
   },
   "file_extension": ".py",
   "mimetype": "text/x-python",
   "name": "python",
   "nbconvert_exporter": "python",
   "pygments_lexer": "ipython3",
   "version": "3.11.0"
  },
  "widgets": {
   "application/vnd.jupyter.widget-state+json": {
    "state": {},
    "version_major": 2,
    "version_minor": 0
   }
  }
 },
 "nbformat": 4,
 "nbformat_minor": 5
}
